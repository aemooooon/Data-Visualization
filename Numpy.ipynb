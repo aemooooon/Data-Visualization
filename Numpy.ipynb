{
 "cells": [
  {
   "cell_type": "markdown",
   "metadata": {},
   "source": [
    "# Numpy notes"
   ]
  },
  {
   "cell_type": "markdown",
   "metadata": {},
   "source": [
    "## Python List 和 Numpy 数组性能比较"
   ]
  },
  {
   "cell_type": "code",
   "execution_count": 1,
   "metadata": {},
   "outputs": [],
   "source": [
    "import random\n",
    "import numpy as np"
   ]
  },
  {
   "cell_type": "code",
   "execution_count": 2,
   "metadata": {},
   "outputs": [],
   "source": [
    "# Python list VS Numpy array\n",
    "scores = []\n",
    "for i in range(1,100000000):\n",
    "    scores.append(random.random())\n",
    "npscores = np.array(scores)"
   ]
  },
  {
   "cell_type": "code",
   "execution_count": 3,
   "metadata": {},
   "outputs": [
    {
     "data": {
      "text/plain": [
       "1.3845388889312744"
      ]
     },
     "execution_count": 3,
     "metadata": {},
     "output_type": "execute_result"
    }
   ],
   "source": [
    "import time\n",
    "\n",
    "t1 = time.time()\n",
    "s1 = sum(scores)\n",
    "t2 = time.time()\n",
    "t2 - t1"
   ]
  },
  {
   "cell_type": "code",
   "execution_count": 4,
   "metadata": {},
   "outputs": [
    {
     "data": {
      "text/plain": [
       "0.5758030414581299"
      ]
     },
     "execution_count": 4,
     "metadata": {},
     "output_type": "execute_result"
    }
   ],
   "source": [
    "t3 = time.time()\n",
    "s2 = np.sum(npscores)\n",
    "t4 = time.time()\n",
    "t4 - t3"
   ]
  },
  {
   "cell_type": "markdown",
   "metadata": {},
   "source": [
    "## 生成各种数组的一些方法"
   ]
  },
  {
   "cell_type": "code",
   "execution_count": 5,
   "metadata": {},
   "outputs": [
    {
     "data": {
      "text/plain": [
       "array([0., 0., 0., 0., 0., 0., 0., 0., 0., 0., 0., 0., 0., 0., 0., 0., 0.,\n",
       "       0., 0., 0., 0., 0., 0., 0., 0., 0., 0., 0., 0., 0., 0., 0., 0., 0.,\n",
       "       0., 0., 0., 0., 0., 0., 0., 0., 0., 0., 0., 0., 0., 0., 0., 0., 0.,\n",
       "       0., 0., 0., 0., 0., 0., 0., 0., 0., 0., 0., 0., 0., 0., 0., 0., 0.,\n",
       "       0., 0., 0., 0., 0., 0., 0., 0., 0., 0., 0., 0., 0., 0., 0., 0., 0.,\n",
       "       0., 0., 0., 0., 0., 0., 0., 0., 0., 0., 0., 0., 0., 0., 0.])"
      ]
     },
     "execution_count": 5,
     "metadata": {},
     "output_type": "execute_result"
    }
   ],
   "source": [
    "# 生成零，可设置数据类型\n",
    "X = np.zeros(100,dtype='float64')\n",
    "X"
   ]
  },
  {
   "cell_type": "code",
   "execution_count": 6,
   "metadata": {},
   "outputs": [
    {
     "data": {
      "text/plain": [
       "array([1, 1, 1, 1, 1, 1, 1, 1, 1, 1, 1, 1, 1, 1, 1, 1, 1, 1, 1, 1, 1, 1,\n",
       "       1, 1, 1, 1, 1, 1, 1, 1, 1, 1, 1, 1, 1, 1, 1, 1, 1, 1, 1, 1, 1, 1,\n",
       "       1, 1, 1, 1, 1, 1, 1, 1, 1, 1, 1, 1, 1, 1, 1, 1, 1, 1, 1, 1, 1, 1,\n",
       "       1, 1, 1, 1, 1, 1, 1, 1, 1, 1, 1, 1, 1, 1, 1, 1, 1, 1, 1, 1, 1, 1,\n",
       "       1, 1, 1, 1, 1, 1, 1, 1, 1, 1, 1, 1])"
      ]
     },
     "execution_count": 6,
     "metadata": {},
     "output_type": "execute_result"
    }
   ],
   "source": [
    "# 生成一\n",
    "X = np.ones(100, dtype='int64')\n",
    "X"
   ]
  },
  {
   "cell_type": "code",
   "execution_count": 7,
   "metadata": {},
   "outputs": [
    {
     "data": {
      "text/plain": [
       "array([  1.,  12.,  23.,  34.,  45.,  56.,  67.,  78.,  89., 100.])"
      ]
     },
     "execution_count": 7,
     "metadata": {},
     "output_type": "execute_result"
    }
   ],
   "source": [
    "# 线性分布（起始书，终止数，多少数）\n",
    "X = np.linspace(1, 100, 10)\n",
    "X"
   ]
  },
  {
   "cell_type": "code",
   "execution_count": 8,
   "metadata": {},
   "outputs": [
    {
     "data": {
      "text/plain": [
       "array([ 1, 10, 19, 28, 37, 46, 55, 64, 73, 82, 91])"
      ]
     },
     "execution_count": 8,
     "metadata": {},
     "output_type": "execute_result"
    }
   ],
   "source": [
    "# 生成范围（起始数，终止数，步长）\n",
    "X = np.arange(1, 100, 9)\n",
    "X"
   ]
  },
  {
   "cell_type": "markdown",
   "metadata": {},
   "source": [
    "## 均匀分布"
   ]
  },
  {
   "cell_type": "code",
   "execution_count": 9,
   "metadata": {},
   "outputs": [
    {
     "data": {
      "text/plain": [
       "array([0.18163708, 0.5901797 , 0.76357212, 0.76551038, 0.32533713,\n",
       "       0.80123052, 0.04294389, 0.16560086, 0.81603459, 0.88781287])"
      ]
     },
     "execution_count": 9,
     "metadata": {},
     "output_type": "execute_result"
    }
   ],
   "source": [
    "X = np.random.rand(10)\n",
    "X"
   ]
  },
  {
   "cell_type": "code",
   "execution_count": 10,
   "metadata": {},
   "outputs": [],
   "source": [
    "# low, high, Size\n",
    "X = np.random.uniform(-37, 37, 700)"
   ]
  },
  {
   "cell_type": "code",
   "execution_count": 11,
   "metadata": {},
   "outputs": [
    {
     "data": {
      "image/png": "[encoded data removed]",
      "text/plain": [
       "<Figure size 432x288 with 1 Axes>"
      ]
     },
     "metadata": {
      "needs_background": "light"
     },
     "output_type": "display_data"
    }
   ],
   "source": [
    "import matplotlib.pyplot as plt\n",
    "\n",
    "b = (max(X)-min(X))\n",
    "plt.figure()\n",
    "plt.hist(X, bins=int(b))\n",
    "plt.show()"
   ]
  },
  {
   "cell_type": "markdown",
   "metadata": {},
   "source": [
    "### 正态分布"
   ]
  },
  {
   "cell_type": "markdown",
   "metadata": {},
   "source": [
    "> 幅度、波动程度、集中程度、离散程度，稳定性\n",
    "\n",
    "* 概率密度函数\n",
    "* 方差\n",
    "* 标准差"
   ]
  },
  {
   "cell_type": "code",
   "execution_count": 12,
   "metadata": {},
   "outputs": [
    {
     "data": {
      "image/png": "[encoded data removed]",
      "text/plain": [
       "<Figure size 432x288 with 1 Axes>"
      ]
     },
     "metadata": {
      "needs_background": "light"
     },
     "output_type": "display_data"
    }
   ],
   "source": [
    "X = np.random.normal(loc=1.75, scale=0.1, size=1000000)\n",
    "\n",
    "plt.figure()\n",
    "plt.hist(X, 1000)\n",
    "plt.show()"
   ]
  },
  {
   "cell_type": "markdown",
   "metadata": {},
   "source": [
    "### 切片操作（slice）- 8支股票2周的交易涨幅"
   ]
  },
  {
   "cell_type": "code",
   "execution_count": 13,
   "metadata": {},
   "outputs": [
    {
     "data": {
      "text/plain": [
       "array([[ 0.02594825, -0.46516095,  1.91582585, -1.81891184, -0.57471096,\n",
       "        -0.38851787,  2.15862007,  0.30896123, -1.68976653, -0.32564937],\n",
       "       [-0.51290861, -0.15286812,  0.32937565, -0.43029573,  0.91312569,\n",
       "         1.08874158,  0.30721405, -1.38050485, -0.83407962,  0.71128971],\n",
       "       [ 0.64676564, -0.0964427 ,  0.39003358, -1.2952284 , -1.57725903,\n",
       "        -1.31808382,  0.82046232, -0.40952598, -0.61378388,  0.47738453],\n",
       "       [ 0.11361532, -1.11333674,  0.7365083 , -1.18738389, -0.71741715,\n",
       "         1.49086009, -0.98635415,  0.42601518, -0.50865919, -1.78436902],\n",
       "       [-0.16881024,  1.13623593,  0.24605801, -0.48572613, -0.68403159,\n",
       "         1.01153066,  0.17826946,  1.2266453 , -2.57078993, -0.61211864],\n",
       "       [ 1.01621512, -0.40311524,  0.90752628, -0.35650733, -1.08479025,\n",
       "        -0.15151454, -0.64147676, -1.07513123, -0.23100598, -0.31077907],\n",
       "       [ 0.33489407,  0.12144975,  0.56897599,  2.11706799,  0.85447724,\n",
       "        -0.24688521, -0.1342365 , -0.13727209,  1.13775431, -0.76932409],\n",
       "       [-0.39553732,  0.43060573,  0.54622823, -0.81755793, -0.90376716,\n",
       "         0.65058265, -0.24701049, -1.04325528,  0.05691618,  0.13416953]])"
      ]
     },
     "execution_count": 13,
     "metadata": {},
     "output_type": "execute_result"
    }
   ],
   "source": [
    "stock_changes = np.random.normal(loc=0, scale=1, size=(8, 10))\n",
    "stock_changes"
   ]
  },
  {
   "cell_type": "code",
   "execution_count": 14,
   "metadata": {},
   "outputs": [
    {
     "data": {
      "text/plain": [
       "array([[ 0.02594825, -0.46516095,  1.91582585]])"
      ]
     },
     "execution_count": 14,
     "metadata": {},
     "output_type": "execute_result"
    }
   ],
   "source": [
    "# 获取第一支股票前三个交易日\n",
    "stock_changes[0:1 , 0:3]"
   ]
  },
  {
   "cell_type": "code",
   "execution_count": 15,
   "metadata": {},
   "outputs": [],
   "source": [
    "a1 = np.array([\n",
    "    [\n",
    "        [1, 2, 3],\n",
    "        [4, 5, 6]\n",
    "    ],\n",
    "    [\n",
    "        [12, 23, 37],\n",
    "        [4, 5, 66]\n",
    "    ]\n",
    "])"
   ]
  },
  {
   "cell_type": "code",
   "execution_count": 16,
   "metadata": {},
   "outputs": [
    {
     "data": {
      "text/plain": [
       "(2, 2, 3)"
      ]
     },
     "execution_count": 16,
     "metadata": {},
     "output_type": "execute_result"
    }
   ],
   "source": [
    "a1.shape"
   ]
  },
  {
   "cell_type": "code",
   "execution_count": 17,
   "metadata": {},
   "outputs": [
    {
     "data": {
      "text/plain": [
       "37"
      ]
     },
     "execution_count": 17,
     "metadata": {},
     "output_type": "execute_result"
    }
   ],
   "source": [
    "# 找单个37\n",
    "a1[1,0,2]"
   ]
  },
  {
   "cell_type": "code",
   "execution_count": 18,
   "metadata": {},
   "outputs": [
    {
     "data": {
      "text/plain": [
       "array([12, 23, 37])"
      ]
     },
     "execution_count": 18,
     "metadata": {},
     "output_type": "execute_result"
    }
   ],
   "source": [
    "# 找一组\n",
    "a1[1,0,:3]"
   ]
  },
  {
   "cell_type": "markdown",
   "metadata": {},
   "source": [
    "### 形状改变"
   ]
  },
  {
   "cell_type": "code",
   "execution_count": 19,
   "metadata": {},
   "outputs": [
    {
     "data": {
      "text/plain": [
       "array([[ 0.02594825, -0.46516095,  1.91582585, -1.81891184, -0.57471096,\n",
       "        -0.38851787,  2.15862007,  0.30896123, -1.68976653, -0.32564937],\n",
       "       [-0.51290861, -0.15286812,  0.32937565, -0.43029573,  0.91312569,\n",
       "         1.08874158,  0.30721405, -1.38050485, -0.83407962,  0.71128971],\n",
       "       [ 0.64676564, -0.0964427 ,  0.39003358, -1.2952284 , -1.57725903,\n",
       "        -1.31808382,  0.82046232, -0.40952598, -0.61378388,  0.47738453],\n",
       "       [ 0.11361532, -1.11333674,  0.7365083 , -1.18738389, -0.71741715,\n",
       "         1.49086009, -0.98635415,  0.42601518, -0.50865919, -1.78436902],\n",
       "       [-0.16881024,  1.13623593,  0.24605801, -0.48572613, -0.68403159,\n",
       "         1.01153066,  0.17826946,  1.2266453 , -2.57078993, -0.61211864],\n",
       "       [ 1.01621512, -0.40311524,  0.90752628, -0.35650733, -1.08479025,\n",
       "        -0.15151454, -0.64147676, -1.07513123, -0.23100598, -0.31077907],\n",
       "       [ 0.33489407,  0.12144975,  0.56897599,  2.11706799,  0.85447724,\n",
       "        -0.24688521, -0.1342365 , -0.13727209,  1.13775431, -0.76932409],\n",
       "       [-0.39553732,  0.43060573,  0.54622823, -0.81755793, -0.90376716,\n",
       "         0.65058265, -0.24701049, -1.04325528,  0.05691618,  0.13416953]])"
      ]
     },
     "execution_count": 19,
     "metadata": {},
     "output_type": "execute_result"
    }
   ],
   "source": [
    "stock_changes"
   ]
  },
  {
   "cell_type": "code",
   "execution_count": 20,
   "metadata": {},
   "outputs": [
    {
     "data": {
      "text/plain": [
       "array([[ 0.02594825, -0.46516095,  1.91582585, -1.81891184, -0.57471096,\n",
       "        -0.38851787,  2.15862007,  0.30896123],\n",
       "       [-1.68976653, -0.32564937, -0.51290861, -0.15286812,  0.32937565,\n",
       "        -0.43029573,  0.91312569,  1.08874158],\n",
       "       [ 0.30721405, -1.38050485, -0.83407962,  0.71128971,  0.64676564,\n",
       "        -0.0964427 ,  0.39003358, -1.2952284 ],\n",
       "       [-1.57725903, -1.31808382,  0.82046232, -0.40952598, -0.61378388,\n",
       "         0.47738453,  0.11361532, -1.11333674],\n",
       "       [ 0.7365083 , -1.18738389, -0.71741715,  1.49086009, -0.98635415,\n",
       "         0.42601518, -0.50865919, -1.78436902],\n",
       "       [-0.16881024,  1.13623593,  0.24605801, -0.48572613, -0.68403159,\n",
       "         1.01153066,  0.17826946,  1.2266453 ],\n",
       "       [-2.57078993, -0.61211864,  1.01621512, -0.40311524,  0.90752628,\n",
       "        -0.35650733, -1.08479025, -0.15151454],\n",
       "       [-0.64147676, -1.07513123, -0.23100598, -0.31077907,  0.33489407,\n",
       "         0.12144975,  0.56897599,  2.11706799],\n",
       "       [ 0.85447724, -0.24688521, -0.1342365 , -0.13727209,  1.13775431,\n",
       "        -0.76932409, -0.39553732,  0.43060573],\n",
       "       [ 0.54622823, -0.81755793, -0.90376716,  0.65058265, -0.24701049,\n",
       "        -1.04325528,  0.05691618,  0.13416953]])"
      ]
     },
     "execution_count": 20,
     "metadata": {},
     "output_type": "execute_result"
    }
   ],
   "source": [
    "stock_changes.reshape(10, 8) # 仔细观察发现：形状已更改，返回新的数据，但是数据被截断了"
   ]
  },
  {
   "cell_type": "code",
   "execution_count": 21,
   "metadata": {},
   "outputs": [
    {
     "data": {
      "text/plain": [
       "(10, 8)"
      ]
     },
     "execution_count": 21,
     "metadata": {},
     "output_type": "execute_result"
    }
   ],
   "source": [
    "stock_changes.resize(10,8) # 形状已更改，但是没有返回值\n",
    "stock_changes.shape"
   ]
  },
  {
   "cell_type": "code",
   "execution_count": 22,
   "metadata": {},
   "outputs": [],
   "source": [
    "stock_changes.resize(8, 10)"
   ]
  },
  {
   "cell_type": "code",
   "execution_count": 23,
   "metadata": {},
   "outputs": [
    {
     "data": {
      "text/plain": [
       "(8, 10)"
      ]
     },
     "execution_count": 23,
     "metadata": {},
     "output_type": "execute_result"
    }
   ],
   "source": [
    "stock_changes.shape"
   ]
  },
  {
   "cell_type": "code",
   "execution_count": 24,
   "metadata": {},
   "outputs": [
    {
     "data": {
      "text/plain": [
       "array([[ 0.02594825, -0.51290861,  0.64676564,  0.11361532, -0.16881024,\n",
       "         1.01621512,  0.33489407, -0.39553732],\n",
       "       [-0.46516095, -0.15286812, -0.0964427 , -1.11333674,  1.13623593,\n",
       "        -0.40311524,  0.12144975,  0.43060573],\n",
       "       [ 1.91582585,  0.32937565,  0.39003358,  0.7365083 ,  0.24605801,\n",
       "         0.90752628,  0.56897599,  0.54622823],\n",
       "       [-1.81891184, -0.43029573, -1.2952284 , -1.18738389, -0.48572613,\n",
       "        -0.35650733,  2.11706799, -0.81755793],\n",
       "       [-0.57471096,  0.91312569, -1.57725903, -0.71741715, -0.68403159,\n",
       "        -1.08479025,  0.85447724, -0.90376716],\n",
       "       [-0.38851787,  1.08874158, -1.31808382,  1.49086009,  1.01153066,\n",
       "        -0.15151454, -0.24688521,  0.65058265],\n",
       "       [ 2.15862007,  0.30721405,  0.82046232, -0.98635415,  0.17826946,\n",
       "        -0.64147676, -0.1342365 , -0.24701049],\n",
       "       [ 0.30896123, -1.38050485, -0.40952598,  0.42601518,  1.2266453 ,\n",
       "        -1.07513123, -0.13727209, -1.04325528],\n",
       "       [-1.68976653, -0.83407962, -0.61378388, -0.50865919, -2.57078993,\n",
       "        -0.23100598,  1.13775431,  0.05691618],\n",
       "       [-0.32564937,  0.71128971,  0.47738453, -1.78436902, -0.61211864,\n",
       "        -0.31077907, -0.76932409,  0.13416953]])"
      ]
     },
     "execution_count": 24,
     "metadata": {},
     "output_type": "execute_result"
    }
   ],
   "source": [
    "stock_changes.T"
   ]
  },
  {
   "cell_type": "code",
   "execution_count": 25,
   "metadata": {},
   "outputs": [
    {
     "data": {
      "text/plain": [
       "(10, 8)"
      ]
     },
     "execution_count": 25,
     "metadata": {},
     "output_type": "execute_result"
    }
   ],
   "source": [
    "stock_changes.T.shape"
   ]
  },
  {
   "cell_type": "markdown",
   "metadata": {},
   "source": [
    "### 类型修改\n",
    "\n",
    "* ndarray.astype(type)\n",
    "* ndarray.tostring()"
   ]
  },
  {
   "cell_type": "code",
   "execution_count": 26,
   "metadata": {},
   "outputs": [
    {
     "data": {
      "text/plain": [
       "array([[ 0,  0,  1, -1,  0,  0,  2,  0, -1,  0],\n",
       "       [ 0,  0,  0,  0,  0,  1,  0, -1,  0,  0],\n",
       "       [ 0,  0,  0, -1, -1, -1,  0,  0,  0,  0],\n",
       "       [ 0, -1,  0, -1,  0,  1,  0,  0,  0, -1],\n",
       "       [ 0,  1,  0,  0,  0,  1,  0,  1, -2,  0],\n",
       "       [ 1,  0,  0,  0, -1,  0,  0, -1,  0,  0],\n",
       "       [ 0,  0,  0,  2,  0,  0,  0,  0,  1,  0],\n",
       "       [ 0,  0,  0,  0,  0,  0,  0, -1,  0,  0]], dtype=int32)"
      ]
     },
     "execution_count": 26,
     "metadata": {},
     "output_type": "execute_result"
    }
   ],
   "source": [
    "stock_changes.astype('int32')"
   ]
  },
  {
   "cell_type": "code",
   "execution_count": 27,
   "metadata": {},
   "outputs": [
    {
     "data": {
      "text/plain": [
       "b'\\xd1TW\\xad-\\x92\\x9a? \\x98Cq2\\xc5\\xdd\\xbf\\xfe\\xfah\\x009\\xa7\\xfe?\\xc5u\\xc3MC\\x1a\\xfd\\xbf\\'\\xe6A>\\x08d\\xe2\\xbf\\x0b\\xbc\\xa2\\tz\\xdd\\xd8\\xbf\\xc7\\xfb\\xe8\\x99\\xdaD\\x01@\\x13k\\nV\\x05\\xc6\\xd3?<=m\\xa1H\\t\\xfb\\xbf\\x14\\xc5\\x84rp\\xd7\\xd4\\xbfg\\xf2\\x83Q\\xbfi\\xe0\\xbf\\xbf\\x1bH\\xc3.\\x91\\xc3\\xbfh\\x96.\\xa0}\\x14\\xd5?\\x9b\\x98F\\x16\\xf7\\x89\\xdb\\xbf\\xe4@K_S8\\xed?\\xc9@\\x9fI|k\\xf1?T\\xa0j\\x1ae\\xa9\\xd3?[\\x0f\\xc5?\\x8c\\x16\\xf6\\xbf\\x1b\\x06\\x04\\xc0\\xc7\\xb0\\xea\\xbf\\xeb:\\xa9\\xa5\\xe2\\xc2\\xe6?\\xb8\\xad@\\xdaM\\xb2\\xe4?\\x9ez\\xe2\\xf2w\\xb0\\xb8\\xbf\\xce\\x10\\x99iO\\xf6\\xd8?:fikA\\xb9\\xf4\\xbfy\\xd7*\\xf6s<\\xf9\\xbf\\x04\\x90n\\x10\\xdf\\x16\\xf5\\xbf\\x12\\x1e\\x060:A\\xea?\\x9a\\xa2\\x15p\\xac5\\xda\\xbf\\xd4\\xb9\\xe8\\x18\\x1e\\xa4\\xe3\\xbf\\xa5\\x8aR\\xd3w\\x8d\\xde?\\x1f\\xc6\\xc1\\xbf\\xe4\\x15\\xbd?\\xcc7\\x9b0:\\xd0\\xf1\\xbf\\x03=z\\xd9y\\x91\\xe7?o\\xc94@\\x86\\xff\\xf2\\xbf\\xa26S\\xd1\\x14\\xf5\\xe6\\xbf5\\x81\\x14\\x1b\\x90\\xda\\xf7?%z\\x04\\x946\\x90\\xef\\xbfm\\x0f\\x100\\xd5C\\xdb?\\x12]\\xcb\\xa4\\xefF\\xe0\\xbf\\x92b\\x81\\x87\\xc6\\x8c\\xfc\\xbf\\xde\\x89\\xfb\\xf1\\x92\\x9b\\xc5\\xbf@N\\xdc\\xb9\\x05.\\xf2?\\xb1\\xabu-\\xd4~\\xcf?o\\xf5\\xcc\\t#\\x16\\xdf\\xbf\\xbb\\x07k9\\x96\\xe3\\xe5\\xbf\\xfaP\\xd0\\xc6:/\\xf0?\\x04\\x9am\\xa4\\x88\\xd1\\xc6?\"\\xe8\\xf9\\xd1V\\xa0\\xf3?\\x00}\\x08P\\xfa\\x90\\x04\\xc0\\xf5\\x8cU\\xd2y\\x96\\xe3\\xbf\\x93\\x95k\\xc9jB\\xf0?\\xfa|\\xba\\xd7\\xa3\\xcc\\xd9\\xbf\\xd0W:\\x8ct\\n\\xed?p\\xd2\\x87\\x1f\\x04\\xd1\\xd6\\xbf\\xf0\\x02/\\x04M[\\xf1\\xbf\\xef\\xdej\\x1f\\xd4d\\xc3\\xbf*\\xd9\\xc1C\\xfa\\x86\\xe4\\xbfZT\\xb6\\xce\\xbc3\\xf1\\xbfUw\\xa6\\x94\\x9a\\x91\\xcd\\xbfZ\\x16K\\xea\\xcd\\xe3\\xd3\\xbf\\x89<\\xeb\\x8a\\xe7n\\xd5?\\x9e\\r\\xb1\\xa0T\\x17\\xbf?\\xea\\xab\\xb7\"\\r5\\xe2?S\\xe3\\xcfW\\xc1\\xef\\x00@B\\xf1\\xf3\\xa5\\xe0W\\xeb?\\xd6\\x10\\xf5A\\xef\\x99\\xcf\\xbf\\x87\\x92\\xb3`\\xa9.\\xc1\\xbfM|\\x00\\xbc!\\x92\\xc1\\xbf\\x9b\\xb0\\xa2\\xdc=4\\xf2?\\xa9\\x1d\\xd7\\x8bM\\x9e\\xe8\\xbf\\x86sJ\\xc5{P\\xd9\\xbf\\x92A\\x93W\\x0b\\x8f\\xdb?\\xf7\\x1d\\xbe\\x9e\\xb3z\\xe1?\\x0b8\"?o)\\xea\\xbf\\xcdj\\x0b\\x1d\\xa9\\xeb\\xec\\xbf\\x1c\\xdaZ\\xb4\\x92\\xd1\\xe4?3B`,\\n\\x9e\\xcf\\xbf\\x02\\xf6\\xc8r,\\xb1\\xf0\\xbf\\xd9+\\x04\\xee\\x1d$\\xad?O2\\x80\\x94w,\\xc1?'"
      ]
     },
     "execution_count": 27,
     "metadata": {},
     "output_type": "execute_result"
    }
   ],
   "source": [
    "stock_changes.tostring()"
   ]
  },
  {
   "cell_type": "markdown",
   "metadata": {},
   "source": [
    "### 数组的去重\n",
    "\n",
    "* np.unique(ndarray)\n",
    "* set() # 只能操作一维数组，返回值是一个集合{}"
   ]
  },
  {
   "cell_type": "code",
   "execution_count": 28,
   "metadata": {},
   "outputs": [],
   "source": [
    "a = np.array([[1,2,3,4,5],[3,4,5,6,7],[3,6,7,8,0]])"
   ]
  },
  {
   "cell_type": "code",
   "execution_count": 29,
   "metadata": {},
   "outputs": [
    {
     "data": {
      "text/plain": [
       "array([0, 1, 2, 3, 4, 5, 6, 7, 8])"
      ]
     },
     "execution_count": 29,
     "metadata": {},
     "output_type": "execute_result"
    }
   ],
   "source": [
    "np.unique(a)"
   ]
  },
  {
   "cell_type": "code",
   "execution_count": 30,
   "metadata": {},
   "outputs": [
    {
     "data": {
      "text/plain": [
       "{0, 1, 2, 3, 4, 5, 6, 7, 8}"
      ]
     },
     "execution_count": 30,
     "metadata": {},
     "output_type": "execute_result"
    }
   ],
   "source": [
    "set(a.flatten()) # 用 ndarray.flatten() 转换成一维数组先"
   ]
  },
  {
   "cell_type": "markdown",
   "metadata": {},
   "source": [
    "### 逻辑运算\n",
    "\n",
    "* 布尔索引\n",
    "* 通用判断函数\n",
    "    * np.all(布尔值) - 全是True,返回True, 只要有一个False就返回False\n",
    "    * np.any(布尔值) - 全是False,返回False, 只要有一个True就返回True\n",
    "* 三元运算符 np.where()"
   ]
  },
  {
   "cell_type": "code",
   "execution_count": 31,
   "metadata": {},
   "outputs": [
    {
     "data": {
      "text/plain": [
       "array([[ 0.97528718, -0.41966408,  0.33922285,  0.09250934, -0.74738297,\n",
       "         0.62656689, -0.97105693,  2.4514356 ,  1.26423795, -1.85443716],\n",
       "       [ 1.68879152,  0.37658452,  0.60348317,  0.60604468, -0.76258548,\n",
       "         0.37100229,  1.38229296, -0.57435251, -0.28435062, -0.65427984],\n",
       "       [-0.64610588,  0.19353412,  0.41647001, -0.59821921,  1.3695774 ,\n",
       "        -0.80980203,  1.85187122, -1.35833347, -1.21766119, -0.46358395],\n",
       "       [-0.76094748,  0.63010235,  0.96062806,  0.86878039, -0.25395036,\n",
       "         1.19949344,  1.16765362,  0.48094205, -0.03099056, -0.90096709],\n",
       "       [ 1.85185894,  0.65310324, -2.24551171, -1.62298635, -0.24890327,\n",
       "        -0.3843115 ,  0.83438735, -0.19641285,  0.4233448 , -0.6843952 ],\n",
       "       [ 0.45610058,  1.57842234,  0.93324318, -1.09269182, -1.68577012,\n",
       "         1.02296521, -1.73695898, -2.0146989 ,  1.40494778, -2.66573047],\n",
       "       [-0.41404842, -2.38284632, -1.22799915,  0.97047457,  0.12661629,\n",
       "         0.98359162, -0.63910335,  3.98162871, -0.89254069,  1.13384171],\n",
       "       [-0.33231358,  0.7752791 ,  0.87895645, -0.27305697,  0.06340751,\n",
       "        -0.78423311, -0.82204183, -0.50530597, -0.06108108, -0.14353006]])"
      ]
     },
     "execution_count": 31,
     "metadata": {},
     "output_type": "execute_result"
    }
   ],
   "source": [
    "stocks = np.random.normal(loc=0, scale=1, size=(8, 10))\n",
    "stocks"
   ]
  },
  {
   "cell_type": "code",
   "execution_count": 32,
   "metadata": {},
   "outputs": [
    {
     "data": {
      "text/plain": [
       "array([[ True, False, False, False, False,  True, False,  True,  True,\n",
       "        False],\n",
       "       [ True, False,  True,  True, False, False,  True, False, False,\n",
       "        False],\n",
       "       [False, False, False, False,  True, False,  True, False, False,\n",
       "        False],\n",
       "       [False,  True,  True,  True, False,  True,  True, False, False,\n",
       "        False],\n",
       "       [ True,  True, False, False, False, False,  True, False, False,\n",
       "        False],\n",
       "       [False,  True,  True, False, False,  True, False, False,  True,\n",
       "        False],\n",
       "       [False, False, False,  True, False,  True, False,  True, False,\n",
       "         True],\n",
       "       [False,  True,  True, False, False, False, False, False, False,\n",
       "        False]])"
      ]
     },
     "execution_count": 32,
     "metadata": {},
     "output_type": "execute_result"
    }
   ],
   "source": [
    "stocks>0.5 # 标记大于0.5的元素的True False"
   ]
  },
  {
   "cell_type": "code",
   "execution_count": 33,
   "metadata": {},
   "outputs": [
    {
     "data": {
      "text/plain": [
       "array([0.97528718, 0.62656689, 2.4514356 , 1.26423795, 1.68879152,\n",
       "       0.60348317, 0.60604468, 1.38229296, 1.3695774 , 1.85187122,\n",
       "       0.63010235, 0.96062806, 0.86878039, 1.19949344, 1.16765362,\n",
       "       1.85185894, 0.65310324, 0.83438735, 1.57842234, 0.93324318,\n",
       "       1.02296521, 1.40494778, 0.97047457, 0.98359162, 3.98162871,\n",
       "       1.13384171, 0.7752791 , 0.87895645])"
      ]
     },
     "execution_count": 33,
     "metadata": {},
     "output_type": "execute_result"
    }
   ],
   "source": [
    "stocks[stocks>0.5] # 提取所有大于0.5的"
   ]
  },
  {
   "cell_type": "code",
   "execution_count": 34,
   "metadata": {},
   "outputs": [
    {
     "data": {
      "text/plain": [
       "array([[ 0.88      , -0.41966408,  0.33922285,  0.09250934, -0.74738297,\n",
       "         0.88      , -0.97105693,  0.88      ,  0.88      , -1.85443716],\n",
       "       [ 0.88      ,  0.37658452,  0.88      ,  0.88      , -0.76258548,\n",
       "         0.37100229,  0.88      , -0.57435251, -0.28435062, -0.65427984],\n",
       "       [-0.64610588,  0.19353412,  0.41647001, -0.59821921,  0.88      ,\n",
       "        -0.80980203,  0.88      , -1.35833347, -1.21766119, -0.46358395],\n",
       "       [-0.76094748,  0.88      ,  0.88      ,  0.88      , -0.25395036,\n",
       "         0.88      ,  0.88      ,  0.48094205, -0.03099056, -0.90096709],\n",
       "       [ 0.88      ,  0.88      , -2.24551171, -1.62298635, -0.24890327,\n",
       "        -0.3843115 ,  0.88      , -0.19641285,  0.4233448 , -0.6843952 ],\n",
       "       [ 0.45610058,  0.88      ,  0.88      , -1.09269182, -1.68577012,\n",
       "         0.88      , -1.73695898, -2.0146989 ,  0.88      , -2.66573047],\n",
       "       [-0.41404842, -2.38284632, -1.22799915,  0.88      ,  0.12661629,\n",
       "         0.88      , -0.63910335,  0.88      , -0.89254069,  0.88      ],\n",
       "       [-0.33231358,  0.88      ,  0.88      , -0.27305697,  0.06340751,\n",
       "        -0.78423311, -0.82204183, -0.50530597, -0.06108108, -0.14353006]])"
      ]
     },
     "execution_count": 34,
     "metadata": {},
     "output_type": "execute_result"
    }
   ],
   "source": [
    "stocks[stocks>0.5] = 0.88 # 给所有大于0.5的元素赋新值\n",
    "stocks"
   ]
  },
  {
   "cell_type": "code",
   "execution_count": 35,
   "metadata": {},
   "outputs": [
    {
     "data": {
      "text/plain": [
       "array([[ True, False, False, False, False],\n",
       "       [ True, False,  True,  True, False]])"
      ]
     },
     "execution_count": 35,
     "metadata": {},
     "output_type": "execute_result"
    }
   ],
   "source": [
    "stocks[0:2, 0:5] > 0.5"
   ]
  },
  {
   "cell_type": "code",
   "execution_count": 36,
   "metadata": {},
   "outputs": [
    {
     "data": {
      "text/plain": [
       "False"
      ]
     },
     "execution_count": 36,
     "metadata": {},
     "output_type": "execute_result"
    }
   ],
   "source": [
    "np.all(stocks[0:2, 0:5] > 0.5) # 是否全部都上涨"
   ]
  },
  {
   "cell_type": "code",
   "execution_count": 37,
   "metadata": {},
   "outputs": [
    {
     "data": {
      "text/plain": [
       "True"
      ]
     },
     "execution_count": 37,
     "metadata": {},
     "output_type": "execute_result"
    }
   ],
   "source": [
    "np.any(stocks[0:2, 0:5] > 0.5) # 是否有任一上涨"
   ]
  },
  {
   "cell_type": "code",
   "execution_count": 38,
   "metadata": {},
   "outputs": [
    {
     "data": {
      "text/plain": [
       "array([[ 0.88      , -0.41966408,  0.33922285,  0.09250934],\n",
       "       [ 0.88      ,  0.37658452,  0.88      ,  0.88      ],\n",
       "       [-0.64610588,  0.19353412,  0.41647001, -0.59821921],\n",
       "       [-0.76094748,  0.88      ,  0.88      ,  0.88      ]])"
      ]
     },
     "execution_count": 38,
     "metadata": {},
     "output_type": "execute_result"
    }
   ],
   "source": [
    "temp = stocks[:4, :4]\n",
    "temp"
   ]
  },
  {
   "cell_type": "code",
   "execution_count": 39,
   "metadata": {},
   "outputs": [
    {
     "data": {
      "text/plain": [
       "array([[1, 0, 1, 1],\n",
       "       [1, 1, 1, 1],\n",
       "       [0, 1, 1, 0],\n",
       "       [0, 1, 1, 1]])"
      ]
     },
     "execution_count": 39,
     "metadata": {},
     "output_type": "execute_result"
    }
   ],
   "source": [
    "np.where(temp>0, 1, 0) # 如果True， 赋值第二个参数，否则赋值第三个参数"
   ]
  },
  {
   "cell_type": "code",
   "execution_count": 40,
   "metadata": {},
   "outputs": [
    {
     "data": {
      "text/plain": [
       "array([[ True, False,  True,  True],\n",
       "       [ True,  True,  True,  True],\n",
       "       [False,  True,  True, False],\n",
       "       [False,  True,  True,  True]])"
      ]
     },
     "execution_count": 40,
     "metadata": {},
     "output_type": "execute_result"
    }
   ],
   "source": [
    "np.logical_and(temp>0, temp<1)"
   ]
  },
  {
   "cell_type": "code",
   "execution_count": 41,
   "metadata": {},
   "outputs": [
    {
     "data": {
      "text/plain": [
       "array([[ True,  True, False, False],\n",
       "       [ True, False,  True,  True],\n",
       "       [ True, False, False,  True],\n",
       "       [ True,  True,  True,  True]])"
      ]
     },
     "execution_count": 41,
     "metadata": {},
     "output_type": "execute_result"
    }
   ],
   "source": [
    "np.logical_or(temp>0.5, temp<0)"
   ]
  },
  {
   "cell_type": "code",
   "execution_count": 42,
   "metadata": {},
   "outputs": [
    {
     "data": {
      "text/plain": [
       "array([[ 0.88      , -0.41966408,  0.33922285,  0.09250934],\n",
       "       [ 0.88      ,  0.37658452,  0.88      ,  0.88      ],\n",
       "       [-0.64610588,  0.19353412,  0.41647001, -0.59821921],\n",
       "       [-0.76094748,  0.88      ,  0.88      ,  0.88      ]])"
      ]
     },
     "execution_count": 42,
     "metadata": {},
     "output_type": "execute_result"
    }
   ],
   "source": [
    "temp"
   ]
  },
  {
   "cell_type": "markdown",
   "metadata": {},
   "source": [
    "### 统计指标运算\n",
    "\n",
    "* max\n",
    "* min\n",
    "* mean\n",
    "* median\n",
    "* var\n",
    "* std\n",
    "* argmax\n",
    "* argmin\n"
   ]
  },
  {
   "cell_type": "code",
   "execution_count": 43,
   "metadata": {},
   "outputs": [
    {
     "data": {
      "text/plain": [
       "array([[ 0.88      , -0.41966408,  0.33922285,  0.09250934],\n",
       "       [ 0.88      ,  0.37658452,  0.88      ,  0.88      ],\n",
       "       [-0.64610588,  0.19353412,  0.41647001, -0.59821921],\n",
       "       [-0.76094748,  0.88      ,  0.88      ,  0.88      ]])"
      ]
     },
     "execution_count": 43,
     "metadata": {},
     "output_type": "execute_result"
    }
   ],
   "source": [
    "temp"
   ]
  },
  {
   "cell_type": "code",
   "execution_count": 44,
   "metadata": {},
   "outputs": [
    {
     "data": {
      "text/plain": [
       "0.88"
      ]
     },
     "execution_count": 44,
     "metadata": {},
     "output_type": "execute_result"
    }
   ],
   "source": [
    "temp.max() # ndarray.方法名"
   ]
  },
  {
   "cell_type": "code",
   "execution_count": 45,
   "metadata": {},
   "outputs": [
    {
     "data": {
      "text/plain": [
       "0.88"
      ]
     },
     "execution_count": 45,
     "metadata": {},
     "output_type": "execute_result"
    }
   ],
   "source": [
    "np.max(temp) # np函数（参数）"
   ]
  },
  {
   "cell_type": "code",
   "execution_count": 46,
   "metadata": {},
   "outputs": [
    {
     "data": {
      "text/plain": [
       "array([0.88      , 0.88      , 0.41647001, 0.88      ])"
      ]
     },
     "execution_count": 46,
     "metadata": {},
     "output_type": "execute_result"
    }
   ],
   "source": [
    "np.max(temp, axis=1) # axis 等于 1 时， 按行求"
   ]
  },
  {
   "cell_type": "code",
   "execution_count": 47,
   "metadata": {},
   "outputs": [
    {
     "data": {
      "text/plain": [
       "array([0, 0, 2, 1])"
      ]
     },
     "execution_count": 47,
     "metadata": {},
     "output_type": "execute_result"
    }
   ],
   "source": [
    "np.argmax(temp, axis=1) # 返回最大值所在的位置"
   ]
  },
  {
   "cell_type": "code",
   "execution_count": 48,
   "metadata": {},
   "outputs": [
    {
     "data": {
      "text/plain": [
       "array([0.88, 0.88, 0.88, 0.88])"
      ]
     },
     "execution_count": 48,
     "metadata": {},
     "output_type": "execute_result"
    }
   ],
   "source": [
    "temp.max(axis=0) # axis 等于 0 时，按列求"
   ]
  },
  {
   "cell_type": "code",
   "execution_count": 49,
   "metadata": {},
   "outputs": [
    {
     "data": {
      "text/plain": [
       "array([3, 0, 0, 2])"
      ]
     },
     "execution_count": 49,
     "metadata": {},
     "output_type": "execute_result"
    }
   ],
   "source": [
    "np.argmin(temp, axis=0) # 返回最小值所在的位置"
   ]
  },
  {
   "cell_type": "markdown",
   "metadata": {},
   "source": [
    "### 数组/矩阵运算"
   ]
  },
  {
   "cell_type": "code",
   "execution_count": 50,
   "metadata": {},
   "outputs": [
    {
     "data": {
      "text/plain": [
       "array([[1, 2, 3, 4, 5, 6],\n",
       "       [4, 5, 6, 7, 8, 9]])"
      ]
     },
     "execution_count": 50,
     "metadata": {},
     "output_type": "execute_result"
    }
   ],
   "source": [
    "# 数组与数的运算 加减乘除都行\n",
    "arr = np.array([[1,2,3,4,5,6], [4,5,6,7,8,9]])\n",
    "arr"
   ]
  },
  {
   "cell_type": "code",
   "execution_count": 51,
   "metadata": {},
   "outputs": [
    {
     "data": {
      "text/plain": [
       "array([[ 3,  6,  9, 12, 15, 18],\n",
       "       [12, 15, 18, 21, 24, 27]])"
      ]
     },
     "execution_count": 51,
     "metadata": {},
     "output_type": "execute_result"
    }
   ],
   "source": [
    "arr * 3"
   ]
  },
  {
   "cell_type": "code",
   "execution_count": 52,
   "metadata": {},
   "outputs": [
    {
     "data": {
      "text/plain": [
       "array([[ 4,  5,  6,  7,  8,  9],\n",
       "       [ 7,  8,  9, 10, 11, 12]])"
      ]
     },
     "execution_count": 52,
     "metadata": {},
     "output_type": "execute_result"
    }
   ],
   "source": [
    "arr + 3"
   ]
  },
  {
   "cell_type": "markdown",
   "metadata": {},
   "source": [
    "### 数组与数组的运算\n",
    "\n",
    "__广播机制__: 执行 broadcast 的前提在于，两个 ndarray 执行的是 element-wise 的运算，Broadcast机制的功能是为了方便不同形状的 ndarray（numpy库的核心数据结构） 进行数学运算。\n",
    "当操作两个数组时， numpy会逐个比较它们的shape（构成的元祖tuple），只有在下述情况下，两个数组才能够进行数组与数组的运算。\n",
    "\n",
    "* 维度相同\n",
    "* shape（其中相对应的一个地方为1）\n",
    "\n",
    "> 两个维度不同的数组按照形状排列，从右往左，如果其中2个相同位置的形状数值是1，可以运算。运算结果的维度以高位为准。"
   ]
  },
  {
   "cell_type": "code",
   "execution_count": 53,
   "metadata": {},
   "outputs": [],
   "source": [
    "arr1 = np.array([[1,2,3,4,5,6], [4,5,6,7,8,9]])\n",
    "arr2 = np.array([[2], [3]])"
   ]
  },
  {
   "cell_type": "code",
   "execution_count": 54,
   "metadata": {},
   "outputs": [
    {
     "data": {
      "text/plain": [
       "array([[ 3,  4,  5,  6,  7,  8],\n",
       "       [ 7,  8,  9, 10, 11, 12]])"
      ]
     },
     "execution_count": 54,
     "metadata": {},
     "output_type": "execute_result"
    }
   ],
   "source": [
    "arr1 + arr2"
   ]
  },
  {
   "cell_type": "code",
   "execution_count": 55,
   "metadata": {},
   "outputs": [
    {
     "data": {
      "text/plain": [
       "array([[ 2,  4,  6,  8, 10, 12],\n",
       "       [12, 15, 18, 21, 24, 27]])"
      ]
     },
     "execution_count": 55,
     "metadata": {},
     "output_type": "execute_result"
    }
   ],
   "source": [
    "arr1 * arr2"
   ]
  },
  {
   "cell_type": "markdown",
   "metadata": {},
   "source": [
    "### 矩阵运算\n",
    "\n",
    "矩阵乘法\n",
    "* 形状： (m行, n列) * (n行, l列) = (m行, l列)\n",
    "* 运算规则： 第一个的行乘以第二个的列"
   ]
  },
  {
   "cell_type": "code",
   "execution_count": 56,
   "metadata": {},
   "outputs": [
    {
     "data": {
      "text/plain": [
       "array([[80, 92],\n",
       "       [74, 87],\n",
       "       [85, 91],\n",
       "       [93, 88],\n",
       "       [97, 95],\n",
       "       [90, 79],\n",
       "       [99, 91],\n",
       "       [93, 77]])"
      ]
     },
     "execution_count": 56,
     "metadata": {},
     "output_type": "execute_result"
    }
   ],
   "source": [
    "# ndarray 存储矩阵\n",
    "a = np.array([\n",
    "    [80, 92],\n",
    "    [74, 87],\n",
    "    [85, 91],\n",
    "    [93, 88],\n",
    "    [97, 95],\n",
    "    [90, 79],\n",
    "    [99, 91],\n",
    "    [93, 77],\n",
    "])\n",
    "a"
   ]
  },
  {
   "cell_type": "code",
   "execution_count": 57,
   "metadata": {},
   "outputs": [
    {
     "data": {
      "text/plain": [
       "numpy.ndarray"
      ]
     },
     "execution_count": 57,
     "metadata": {},
     "output_type": "execute_result"
    }
   ],
   "source": [
    "type(a)"
   ]
  },
  {
   "cell_type": "code",
   "execution_count": 58,
   "metadata": {},
   "outputs": [
    {
     "data": {
      "text/plain": [
       "matrix([[80, 92],\n",
       "        [74, 87],\n",
       "        [85, 91],\n",
       "        [93, 88],\n",
       "        [97, 95],\n",
       "        [90, 79],\n",
       "        [99, 91],\n",
       "        [93, 77]])"
      ]
     },
     "execution_count": 58,
     "metadata": {},
     "output_type": "execute_result"
    }
   ],
   "source": [
    "# matrix 存储矩阵\n",
    "b = np.mat([\n",
    "    [80, 92],\n",
    "    [74, 87],\n",
    "    [85, 91],\n",
    "    [93, 88],\n",
    "    [97, 95],\n",
    "    [90, 79],\n",
    "    [99, 91],\n",
    "    [93, 77],\n",
    "])\n",
    "b"
   ]
  },
  {
   "cell_type": "code",
   "execution_count": 59,
   "metadata": {},
   "outputs": [
    {
     "data": {
      "text/plain": [
       "numpy.matrix"
      ]
     },
     "execution_count": 59,
     "metadata": {},
     "output_type": "execute_result"
    }
   ],
   "source": [
    "type(b)"
   ]
  },
  {
   "cell_type": "code",
   "execution_count": 60,
   "metadata": {},
   "outputs": [
    {
     "data": {
      "text/plain": [
       "matrix([[0.3],\n",
       "        [0.7]])"
      ]
     },
     "execution_count": 60,
     "metadata": {},
     "output_type": "execute_result"
    }
   ],
   "source": [
    "weigth = np.mat([[0.3], [0.7]]) # 权重\n",
    "weigth"
   ]
  },
  {
   "cell_type": "code",
   "execution_count": 61,
   "metadata": {},
   "outputs": [
    {
     "data": {
      "text/plain": [
       "matrix([[88.4],\n",
       "        [83.1],\n",
       "        [89.2],\n",
       "        [89.5],\n",
       "        [95.6],\n",
       "        [82.3],\n",
       "        [93.4],\n",
       "        [81.8]])"
      ]
     },
     "execution_count": 61,
     "metadata": {},
     "output_type": "execute_result"
    }
   ],
   "source": [
    "a*weigth"
   ]
  },
  {
   "cell_type": "code",
   "execution_count": 62,
   "metadata": {},
   "outputs": [
    {
     "data": {
      "text/plain": [
       "matrix([[88.4],\n",
       "        [83.1],\n",
       "        [89.2],\n",
       "        [89.5],\n",
       "        [95.6],\n",
       "        [82.3],\n",
       "        [93.4],\n",
       "        [81.8]])"
      ]
     },
     "execution_count": 62,
     "metadata": {},
     "output_type": "execute_result"
    }
   ],
   "source": [
    "b*weigth"
   ]
  },
  {
   "cell_type": "code",
   "execution_count": 63,
   "metadata": {},
   "outputs": [
    {
     "data": {
      "text/plain": [
       "matrix([[88.4],\n",
       "        [83.1],\n",
       "        [89.2],\n",
       "        [89.5],\n",
       "        [95.6],\n",
       "        [82.3],\n",
       "        [93.4],\n",
       "        [81.8]])"
      ]
     },
     "execution_count": 63,
     "metadata": {},
     "output_type": "execute_result"
    }
   ],
   "source": [
    "a @ weigth"
   ]
  },
  {
   "cell_type": "code",
   "execution_count": 64,
   "metadata": {},
   "outputs": [
    {
     "data": {
      "text/plain": [
       "matrix([[88.4],\n",
       "        [83.1],\n",
       "        [89.2],\n",
       "        [89.5],\n",
       "        [95.6],\n",
       "        [82.3],\n",
       "        [93.4],\n",
       "        [81.8]])"
      ]
     },
     "execution_count": 64,
     "metadata": {},
     "output_type": "execute_result"
    }
   ],
   "source": [
    "np.matmul(a,weigth)"
   ]
  },
  {
   "cell_type": "code",
   "execution_count": 65,
   "metadata": {},
   "outputs": [
    {
     "data": {
      "text/plain": [
       "matrix([[88.4],\n",
       "        [83.1],\n",
       "        [89.2],\n",
       "        [89.5],\n",
       "        [95.6],\n",
       "        [82.3],\n",
       "        [93.4],\n",
       "        [81.8]])"
      ]
     },
     "execution_count": 65,
     "metadata": {},
     "output_type": "execute_result"
    }
   ],
   "source": [
    "np.dot(a,weigth)"
   ]
  },
  {
   "cell_type": "code",
   "execution_count": 66,
   "metadata": {},
   "outputs": [
    {
     "data": {
      "text/plain": [
       "matrix([[88.4],\n",
       "        [83.1],\n",
       "        [89.2],\n",
       "        [89.5],\n",
       "        [95.6],\n",
       "        [82.3],\n",
       "        [93.4],\n",
       "        [81.8]])"
      ]
     },
     "execution_count": 66,
     "metadata": {},
     "output_type": "execute_result"
    }
   ],
   "source": [
    "a.dot(weigth)"
   ]
  },
  {
   "cell_type": "markdown",
   "metadata": {},
   "source": [
    "### 合并与分割\n",
    "\n",
    "* np.hstack((a, b))\n",
    "* np.vstack((a, b))\n",
    "* np.concatenate((a, b), axis=0/1)"
   ]
  },
  {
   "cell_type": "code",
   "execution_count": 67,
   "metadata": {},
   "outputs": [],
   "source": [
    "a = np.array([\n",
    "    [1,2,3],\n",
    "    [4,5,6]\n",
    "])\n",
    "b = np.array([\n",
    "    [9,8,7],\n",
    "    [2,4,6]\n",
    "])"
   ]
  },
  {
   "cell_type": "code",
   "execution_count": 68,
   "metadata": {},
   "outputs": [
    {
     "data": {
      "text/plain": [
       "array([[1, 2, 3],\n",
       "       [4, 5, 6]])"
      ]
     },
     "execution_count": 68,
     "metadata": {},
     "output_type": "execute_result"
    }
   ],
   "source": [
    "a"
   ]
  },
  {
   "cell_type": "code",
   "execution_count": 69,
   "metadata": {},
   "outputs": [
    {
     "data": {
      "text/plain": [
       "array([[9, 8, 7],\n",
       "       [2, 4, 6]])"
      ]
     },
     "execution_count": 69,
     "metadata": {},
     "output_type": "execute_result"
    }
   ],
   "source": [
    "b"
   ]
  },
  {
   "cell_type": "code",
   "execution_count": 70,
   "metadata": {},
   "outputs": [
    {
     "data": {
      "text/plain": [
       "array([[1, 2, 3, 9, 8, 7],\n",
       "       [4, 5, 6, 2, 4, 6]])"
      ]
     },
     "execution_count": 70,
     "metadata": {},
     "output_type": "execute_result"
    }
   ],
   "source": [
    "np.hstack((a, b))"
   ]
  },
  {
   "cell_type": "code",
   "execution_count": 71,
   "metadata": {},
   "outputs": [
    {
     "data": {
      "text/plain": [
       "array([[1, 2, 3],\n",
       "       [4, 5, 6],\n",
       "       [9, 8, 7],\n",
       "       [2, 4, 6]])"
      ]
     },
     "execution_count": 71,
     "metadata": {},
     "output_type": "execute_result"
    }
   ],
   "source": [
    "np.vstack((a, b))"
   ]
  },
  {
   "cell_type": "code",
   "execution_count": 72,
   "metadata": {},
   "outputs": [
    {
     "data": {
      "text/plain": [
       "array([[1, 2, 3],\n",
       "       [4, 5, 6],\n",
       "       [9, 8, 7],\n",
       "       [2, 4, 6]])"
      ]
     },
     "execution_count": 72,
     "metadata": {},
     "output_type": "execute_result"
    }
   ],
   "source": [
    "np.concatenate((a, b), axis=0)"
   ]
  },
  {
   "cell_type": "code",
   "execution_count": 73,
   "metadata": {},
   "outputs": [
    {
     "data": {
      "text/plain": [
       "array([[1, 2, 3, 9, 8, 7],\n",
       "       [4, 5, 6, 2, 4, 6]])"
      ]
     },
     "execution_count": 73,
     "metadata": {},
     "output_type": "execute_result"
    }
   ],
   "source": [
    "np.concatenate((a, b), axis=1)"
   ]
  },
  {
   "cell_type": "code",
   "execution_count": 74,
   "metadata": {},
   "outputs": [
    {
     "data": {
      "text/plain": [
       "array([0, 1, 2, 3, 4, 5, 6, 7, 8])"
      ]
     },
     "execution_count": 74,
     "metadata": {},
     "output_type": "execute_result"
    }
   ],
   "source": [
    "a = np.arange(9)\n",
    "a"
   ]
  },
  {
   "cell_type": "code",
   "execution_count": 75,
   "metadata": {},
   "outputs": [
    {
     "data": {
      "text/plain": [
       "[array([0, 1, 2]), array([3, 4, 5]), array([6, 7, 8])]"
      ]
     },
     "execution_count": 75,
     "metadata": {},
     "output_type": "execute_result"
    }
   ],
   "source": [
    "np.split(a, 3)"
   ]
  },
  {
   "cell_type": "code",
   "execution_count": 76,
   "metadata": {},
   "outputs": [
    {
     "data": {
      "text/plain": [
       "[array([0, 1, 2, 3, 4]), array([5, 6, 7, 8])]"
      ]
     },
     "execution_count": 76,
     "metadata": {},
     "output_type": "execute_result"
    }
   ],
   "source": [
    "np.split(a, [5])"
   ]
  },
  {
   "cell_type": "code",
   "execution_count": 77,
   "metadata": {},
   "outputs": [
    {
     "data": {
      "text/plain": [
       "[array([0, 1, 2, 3, 4, 5]), array([6]), array([7]), array([8])]"
      ]
     },
     "execution_count": 77,
     "metadata": {},
     "output_type": "execute_result"
    }
   ],
   "source": [
    "np.split(a, [6, 7, 8])"
   ]
  },
  {
   "cell_type": "markdown",
   "metadata": {},
   "source": [
    "### IO操作与数据处理"
   ]
  },
  {
   "cell_type": "code",
   "execution_count": 79,
   "metadata": {},
   "outputs": [
    {
     "data": {
      "text/plain": [
       "array([[nan, nan, nan, nan],\n",
       "       [ 1., 89., 91., 99.],\n",
       "       [ 2., 70., nan, 79.],\n",
       "       [ 3., 82., 87., 88.]])"
      ]
     },
     "execution_count": 79,
     "metadata": {},
     "output_type": "execute_result"
    }
   ],
   "source": [
    "data = np.genfromtxt('./csv/test.csv', delimiter=',')\n",
    "data"
   ]
  },
  {
   "cell_type": "code",
   "execution_count": null,
   "metadata": {},
   "outputs": [],
   "source": [
    "type(data[0,0])"
   ]
  },
  {
   "cell_type": "code",
   "execution_count": null,
   "metadata": {},
   "outputs": [],
   "source": [
    "def fill_nan_by_column_mean(t):\n",
    "\tfor i in range(t.shape[1]):\n",
    "\t\t# 计算nan的个数\n",
    "\t\tnan_num = np.count_nonzero(t[:, i][t[:, i] != t[:, i]])\n",
    "\t\tif nan_num > 0:\n",
    "\t\t\tnow_col = t[:, i]\n",
    "\t\t\t# 求和\n",
    "\t\t\tnow_col_not_nan = now_col[np.isnan(now_col) == False].sum()\n",
    "\t\t\t# 和/个数\n",
    "\t\t\tnow_col_mean = now_col_not_nan / (t.shape[0] -nan_num)\n",
    "\t\t\t# 赋值给now_col\n",
    "\t\t\tnow_col[np.isnan(now_col)] = now_col_mean\n",
    "\t\t\t# 赋值给t，即更新t的当前列\n",
    "\t\t\tt[:, i] = now_col\n",
    "\treturn t"
   ]
  },
  {
   "cell_type": "code",
   "execution_count": null,
   "metadata": {},
   "outputs": [],
   "source": [
    "fill_nan_by_column_mean(data)"
   ]
  },
  {
   "cell_type": "code",
   "execution_count": null,
   "metadata": {},
   "outputs": [],
   "source": []
  }
 ],
 "metadata": {
  "kernelspec": {
   "display_name": "Python 3",
   "language": "python",
   "name": "python3"
  },
  "language_info": {
   "codemirror_mode": {
    "name": "ipython",
    "version": 3
   },
   "file_extension": ".py",
   "mimetype": "text/x-python",
   "name": "python",
   "nbconvert_exporter": "python",
   "pygments_lexer": "ipython3",
   "version": "3.7.6"
  }
 },
 "nbformat": 4,
 "nbformat_minor": 4
}
