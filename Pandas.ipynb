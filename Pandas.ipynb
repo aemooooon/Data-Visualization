{
 "cells": [
  {
   "cell_type": "markdown",
   "metadata": {},
   "source": [
    "# Pandas notes"
   ]
  },
  {
   "cell_type": "markdown",
   "metadata": {},
   "source": [
    "__核心数据结构__\n",
    "\n",
    "* DataFrame\n",
    "    - 结构：既有行索引，也有列索引的二维数组\n",
    "    - 属性：shape, index, columns, values, T\n",
    "    - 方法：head(int: option, default: 5), tail(int: option, default: 5)\n",
    "* Panel\n",
    "* Series"
   ]
  },
  {
   "cell_type": "code",
   "execution_count": 1,
   "metadata": {},
   "outputs": [
    {
     "data": {
      "text/plain": [
       "array([[ 0.42679981, -0.37613255, -0.47086564, -0.59217555,  1.30537074],\n",
       "       [ 0.5473258 ,  0.46478631,  0.50693531,  0.11838624, -3.50797743],\n",
       "       [-0.96142214,  0.17967774, -0.45275265,  0.61543552, -0.67689638],\n",
       "       [-1.51980898, -1.18034947, -0.68034494, -0.62815555,  0.26021774],\n",
       "       [ 1.58546417, -0.22666579,  1.52206672, -0.94350147,  0.86470934],\n",
       "       [-0.029246  ,  0.38237731,  0.89522276, -0.20201834, -0.23129087],\n",
       "       [ 0.70489694,  0.1120294 , -0.76210897,  0.32417275,  0.22755689],\n",
       "       [ 1.44168571, -1.62399626,  0.60840535,  0.90459007,  1.73805738],\n",
       "       [ 0.17217229, -1.15749101, -0.85693438,  0.80154078,  0.82844121],\n",
       "       [ 0.85955747,  0.76535524, -1.05474234,  1.1185876 ,  0.44696434]])"
      ]
     },
     "execution_count": 1,
     "metadata": {},
     "output_type": "execute_result"
    }
   ],
   "source": [
    "import numpy as np\n",
    "import pandas as pd\n",
    "import random\n",
    "\n",
    "stock_changes = np.random.normal(0, 1, (10, 5))\n",
    "stock_changes"
   ]
  },
  {
   "cell_type": "code",
   "execution_count": 2,
   "metadata": {},
   "outputs": [
    {
     "data": {
      "text/html": [
       "<div>\n",
       "<style scoped>\n",
       "    .dataframe tbody tr th:only-of-type {\n",
       "        vertical-align: middle;\n",
       "    }\n",
       "\n",
       "    .dataframe tbody tr th {\n",
       "        vertical-align: top;\n",
       "    }\n",
       "\n",
       "    .dataframe thead th {\n",
       "        text-align: right;\n",
       "    }\n",
       "</style>\n",
       "<table border=\"1\" class=\"dataframe\">\n",
       "  <thead>\n",
       "    <tr style=\"text-align: right;\">\n",
       "      <th></th>\n",
       "      <th>0</th>\n",
       "      <th>1</th>\n",
       "      <th>2</th>\n",
       "      <th>3</th>\n",
       "      <th>4</th>\n",
       "    </tr>\n",
       "  </thead>\n",
       "  <tbody>\n",
       "    <tr>\n",
       "      <th>0</th>\n",
       "      <td>0.426800</td>\n",
       "      <td>-0.376133</td>\n",
       "      <td>-0.470866</td>\n",
       "      <td>-0.592176</td>\n",
       "      <td>1.305371</td>\n",
       "    </tr>\n",
       "    <tr>\n",
       "      <th>1</th>\n",
       "      <td>0.547326</td>\n",
       "      <td>0.464786</td>\n",
       "      <td>0.506935</td>\n",
       "      <td>0.118386</td>\n",
       "      <td>-3.507977</td>\n",
       "    </tr>\n",
       "    <tr>\n",
       "      <th>2</th>\n",
       "      <td>-0.961422</td>\n",
       "      <td>0.179678</td>\n",
       "      <td>-0.452753</td>\n",
       "      <td>0.615436</td>\n",
       "      <td>-0.676896</td>\n",
       "    </tr>\n",
       "    <tr>\n",
       "      <th>3</th>\n",
       "      <td>-1.519809</td>\n",
       "      <td>-1.180349</td>\n",
       "      <td>-0.680345</td>\n",
       "      <td>-0.628156</td>\n",
       "      <td>0.260218</td>\n",
       "    </tr>\n",
       "    <tr>\n",
       "      <th>4</th>\n",
       "      <td>1.585464</td>\n",
       "      <td>-0.226666</td>\n",
       "      <td>1.522067</td>\n",
       "      <td>-0.943501</td>\n",
       "      <td>0.864709</td>\n",
       "    </tr>\n",
       "    <tr>\n",
       "      <th>5</th>\n",
       "      <td>-0.029246</td>\n",
       "      <td>0.382377</td>\n",
       "      <td>0.895223</td>\n",
       "      <td>-0.202018</td>\n",
       "      <td>-0.231291</td>\n",
       "    </tr>\n",
       "    <tr>\n",
       "      <th>6</th>\n",
       "      <td>0.704897</td>\n",
       "      <td>0.112029</td>\n",
       "      <td>-0.762109</td>\n",
       "      <td>0.324173</td>\n",
       "      <td>0.227557</td>\n",
       "    </tr>\n",
       "    <tr>\n",
       "      <th>7</th>\n",
       "      <td>1.441686</td>\n",
       "      <td>-1.623996</td>\n",
       "      <td>0.608405</td>\n",
       "      <td>0.904590</td>\n",
       "      <td>1.738057</td>\n",
       "    </tr>\n",
       "    <tr>\n",
       "      <th>8</th>\n",
       "      <td>0.172172</td>\n",
       "      <td>-1.157491</td>\n",
       "      <td>-0.856934</td>\n",
       "      <td>0.801541</td>\n",
       "      <td>0.828441</td>\n",
       "    </tr>\n",
       "    <tr>\n",
       "      <th>9</th>\n",
       "      <td>0.859557</td>\n",
       "      <td>0.765355</td>\n",
       "      <td>-1.054742</td>\n",
       "      <td>1.118588</td>\n",
       "      <td>0.446964</td>\n",
       "    </tr>\n",
       "  </tbody>\n",
       "</table>\n",
       "</div>"
      ],
      "text/plain": [
       "          0         1         2         3         4\n",
       "0  0.426800 -0.376133 -0.470866 -0.592176  1.305371\n",
       "1  0.547326  0.464786  0.506935  0.118386 -3.507977\n",
       "2 -0.961422  0.179678 -0.452753  0.615436 -0.676896\n",
       "3 -1.519809 -1.180349 -0.680345 -0.628156  0.260218\n",
       "4  1.585464 -0.226666  1.522067 -0.943501  0.864709\n",
       "5 -0.029246  0.382377  0.895223 -0.202018 -0.231291\n",
       "6  0.704897  0.112029 -0.762109  0.324173  0.227557\n",
       "7  1.441686 -1.623996  0.608405  0.904590  1.738057\n",
       "8  0.172172 -1.157491 -0.856934  0.801541  0.828441\n",
       "9  0.859557  0.765355 -1.054742  1.118588  0.446964"
      ]
     },
     "execution_count": 2,
     "metadata": {},
     "output_type": "execute_result"
    }
   ],
   "source": [
    "# Put numpy array to DataFrame of Pandas\n",
    "pd.DataFrame(stock_changes)"
   ]
  },
  {
   "cell_type": "code",
   "execution_count": 3,
   "metadata": {},
   "outputs": [
    {
     "data": {
      "text/html": [
       "<div>\n",
       "<style scoped>\n",
       "    .dataframe tbody tr th:only-of-type {\n",
       "        vertical-align: middle;\n",
       "    }\n",
       "\n",
       "    .dataframe tbody tr th {\n",
       "        vertical-align: top;\n",
       "    }\n",
       "\n",
       "    .dataframe thead th {\n",
       "        text-align: right;\n",
       "    }\n",
       "</style>\n",
       "<table border=\"1\" class=\"dataframe\">\n",
       "  <thead>\n",
       "    <tr style=\"text-align: right;\">\n",
       "      <th></th>\n",
       "      <th>0</th>\n",
       "      <th>1</th>\n",
       "      <th>2</th>\n",
       "      <th>3</th>\n",
       "      <th>4</th>\n",
       "    </tr>\n",
       "  </thead>\n",
       "  <tbody>\n",
       "    <tr>\n",
       "      <th>股票0</th>\n",
       "      <td>0.426800</td>\n",
       "      <td>-0.376133</td>\n",
       "      <td>-0.470866</td>\n",
       "      <td>-0.592176</td>\n",
       "      <td>1.305371</td>\n",
       "    </tr>\n",
       "    <tr>\n",
       "      <th>股票1</th>\n",
       "      <td>0.547326</td>\n",
       "      <td>0.464786</td>\n",
       "      <td>0.506935</td>\n",
       "      <td>0.118386</td>\n",
       "      <td>-3.507977</td>\n",
       "    </tr>\n",
       "    <tr>\n",
       "      <th>股票2</th>\n",
       "      <td>-0.961422</td>\n",
       "      <td>0.179678</td>\n",
       "      <td>-0.452753</td>\n",
       "      <td>0.615436</td>\n",
       "      <td>-0.676896</td>\n",
       "    </tr>\n",
       "    <tr>\n",
       "      <th>股票3</th>\n",
       "      <td>-1.519809</td>\n",
       "      <td>-1.180349</td>\n",
       "      <td>-0.680345</td>\n",
       "      <td>-0.628156</td>\n",
       "      <td>0.260218</td>\n",
       "    </tr>\n",
       "    <tr>\n",
       "      <th>股票4</th>\n",
       "      <td>1.585464</td>\n",
       "      <td>-0.226666</td>\n",
       "      <td>1.522067</td>\n",
       "      <td>-0.943501</td>\n",
       "      <td>0.864709</td>\n",
       "    </tr>\n",
       "    <tr>\n",
       "      <th>股票5</th>\n",
       "      <td>-0.029246</td>\n",
       "      <td>0.382377</td>\n",
       "      <td>0.895223</td>\n",
       "      <td>-0.202018</td>\n",
       "      <td>-0.231291</td>\n",
       "    </tr>\n",
       "    <tr>\n",
       "      <th>股票6</th>\n",
       "      <td>0.704897</td>\n",
       "      <td>0.112029</td>\n",
       "      <td>-0.762109</td>\n",
       "      <td>0.324173</td>\n",
       "      <td>0.227557</td>\n",
       "    </tr>\n",
       "    <tr>\n",
       "      <th>股票7</th>\n",
       "      <td>1.441686</td>\n",
       "      <td>-1.623996</td>\n",
       "      <td>0.608405</td>\n",
       "      <td>0.904590</td>\n",
       "      <td>1.738057</td>\n",
       "    </tr>\n",
       "    <tr>\n",
       "      <th>股票8</th>\n",
       "      <td>0.172172</td>\n",
       "      <td>-1.157491</td>\n",
       "      <td>-0.856934</td>\n",
       "      <td>0.801541</td>\n",
       "      <td>0.828441</td>\n",
       "    </tr>\n",
       "    <tr>\n",
       "      <th>股票9</th>\n",
       "      <td>0.859557</td>\n",
       "      <td>0.765355</td>\n",
       "      <td>-1.054742</td>\n",
       "      <td>1.118588</td>\n",
       "      <td>0.446964</td>\n",
       "    </tr>\n",
       "  </tbody>\n",
       "</table>\n",
       "</div>"
      ],
      "text/plain": [
       "            0         1         2         3         4\n",
       "股票0  0.426800 -0.376133 -0.470866 -0.592176  1.305371\n",
       "股票1  0.547326  0.464786  0.506935  0.118386 -3.507977\n",
       "股票2 -0.961422  0.179678 -0.452753  0.615436 -0.676896\n",
       "股票3 -1.519809 -1.180349 -0.680345 -0.628156  0.260218\n",
       "股票4  1.585464 -0.226666  1.522067 -0.943501  0.864709\n",
       "股票5 -0.029246  0.382377  0.895223 -0.202018 -0.231291\n",
       "股票6  0.704897  0.112029 -0.762109  0.324173  0.227557\n",
       "股票7  1.441686 -1.623996  0.608405  0.904590  1.738057\n",
       "股票8  0.172172 -1.157491 -0.856934  0.801541  0.828441\n",
       "股票9  0.859557  0.765355 -1.054742  1.118588  0.446964"
      ]
     },
     "execution_count": 3,
     "metadata": {},
     "output_type": "execute_result"
    }
   ],
   "source": [
    "# Add row name\n",
    "row_name = [\"股票{}\".format(i) for i in range(0,10)]\n",
    "pd.DataFrame(stock_changes, index=row_name)"
   ]
  },
  {
   "cell_type": "code",
   "execution_count": 4,
   "metadata": {},
   "outputs": [
    {
     "data": {
      "text/html": [
       "<div>\n",
       "<style scoped>\n",
       "    .dataframe tbody tr th:only-of-type {\n",
       "        vertical-align: middle;\n",
       "    }\n",
       "\n",
       "    .dataframe tbody tr th {\n",
       "        vertical-align: top;\n",
       "    }\n",
       "\n",
       "    .dataframe thead th {\n",
       "        text-align: right;\n",
       "    }\n",
       "</style>\n",
       "<table border=\"1\" class=\"dataframe\">\n",
       "  <thead>\n",
       "    <tr style=\"text-align: right;\">\n",
       "      <th></th>\n",
       "      <th>2020-01-01</th>\n",
       "      <th>2020-01-02</th>\n",
       "      <th>2020-01-03</th>\n",
       "      <th>2020-01-06</th>\n",
       "      <th>2020-01-07</th>\n",
       "    </tr>\n",
       "  </thead>\n",
       "  <tbody>\n",
       "    <tr>\n",
       "      <th>股票0</th>\n",
       "      <td>0.426800</td>\n",
       "      <td>-0.376133</td>\n",
       "      <td>-0.470866</td>\n",
       "      <td>-0.592176</td>\n",
       "      <td>1.305371</td>\n",
       "    </tr>\n",
       "    <tr>\n",
       "      <th>股票1</th>\n",
       "      <td>0.547326</td>\n",
       "      <td>0.464786</td>\n",
       "      <td>0.506935</td>\n",
       "      <td>0.118386</td>\n",
       "      <td>-3.507977</td>\n",
       "    </tr>\n",
       "    <tr>\n",
       "      <th>股票2</th>\n",
       "      <td>-0.961422</td>\n",
       "      <td>0.179678</td>\n",
       "      <td>-0.452753</td>\n",
       "      <td>0.615436</td>\n",
       "      <td>-0.676896</td>\n",
       "    </tr>\n",
       "    <tr>\n",
       "      <th>股票3</th>\n",
       "      <td>-1.519809</td>\n",
       "      <td>-1.180349</td>\n",
       "      <td>-0.680345</td>\n",
       "      <td>-0.628156</td>\n",
       "      <td>0.260218</td>\n",
       "    </tr>\n",
       "    <tr>\n",
       "      <th>股票4</th>\n",
       "      <td>1.585464</td>\n",
       "      <td>-0.226666</td>\n",
       "      <td>1.522067</td>\n",
       "      <td>-0.943501</td>\n",
       "      <td>0.864709</td>\n",
       "    </tr>\n",
       "    <tr>\n",
       "      <th>股票5</th>\n",
       "      <td>-0.029246</td>\n",
       "      <td>0.382377</td>\n",
       "      <td>0.895223</td>\n",
       "      <td>-0.202018</td>\n",
       "      <td>-0.231291</td>\n",
       "    </tr>\n",
       "    <tr>\n",
       "      <th>股票6</th>\n",
       "      <td>0.704897</td>\n",
       "      <td>0.112029</td>\n",
       "      <td>-0.762109</td>\n",
       "      <td>0.324173</td>\n",
       "      <td>0.227557</td>\n",
       "    </tr>\n",
       "    <tr>\n",
       "      <th>股票7</th>\n",
       "      <td>1.441686</td>\n",
       "      <td>-1.623996</td>\n",
       "      <td>0.608405</td>\n",
       "      <td>0.904590</td>\n",
       "      <td>1.738057</td>\n",
       "    </tr>\n",
       "    <tr>\n",
       "      <th>股票8</th>\n",
       "      <td>0.172172</td>\n",
       "      <td>-1.157491</td>\n",
       "      <td>-0.856934</td>\n",
       "      <td>0.801541</td>\n",
       "      <td>0.828441</td>\n",
       "    </tr>\n",
       "    <tr>\n",
       "      <th>股票9</th>\n",
       "      <td>0.859557</td>\n",
       "      <td>0.765355</td>\n",
       "      <td>-1.054742</td>\n",
       "      <td>1.118588</td>\n",
       "      <td>0.446964</td>\n",
       "    </tr>\n",
       "  </tbody>\n",
       "</table>\n",
       "</div>"
      ],
      "text/plain": [
       "     2020-01-01  2020-01-02  2020-01-03  2020-01-06  2020-01-07\n",
       "股票0    0.426800   -0.376133   -0.470866   -0.592176    1.305371\n",
       "股票1    0.547326    0.464786    0.506935    0.118386   -3.507977\n",
       "股票2   -0.961422    0.179678   -0.452753    0.615436   -0.676896\n",
       "股票3   -1.519809   -1.180349   -0.680345   -0.628156    0.260218\n",
       "股票4    1.585464   -0.226666    1.522067   -0.943501    0.864709\n",
       "股票5   -0.029246    0.382377    0.895223   -0.202018   -0.231291\n",
       "股票6    0.704897    0.112029   -0.762109    0.324173    0.227557\n",
       "股票7    1.441686   -1.623996    0.608405    0.904590    1.738057\n",
       "股票8    0.172172   -1.157491   -0.856934    0.801541    0.828441\n",
       "股票9    0.859557    0.765355   -1.054742    1.118588    0.446964"
      ]
     },
     "execution_count": 4,
     "metadata": {},
     "output_type": "execute_result"
    }
   ],
   "source": [
    "# Add columns name\n",
    "column_name = pd.date_range('20200101', periods=stock_changes.shape[1], freq='B')\n",
    "stock_changes = pd.DataFrame(stock_changes, index = row_name, columns = column_name)\n",
    "stock_changes"
   ]
  },
  {
   "cell_type": "markdown",
   "metadata": {},
   "source": [
    "### 属性"
   ]
  },
  {
   "cell_type": "code",
   "execution_count": 5,
   "metadata": {},
   "outputs": [
    {
     "data": {
      "text/plain": [
       "(10, 5)"
      ]
     },
     "execution_count": 5,
     "metadata": {},
     "output_type": "execute_result"
    }
   ],
   "source": [
    "stock_changes.shape"
   ]
  },
  {
   "cell_type": "code",
   "execution_count": 6,
   "metadata": {},
   "outputs": [
    {
     "data": {
      "text/plain": [
       "Index(['股票0', '股票1', '股票2', '股票3', '股票4', '股票5', '股票6', '股票7', '股票8', '股票9'], dtype='object')"
      ]
     },
     "execution_count": 6,
     "metadata": {},
     "output_type": "execute_result"
    }
   ],
   "source": [
    "stock_changes.index"
   ]
  },
  {
   "cell_type": "code",
   "execution_count": 7,
   "metadata": {},
   "outputs": [
    {
     "data": {
      "text/plain": [
       "array([[ 0.42679981, -0.37613255, -0.47086564, -0.59217555,  1.30537074],\n",
       "       [ 0.5473258 ,  0.46478631,  0.50693531,  0.11838624, -3.50797743],\n",
       "       [-0.96142214,  0.17967774, -0.45275265,  0.61543552, -0.67689638],\n",
       "       [-1.51980898, -1.18034947, -0.68034494, -0.62815555,  0.26021774],\n",
       "       [ 1.58546417, -0.22666579,  1.52206672, -0.94350147,  0.86470934],\n",
       "       [-0.029246  ,  0.38237731,  0.89522276, -0.20201834, -0.23129087],\n",
       "       [ 0.70489694,  0.1120294 , -0.76210897,  0.32417275,  0.22755689],\n",
       "       [ 1.44168571, -1.62399626,  0.60840535,  0.90459007,  1.73805738],\n",
       "       [ 0.17217229, -1.15749101, -0.85693438,  0.80154078,  0.82844121],\n",
       "       [ 0.85955747,  0.76535524, -1.05474234,  1.1185876 ,  0.44696434]])"
      ]
     },
     "execution_count": 7,
     "metadata": {},
     "output_type": "execute_result"
    }
   ],
   "source": [
    "stock_changes.values"
   ]
  },
  {
   "cell_type": "code",
   "execution_count": 8,
   "metadata": {},
   "outputs": [
    {
     "data": {
      "text/html": [
       "<div>\n",
       "<style scoped>\n",
       "    .dataframe tbody tr th:only-of-type {\n",
       "        vertical-align: middle;\n",
       "    }\n",
       "\n",
       "    .dataframe tbody tr th {\n",
       "        vertical-align: top;\n",
       "    }\n",
       "\n",
       "    .dataframe thead th {\n",
       "        text-align: right;\n",
       "    }\n",
       "</style>\n",
       "<table border=\"1\" class=\"dataframe\">\n",
       "  <thead>\n",
       "    <tr style=\"text-align: right;\">\n",
       "      <th></th>\n",
       "      <th>股票0</th>\n",
       "      <th>股票1</th>\n",
       "      <th>股票2</th>\n",
       "      <th>股票3</th>\n",
       "      <th>股票4</th>\n",
       "      <th>股票5</th>\n",
       "      <th>股票6</th>\n",
       "      <th>股票7</th>\n",
       "      <th>股票8</th>\n",
       "      <th>股票9</th>\n",
       "    </tr>\n",
       "  </thead>\n",
       "  <tbody>\n",
       "    <tr>\n",
       "      <th>2020-01-01</th>\n",
       "      <td>0.426800</td>\n",
       "      <td>0.547326</td>\n",
       "      <td>-0.961422</td>\n",
       "      <td>-1.519809</td>\n",
       "      <td>1.585464</td>\n",
       "      <td>-0.029246</td>\n",
       "      <td>0.704897</td>\n",
       "      <td>1.441686</td>\n",
       "      <td>0.172172</td>\n",
       "      <td>0.859557</td>\n",
       "    </tr>\n",
       "    <tr>\n",
       "      <th>2020-01-02</th>\n",
       "      <td>-0.376133</td>\n",
       "      <td>0.464786</td>\n",
       "      <td>0.179678</td>\n",
       "      <td>-1.180349</td>\n",
       "      <td>-0.226666</td>\n",
       "      <td>0.382377</td>\n",
       "      <td>0.112029</td>\n",
       "      <td>-1.623996</td>\n",
       "      <td>-1.157491</td>\n",
       "      <td>0.765355</td>\n",
       "    </tr>\n",
       "    <tr>\n",
       "      <th>2020-01-03</th>\n",
       "      <td>-0.470866</td>\n",
       "      <td>0.506935</td>\n",
       "      <td>-0.452753</td>\n",
       "      <td>-0.680345</td>\n",
       "      <td>1.522067</td>\n",
       "      <td>0.895223</td>\n",
       "      <td>-0.762109</td>\n",
       "      <td>0.608405</td>\n",
       "      <td>-0.856934</td>\n",
       "      <td>-1.054742</td>\n",
       "    </tr>\n",
       "    <tr>\n",
       "      <th>2020-01-06</th>\n",
       "      <td>-0.592176</td>\n",
       "      <td>0.118386</td>\n",
       "      <td>0.615436</td>\n",
       "      <td>-0.628156</td>\n",
       "      <td>-0.943501</td>\n",
       "      <td>-0.202018</td>\n",
       "      <td>0.324173</td>\n",
       "      <td>0.904590</td>\n",
       "      <td>0.801541</td>\n",
       "      <td>1.118588</td>\n",
       "    </tr>\n",
       "    <tr>\n",
       "      <th>2020-01-07</th>\n",
       "      <td>1.305371</td>\n",
       "      <td>-3.507977</td>\n",
       "      <td>-0.676896</td>\n",
       "      <td>0.260218</td>\n",
       "      <td>0.864709</td>\n",
       "      <td>-0.231291</td>\n",
       "      <td>0.227557</td>\n",
       "      <td>1.738057</td>\n",
       "      <td>0.828441</td>\n",
       "      <td>0.446964</td>\n",
       "    </tr>\n",
       "  </tbody>\n",
       "</table>\n",
       "</div>"
      ],
      "text/plain": [
       "                 股票0       股票1       股票2       股票3       股票4       股票5  \\\n",
       "2020-01-01  0.426800  0.547326 -0.961422 -1.519809  1.585464 -0.029246   \n",
       "2020-01-02 -0.376133  0.464786  0.179678 -1.180349 -0.226666  0.382377   \n",
       "2020-01-03 -0.470866  0.506935 -0.452753 -0.680345  1.522067  0.895223   \n",
       "2020-01-06 -0.592176  0.118386  0.615436 -0.628156 -0.943501 -0.202018   \n",
       "2020-01-07  1.305371 -3.507977 -0.676896  0.260218  0.864709 -0.231291   \n",
       "\n",
       "                 股票6       股票7       股票8       股票9  \n",
       "2020-01-01  0.704897  1.441686  0.172172  0.859557  \n",
       "2020-01-02  0.112029 -1.623996 -1.157491  0.765355  \n",
       "2020-01-03 -0.762109  0.608405 -0.856934 -1.054742  \n",
       "2020-01-06  0.324173  0.904590  0.801541  1.118588  \n",
       "2020-01-07  0.227557  1.738057  0.828441  0.446964  "
      ]
     },
     "execution_count": 8,
     "metadata": {},
     "output_type": "execute_result"
    }
   ],
   "source": [
    "stock_changes.T"
   ]
  },
  {
   "cell_type": "markdown",
   "metadata": {},
   "source": [
    "### 方法"
   ]
  },
  {
   "cell_type": "code",
   "execution_count": 9,
   "metadata": {},
   "outputs": [
    {
     "data": {
      "text/html": [
       "<div>\n",
       "<style scoped>\n",
       "    .dataframe tbody tr th:only-of-type {\n",
       "        vertical-align: middle;\n",
       "    }\n",
       "\n",
       "    .dataframe tbody tr th {\n",
       "        vertical-align: top;\n",
       "    }\n",
       "\n",
       "    .dataframe thead th {\n",
       "        text-align: right;\n",
       "    }\n",
       "</style>\n",
       "<table border=\"1\" class=\"dataframe\">\n",
       "  <thead>\n",
       "    <tr style=\"text-align: right;\">\n",
       "      <th></th>\n",
       "      <th>2020-01-01</th>\n",
       "      <th>2020-01-02</th>\n",
       "      <th>2020-01-03</th>\n",
       "      <th>2020-01-06</th>\n",
       "      <th>2020-01-07</th>\n",
       "    </tr>\n",
       "  </thead>\n",
       "  <tbody>\n",
       "    <tr>\n",
       "      <th>股票0</th>\n",
       "      <td>0.426800</td>\n",
       "      <td>-0.376133</td>\n",
       "      <td>-0.470866</td>\n",
       "      <td>-0.592176</td>\n",
       "      <td>1.305371</td>\n",
       "    </tr>\n",
       "    <tr>\n",
       "      <th>股票1</th>\n",
       "      <td>0.547326</td>\n",
       "      <td>0.464786</td>\n",
       "      <td>0.506935</td>\n",
       "      <td>0.118386</td>\n",
       "      <td>-3.507977</td>\n",
       "    </tr>\n",
       "    <tr>\n",
       "      <th>股票2</th>\n",
       "      <td>-0.961422</td>\n",
       "      <td>0.179678</td>\n",
       "      <td>-0.452753</td>\n",
       "      <td>0.615436</td>\n",
       "      <td>-0.676896</td>\n",
       "    </tr>\n",
       "    <tr>\n",
       "      <th>股票3</th>\n",
       "      <td>-1.519809</td>\n",
       "      <td>-1.180349</td>\n",
       "      <td>-0.680345</td>\n",
       "      <td>-0.628156</td>\n",
       "      <td>0.260218</td>\n",
       "    </tr>\n",
       "    <tr>\n",
       "      <th>股票4</th>\n",
       "      <td>1.585464</td>\n",
       "      <td>-0.226666</td>\n",
       "      <td>1.522067</td>\n",
       "      <td>-0.943501</td>\n",
       "      <td>0.864709</td>\n",
       "    </tr>\n",
       "  </tbody>\n",
       "</table>\n",
       "</div>"
      ],
      "text/plain": [
       "     2020-01-01  2020-01-02  2020-01-03  2020-01-06  2020-01-07\n",
       "股票0    0.426800   -0.376133   -0.470866   -0.592176    1.305371\n",
       "股票1    0.547326    0.464786    0.506935    0.118386   -3.507977\n",
       "股票2   -0.961422    0.179678   -0.452753    0.615436   -0.676896\n",
       "股票3   -1.519809   -1.180349   -0.680345   -0.628156    0.260218\n",
       "股票4    1.585464   -0.226666    1.522067   -0.943501    0.864709"
      ]
     },
     "execution_count": 9,
     "metadata": {},
     "output_type": "execute_result"
    }
   ],
   "source": [
    "stock_changes.head()"
   ]
  },
  {
   "cell_type": "code",
   "execution_count": 10,
   "metadata": {},
   "outputs": [
    {
     "data": {
      "text/html": [
       "<div>\n",
       "<style scoped>\n",
       "    .dataframe tbody tr th:only-of-type {\n",
       "        vertical-align: middle;\n",
       "    }\n",
       "\n",
       "    .dataframe tbody tr th {\n",
       "        vertical-align: top;\n",
       "    }\n",
       "\n",
       "    .dataframe thead th {\n",
       "        text-align: right;\n",
       "    }\n",
       "</style>\n",
       "<table border=\"1\" class=\"dataframe\">\n",
       "  <thead>\n",
       "    <tr style=\"text-align: right;\">\n",
       "      <th></th>\n",
       "      <th>2020-01-01</th>\n",
       "      <th>2020-01-02</th>\n",
       "      <th>2020-01-03</th>\n",
       "      <th>2020-01-06</th>\n",
       "      <th>2020-01-07</th>\n",
       "    </tr>\n",
       "  </thead>\n",
       "  <tbody>\n",
       "    <tr>\n",
       "      <th>股票7</th>\n",
       "      <td>1.441686</td>\n",
       "      <td>-1.623996</td>\n",
       "      <td>0.608405</td>\n",
       "      <td>0.904590</td>\n",
       "      <td>1.738057</td>\n",
       "    </tr>\n",
       "    <tr>\n",
       "      <th>股票8</th>\n",
       "      <td>0.172172</td>\n",
       "      <td>-1.157491</td>\n",
       "      <td>-0.856934</td>\n",
       "      <td>0.801541</td>\n",
       "      <td>0.828441</td>\n",
       "    </tr>\n",
       "    <tr>\n",
       "      <th>股票9</th>\n",
       "      <td>0.859557</td>\n",
       "      <td>0.765355</td>\n",
       "      <td>-1.054742</td>\n",
       "      <td>1.118588</td>\n",
       "      <td>0.446964</td>\n",
       "    </tr>\n",
       "  </tbody>\n",
       "</table>\n",
       "</div>"
      ],
      "text/plain": [
       "     2020-01-01  2020-01-02  2020-01-03  2020-01-06  2020-01-07\n",
       "股票7    1.441686   -1.623996    0.608405    0.904590    1.738057\n",
       "股票8    0.172172   -1.157491   -0.856934    0.801541    0.828441\n",
       "股票9    0.859557    0.765355   -1.054742    1.118588    0.446964"
      ]
     },
     "execution_count": 10,
     "metadata": {},
     "output_type": "execute_result"
    }
   ],
   "source": [
    "stock_changes.tail(3)"
   ]
  },
  {
   "cell_type": "markdown",
   "metadata": {},
   "source": [
    "### 修改行列索引值"
   ]
  },
  {
   "cell_type": "code",
   "execution_count": 11,
   "metadata": {},
   "outputs": [
    {
     "data": {
      "text/html": [
       "<div>\n",
       "<style scoped>\n",
       "    .dataframe tbody tr th:only-of-type {\n",
       "        vertical-align: middle;\n",
       "    }\n",
       "\n",
       "    .dataframe tbody tr th {\n",
       "        vertical-align: top;\n",
       "    }\n",
       "\n",
       "    .dataframe thead th {\n",
       "        text-align: right;\n",
       "    }\n",
       "</style>\n",
       "<table border=\"1\" class=\"dataframe\">\n",
       "  <thead>\n",
       "    <tr style=\"text-align: right;\">\n",
       "      <th></th>\n",
       "      <th>2020-01-01</th>\n",
       "      <th>2020-01-02</th>\n",
       "      <th>2020-01-03</th>\n",
       "      <th>2020-01-06</th>\n",
       "      <th>2020-01-07</th>\n",
       "    </tr>\n",
       "  </thead>\n",
       "  <tbody>\n",
       "    <tr>\n",
       "      <th>股票0</th>\n",
       "      <td>0.426800</td>\n",
       "      <td>-0.376133</td>\n",
       "      <td>-0.470866</td>\n",
       "      <td>-0.592176</td>\n",
       "      <td>1.305371</td>\n",
       "    </tr>\n",
       "    <tr>\n",
       "      <th>股票1</th>\n",
       "      <td>0.547326</td>\n",
       "      <td>0.464786</td>\n",
       "      <td>0.506935</td>\n",
       "      <td>0.118386</td>\n",
       "      <td>-3.507977</td>\n",
       "    </tr>\n",
       "    <tr>\n",
       "      <th>股票2</th>\n",
       "      <td>-0.961422</td>\n",
       "      <td>0.179678</td>\n",
       "      <td>-0.452753</td>\n",
       "      <td>0.615436</td>\n",
       "      <td>-0.676896</td>\n",
       "    </tr>\n",
       "  </tbody>\n",
       "</table>\n",
       "</div>"
      ],
      "text/plain": [
       "     2020-01-01  2020-01-02  2020-01-03  2020-01-06  2020-01-07\n",
       "股票0    0.426800   -0.376133   -0.470866   -0.592176    1.305371\n",
       "股票1    0.547326    0.464786    0.506935    0.118386   -3.507977\n",
       "股票2   -0.961422    0.179678   -0.452753    0.615436   -0.676896"
      ]
     },
     "execution_count": 11,
     "metadata": {},
     "output_type": "execute_result"
    }
   ],
   "source": [
    "stock_changes.head(3)"
   ]
  },
  {
   "cell_type": "code",
   "execution_count": 12,
   "metadata": {},
   "outputs": [
    {
     "data": {
      "text/plain": [
       "'股票2'"
      ]
     },
     "execution_count": 12,
     "metadata": {},
     "output_type": "execute_result"
    }
   ],
   "source": [
    "stock_changes.index[2]\n",
    "# stock_changes.index[2] = '股票220210' 不能像这样单独给某一个索引赋值,必须整体一起改"
   ]
  },
  {
   "cell_type": "code",
   "execution_count": 13,
   "metadata": {},
   "outputs": [
    {
     "data": {
      "text/html": [
       "<div>\n",
       "<style scoped>\n",
       "    .dataframe tbody tr th:only-of-type {\n",
       "        vertical-align: middle;\n",
       "    }\n",
       "\n",
       "    .dataframe tbody tr th {\n",
       "        vertical-align: top;\n",
       "    }\n",
       "\n",
       "    .dataframe thead th {\n",
       "        text-align: right;\n",
       "    }\n",
       "</style>\n",
       "<table border=\"1\" class=\"dataframe\">\n",
       "  <thead>\n",
       "    <tr style=\"text-align: right;\">\n",
       "      <th></th>\n",
       "      <th>2020-01-01</th>\n",
       "      <th>2020-01-02</th>\n",
       "      <th>2020-01-03</th>\n",
       "      <th>2020-01-06</th>\n",
       "      <th>2020-01-07</th>\n",
       "    </tr>\n",
       "  </thead>\n",
       "  <tbody>\n",
       "    <tr>\n",
       "      <th>股票~~~0</th>\n",
       "      <td>0.426800</td>\n",
       "      <td>-0.376133</td>\n",
       "      <td>-0.470866</td>\n",
       "      <td>-0.592176</td>\n",
       "      <td>1.305371</td>\n",
       "    </tr>\n",
       "    <tr>\n",
       "      <th>股票~~~1</th>\n",
       "      <td>0.547326</td>\n",
       "      <td>0.464786</td>\n",
       "      <td>0.506935</td>\n",
       "      <td>0.118386</td>\n",
       "      <td>-3.507977</td>\n",
       "    </tr>\n",
       "    <tr>\n",
       "      <th>股票~~~2</th>\n",
       "      <td>-0.961422</td>\n",
       "      <td>0.179678</td>\n",
       "      <td>-0.452753</td>\n",
       "      <td>0.615436</td>\n",
       "      <td>-0.676896</td>\n",
       "    </tr>\n",
       "  </tbody>\n",
       "</table>\n",
       "</div>"
      ],
      "text/plain": [
       "        2020-01-01  2020-01-02  2020-01-03  2020-01-06  2020-01-07\n",
       "股票~~~0    0.426800   -0.376133   -0.470866   -0.592176    1.305371\n",
       "股票~~~1    0.547326    0.464786    0.506935    0.118386   -3.507977\n",
       "股票~~~2   -0.961422    0.179678   -0.452753    0.615436   -0.676896"
      ]
     },
     "execution_count": 13,
     "metadata": {},
     "output_type": "execute_result"
    }
   ],
   "source": [
    "new_rowtitle = [\"股票~~~{}\".format(i) for i in range(10)] # 定义一组新的值\n",
    "stock_changes.index = new_rowtitle # 把新值赋给行索引\n",
    "stock_changes.head(3)"
   ]
  },
  {
   "cell_type": "markdown",
   "metadata": {},
   "source": [
    "### 重设索引"
   ]
  },
  {
   "cell_type": "code",
   "execution_count": 14,
   "metadata": {},
   "outputs": [
    {
     "data": {
      "text/html": [
       "<div>\n",
       "<style scoped>\n",
       "    .dataframe tbody tr th:only-of-type {\n",
       "        vertical-align: middle;\n",
       "    }\n",
       "\n",
       "    .dataframe tbody tr th {\n",
       "        vertical-align: top;\n",
       "    }\n",
       "\n",
       "    .dataframe thead th {\n",
       "        text-align: right;\n",
       "    }\n",
       "</style>\n",
       "<table border=\"1\" class=\"dataframe\">\n",
       "  <thead>\n",
       "    <tr style=\"text-align: right;\">\n",
       "      <th></th>\n",
       "      <th>index</th>\n",
       "      <th>2020-01-01 00:00:00</th>\n",
       "      <th>2020-01-02 00:00:00</th>\n",
       "      <th>2020-01-03 00:00:00</th>\n",
       "      <th>2020-01-06 00:00:00</th>\n",
       "      <th>2020-01-07 00:00:00</th>\n",
       "    </tr>\n",
       "  </thead>\n",
       "  <tbody>\n",
       "    <tr>\n",
       "      <th>0</th>\n",
       "      <td>股票~~~0</td>\n",
       "      <td>0.426800</td>\n",
       "      <td>-0.376133</td>\n",
       "      <td>-0.470866</td>\n",
       "      <td>-0.592176</td>\n",
       "      <td>1.305371</td>\n",
       "    </tr>\n",
       "    <tr>\n",
       "      <th>1</th>\n",
       "      <td>股票~~~1</td>\n",
       "      <td>0.547326</td>\n",
       "      <td>0.464786</td>\n",
       "      <td>0.506935</td>\n",
       "      <td>0.118386</td>\n",
       "      <td>-3.507977</td>\n",
       "    </tr>\n",
       "    <tr>\n",
       "      <th>2</th>\n",
       "      <td>股票~~~2</td>\n",
       "      <td>-0.961422</td>\n",
       "      <td>0.179678</td>\n",
       "      <td>-0.452753</td>\n",
       "      <td>0.615436</td>\n",
       "      <td>-0.676896</td>\n",
       "    </tr>\n",
       "    <tr>\n",
       "      <th>3</th>\n",
       "      <td>股票~~~3</td>\n",
       "      <td>-1.519809</td>\n",
       "      <td>-1.180349</td>\n",
       "      <td>-0.680345</td>\n",
       "      <td>-0.628156</td>\n",
       "      <td>0.260218</td>\n",
       "    </tr>\n",
       "    <tr>\n",
       "      <th>4</th>\n",
       "      <td>股票~~~4</td>\n",
       "      <td>1.585464</td>\n",
       "      <td>-0.226666</td>\n",
       "      <td>1.522067</td>\n",
       "      <td>-0.943501</td>\n",
       "      <td>0.864709</td>\n",
       "    </tr>\n",
       "    <tr>\n",
       "      <th>5</th>\n",
       "      <td>股票~~~5</td>\n",
       "      <td>-0.029246</td>\n",
       "      <td>0.382377</td>\n",
       "      <td>0.895223</td>\n",
       "      <td>-0.202018</td>\n",
       "      <td>-0.231291</td>\n",
       "    </tr>\n",
       "    <tr>\n",
       "      <th>6</th>\n",
       "      <td>股票~~~6</td>\n",
       "      <td>0.704897</td>\n",
       "      <td>0.112029</td>\n",
       "      <td>-0.762109</td>\n",
       "      <td>0.324173</td>\n",
       "      <td>0.227557</td>\n",
       "    </tr>\n",
       "    <tr>\n",
       "      <th>7</th>\n",
       "      <td>股票~~~7</td>\n",
       "      <td>1.441686</td>\n",
       "      <td>-1.623996</td>\n",
       "      <td>0.608405</td>\n",
       "      <td>0.904590</td>\n",
       "      <td>1.738057</td>\n",
       "    </tr>\n",
       "    <tr>\n",
       "      <th>8</th>\n",
       "      <td>股票~~~8</td>\n",
       "      <td>0.172172</td>\n",
       "      <td>-1.157491</td>\n",
       "      <td>-0.856934</td>\n",
       "      <td>0.801541</td>\n",
       "      <td>0.828441</td>\n",
       "    </tr>\n",
       "    <tr>\n",
       "      <th>9</th>\n",
       "      <td>股票~~~9</td>\n",
       "      <td>0.859557</td>\n",
       "      <td>0.765355</td>\n",
       "      <td>-1.054742</td>\n",
       "      <td>1.118588</td>\n",
       "      <td>0.446964</td>\n",
       "    </tr>\n",
       "  </tbody>\n",
       "</table>\n",
       "</div>"
      ],
      "text/plain": [
       "    index  2020-01-01 00:00:00  2020-01-02 00:00:00  2020-01-03 00:00:00  \\\n",
       "0  股票~~~0             0.426800            -0.376133            -0.470866   \n",
       "1  股票~~~1             0.547326             0.464786             0.506935   \n",
       "2  股票~~~2            -0.961422             0.179678            -0.452753   \n",
       "3  股票~~~3            -1.519809            -1.180349            -0.680345   \n",
       "4  股票~~~4             1.585464            -0.226666             1.522067   \n",
       "5  股票~~~5            -0.029246             0.382377             0.895223   \n",
       "6  股票~~~6             0.704897             0.112029            -0.762109   \n",
       "7  股票~~~7             1.441686            -1.623996             0.608405   \n",
       "8  股票~~~8             0.172172            -1.157491            -0.856934   \n",
       "9  股票~~~9             0.859557             0.765355            -1.054742   \n",
       "\n",
       "   2020-01-06 00:00:00  2020-01-07 00:00:00  \n",
       "0            -0.592176             1.305371  \n",
       "1             0.118386            -3.507977  \n",
       "2             0.615436            -0.676896  \n",
       "3            -0.628156             0.260218  \n",
       "4            -0.943501             0.864709  \n",
       "5            -0.202018            -0.231291  \n",
       "6             0.324173             0.227557  \n",
       "7             0.904590             1.738057  \n",
       "8             0.801541             0.828441  \n",
       "9             1.118588             0.446964  "
      ]
     },
     "execution_count": 14,
     "metadata": {},
     "output_type": "execute_result"
    }
   ],
   "source": [
    "stock_changes.reset_index() # drop 参数默认为 False，即保留原索引列作为一列数据存在"
   ]
  },
  {
   "cell_type": "code",
   "execution_count": 15,
   "metadata": {},
   "outputs": [
    {
     "data": {
      "text/html": [
       "<div>\n",
       "<style scoped>\n",
       "    .dataframe tbody tr th:only-of-type {\n",
       "        vertical-align: middle;\n",
       "    }\n",
       "\n",
       "    .dataframe tbody tr th {\n",
       "        vertical-align: top;\n",
       "    }\n",
       "\n",
       "    .dataframe thead th {\n",
       "        text-align: right;\n",
       "    }\n",
       "</style>\n",
       "<table border=\"1\" class=\"dataframe\">\n",
       "  <thead>\n",
       "    <tr style=\"text-align: right;\">\n",
       "      <th></th>\n",
       "      <th>2020-01-01</th>\n",
       "      <th>2020-01-02</th>\n",
       "      <th>2020-01-03</th>\n",
       "      <th>2020-01-06</th>\n",
       "      <th>2020-01-07</th>\n",
       "    </tr>\n",
       "  </thead>\n",
       "  <tbody>\n",
       "    <tr>\n",
       "      <th>0</th>\n",
       "      <td>0.426800</td>\n",
       "      <td>-0.376133</td>\n",
       "      <td>-0.470866</td>\n",
       "      <td>-0.592176</td>\n",
       "      <td>1.305371</td>\n",
       "    </tr>\n",
       "    <tr>\n",
       "      <th>1</th>\n",
       "      <td>0.547326</td>\n",
       "      <td>0.464786</td>\n",
       "      <td>0.506935</td>\n",
       "      <td>0.118386</td>\n",
       "      <td>-3.507977</td>\n",
       "    </tr>\n",
       "    <tr>\n",
       "      <th>2</th>\n",
       "      <td>-0.961422</td>\n",
       "      <td>0.179678</td>\n",
       "      <td>-0.452753</td>\n",
       "      <td>0.615436</td>\n",
       "      <td>-0.676896</td>\n",
       "    </tr>\n",
       "    <tr>\n",
       "      <th>3</th>\n",
       "      <td>-1.519809</td>\n",
       "      <td>-1.180349</td>\n",
       "      <td>-0.680345</td>\n",
       "      <td>-0.628156</td>\n",
       "      <td>0.260218</td>\n",
       "    </tr>\n",
       "    <tr>\n",
       "      <th>4</th>\n",
       "      <td>1.585464</td>\n",
       "      <td>-0.226666</td>\n",
       "      <td>1.522067</td>\n",
       "      <td>-0.943501</td>\n",
       "      <td>0.864709</td>\n",
       "    </tr>\n",
       "    <tr>\n",
       "      <th>5</th>\n",
       "      <td>-0.029246</td>\n",
       "      <td>0.382377</td>\n",
       "      <td>0.895223</td>\n",
       "      <td>-0.202018</td>\n",
       "      <td>-0.231291</td>\n",
       "    </tr>\n",
       "    <tr>\n",
       "      <th>6</th>\n",
       "      <td>0.704897</td>\n",
       "      <td>0.112029</td>\n",
       "      <td>-0.762109</td>\n",
       "      <td>0.324173</td>\n",
       "      <td>0.227557</td>\n",
       "    </tr>\n",
       "    <tr>\n",
       "      <th>7</th>\n",
       "      <td>1.441686</td>\n",
       "      <td>-1.623996</td>\n",
       "      <td>0.608405</td>\n",
       "      <td>0.904590</td>\n",
       "      <td>1.738057</td>\n",
       "    </tr>\n",
       "    <tr>\n",
       "      <th>8</th>\n",
       "      <td>0.172172</td>\n",
       "      <td>-1.157491</td>\n",
       "      <td>-0.856934</td>\n",
       "      <td>0.801541</td>\n",
       "      <td>0.828441</td>\n",
       "    </tr>\n",
       "    <tr>\n",
       "      <th>9</th>\n",
       "      <td>0.859557</td>\n",
       "      <td>0.765355</td>\n",
       "      <td>-1.054742</td>\n",
       "      <td>1.118588</td>\n",
       "      <td>0.446964</td>\n",
       "    </tr>\n",
       "  </tbody>\n",
       "</table>\n",
       "</div>"
      ],
      "text/plain": [
       "   2020-01-01  2020-01-02  2020-01-03  2020-01-06  2020-01-07\n",
       "0    0.426800   -0.376133   -0.470866   -0.592176    1.305371\n",
       "1    0.547326    0.464786    0.506935    0.118386   -3.507977\n",
       "2   -0.961422    0.179678   -0.452753    0.615436   -0.676896\n",
       "3   -1.519809   -1.180349   -0.680345   -0.628156    0.260218\n",
       "4    1.585464   -0.226666    1.522067   -0.943501    0.864709\n",
       "5   -0.029246    0.382377    0.895223   -0.202018   -0.231291\n",
       "6    0.704897    0.112029   -0.762109    0.324173    0.227557\n",
       "7    1.441686   -1.623996    0.608405    0.904590    1.738057\n",
       "8    0.172172   -1.157491   -0.856934    0.801541    0.828441\n",
       "9    0.859557    0.765355   -1.054742    1.118588    0.446964"
      ]
     },
     "execution_count": 15,
     "metadata": {},
     "output_type": "execute_result"
    }
   ],
   "source": [
    "stock_changes.reset_index(drop=True) # 若设置 drop 参数为True， 将删除原来的索引列"
   ]
  },
  {
   "cell_type": "code",
   "execution_count": 16,
   "metadata": {},
   "outputs": [
    {
     "data": {
      "text/plain": [
       "2020-01-01    3.105273\n",
       "2020-01-02    2.389352\n",
       "2020-01-03    2.576809\n",
       "2020-01-06    2.062089\n",
       "2020-01-07    5.246035\n",
       "Freq: B, dtype: float64"
      ]
     },
     "execution_count": 16,
     "metadata": {},
     "output_type": "execute_result"
    }
   ],
   "source": [
    "stock_changes.apply(lambda x: x.max() - x.min())"
   ]
  },
  {
   "cell_type": "markdown",
   "metadata": {},
   "source": [
    "### 设置新索引"
   ]
  },
  {
   "cell_type": "code",
   "execution_count": 17,
   "metadata": {},
   "outputs": [
    {
     "data": {
      "text/html": [
       "<div>\n",
       "<style scoped>\n",
       "    .dataframe tbody tr th:only-of-type {\n",
       "        vertical-align: middle;\n",
       "    }\n",
       "\n",
       "    .dataframe tbody tr th {\n",
       "        vertical-align: top;\n",
       "    }\n",
       "\n",
       "    .dataframe thead th {\n",
       "        text-align: right;\n",
       "    }\n",
       "</style>\n",
       "<table border=\"1\" class=\"dataframe\">\n",
       "  <thead>\n",
       "    <tr style=\"text-align: right;\">\n",
       "      <th></th>\n",
       "      <th>Month</th>\n",
       "      <th>Year</th>\n",
       "      <th>Sales</th>\n",
       "    </tr>\n",
       "  </thead>\n",
       "  <tbody>\n",
       "    <tr>\n",
       "      <th>0</th>\n",
       "      <td>1</td>\n",
       "      <td>2009</td>\n",
       "      <td>132</td>\n",
       "    </tr>\n",
       "    <tr>\n",
       "      <th>1</th>\n",
       "      <td>3</td>\n",
       "      <td>2012</td>\n",
       "      <td>188</td>\n",
       "    </tr>\n",
       "    <tr>\n",
       "      <th>2</th>\n",
       "      <td>5</td>\n",
       "      <td>2015</td>\n",
       "      <td>159</td>\n",
       "    </tr>\n",
       "    <tr>\n",
       "      <th>3</th>\n",
       "      <td>7</td>\n",
       "      <td>2019</td>\n",
       "      <td>137</td>\n",
       "    </tr>\n",
       "  </tbody>\n",
       "</table>\n",
       "</div>"
      ],
      "text/plain": [
       "   Month  Year  Sales\n",
       "0      1  2009    132\n",
       "1      3  2012    188\n",
       "2      5  2015    159\n",
       "3      7  2019    137"
      ]
     },
     "execution_count": 17,
     "metadata": {},
     "output_type": "execute_result"
    }
   ],
   "source": [
    "data = { 'Month': [1, 3, 5, 7],\n",
    "        'Year': [2009, 2012, 2015, 2019],\n",
    "        'Sales': [132, 188, 159, 137]\n",
    "}\n",
    "df = pd.DataFrame(data)\n",
    "df"
   ]
  },
  {
   "cell_type": "code",
   "execution_count": 18,
   "metadata": {},
   "outputs": [
    {
     "data": {
      "text/html": [
       "<div>\n",
       "<style scoped>\n",
       "    .dataframe tbody tr th:only-of-type {\n",
       "        vertical-align: middle;\n",
       "    }\n",
       "\n",
       "    .dataframe tbody tr th {\n",
       "        vertical-align: top;\n",
       "    }\n",
       "\n",
       "    .dataframe thead th {\n",
       "        text-align: right;\n",
       "    }\n",
       "</style>\n",
       "<table border=\"1\" class=\"dataframe\">\n",
       "  <thead>\n",
       "    <tr style=\"text-align: right;\">\n",
       "      <th></th>\n",
       "      <th>Month</th>\n",
       "      <th>Year</th>\n",
       "      <th>Sales</th>\n",
       "    </tr>\n",
       "    <tr>\n",
       "      <th>Month</th>\n",
       "      <th></th>\n",
       "      <th></th>\n",
       "      <th></th>\n",
       "    </tr>\n",
       "  </thead>\n",
       "  <tbody>\n",
       "    <tr>\n",
       "      <th>1</th>\n",
       "      <td>1</td>\n",
       "      <td>2009</td>\n",
       "      <td>132</td>\n",
       "    </tr>\n",
       "    <tr>\n",
       "      <th>3</th>\n",
       "      <td>3</td>\n",
       "      <td>2012</td>\n",
       "      <td>188</td>\n",
       "    </tr>\n",
       "    <tr>\n",
       "      <th>5</th>\n",
       "      <td>5</td>\n",
       "      <td>2015</td>\n",
       "      <td>159</td>\n",
       "    </tr>\n",
       "    <tr>\n",
       "      <th>7</th>\n",
       "      <td>7</td>\n",
       "      <td>2019</td>\n",
       "      <td>137</td>\n",
       "    </tr>\n",
       "  </tbody>\n",
       "</table>\n",
       "</div>"
      ],
      "text/plain": [
       "       Month  Year  Sales\n",
       "Month                    \n",
       "1          1  2009    132\n",
       "3          3  2012    188\n",
       "5          5  2015    159\n",
       "7          7  2019    137"
      ]
     },
     "execution_count": 18,
     "metadata": {},
     "output_type": "execute_result"
    }
   ],
   "source": [
    "df.set_index('Month', drop=False) # drop 为 False 保留原数据 "
   ]
  },
  {
   "cell_type": "code",
   "execution_count": 19,
   "metadata": {},
   "outputs": [
    {
     "data": {
      "text/html": [
       "<div>\n",
       "<style scoped>\n",
       "    .dataframe tbody tr th:only-of-type {\n",
       "        vertical-align: middle;\n",
       "    }\n",
       "\n",
       "    .dataframe tbody tr th {\n",
       "        vertical-align: top;\n",
       "    }\n",
       "\n",
       "    .dataframe thead th {\n",
       "        text-align: right;\n",
       "    }\n",
       "</style>\n",
       "<table border=\"1\" class=\"dataframe\">\n",
       "  <thead>\n",
       "    <tr style=\"text-align: right;\">\n",
       "      <th></th>\n",
       "      <th>Year</th>\n",
       "      <th>Sales</th>\n",
       "    </tr>\n",
       "    <tr>\n",
       "      <th>Month</th>\n",
       "      <th></th>\n",
       "      <th></th>\n",
       "    </tr>\n",
       "  </thead>\n",
       "  <tbody>\n",
       "    <tr>\n",
       "      <th>1</th>\n",
       "      <td>2009</td>\n",
       "      <td>132</td>\n",
       "    </tr>\n",
       "    <tr>\n",
       "      <th>3</th>\n",
       "      <td>2012</td>\n",
       "      <td>188</td>\n",
       "    </tr>\n",
       "    <tr>\n",
       "      <th>5</th>\n",
       "      <td>2015</td>\n",
       "      <td>159</td>\n",
       "    </tr>\n",
       "    <tr>\n",
       "      <th>7</th>\n",
       "      <td>2019</td>\n",
       "      <td>137</td>\n",
       "    </tr>\n",
       "  </tbody>\n",
       "</table>\n",
       "</div>"
      ],
      "text/plain": [
       "       Year  Sales\n",
       "Month             \n",
       "1      2009    132\n",
       "3      2012    188\n",
       "5      2015    159\n",
       "7      2019    137"
      ]
     },
     "execution_count": 19,
     "metadata": {},
     "output_type": "execute_result"
    }
   ],
   "source": [
    "df.set_index('Month', drop=True) # drop 为 True 删除原数据"
   ]
  },
  {
   "cell_type": "code",
   "execution_count": 20,
   "metadata": {},
   "outputs": [
    {
     "data": {
      "text/html": [
       "<div>\n",
       "<style scoped>\n",
       "    .dataframe tbody tr th:only-of-type {\n",
       "        vertical-align: middle;\n",
       "    }\n",
       "\n",
       "    .dataframe tbody tr th {\n",
       "        vertical-align: top;\n",
       "    }\n",
       "\n",
       "    .dataframe thead th {\n",
       "        text-align: right;\n",
       "    }\n",
       "</style>\n",
       "<table border=\"1\" class=\"dataframe\">\n",
       "  <thead>\n",
       "    <tr style=\"text-align: right;\">\n",
       "      <th></th>\n",
       "      <th></th>\n",
       "      <th>Sales</th>\n",
       "    </tr>\n",
       "    <tr>\n",
       "      <th>Year</th>\n",
       "      <th>Month</th>\n",
       "      <th></th>\n",
       "    </tr>\n",
       "  </thead>\n",
       "  <tbody>\n",
       "    <tr>\n",
       "      <th>2009</th>\n",
       "      <th>1</th>\n",
       "      <td>132</td>\n",
       "    </tr>\n",
       "    <tr>\n",
       "      <th>2012</th>\n",
       "      <th>3</th>\n",
       "      <td>188</td>\n",
       "    </tr>\n",
       "    <tr>\n",
       "      <th>2015</th>\n",
       "      <th>5</th>\n",
       "      <td>159</td>\n",
       "    </tr>\n",
       "    <tr>\n",
       "      <th>2019</th>\n",
       "      <th>7</th>\n",
       "      <td>137</td>\n",
       "    </tr>\n",
       "  </tbody>\n",
       "</table>\n",
       "</div>"
      ],
      "text/plain": [
       "            Sales\n",
       "Year Month       \n",
       "2009 1        132\n",
       "2012 3        188\n",
       "2015 5        159\n",
       "2019 7        137"
      ]
     },
     "execution_count": 20,
     "metadata": {},
     "output_type": "execute_result"
    }
   ],
   "source": [
    "## 设置多个索引\n",
    "df.set_index(['Year','Month'])"
   ]
  },
  {
   "cell_type": "code",
   "execution_count": 21,
   "metadata": {},
   "outputs": [
    {
     "data": {
      "text/plain": [
       "RangeIndex(start=0, stop=4, step=1)"
      ]
     },
     "execution_count": 21,
     "metadata": {},
     "output_type": "execute_result"
    }
   ],
   "source": [
    "df.index"
   ]
  },
  {
   "cell_type": "markdown",
   "metadata": {},
   "source": [
    "### Series 带索引的一维数组"
   ]
  },
  {
   "cell_type": "code",
   "execution_count": 22,
   "metadata": {},
   "outputs": [
    {
     "data": {
      "text/plain": [
       "2020-01-01    0.547326\n",
       "2020-01-02    0.464786\n",
       "2020-01-03    0.506935\n",
       "2020-01-06    0.118386\n",
       "2020-01-07   -3.507977\n",
       "Freq: B, Name: 股票~~~1, dtype: float64"
      ]
     },
     "execution_count": 22,
     "metadata": {},
     "output_type": "execute_result"
    }
   ],
   "source": [
    "sr = stock_changes.iloc[1, :]\n",
    "sr"
   ]
  },
  {
   "cell_type": "code",
   "execution_count": 23,
   "metadata": {},
   "outputs": [
    {
     "data": {
      "text/plain": [
       "DatetimeIndex(['2020-01-01', '2020-01-02', '2020-01-03', '2020-01-06',\n",
       "               '2020-01-07'],\n",
       "              dtype='datetime64[ns]', freq='B')"
      ]
     },
     "execution_count": 23,
     "metadata": {},
     "output_type": "execute_result"
    }
   ],
   "source": [
    "sr.index"
   ]
  },
  {
   "cell_type": "code",
   "execution_count": 24,
   "metadata": {},
   "outputs": [
    {
     "data": {
      "text/plain": [
       "array([ 0.5473258 ,  0.46478631,  0.50693531,  0.11838624, -3.50797743])"
      ]
     },
     "execution_count": 24,
     "metadata": {},
     "output_type": "execute_result"
    }
   ],
   "source": [
    "sr.values"
   ]
  },
  {
   "cell_type": "code",
   "execution_count": 25,
   "metadata": {},
   "outputs": [
    {
     "data": {
      "text/plain": [
       "numpy.ndarray"
      ]
     },
     "execution_count": 25,
     "metadata": {},
     "output_type": "execute_result"
    }
   ],
   "source": [
    "type(sr.values)"
   ]
  },
  {
   "cell_type": "code",
   "execution_count": 26,
   "metadata": {},
   "outputs": [],
   "source": [
    "a = np.arange(10) # a 是一个 numpy 一维数组\n",
    "sr = pd.Series(a) # 给 Series 之后自动加上了索引"
   ]
  },
  {
   "cell_type": "code",
   "execution_count": 27,
   "metadata": {},
   "outputs": [
    {
     "data": {
      "text/plain": [
       "0    0\n",
       "1    1\n",
       "2    2\n",
       "3    3\n",
       "4    4\n",
       "5    5\n",
       "6    6\n",
       "7    7\n",
       "8    8\n",
       "9    9\n",
       "dtype: int64"
      ]
     },
     "execution_count": 27,
     "metadata": {},
     "output_type": "execute_result"
    }
   ],
   "source": [
    "sr"
   ]
  },
  {
   "cell_type": "code",
   "execution_count": 28,
   "metadata": {},
   "outputs": [
    {
     "data": {
      "text/plain": [
       "RangeIndex(start=0, stop=10, step=1)"
      ]
     },
     "execution_count": 28,
     "metadata": {},
     "output_type": "execute_result"
    }
   ],
   "source": [
    "sr.index"
   ]
  },
  {
   "cell_type": "code",
   "execution_count": 29,
   "metadata": {},
   "outputs": [
    {
     "data": {
      "text/plain": [
       "array([0, 1, 2, 3, 4, 5, 6, 7, 8, 9])"
      ]
     },
     "execution_count": 29,
     "metadata": {},
     "output_type": "execute_result"
    }
   ],
   "source": [
    "sr.values"
   ]
  },
  {
   "cell_type": "code",
   "execution_count": 30,
   "metadata": {},
   "outputs": [
    {
     "data": {
      "text/plain": [
       "a    0\n",
       "b    1\n",
       "c    2\n",
       "dtype: int64"
      ]
     },
     "execution_count": 30,
     "metadata": {},
     "output_type": "execute_result"
    }
   ],
   "source": [
    "# 手动指定索引\n",
    "pd.Series(np.arange(3), index=['a', 'b', 'c'])"
   ]
  },
  {
   "cell_type": "code",
   "execution_count": 31,
   "metadata": {},
   "outputs": [
    {
     "data": {
      "text/plain": [
       "Python    888\n",
       "Java      197\n",
       "R         199\n",
       "dtype: int64"
      ]
     },
     "execution_count": 31,
     "metadata": {},
     "output_type": "execute_result"
    }
   ],
   "source": [
    "# Create Series from dictionary\n",
    "pd.Series({'Python': 888, 'Java': 197, 'R': 199})"
   ]
  },
  {
   "cell_type": "markdown",
   "metadata": {},
   "source": [
    "### 基本数据操作"
   ]
  },
  {
   "cell_type": "code",
   "execution_count": 32,
   "metadata": {},
   "outputs": [],
   "source": [
    "import pandas as pd\n",
    "import numpy as np\n",
    "\n",
    "df = pd.read_csv('./csv/DXYArea.csv')"
   ]
  },
  {
   "cell_type": "code",
   "execution_count": 33,
   "metadata": {},
   "outputs": [
    {
     "data": {
      "text/html": [
       "<div>\n",
       "<style scoped>\n",
       "    .dataframe tbody tr th:only-of-type {\n",
       "        vertical-align: middle;\n",
       "    }\n",
       "\n",
       "    .dataframe tbody tr th {\n",
       "        vertical-align: top;\n",
       "    }\n",
       "\n",
       "    .dataframe thead th {\n",
       "        text-align: right;\n",
       "    }\n",
       "</style>\n",
       "<table border=\"1\" class=\"dataframe\">\n",
       "  <thead>\n",
       "    <tr style=\"text-align: right;\">\n",
       "      <th></th>\n",
       "      <th>provinceName</th>\n",
       "      <th>province_confirmedCount</th>\n",
       "      <th>province_suspectedCount</th>\n",
       "      <th>province_curedCount</th>\n",
       "      <th>province_deadCount</th>\n",
       "      <th>updateTime</th>\n",
       "    </tr>\n",
       "  </thead>\n",
       "  <tbody>\n",
       "    <tr>\n",
       "      <th>0</th>\n",
       "      <td>吉林省</td>\n",
       "      <td>93</td>\n",
       "      <td>0</td>\n",
       "      <td>67</td>\n",
       "      <td>1</td>\n",
       "      <td>2020-02-27 20:42:21.431</td>\n",
       "    </tr>\n",
       "    <tr>\n",
       "      <th>1</th>\n",
       "      <td>吉林省</td>\n",
       "      <td>93</td>\n",
       "      <td>0</td>\n",
       "      <td>67</td>\n",
       "      <td>1</td>\n",
       "      <td>2020-02-27 20:42:21.431</td>\n",
       "    </tr>\n",
       "    <tr>\n",
       "      <th>2</th>\n",
       "      <td>吉林省</td>\n",
       "      <td>93</td>\n",
       "      <td>0</td>\n",
       "      <td>67</td>\n",
       "      <td>1</td>\n",
       "      <td>2020-02-27 20:42:21.431</td>\n",
       "    </tr>\n",
       "    <tr>\n",
       "      <th>3</th>\n",
       "      <td>吉林省</td>\n",
       "      <td>93</td>\n",
       "      <td>0</td>\n",
       "      <td>67</td>\n",
       "      <td>1</td>\n",
       "      <td>2020-02-27 20:42:21.431</td>\n",
       "    </tr>\n",
       "    <tr>\n",
       "      <th>4</th>\n",
       "      <td>吉林省</td>\n",
       "      <td>93</td>\n",
       "      <td>0</td>\n",
       "      <td>67</td>\n",
       "      <td>1</td>\n",
       "      <td>2020-02-27 20:42:21.431</td>\n",
       "    </tr>\n",
       "    <tr>\n",
       "      <th>...</th>\n",
       "      <td>...</td>\n",
       "      <td>...</td>\n",
       "      <td>...</td>\n",
       "      <td>...</td>\n",
       "      <td>...</td>\n",
       "      <td>...</td>\n",
       "    </tr>\n",
       "    <tr>\n",
       "      <th>57689</th>\n",
       "      <td>云南省</td>\n",
       "      <td>2</td>\n",
       "      <td>0</td>\n",
       "      <td>0</td>\n",
       "      <td>0</td>\n",
       "      <td>2020-01-24 03:50:31.353</td>\n",
       "    </tr>\n",
       "    <tr>\n",
       "      <th>57690</th>\n",
       "      <td>山西省</td>\n",
       "      <td>1</td>\n",
       "      <td>0</td>\n",
       "      <td>0</td>\n",
       "      <td>0</td>\n",
       "      <td>2020-01-24 03:50:31.353</td>\n",
       "    </tr>\n",
       "    <tr>\n",
       "      <th>57691</th>\n",
       "      <td>吉林省</td>\n",
       "      <td>1</td>\n",
       "      <td>0</td>\n",
       "      <td>0</td>\n",
       "      <td>0</td>\n",
       "      <td>2020-01-24 03:50:31.353</td>\n",
       "    </tr>\n",
       "    <tr>\n",
       "      <th>57692</th>\n",
       "      <td>河北省</td>\n",
       "      <td>1</td>\n",
       "      <td>0</td>\n",
       "      <td>0</td>\n",
       "      <td>1</td>\n",
       "      <td>2020-01-24 03:50:31.353</td>\n",
       "    </tr>\n",
       "    <tr>\n",
       "      <th>57693</th>\n",
       "      <td>宁夏回族自治区</td>\n",
       "      <td>1</td>\n",
       "      <td>0</td>\n",
       "      <td>0</td>\n",
       "      <td>0</td>\n",
       "      <td>2020-01-24 03:50:31.353</td>\n",
       "    </tr>\n",
       "  </tbody>\n",
       "</table>\n",
       "<p>57694 rows × 6 columns</p>\n",
       "</div>"
      ],
      "text/plain": [
       "      provinceName  province_confirmedCount  province_suspectedCount  \\\n",
       "0              吉林省                       93                        0   \n",
       "1              吉林省                       93                        0   \n",
       "2              吉林省                       93                        0   \n",
       "3              吉林省                       93                        0   \n",
       "4              吉林省                       93                        0   \n",
       "...            ...                      ...                      ...   \n",
       "57689          云南省                        2                        0   \n",
       "57690          山西省                        1                        0   \n",
       "57691          吉林省                        1                        0   \n",
       "57692          河北省                        1                        0   \n",
       "57693      宁夏回族自治区                        1                        0   \n",
       "\n",
       "       province_curedCount  province_deadCount               updateTime  \n",
       "0                       67                   1  2020-02-27 20:42:21.431  \n",
       "1                       67                   1  2020-02-27 20:42:21.431  \n",
       "2                       67                   1  2020-02-27 20:42:21.431  \n",
       "3                       67                   1  2020-02-27 20:42:21.431  \n",
       "4                       67                   1  2020-02-27 20:42:21.431  \n",
       "...                    ...                 ...                      ...  \n",
       "57689                    0                   0  2020-01-24 03:50:31.353  \n",
       "57690                    0                   0  2020-01-24 03:50:31.353  \n",
       "57691                    0                   0  2020-01-24 03:50:31.353  \n",
       "57692                    0                   1  2020-01-24 03:50:31.353  \n",
       "57693                    0                   0  2020-01-24 03:50:31.353  \n",
       "\n",
       "[57694 rows x 6 columns]"
      ]
     },
     "execution_count": 33,
     "metadata": {},
     "output_type": "execute_result"
    }
   ],
   "source": [
    "df = df.drop(['provinceEnglishName','cityName','province_zipCode','cityEnglishName','city_zipCode','city_confirmedCount','city_suspectedCount','city_curedCount','city_deadCount'], axis=1)\n",
    "df"
   ]
  },
  {
   "cell_type": "markdown",
   "metadata": {},
   "source": [
    "### 索引操作\n",
    "* 直接索引\n",
    "* 按名字索引\n",
    "* 按数字索引\n",
    "* 组合索引"
   ]
  },
  {
   "cell_type": "code",
   "execution_count": 34,
   "metadata": {},
   "outputs": [
    {
     "data": {
      "text/plain": [
       "2"
      ]
     },
     "execution_count": 34,
     "metadata": {},
     "output_type": "execute_result"
    }
   ],
   "source": [
    "df[\"province_confirmedCount\"][57689] # 直接索引必须先列名后行名"
   ]
  },
  {
   "cell_type": "code",
   "execution_count": 35,
   "metadata": {},
   "outputs": [
    {
     "data": {
      "text/plain": [
       "2"
      ]
     },
     "execution_count": 35,
     "metadata": {},
     "output_type": "execute_result"
    }
   ],
   "source": [
    "df.loc[57689][\"province_confirmedCount\"] # 按名字索引 先行后列\n",
    "df.loc[57689, \"province_confirmedCount\"] # 也可以这样写"
   ]
  },
  {
   "cell_type": "code",
   "execution_count": 36,
   "metadata": {},
   "outputs": [
    {
     "data": {
      "text/html": [
       "<div>\n",
       "<style scoped>\n",
       "    .dataframe tbody tr th:only-of-type {\n",
       "        vertical-align: middle;\n",
       "    }\n",
       "\n",
       "    .dataframe tbody tr th {\n",
       "        vertical-align: top;\n",
       "    }\n",
       "\n",
       "    .dataframe thead th {\n",
       "        text-align: right;\n",
       "    }\n",
       "</style>\n",
       "<table border=\"1\" class=\"dataframe\">\n",
       "  <thead>\n",
       "    <tr style=\"text-align: right;\">\n",
       "      <th></th>\n",
       "      <th>provinceName</th>\n",
       "      <th>province_confirmedCount</th>\n",
       "      <th>province_suspectedCount</th>\n",
       "      <th>province_curedCount</th>\n",
       "      <th>province_deadCount</th>\n",
       "      <th>updateTime</th>\n",
       "    </tr>\n",
       "  </thead>\n",
       "  <tbody>\n",
       "    <tr>\n",
       "      <th>0</th>\n",
       "      <td>吉林省</td>\n",
       "      <td>93</td>\n",
       "      <td>0</td>\n",
       "      <td>67</td>\n",
       "      <td>1</td>\n",
       "      <td>2020-02-27 20:42:21.431</td>\n",
       "    </tr>\n",
       "    <tr>\n",
       "      <th>1</th>\n",
       "      <td>吉林省</td>\n",
       "      <td>93</td>\n",
       "      <td>0</td>\n",
       "      <td>67</td>\n",
       "      <td>1</td>\n",
       "      <td>2020-02-27 20:42:21.431</td>\n",
       "    </tr>\n",
       "    <tr>\n",
       "      <th>2</th>\n",
       "      <td>吉林省</td>\n",
       "      <td>93</td>\n",
       "      <td>0</td>\n",
       "      <td>67</td>\n",
       "      <td>1</td>\n",
       "      <td>2020-02-27 20:42:21.431</td>\n",
       "    </tr>\n",
       "    <tr>\n",
       "      <th>3</th>\n",
       "      <td>吉林省</td>\n",
       "      <td>93</td>\n",
       "      <td>0</td>\n",
       "      <td>67</td>\n",
       "      <td>1</td>\n",
       "      <td>2020-02-27 20:42:21.431</td>\n",
       "    </tr>\n",
       "    <tr>\n",
       "      <th>4</th>\n",
       "      <td>吉林省</td>\n",
       "      <td>93</td>\n",
       "      <td>0</td>\n",
       "      <td>67</td>\n",
       "      <td>1</td>\n",
       "      <td>2020-02-27 20:42:21.431</td>\n",
       "    </tr>\n",
       "    <tr>\n",
       "      <th>5</th>\n",
       "      <td>吉林省</td>\n",
       "      <td>93</td>\n",
       "      <td>0</td>\n",
       "      <td>67</td>\n",
       "      <td>1</td>\n",
       "      <td>2020-02-27 20:42:21.431</td>\n",
       "    </tr>\n",
       "    <tr>\n",
       "      <th>6</th>\n",
       "      <td>吉林省</td>\n",
       "      <td>93</td>\n",
       "      <td>0</td>\n",
       "      <td>67</td>\n",
       "      <td>1</td>\n",
       "      <td>2020-02-27 20:42:21.431</td>\n",
       "    </tr>\n",
       "    <tr>\n",
       "      <th>7</th>\n",
       "      <td>吉林省</td>\n",
       "      <td>93</td>\n",
       "      <td>0</td>\n",
       "      <td>67</td>\n",
       "      <td>1</td>\n",
       "      <td>2020-02-27 20:42:21.431</td>\n",
       "    </tr>\n",
       "    <tr>\n",
       "      <th>8</th>\n",
       "      <td>吉林省</td>\n",
       "      <td>93</td>\n",
       "      <td>0</td>\n",
       "      <td>67</td>\n",
       "      <td>1</td>\n",
       "      <td>2020-02-27 20:42:21.431</td>\n",
       "    </tr>\n",
       "    <tr>\n",
       "      <th>9</th>\n",
       "      <td>吉林省</td>\n",
       "      <td>93</td>\n",
       "      <td>0</td>\n",
       "      <td>67</td>\n",
       "      <td>1</td>\n",
       "      <td>2020-02-27 20:42:21.431</td>\n",
       "    </tr>\n",
       "  </tbody>\n",
       "</table>\n",
       "</div>"
      ],
      "text/plain": [
       "  provinceName  province_confirmedCount  province_suspectedCount  \\\n",
       "0          吉林省                       93                        0   \n",
       "1          吉林省                       93                        0   \n",
       "2          吉林省                       93                        0   \n",
       "3          吉林省                       93                        0   \n",
       "4          吉林省                       93                        0   \n",
       "5          吉林省                       93                        0   \n",
       "6          吉林省                       93                        0   \n",
       "7          吉林省                       93                        0   \n",
       "8          吉林省                       93                        0   \n",
       "9          吉林省                       93                        0   \n",
       "\n",
       "   province_curedCount  province_deadCount               updateTime  \n",
       "0                   67                   1  2020-02-27 20:42:21.431  \n",
       "1                   67                   1  2020-02-27 20:42:21.431  \n",
       "2                   67                   1  2020-02-27 20:42:21.431  \n",
       "3                   67                   1  2020-02-27 20:42:21.431  \n",
       "4                   67                   1  2020-02-27 20:42:21.431  \n",
       "5                   67                   1  2020-02-27 20:42:21.431  \n",
       "6                   67                   1  2020-02-27 20:42:21.431  \n",
       "7                   67                   1  2020-02-27 20:42:21.431  \n",
       "8                   67                   1  2020-02-27 20:42:21.431  \n",
       "9                   67                   1  2020-02-27 20:42:21.431  "
      ]
     },
     "execution_count": 36,
     "metadata": {},
     "output_type": "execute_result"
    }
   ],
   "source": [
    "df.iloc[:10, :] # 按数字索引"
   ]
  },
  {
   "cell_type": "code",
   "execution_count": 37,
   "metadata": {},
   "outputs": [
    {
     "data": {
      "text/html": [
       "<div>\n",
       "<style scoped>\n",
       "    .dataframe tbody tr th:only-of-type {\n",
       "        vertical-align: middle;\n",
       "    }\n",
       "\n",
       "    .dataframe tbody tr th {\n",
       "        vertical-align: top;\n",
       "    }\n",
       "\n",
       "    .dataframe thead th {\n",
       "        text-align: right;\n",
       "    }\n",
       "</style>\n",
       "<table border=\"1\" class=\"dataframe\">\n",
       "  <thead>\n",
       "    <tr style=\"text-align: right;\">\n",
       "      <th></th>\n",
       "      <th>provinceName</th>\n",
       "      <th>province_confirmedCount</th>\n",
       "      <th>province_curedCount</th>\n",
       "    </tr>\n",
       "  </thead>\n",
       "  <tbody>\n",
       "    <tr>\n",
       "      <th>0</th>\n",
       "      <td>吉林省</td>\n",
       "      <td>93</td>\n",
       "      <td>67</td>\n",
       "    </tr>\n",
       "    <tr>\n",
       "      <th>1</th>\n",
       "      <td>吉林省</td>\n",
       "      <td>93</td>\n",
       "      <td>67</td>\n",
       "    </tr>\n",
       "    <tr>\n",
       "      <th>2</th>\n",
       "      <td>吉林省</td>\n",
       "      <td>93</td>\n",
       "      <td>67</td>\n",
       "    </tr>\n",
       "    <tr>\n",
       "      <th>3</th>\n",
       "      <td>吉林省</td>\n",
       "      <td>93</td>\n",
       "      <td>67</td>\n",
       "    </tr>\n",
       "  </tbody>\n",
       "</table>\n",
       "</div>"
      ],
      "text/plain": [
       "  provinceName  province_confirmedCount  province_curedCount\n",
       "0          吉林省                       93                   67\n",
       "1          吉林省                       93                   67\n",
       "2          吉林省                       93                   67\n",
       "3          吉林省                       93                   67"
      ]
     },
     "execution_count": 37,
     "metadata": {},
     "output_type": "execute_result"
    }
   ],
   "source": [
    "df.loc[df.index[0:4], ['provinceName', 'province_confirmedCount', 'province_curedCount']] # 组合索引"
   ]
  },
  {
   "cell_type": "code",
   "execution_count": 38,
   "metadata": {},
   "outputs": [
    {
     "data": {
      "text/html": [
       "<div>\n",
       "<style scoped>\n",
       "    .dataframe tbody tr th:only-of-type {\n",
       "        vertical-align: middle;\n",
       "    }\n",
       "\n",
       "    .dataframe tbody tr th {\n",
       "        vertical-align: top;\n",
       "    }\n",
       "\n",
       "    .dataframe thead th {\n",
       "        text-align: right;\n",
       "    }\n",
       "</style>\n",
       "<table border=\"1\" class=\"dataframe\">\n",
       "  <thead>\n",
       "    <tr style=\"text-align: right;\">\n",
       "      <th></th>\n",
       "      <th>provinceName</th>\n",
       "      <th>province_confirmedCount</th>\n",
       "      <th>province_curedCount</th>\n",
       "    </tr>\n",
       "  </thead>\n",
       "  <tbody>\n",
       "    <tr>\n",
       "      <th>0</th>\n",
       "      <td>吉林省</td>\n",
       "      <td>93</td>\n",
       "      <td>67</td>\n",
       "    </tr>\n",
       "    <tr>\n",
       "      <th>1</th>\n",
       "      <td>吉林省</td>\n",
       "      <td>93</td>\n",
       "      <td>67</td>\n",
       "    </tr>\n",
       "    <tr>\n",
       "      <th>2</th>\n",
       "      <td>吉林省</td>\n",
       "      <td>93</td>\n",
       "      <td>67</td>\n",
       "    </tr>\n",
       "    <tr>\n",
       "      <th>3</th>\n",
       "      <td>吉林省</td>\n",
       "      <td>93</td>\n",
       "      <td>67</td>\n",
       "    </tr>\n",
       "  </tbody>\n",
       "</table>\n",
       "</div>"
      ],
      "text/plain": [
       "  provinceName  province_confirmedCount  province_curedCount\n",
       "0          吉林省                       93                   67\n",
       "1          吉林省                       93                   67\n",
       "2          吉林省                       93                   67\n",
       "3          吉林省                       93                   67"
      ]
     },
     "execution_count": 38,
     "metadata": {},
     "output_type": "execute_result"
    }
   ],
   "source": [
    "df.iloc[0:4, df.columns.get_indexer(['provinceName', 'province_confirmedCount', 'province_curedCount'])] # 组合索引"
   ]
  },
  {
   "cell_type": "code",
   "execution_count": 39,
   "metadata": {},
   "outputs": [
    {
     "data": {
      "text/plain": [
       "0            吉林省\n",
       "1            吉林省\n",
       "2            吉林省\n",
       "3            吉林省\n",
       "4            吉林省\n",
       "          ...   \n",
       "57689        云南省\n",
       "57690        山西省\n",
       "57691        吉林省\n",
       "57692        河北省\n",
       "57693    宁夏回族自治区\n",
       "Name: provinceName, Length: 57694, dtype: object"
      ]
     },
     "execution_count": 39,
     "metadata": {},
     "output_type": "execute_result"
    }
   ],
   "source": [
    "df.provinceName"
   ]
  },
  {
   "cell_type": "markdown",
   "metadata": {},
   "source": [
    "### 排序"
   ]
  },
  {
   "cell_type": "code",
   "execution_count": 40,
   "metadata": {},
   "outputs": [
    {
     "data": {
      "text/html": [
       "<div>\n",
       "<style scoped>\n",
       "    .dataframe tbody tr th:only-of-type {\n",
       "        vertical-align: middle;\n",
       "    }\n",
       "\n",
       "    .dataframe tbody tr th {\n",
       "        vertical-align: top;\n",
       "    }\n",
       "\n",
       "    .dataframe thead th {\n",
       "        text-align: right;\n",
       "    }\n",
       "</style>\n",
       "<table border=\"1\" class=\"dataframe\">\n",
       "  <thead>\n",
       "    <tr style=\"text-align: right;\">\n",
       "      <th></th>\n",
       "      <th>provinceName</th>\n",
       "      <th>province_confirmedCount</th>\n",
       "      <th>province_suspectedCount</th>\n",
       "      <th>province_curedCount</th>\n",
       "      <th>province_deadCount</th>\n",
       "      <th>updateTime</th>\n",
       "    </tr>\n",
       "  </thead>\n",
       "  <tbody>\n",
       "    <tr>\n",
       "      <th>106</th>\n",
       "      <td>湖北省</td>\n",
       "      <td>65596</td>\n",
       "      <td>0</td>\n",
       "      <td>23383</td>\n",
       "      <td>2641</td>\n",
       "      <td>2020-02-27 20:07:32.954</td>\n",
       "    </tr>\n",
       "    <tr>\n",
       "      <th>107</th>\n",
       "      <td>湖北省</td>\n",
       "      <td>65596</td>\n",
       "      <td>0</td>\n",
       "      <td>23383</td>\n",
       "      <td>2641</td>\n",
       "      <td>2020-02-27 20:07:32.954</td>\n",
       "    </tr>\n",
       "    <tr>\n",
       "      <th>108</th>\n",
       "      <td>湖北省</td>\n",
       "      <td>65596</td>\n",
       "      <td>0</td>\n",
       "      <td>23383</td>\n",
       "      <td>2641</td>\n",
       "      <td>2020-02-27 20:07:32.954</td>\n",
       "    </tr>\n",
       "    <tr>\n",
       "      <th>109</th>\n",
       "      <td>湖北省</td>\n",
       "      <td>65596</td>\n",
       "      <td>0</td>\n",
       "      <td>23383</td>\n",
       "      <td>2641</td>\n",
       "      <td>2020-02-27 20:07:32.954</td>\n",
       "    </tr>\n",
       "    <tr>\n",
       "      <th>110</th>\n",
       "      <td>湖北省</td>\n",
       "      <td>65596</td>\n",
       "      <td>0</td>\n",
       "      <td>23383</td>\n",
       "      <td>2641</td>\n",
       "      <td>2020-02-27 20:07:32.954</td>\n",
       "    </tr>\n",
       "  </tbody>\n",
       "</table>\n",
       "</div>"
      ],
      "text/plain": [
       "    provinceName  province_confirmedCount  province_suspectedCount  \\\n",
       "106          湖北省                    65596                        0   \n",
       "107          湖北省                    65596                        0   \n",
       "108          湖北省                    65596                        0   \n",
       "109          湖北省                    65596                        0   \n",
       "110          湖北省                    65596                        0   \n",
       "\n",
       "     province_curedCount  province_deadCount               updateTime  \n",
       "106                23383                2641  2020-02-27 20:07:32.954  \n",
       "107                23383                2641  2020-02-27 20:07:32.954  \n",
       "108                23383                2641  2020-02-27 20:07:32.954  \n",
       "109                23383                2641  2020-02-27 20:07:32.954  \n",
       "110                23383                2641  2020-02-27 20:07:32.954  "
      ]
     },
     "execution_count": 40,
     "metadata": {},
     "output_type": "execute_result"
    }
   ],
   "source": [
    "df.sort_values(by=[\"province_confirmedCount\",\"province_suspectedCount\"], ascending=False).head() # 值排序"
   ]
  },
  {
   "cell_type": "code",
   "execution_count": 41,
   "metadata": {},
   "outputs": [
    {
     "data": {
      "text/html": [
       "<div>\n",
       "<style scoped>\n",
       "    .dataframe tbody tr th:only-of-type {\n",
       "        vertical-align: middle;\n",
       "    }\n",
       "\n",
       "    .dataframe tbody tr th {\n",
       "        vertical-align: top;\n",
       "    }\n",
       "\n",
       "    .dataframe thead th {\n",
       "        text-align: right;\n",
       "    }\n",
       "</style>\n",
       "<table border=\"1\" class=\"dataframe\">\n",
       "  <thead>\n",
       "    <tr style=\"text-align: right;\">\n",
       "      <th></th>\n",
       "      <th>provinceName</th>\n",
       "      <th>province_confirmedCount</th>\n",
       "      <th>province_suspectedCount</th>\n",
       "      <th>province_curedCount</th>\n",
       "      <th>province_deadCount</th>\n",
       "      <th>updateTime</th>\n",
       "    </tr>\n",
       "  </thead>\n",
       "  <tbody>\n",
       "    <tr>\n",
       "      <th>0</th>\n",
       "      <td>吉林省</td>\n",
       "      <td>93</td>\n",
       "      <td>0</td>\n",
       "      <td>67</td>\n",
       "      <td>1</td>\n",
       "      <td>2020-02-27 20:42:21.431</td>\n",
       "    </tr>\n",
       "    <tr>\n",
       "      <th>1</th>\n",
       "      <td>吉林省</td>\n",
       "      <td>93</td>\n",
       "      <td>0</td>\n",
       "      <td>67</td>\n",
       "      <td>1</td>\n",
       "      <td>2020-02-27 20:42:21.431</td>\n",
       "    </tr>\n",
       "    <tr>\n",
       "      <th>2</th>\n",
       "      <td>吉林省</td>\n",
       "      <td>93</td>\n",
       "      <td>0</td>\n",
       "      <td>67</td>\n",
       "      <td>1</td>\n",
       "      <td>2020-02-27 20:42:21.431</td>\n",
       "    </tr>\n",
       "    <tr>\n",
       "      <th>3</th>\n",
       "      <td>吉林省</td>\n",
       "      <td>93</td>\n",
       "      <td>0</td>\n",
       "      <td>67</td>\n",
       "      <td>1</td>\n",
       "      <td>2020-02-27 20:42:21.431</td>\n",
       "    </tr>\n",
       "    <tr>\n",
       "      <th>4</th>\n",
       "      <td>吉林省</td>\n",
       "      <td>93</td>\n",
       "      <td>0</td>\n",
       "      <td>67</td>\n",
       "      <td>1</td>\n",
       "      <td>2020-02-27 20:42:21.431</td>\n",
       "    </tr>\n",
       "    <tr>\n",
       "      <th>...</th>\n",
       "      <td>...</td>\n",
       "      <td>...</td>\n",
       "      <td>...</td>\n",
       "      <td>...</td>\n",
       "      <td>...</td>\n",
       "      <td>...</td>\n",
       "    </tr>\n",
       "    <tr>\n",
       "      <th>57689</th>\n",
       "      <td>云南省</td>\n",
       "      <td>2</td>\n",
       "      <td>0</td>\n",
       "      <td>0</td>\n",
       "      <td>0</td>\n",
       "      <td>2020-01-24 03:50:31.353</td>\n",
       "    </tr>\n",
       "    <tr>\n",
       "      <th>57690</th>\n",
       "      <td>山西省</td>\n",
       "      <td>1</td>\n",
       "      <td>0</td>\n",
       "      <td>0</td>\n",
       "      <td>0</td>\n",
       "      <td>2020-01-24 03:50:31.353</td>\n",
       "    </tr>\n",
       "    <tr>\n",
       "      <th>57691</th>\n",
       "      <td>吉林省</td>\n",
       "      <td>1</td>\n",
       "      <td>0</td>\n",
       "      <td>0</td>\n",
       "      <td>0</td>\n",
       "      <td>2020-01-24 03:50:31.353</td>\n",
       "    </tr>\n",
       "    <tr>\n",
       "      <th>57692</th>\n",
       "      <td>河北省</td>\n",
       "      <td>1</td>\n",
       "      <td>0</td>\n",
       "      <td>0</td>\n",
       "      <td>1</td>\n",
       "      <td>2020-01-24 03:50:31.353</td>\n",
       "    </tr>\n",
       "    <tr>\n",
       "      <th>57693</th>\n",
       "      <td>宁夏回族自治区</td>\n",
       "      <td>1</td>\n",
       "      <td>0</td>\n",
       "      <td>0</td>\n",
       "      <td>0</td>\n",
       "      <td>2020-01-24 03:50:31.353</td>\n",
       "    </tr>\n",
       "  </tbody>\n",
       "</table>\n",
       "<p>57694 rows × 6 columns</p>\n",
       "</div>"
      ],
      "text/plain": [
       "      provinceName  province_confirmedCount  province_suspectedCount  \\\n",
       "0              吉林省                       93                        0   \n",
       "1              吉林省                       93                        0   \n",
       "2              吉林省                       93                        0   \n",
       "3              吉林省                       93                        0   \n",
       "4              吉林省                       93                        0   \n",
       "...            ...                      ...                      ...   \n",
       "57689          云南省                        2                        0   \n",
       "57690          山西省                        1                        0   \n",
       "57691          吉林省                        1                        0   \n",
       "57692          河北省                        1                        0   \n",
       "57693      宁夏回族自治区                        1                        0   \n",
       "\n",
       "       province_curedCount  province_deadCount               updateTime  \n",
       "0                       67                   1  2020-02-27 20:42:21.431  \n",
       "1                       67                   1  2020-02-27 20:42:21.431  \n",
       "2                       67                   1  2020-02-27 20:42:21.431  \n",
       "3                       67                   1  2020-02-27 20:42:21.431  \n",
       "4                       67                   1  2020-02-27 20:42:21.431  \n",
       "...                    ...                 ...                      ...  \n",
       "57689                    0                   0  2020-01-24 03:50:31.353  \n",
       "57690                    0                   0  2020-01-24 03:50:31.353  \n",
       "57691                    0                   0  2020-01-24 03:50:31.353  \n",
       "57692                    0                   1  2020-01-24 03:50:31.353  \n",
       "57693                    0                   0  2020-01-24 03:50:31.353  \n",
       "\n",
       "[57694 rows x 6 columns]"
      ]
     },
     "execution_count": 41,
     "metadata": {},
     "output_type": "execute_result"
    }
   ],
   "source": [
    "df.sort_index() # 索引排序"
   ]
  },
  {
   "cell_type": "markdown",
   "metadata": {},
   "source": [
    "### 运算\n",
    "\n",
    "* 算术运算\n",
    "* 逻辑运算\n",
    "* 统计运算\n",
    "* 自定义运算"
   ]
  },
  {
   "cell_type": "code",
   "execution_count": 42,
   "metadata": {},
   "outputs": [
    {
     "data": {
      "text/plain": [
       "0    1000\n",
       "1    1000\n",
       "2    1000\n",
       "3    1000\n",
       "4    1000\n",
       "Name: province_suspectedCount, dtype: int64"
      ]
     },
     "execution_count": 42,
     "metadata": {},
     "output_type": "execute_result"
    }
   ],
   "source": [
    "# 算术运算符\n",
    "df['province_suspectedCount'] + 1000\n",
    "df['province_suspectedCount'].add(1000).head()"
   ]
  },
  {
   "cell_type": "code",
   "execution_count": 43,
   "metadata": {},
   "outputs": [
    {
     "data": {
      "text/plain": [
       "0         True\n",
       "1         True\n",
       "2         True\n",
       "3         True\n",
       "4         True\n",
       "         ...  \n",
       "57689     True\n",
       "57690    False\n",
       "57691    False\n",
       "57692    False\n",
       "57693    False\n",
       "Name: province_confirmedCount, Length: 57694, dtype: bool"
      ]
     },
     "execution_count": 43,
     "metadata": {},
     "output_type": "execute_result"
    }
   ],
   "source": [
    "# 逻辑运算符\n",
    "df['province_confirmedCount'] > 1"
   ]
  },
  {
   "cell_type": "code",
   "execution_count": 44,
   "metadata": {},
   "outputs": [
    {
     "data": {
      "text/html": [
       "<div>\n",
       "<style scoped>\n",
       "    .dataframe tbody tr th:only-of-type {\n",
       "        vertical-align: middle;\n",
       "    }\n",
       "\n",
       "    .dataframe tbody tr th {\n",
       "        vertical-align: top;\n",
       "    }\n",
       "\n",
       "    .dataframe thead th {\n",
       "        text-align: right;\n",
       "    }\n",
       "</style>\n",
       "<table border=\"1\" class=\"dataframe\">\n",
       "  <thead>\n",
       "    <tr style=\"text-align: right;\">\n",
       "      <th></th>\n",
       "      <th>provinceName</th>\n",
       "      <th>province_confirmedCount</th>\n",
       "      <th>province_suspectedCount</th>\n",
       "      <th>province_curedCount</th>\n",
       "      <th>province_deadCount</th>\n",
       "      <th>updateTime</th>\n",
       "    </tr>\n",
       "  </thead>\n",
       "  <tbody>\n",
       "    <tr>\n",
       "      <th>5126</th>\n",
       "      <td>西藏自治区</td>\n",
       "      <td>1</td>\n",
       "      <td>0</td>\n",
       "      <td>1</td>\n",
       "      <td>0</td>\n",
       "      <td>2020-02-23 19:19:02.938</td>\n",
       "    </tr>\n",
       "    <tr>\n",
       "      <th>24014</th>\n",
       "      <td>西藏自治区</td>\n",
       "      <td>1</td>\n",
       "      <td>0</td>\n",
       "      <td>1</td>\n",
       "      <td>0</td>\n",
       "      <td>2020-02-13 00:19:12.057</td>\n",
       "    </tr>\n",
       "    <tr>\n",
       "      <th>25000</th>\n",
       "      <td>西藏自治区</td>\n",
       "      <td>1</td>\n",
       "      <td>0</td>\n",
       "      <td>1</td>\n",
       "      <td>0</td>\n",
       "      <td>2020-02-12 14:42:37.332</td>\n",
       "    </tr>\n",
       "    <tr>\n",
       "      <th>43004</th>\n",
       "      <td>西藏自治区</td>\n",
       "      <td>1</td>\n",
       "      <td>0</td>\n",
       "      <td>0</td>\n",
       "      <td>0</td>\n",
       "      <td>2020-02-04 16:11:25.779</td>\n",
       "    </tr>\n",
       "    <tr>\n",
       "      <th>46122</th>\n",
       "      <td>西藏自治区</td>\n",
       "      <td>1</td>\n",
       "      <td>0</td>\n",
       "      <td>0</td>\n",
       "      <td>0</td>\n",
       "      <td>2020-02-02 16:18:43.725</td>\n",
       "    </tr>\n",
       "    <tr>\n",
       "      <th>55883</th>\n",
       "      <td>青海省</td>\n",
       "      <td>1</td>\n",
       "      <td>0</td>\n",
       "      <td>0</td>\n",
       "      <td>0</td>\n",
       "      <td>2020-01-25 17:48:41.638</td>\n",
       "    </tr>\n",
       "    <tr>\n",
       "      <th>57049</th>\n",
       "      <td>宁夏回族自治区</td>\n",
       "      <td>1</td>\n",
       "      <td>0</td>\n",
       "      <td>0</td>\n",
       "      <td>0</td>\n",
       "      <td>2020-01-24 12:59:17.891</td>\n",
       "    </tr>\n",
       "    <tr>\n",
       "      <th>57050</th>\n",
       "      <td>宁夏回族自治区</td>\n",
       "      <td>1</td>\n",
       "      <td>0</td>\n",
       "      <td>0</td>\n",
       "      <td>0</td>\n",
       "      <td>2020-01-24 12:59:17.891</td>\n",
       "    </tr>\n",
       "    <tr>\n",
       "      <th>57142</th>\n",
       "      <td>内蒙古自治区</td>\n",
       "      <td>1</td>\n",
       "      <td>0</td>\n",
       "      <td>0</td>\n",
       "      <td>0</td>\n",
       "      <td>2020-01-24 11:42:45.046</td>\n",
       "    </tr>\n",
       "    <tr>\n",
       "      <th>57690</th>\n",
       "      <td>山西省</td>\n",
       "      <td>1</td>\n",
       "      <td>0</td>\n",
       "      <td>0</td>\n",
       "      <td>0</td>\n",
       "      <td>2020-01-24 03:50:31.353</td>\n",
       "    </tr>\n",
       "    <tr>\n",
       "      <th>57691</th>\n",
       "      <td>吉林省</td>\n",
       "      <td>1</td>\n",
       "      <td>0</td>\n",
       "      <td>0</td>\n",
       "      <td>0</td>\n",
       "      <td>2020-01-24 03:50:31.353</td>\n",
       "    </tr>\n",
       "    <tr>\n",
       "      <th>57692</th>\n",
       "      <td>河北省</td>\n",
       "      <td>1</td>\n",
       "      <td>0</td>\n",
       "      <td>0</td>\n",
       "      <td>1</td>\n",
       "      <td>2020-01-24 03:50:31.353</td>\n",
       "    </tr>\n",
       "    <tr>\n",
       "      <th>57693</th>\n",
       "      <td>宁夏回族自治区</td>\n",
       "      <td>1</td>\n",
       "      <td>0</td>\n",
       "      <td>0</td>\n",
       "      <td>0</td>\n",
       "      <td>2020-01-24 03:50:31.353</td>\n",
       "    </tr>\n",
       "  </tbody>\n",
       "</table>\n",
       "</div>"
      ],
      "text/plain": [
       "      provinceName  province_confirmedCount  province_suspectedCount  \\\n",
       "5126         西藏自治区                        1                        0   \n",
       "24014        西藏自治区                        1                        0   \n",
       "25000        西藏自治区                        1                        0   \n",
       "43004        西藏自治区                        1                        0   \n",
       "46122        西藏自治区                        1                        0   \n",
       "55883          青海省                        1                        0   \n",
       "57049      宁夏回族自治区                        1                        0   \n",
       "57050      宁夏回族自治区                        1                        0   \n",
       "57142       内蒙古自治区                        1                        0   \n",
       "57690          山西省                        1                        0   \n",
       "57691          吉林省                        1                        0   \n",
       "57692          河北省                        1                        0   \n",
       "57693      宁夏回族自治区                        1                        0   \n",
       "\n",
       "       province_curedCount  province_deadCount               updateTime  \n",
       "5126                     1                   0  2020-02-23 19:19:02.938  \n",
       "24014                    1                   0  2020-02-13 00:19:12.057  \n",
       "25000                    1                   0  2020-02-12 14:42:37.332  \n",
       "43004                    0                   0  2020-02-04 16:11:25.779  \n",
       "46122                    0                   0  2020-02-02 16:18:43.725  \n",
       "55883                    0                   0  2020-01-25 17:48:41.638  \n",
       "57049                    0                   0  2020-01-24 12:59:17.891  \n",
       "57050                    0                   0  2020-01-24 12:59:17.891  \n",
       "57142                    0                   0  2020-01-24 11:42:45.046  \n",
       "57690                    0                   0  2020-01-24 03:50:31.353  \n",
       "57691                    0                   0  2020-01-24 03:50:31.353  \n",
       "57692                    0                   1  2020-01-24 03:50:31.353  \n",
       "57693                    0                   0  2020-01-24 03:50:31.353  "
      ]
     },
     "execution_count": 44,
     "metadata": {},
     "output_type": "execute_result"
    }
   ],
   "source": [
    "df[df['province_confirmedCount'] < 2]"
   ]
  },
  {
   "cell_type": "code",
   "execution_count": 45,
   "metadata": {},
   "outputs": [
    {
     "data": {
      "text/plain": [
       "0        False\n",
       "1        False\n",
       "2        False\n",
       "3        False\n",
       "4        False\n",
       "         ...  \n",
       "57689    False\n",
       "57690     True\n",
       "57691     True\n",
       "57692    False\n",
       "57693     True\n",
       "Length: 57694, dtype: bool"
      ]
     },
     "execution_count": 45,
     "metadata": {},
     "output_type": "execute_result"
    }
   ],
   "source": [
    "(df['province_confirmedCount'] < 2) & (df['province_deadCount'] < 1)"
   ]
  },
  {
   "cell_type": "code",
   "execution_count": 46,
   "metadata": {},
   "outputs": [
    {
     "data": {
      "text/html": [
       "<div>\n",
       "<style scoped>\n",
       "    .dataframe tbody tr th:only-of-type {\n",
       "        vertical-align: middle;\n",
       "    }\n",
       "\n",
       "    .dataframe tbody tr th {\n",
       "        vertical-align: top;\n",
       "    }\n",
       "\n",
       "    .dataframe thead th {\n",
       "        text-align: right;\n",
       "    }\n",
       "</style>\n",
       "<table border=\"1\" class=\"dataframe\">\n",
       "  <thead>\n",
       "    <tr style=\"text-align: right;\">\n",
       "      <th></th>\n",
       "      <th>provinceName</th>\n",
       "      <th>province_confirmedCount</th>\n",
       "      <th>province_suspectedCount</th>\n",
       "      <th>province_curedCount</th>\n",
       "      <th>province_deadCount</th>\n",
       "      <th>updateTime</th>\n",
       "    </tr>\n",
       "  </thead>\n",
       "  <tbody>\n",
       "    <tr>\n",
       "      <th>5126</th>\n",
       "      <td>西藏自治区</td>\n",
       "      <td>1</td>\n",
       "      <td>0</td>\n",
       "      <td>1</td>\n",
       "      <td>0</td>\n",
       "      <td>2020-02-23 19:19:02.938</td>\n",
       "    </tr>\n",
       "    <tr>\n",
       "      <th>24014</th>\n",
       "      <td>西藏自治区</td>\n",
       "      <td>1</td>\n",
       "      <td>0</td>\n",
       "      <td>1</td>\n",
       "      <td>0</td>\n",
       "      <td>2020-02-13 00:19:12.057</td>\n",
       "    </tr>\n",
       "    <tr>\n",
       "      <th>25000</th>\n",
       "      <td>西藏自治区</td>\n",
       "      <td>1</td>\n",
       "      <td>0</td>\n",
       "      <td>1</td>\n",
       "      <td>0</td>\n",
       "      <td>2020-02-12 14:42:37.332</td>\n",
       "    </tr>\n",
       "    <tr>\n",
       "      <th>43004</th>\n",
       "      <td>西藏自治区</td>\n",
       "      <td>1</td>\n",
       "      <td>0</td>\n",
       "      <td>0</td>\n",
       "      <td>0</td>\n",
       "      <td>2020-02-04 16:11:25.779</td>\n",
       "    </tr>\n",
       "    <tr>\n",
       "      <th>46122</th>\n",
       "      <td>西藏自治区</td>\n",
       "      <td>1</td>\n",
       "      <td>0</td>\n",
       "      <td>0</td>\n",
       "      <td>0</td>\n",
       "      <td>2020-02-02 16:18:43.725</td>\n",
       "    </tr>\n",
       "    <tr>\n",
       "      <th>55883</th>\n",
       "      <td>青海省</td>\n",
       "      <td>1</td>\n",
       "      <td>0</td>\n",
       "      <td>0</td>\n",
       "      <td>0</td>\n",
       "      <td>2020-01-25 17:48:41.638</td>\n",
       "    </tr>\n",
       "    <tr>\n",
       "      <th>57049</th>\n",
       "      <td>宁夏回族自治区</td>\n",
       "      <td>1</td>\n",
       "      <td>0</td>\n",
       "      <td>0</td>\n",
       "      <td>0</td>\n",
       "      <td>2020-01-24 12:59:17.891</td>\n",
       "    </tr>\n",
       "    <tr>\n",
       "      <th>57050</th>\n",
       "      <td>宁夏回族自治区</td>\n",
       "      <td>1</td>\n",
       "      <td>0</td>\n",
       "      <td>0</td>\n",
       "      <td>0</td>\n",
       "      <td>2020-01-24 12:59:17.891</td>\n",
       "    </tr>\n",
       "    <tr>\n",
       "      <th>57142</th>\n",
       "      <td>内蒙古自治区</td>\n",
       "      <td>1</td>\n",
       "      <td>0</td>\n",
       "      <td>0</td>\n",
       "      <td>0</td>\n",
       "      <td>2020-01-24 11:42:45.046</td>\n",
       "    </tr>\n",
       "    <tr>\n",
       "      <th>57690</th>\n",
       "      <td>山西省</td>\n",
       "      <td>1</td>\n",
       "      <td>0</td>\n",
       "      <td>0</td>\n",
       "      <td>0</td>\n",
       "      <td>2020-01-24 03:50:31.353</td>\n",
       "    </tr>\n",
       "    <tr>\n",
       "      <th>57691</th>\n",
       "      <td>吉林省</td>\n",
       "      <td>1</td>\n",
       "      <td>0</td>\n",
       "      <td>0</td>\n",
       "      <td>0</td>\n",
       "      <td>2020-01-24 03:50:31.353</td>\n",
       "    </tr>\n",
       "    <tr>\n",
       "      <th>57693</th>\n",
       "      <td>宁夏回族自治区</td>\n",
       "      <td>1</td>\n",
       "      <td>0</td>\n",
       "      <td>0</td>\n",
       "      <td>0</td>\n",
       "      <td>2020-01-24 03:50:31.353</td>\n",
       "    </tr>\n",
       "  </tbody>\n",
       "</table>\n",
       "</div>"
      ],
      "text/plain": [
       "      provinceName  province_confirmedCount  province_suspectedCount  \\\n",
       "5126         西藏自治区                        1                        0   \n",
       "24014        西藏自治区                        1                        0   \n",
       "25000        西藏自治区                        1                        0   \n",
       "43004        西藏自治区                        1                        0   \n",
       "46122        西藏自治区                        1                        0   \n",
       "55883          青海省                        1                        0   \n",
       "57049      宁夏回族自治区                        1                        0   \n",
       "57050      宁夏回族自治区                        1                        0   \n",
       "57142       内蒙古自治区                        1                        0   \n",
       "57690          山西省                        1                        0   \n",
       "57691          吉林省                        1                        0   \n",
       "57693      宁夏回族自治区                        1                        0   \n",
       "\n",
       "       province_curedCount  province_deadCount               updateTime  \n",
       "5126                     1                   0  2020-02-23 19:19:02.938  \n",
       "24014                    1                   0  2020-02-13 00:19:12.057  \n",
       "25000                    1                   0  2020-02-12 14:42:37.332  \n",
       "43004                    0                   0  2020-02-04 16:11:25.779  \n",
       "46122                    0                   0  2020-02-02 16:18:43.725  \n",
       "55883                    0                   0  2020-01-25 17:48:41.638  \n",
       "57049                    0                   0  2020-01-24 12:59:17.891  \n",
       "57050                    0                   0  2020-01-24 12:59:17.891  \n",
       "57142                    0                   0  2020-01-24 11:42:45.046  \n",
       "57690                    0                   0  2020-01-24 03:50:31.353  \n",
       "57691                    0                   0  2020-01-24 03:50:31.353  \n",
       "57693                    0                   0  2020-01-24 03:50:31.353  "
      ]
     },
     "execution_count": 46,
     "metadata": {},
     "output_type": "execute_result"
    }
   ],
   "source": [
    "df[(df['province_confirmedCount'] < 2) & (df['province_deadCount'] < 1)]"
   ]
  },
  {
   "cell_type": "code",
   "execution_count": 47,
   "metadata": {},
   "outputs": [
    {
     "data": {
      "text/html": [
       "<div>\n",
       "<style scoped>\n",
       "    .dataframe tbody tr th:only-of-type {\n",
       "        vertical-align: middle;\n",
       "    }\n",
       "\n",
       "    .dataframe tbody tr th {\n",
       "        vertical-align: top;\n",
       "    }\n",
       "\n",
       "    .dataframe thead th {\n",
       "        text-align: right;\n",
       "    }\n",
       "</style>\n",
       "<table border=\"1\" class=\"dataframe\">\n",
       "  <thead>\n",
       "    <tr style=\"text-align: right;\">\n",
       "      <th></th>\n",
       "      <th>provinceName</th>\n",
       "      <th>province_confirmedCount</th>\n",
       "      <th>province_suspectedCount</th>\n",
       "      <th>province_curedCount</th>\n",
       "      <th>province_deadCount</th>\n",
       "      <th>updateTime</th>\n",
       "    </tr>\n",
       "  </thead>\n",
       "  <tbody>\n",
       "    <tr>\n",
       "      <th>43979</th>\n",
       "      <td>湖北省</td>\n",
       "      <td>11177</td>\n",
       "      <td>0</td>\n",
       "      <td>299</td>\n",
       "      <td>350</td>\n",
       "      <td>2020-02-03 21:21:02.103</td>\n",
       "    </tr>\n",
       "    <tr>\n",
       "      <th>43980</th>\n",
       "      <td>湖北省</td>\n",
       "      <td>11177</td>\n",
       "      <td>0</td>\n",
       "      <td>299</td>\n",
       "      <td>350</td>\n",
       "      <td>2020-02-03 21:21:02.103</td>\n",
       "    </tr>\n",
       "    <tr>\n",
       "      <th>43981</th>\n",
       "      <td>湖北省</td>\n",
       "      <td>11177</td>\n",
       "      <td>0</td>\n",
       "      <td>299</td>\n",
       "      <td>350</td>\n",
       "      <td>2020-02-03 21:21:02.103</td>\n",
       "    </tr>\n",
       "    <tr>\n",
       "      <th>43982</th>\n",
       "      <td>湖北省</td>\n",
       "      <td>11177</td>\n",
       "      <td>0</td>\n",
       "      <td>299</td>\n",
       "      <td>350</td>\n",
       "      <td>2020-02-03 21:21:02.103</td>\n",
       "    </tr>\n",
       "    <tr>\n",
       "      <th>43983</th>\n",
       "      <td>湖北省</td>\n",
       "      <td>11177</td>\n",
       "      <td>0</td>\n",
       "      <td>299</td>\n",
       "      <td>350</td>\n",
       "      <td>2020-02-03 21:21:02.103</td>\n",
       "    </tr>\n",
       "    <tr>\n",
       "      <th>43984</th>\n",
       "      <td>湖北省</td>\n",
       "      <td>11177</td>\n",
       "      <td>0</td>\n",
       "      <td>299</td>\n",
       "      <td>350</td>\n",
       "      <td>2020-02-03 21:21:02.103</td>\n",
       "    </tr>\n",
       "    <tr>\n",
       "      <th>43985</th>\n",
       "      <td>湖北省</td>\n",
       "      <td>11177</td>\n",
       "      <td>0</td>\n",
       "      <td>299</td>\n",
       "      <td>350</td>\n",
       "      <td>2020-02-03 21:21:02.103</td>\n",
       "    </tr>\n",
       "    <tr>\n",
       "      <th>43986</th>\n",
       "      <td>湖北省</td>\n",
       "      <td>11177</td>\n",
       "      <td>0</td>\n",
       "      <td>299</td>\n",
       "      <td>350</td>\n",
       "      <td>2020-02-03 21:21:02.103</td>\n",
       "    </tr>\n",
       "    <tr>\n",
       "      <th>43987</th>\n",
       "      <td>湖北省</td>\n",
       "      <td>11177</td>\n",
       "      <td>0</td>\n",
       "      <td>299</td>\n",
       "      <td>350</td>\n",
       "      <td>2020-02-03 21:21:02.103</td>\n",
       "    </tr>\n",
       "    <tr>\n",
       "      <th>43988</th>\n",
       "      <td>湖北省</td>\n",
       "      <td>11177</td>\n",
       "      <td>0</td>\n",
       "      <td>299</td>\n",
       "      <td>350</td>\n",
       "      <td>2020-02-03 21:21:02.103</td>\n",
       "    </tr>\n",
       "    <tr>\n",
       "      <th>43989</th>\n",
       "      <td>湖北省</td>\n",
       "      <td>11177</td>\n",
       "      <td>0</td>\n",
       "      <td>299</td>\n",
       "      <td>350</td>\n",
       "      <td>2020-02-03 21:21:02.103</td>\n",
       "    </tr>\n",
       "    <tr>\n",
       "      <th>43990</th>\n",
       "      <td>湖北省</td>\n",
       "      <td>11177</td>\n",
       "      <td>0</td>\n",
       "      <td>299</td>\n",
       "      <td>350</td>\n",
       "      <td>2020-02-03 21:21:02.103</td>\n",
       "    </tr>\n",
       "    <tr>\n",
       "      <th>43991</th>\n",
       "      <td>湖北省</td>\n",
       "      <td>11177</td>\n",
       "      <td>0</td>\n",
       "      <td>299</td>\n",
       "      <td>350</td>\n",
       "      <td>2020-02-03 21:21:02.103</td>\n",
       "    </tr>\n",
       "    <tr>\n",
       "      <th>43992</th>\n",
       "      <td>湖北省</td>\n",
       "      <td>11177</td>\n",
       "      <td>0</td>\n",
       "      <td>299</td>\n",
       "      <td>350</td>\n",
       "      <td>2020-02-03 21:21:02.103</td>\n",
       "    </tr>\n",
       "    <tr>\n",
       "      <th>43993</th>\n",
       "      <td>湖北省</td>\n",
       "      <td>11177</td>\n",
       "      <td>0</td>\n",
       "      <td>299</td>\n",
       "      <td>350</td>\n",
       "      <td>2020-02-03 21:21:02.103</td>\n",
       "    </tr>\n",
       "    <tr>\n",
       "      <th>43994</th>\n",
       "      <td>湖北省</td>\n",
       "      <td>11177</td>\n",
       "      <td>0</td>\n",
       "      <td>299</td>\n",
       "      <td>350</td>\n",
       "      <td>2020-02-03 21:21:02.103</td>\n",
       "    </tr>\n",
       "    <tr>\n",
       "      <th>43995</th>\n",
       "      <td>湖北省</td>\n",
       "      <td>11177</td>\n",
       "      <td>0</td>\n",
       "      <td>299</td>\n",
       "      <td>350</td>\n",
       "      <td>2020-02-03 21:21:02.103</td>\n",
       "    </tr>\n",
       "  </tbody>\n",
       "</table>\n",
       "</div>"
      ],
      "text/plain": [
       "      provinceName  province_confirmedCount  province_suspectedCount  \\\n",
       "43979          湖北省                    11177                        0   \n",
       "43980          湖北省                    11177                        0   \n",
       "43981          湖北省                    11177                        0   \n",
       "43982          湖北省                    11177                        0   \n",
       "43983          湖北省                    11177                        0   \n",
       "43984          湖北省                    11177                        0   \n",
       "43985          湖北省                    11177                        0   \n",
       "43986          湖北省                    11177                        0   \n",
       "43987          湖北省                    11177                        0   \n",
       "43988          湖北省                    11177                        0   \n",
       "43989          湖北省                    11177                        0   \n",
       "43990          湖北省                    11177                        0   \n",
       "43991          湖北省                    11177                        0   \n",
       "43992          湖北省                    11177                        0   \n",
       "43993          湖北省                    11177                        0   \n",
       "43994          湖北省                    11177                        0   \n",
       "43995          湖北省                    11177                        0   \n",
       "\n",
       "       province_curedCount  province_deadCount               updateTime  \n",
       "43979                  299                 350  2020-02-03 21:21:02.103  \n",
       "43980                  299                 350  2020-02-03 21:21:02.103  \n",
       "43981                  299                 350  2020-02-03 21:21:02.103  \n",
       "43982                  299                 350  2020-02-03 21:21:02.103  \n",
       "43983                  299                 350  2020-02-03 21:21:02.103  \n",
       "43984                  299                 350  2020-02-03 21:21:02.103  \n",
       "43985                  299                 350  2020-02-03 21:21:02.103  \n",
       "43986                  299                 350  2020-02-03 21:21:02.103  \n",
       "43987                  299                 350  2020-02-03 21:21:02.103  \n",
       "43988                  299                 350  2020-02-03 21:21:02.103  \n",
       "43989                  299                 350  2020-02-03 21:21:02.103  \n",
       "43990                  299                 350  2020-02-03 21:21:02.103  \n",
       "43991                  299                 350  2020-02-03 21:21:02.103  \n",
       "43992                  299                 350  2020-02-03 21:21:02.103  \n",
       "43993                  299                 350  2020-02-03 21:21:02.103  \n",
       "43994                  299                 350  2020-02-03 21:21:02.103  \n",
       "43995                  299                 350  2020-02-03 21:21:02.103  "
      ]
     },
     "execution_count": 47,
     "metadata": {},
     "output_type": "execute_result"
    }
   ],
   "source": [
    "df.query(\"province_confirmedCount > 10000 & province_curedCount == 299\")"
   ]
  },
  {
   "cell_type": "code",
   "execution_count": 48,
   "metadata": {},
   "outputs": [
    {
     "data": {
      "text/html": [
       "<div>\n",
       "<style scoped>\n",
       "    .dataframe tbody tr th:only-of-type {\n",
       "        vertical-align: middle;\n",
       "    }\n",
       "\n",
       "    .dataframe tbody tr th {\n",
       "        vertical-align: top;\n",
       "    }\n",
       "\n",
       "    .dataframe thead th {\n",
       "        text-align: right;\n",
       "    }\n",
       "</style>\n",
       "<table border=\"1\" class=\"dataframe\">\n",
       "  <thead>\n",
       "    <tr style=\"text-align: right;\">\n",
       "      <th></th>\n",
       "      <th>provinceName</th>\n",
       "      <th>province_confirmedCount</th>\n",
       "      <th>province_suspectedCount</th>\n",
       "      <th>province_curedCount</th>\n",
       "      <th>province_deadCount</th>\n",
       "      <th>updateTime</th>\n",
       "    </tr>\n",
       "  </thead>\n",
       "  <tbody>\n",
       "    <tr>\n",
       "      <th>57607</th>\n",
       "      <td>广东省</td>\n",
       "      <td>32</td>\n",
       "      <td>0</td>\n",
       "      <td>0</td>\n",
       "      <td>0</td>\n",
       "      <td>2020-01-24 03:50:31.353</td>\n",
       "    </tr>\n",
       "    <tr>\n",
       "      <th>57608</th>\n",
       "      <td>广东省</td>\n",
       "      <td>32</td>\n",
       "      <td>0</td>\n",
       "      <td>0</td>\n",
       "      <td>0</td>\n",
       "      <td>2020-01-24 03:50:31.353</td>\n",
       "    </tr>\n",
       "    <tr>\n",
       "      <th>57609</th>\n",
       "      <td>广东省</td>\n",
       "      <td>32</td>\n",
       "      <td>0</td>\n",
       "      <td>0</td>\n",
       "      <td>0</td>\n",
       "      <td>2020-01-24 03:50:31.353</td>\n",
       "    </tr>\n",
       "    <tr>\n",
       "      <th>57610</th>\n",
       "      <td>广东省</td>\n",
       "      <td>32</td>\n",
       "      <td>0</td>\n",
       "      <td>0</td>\n",
       "      <td>0</td>\n",
       "      <td>2020-01-24 03:50:31.353</td>\n",
       "    </tr>\n",
       "    <tr>\n",
       "      <th>57611</th>\n",
       "      <td>广东省</td>\n",
       "      <td>32</td>\n",
       "      <td>0</td>\n",
       "      <td>0</td>\n",
       "      <td>0</td>\n",
       "      <td>2020-01-24 03:50:31.353</td>\n",
       "    </tr>\n",
       "    <tr>\n",
       "      <th>...</th>\n",
       "      <td>...</td>\n",
       "      <td>...</td>\n",
       "      <td>...</td>\n",
       "      <td>...</td>\n",
       "      <td>...</td>\n",
       "      <td>...</td>\n",
       "    </tr>\n",
       "    <tr>\n",
       "      <th>57689</th>\n",
       "      <td>云南省</td>\n",
       "      <td>2</td>\n",
       "      <td>0</td>\n",
       "      <td>0</td>\n",
       "      <td>0</td>\n",
       "      <td>2020-01-24 03:50:31.353</td>\n",
       "    </tr>\n",
       "    <tr>\n",
       "      <th>57690</th>\n",
       "      <td>山西省</td>\n",
       "      <td>1</td>\n",
       "      <td>0</td>\n",
       "      <td>0</td>\n",
       "      <td>0</td>\n",
       "      <td>2020-01-24 03:50:31.353</td>\n",
       "    </tr>\n",
       "    <tr>\n",
       "      <th>57691</th>\n",
       "      <td>吉林省</td>\n",
       "      <td>1</td>\n",
       "      <td>0</td>\n",
       "      <td>0</td>\n",
       "      <td>0</td>\n",
       "      <td>2020-01-24 03:50:31.353</td>\n",
       "    </tr>\n",
       "    <tr>\n",
       "      <th>57692</th>\n",
       "      <td>河北省</td>\n",
       "      <td>1</td>\n",
       "      <td>0</td>\n",
       "      <td>0</td>\n",
       "      <td>1</td>\n",
       "      <td>2020-01-24 03:50:31.353</td>\n",
       "    </tr>\n",
       "    <tr>\n",
       "      <th>57693</th>\n",
       "      <td>宁夏回族自治区</td>\n",
       "      <td>1</td>\n",
       "      <td>0</td>\n",
       "      <td>0</td>\n",
       "      <td>0</td>\n",
       "      <td>2020-01-24 03:50:31.353</td>\n",
       "    </tr>\n",
       "  </tbody>\n",
       "</table>\n",
       "<p>87 rows × 6 columns</p>\n",
       "</div>"
      ],
      "text/plain": [
       "      provinceName  province_confirmedCount  province_suspectedCount  \\\n",
       "57607          广东省                       32                        0   \n",
       "57608          广东省                       32                        0   \n",
       "57609          广东省                       32                        0   \n",
       "57610          广东省                       32                        0   \n",
       "57611          广东省                       32                        0   \n",
       "...            ...                      ...                      ...   \n",
       "57689          云南省                        2                        0   \n",
       "57690          山西省                        1                        0   \n",
       "57691          吉林省                        1                        0   \n",
       "57692          河北省                        1                        0   \n",
       "57693      宁夏回族自治区                        1                        0   \n",
       "\n",
       "       province_curedCount  province_deadCount               updateTime  \n",
       "57607                    0                   0  2020-01-24 03:50:31.353  \n",
       "57608                    0                   0  2020-01-24 03:50:31.353  \n",
       "57609                    0                   0  2020-01-24 03:50:31.353  \n",
       "57610                    0                   0  2020-01-24 03:50:31.353  \n",
       "57611                    0                   0  2020-01-24 03:50:31.353  \n",
       "...                    ...                 ...                      ...  \n",
       "57689                    0                   0  2020-01-24 03:50:31.353  \n",
       "57690                    0                   0  2020-01-24 03:50:31.353  \n",
       "57691                    0                   0  2020-01-24 03:50:31.353  \n",
       "57692                    0                   1  2020-01-24 03:50:31.353  \n",
       "57693                    0                   0  2020-01-24 03:50:31.353  \n",
       "\n",
       "[87 rows x 6 columns]"
      ]
     },
     "execution_count": 48,
     "metadata": {},
     "output_type": "execute_result"
    }
   ],
   "source": [
    "df.query(\"updateTime == '2020-01-24 03:50:31.353'\")"
   ]
  },
  {
   "cell_type": "code",
   "execution_count": 49,
   "metadata": {},
   "outputs": [
    {
     "data": {
      "text/plain": [
       "0        False\n",
       "1        False\n",
       "2        False\n",
       "3        False\n",
       "4        False\n",
       "         ...  \n",
       "57689    False\n",
       "57690    False\n",
       "57691    False\n",
       "57692    False\n",
       "57693    False\n",
       "Name: province_curedCount, Length: 57694, dtype: bool"
      ]
     },
     "execution_count": 49,
     "metadata": {},
     "output_type": "execute_result"
    }
   ],
   "source": [
    "df['province_curedCount'].isin(['299'])"
   ]
  },
  {
   "cell_type": "code",
   "execution_count": 50,
   "metadata": {},
   "outputs": [
    {
     "data": {
      "text/html": [
       "<div>\n",
       "<style scoped>\n",
       "    .dataframe tbody tr th:only-of-type {\n",
       "        vertical-align: middle;\n",
       "    }\n",
       "\n",
       "    .dataframe tbody tr th {\n",
       "        vertical-align: top;\n",
       "    }\n",
       "\n",
       "    .dataframe thead th {\n",
       "        text-align: right;\n",
       "    }\n",
       "</style>\n",
       "<table border=\"1\" class=\"dataframe\">\n",
       "  <thead>\n",
       "    <tr style=\"text-align: right;\">\n",
       "      <th></th>\n",
       "      <th>provinceName</th>\n",
       "      <th>province_confirmedCount</th>\n",
       "      <th>province_suspectedCount</th>\n",
       "      <th>province_curedCount</th>\n",
       "      <th>province_deadCount</th>\n",
       "      <th>updateTime</th>\n",
       "    </tr>\n",
       "  </thead>\n",
       "  <tbody>\n",
       "    <tr>\n",
       "      <th>6997</th>\n",
       "      <td>山东省</td>\n",
       "      <td>750</td>\n",
       "      <td>0</td>\n",
       "      <td>299</td>\n",
       "      <td>4</td>\n",
       "      <td>2020-02-22 14:14:01.134</td>\n",
       "    </tr>\n",
       "    <tr>\n",
       "      <th>6998</th>\n",
       "      <td>山东省</td>\n",
       "      <td>750</td>\n",
       "      <td>0</td>\n",
       "      <td>299</td>\n",
       "      <td>4</td>\n",
       "      <td>2020-02-22 14:14:01.134</td>\n",
       "    </tr>\n",
       "    <tr>\n",
       "      <th>6999</th>\n",
       "      <td>山东省</td>\n",
       "      <td>750</td>\n",
       "      <td>0</td>\n",
       "      <td>299</td>\n",
       "      <td>4</td>\n",
       "      <td>2020-02-22 14:14:01.134</td>\n",
       "    </tr>\n",
       "    <tr>\n",
       "      <th>7000</th>\n",
       "      <td>山东省</td>\n",
       "      <td>750</td>\n",
       "      <td>0</td>\n",
       "      <td>299</td>\n",
       "      <td>4</td>\n",
       "      <td>2020-02-22 14:14:01.134</td>\n",
       "    </tr>\n",
       "    <tr>\n",
       "      <th>7001</th>\n",
       "      <td>山东省</td>\n",
       "      <td>750</td>\n",
       "      <td>0</td>\n",
       "      <td>299</td>\n",
       "      <td>4</td>\n",
       "      <td>2020-02-22 14:14:01.134</td>\n",
       "    </tr>\n",
       "    <tr>\n",
       "      <th>...</th>\n",
       "      <td>...</td>\n",
       "      <td>...</td>\n",
       "      <td>...</td>\n",
       "      <td>...</td>\n",
       "      <td>...</td>\n",
       "      <td>...</td>\n",
       "    </tr>\n",
       "    <tr>\n",
       "      <th>43991</th>\n",
       "      <td>湖北省</td>\n",
       "      <td>11177</td>\n",
       "      <td>0</td>\n",
       "      <td>299</td>\n",
       "      <td>350</td>\n",
       "      <td>2020-02-03 21:21:02.103</td>\n",
       "    </tr>\n",
       "    <tr>\n",
       "      <th>43992</th>\n",
       "      <td>湖北省</td>\n",
       "      <td>11177</td>\n",
       "      <td>0</td>\n",
       "      <td>299</td>\n",
       "      <td>350</td>\n",
       "      <td>2020-02-03 21:21:02.103</td>\n",
       "    </tr>\n",
       "    <tr>\n",
       "      <th>43993</th>\n",
       "      <td>湖北省</td>\n",
       "      <td>11177</td>\n",
       "      <td>0</td>\n",
       "      <td>299</td>\n",
       "      <td>350</td>\n",
       "      <td>2020-02-03 21:21:02.103</td>\n",
       "    </tr>\n",
       "    <tr>\n",
       "      <th>43994</th>\n",
       "      <td>湖北省</td>\n",
       "      <td>11177</td>\n",
       "      <td>0</td>\n",
       "      <td>299</td>\n",
       "      <td>350</td>\n",
       "      <td>2020-02-03 21:21:02.103</td>\n",
       "    </tr>\n",
       "    <tr>\n",
       "      <th>43995</th>\n",
       "      <td>湖北省</td>\n",
       "      <td>11177</td>\n",
       "      <td>0</td>\n",
       "      <td>299</td>\n",
       "      <td>350</td>\n",
       "      <td>2020-02-03 21:21:02.103</td>\n",
       "    </tr>\n",
       "  </tbody>\n",
       "</table>\n",
       "<p>72 rows × 6 columns</p>\n",
       "</div>"
      ],
      "text/plain": [
       "      provinceName  province_confirmedCount  province_suspectedCount  \\\n",
       "6997           山东省                      750                        0   \n",
       "6998           山东省                      750                        0   \n",
       "6999           山东省                      750                        0   \n",
       "7000           山东省                      750                        0   \n",
       "7001           山东省                      750                        0   \n",
       "...            ...                      ...                      ...   \n",
       "43991          湖北省                    11177                        0   \n",
       "43992          湖北省                    11177                        0   \n",
       "43993          湖北省                    11177                        0   \n",
       "43994          湖北省                    11177                        0   \n",
       "43995          湖北省                    11177                        0   \n",
       "\n",
       "       province_curedCount  province_deadCount               updateTime  \n",
       "6997                   299                   4  2020-02-22 14:14:01.134  \n",
       "6998                   299                   4  2020-02-22 14:14:01.134  \n",
       "6999                   299                   4  2020-02-22 14:14:01.134  \n",
       "7000                   299                   4  2020-02-22 14:14:01.134  \n",
       "7001                   299                   4  2020-02-22 14:14:01.134  \n",
       "...                    ...                 ...                      ...  \n",
       "43991                  299                 350  2020-02-03 21:21:02.103  \n",
       "43992                  299                 350  2020-02-03 21:21:02.103  \n",
       "43993                  299                 350  2020-02-03 21:21:02.103  \n",
       "43994                  299                 350  2020-02-03 21:21:02.103  \n",
       "43995                  299                 350  2020-02-03 21:21:02.103  \n",
       "\n",
       "[72 rows x 6 columns]"
      ]
     },
     "execution_count": 50,
     "metadata": {},
     "output_type": "execute_result"
    }
   ],
   "source": [
    "df[df['province_curedCount'].isin(['299'])]"
   ]
  },
  {
   "cell_type": "code",
   "execution_count": 51,
   "metadata": {},
   "outputs": [
    {
     "data": {
      "text/html": [
       "<div>\n",
       "<style scoped>\n",
       "    .dataframe tbody tr th:only-of-type {\n",
       "        vertical-align: middle;\n",
       "    }\n",
       "\n",
       "    .dataframe tbody tr th {\n",
       "        vertical-align: top;\n",
       "    }\n",
       "\n",
       "    .dataframe thead th {\n",
       "        text-align: right;\n",
       "    }\n",
       "</style>\n",
       "<table border=\"1\" class=\"dataframe\">\n",
       "  <thead>\n",
       "    <tr style=\"text-align: right;\">\n",
       "      <th></th>\n",
       "      <th>province_confirmedCount</th>\n",
       "      <th>province_suspectedCount</th>\n",
       "      <th>province_curedCount</th>\n",
       "      <th>province_deadCount</th>\n",
       "    </tr>\n",
       "  </thead>\n",
       "  <tbody>\n",
       "    <tr>\n",
       "      <th>count</th>\n",
       "      <td>57694.000000</td>\n",
       "      <td>57694.000000</td>\n",
       "      <td>57694.000000</td>\n",
       "      <td>57694.000000</td>\n",
       "    </tr>\n",
       "    <tr>\n",
       "      <th>mean</th>\n",
       "      <td>3164.517315</td>\n",
       "      <td>97.896055</td>\n",
       "      <td>538.570371</td>\n",
       "      <td>90.847003</td>\n",
       "    </tr>\n",
       "    <tr>\n",
       "      <th>std</th>\n",
       "      <td>11179.358295</td>\n",
       "      <td>1515.089701</td>\n",
       "      <td>2327.391332</td>\n",
       "      <td>379.779780</td>\n",
       "    </tr>\n",
       "    <tr>\n",
       "      <th>min</th>\n",
       "      <td>1.000000</td>\n",
       "      <td>0.000000</td>\n",
       "      <td>0.000000</td>\n",
       "      <td>0.000000</td>\n",
       "    </tr>\n",
       "    <tr>\n",
       "      <th>25%</th>\n",
       "      <td>146.000000</td>\n",
       "      <td>0.000000</td>\n",
       "      <td>9.000000</td>\n",
       "      <td>0.000000</td>\n",
       "    </tr>\n",
       "    <tr>\n",
       "      <th>50%</th>\n",
       "      <td>408.000000</td>\n",
       "      <td>0.000000</td>\n",
       "      <td>61.000000</td>\n",
       "      <td>1.000000</td>\n",
       "    </tr>\n",
       "    <tr>\n",
       "      <th>75%</th>\n",
       "      <td>981.000000</td>\n",
       "      <td>0.000000</td>\n",
       "      <td>235.000000</td>\n",
       "      <td>4.000000</td>\n",
       "    </tr>\n",
       "    <tr>\n",
       "      <th>max</th>\n",
       "      <td>65596.000000</td>\n",
       "      <td>23638.000000</td>\n",
       "      <td>23383.000000</td>\n",
       "      <td>2641.000000</td>\n",
       "    </tr>\n",
       "  </tbody>\n",
       "</table>\n",
       "</div>"
      ],
      "text/plain": [
       "       province_confirmedCount  province_suspectedCount  province_curedCount  \\\n",
       "count             57694.000000             57694.000000         57694.000000   \n",
       "mean               3164.517315                97.896055           538.570371   \n",
       "std               11179.358295              1515.089701          2327.391332   \n",
       "min                   1.000000                 0.000000             0.000000   \n",
       "25%                 146.000000                 0.000000             9.000000   \n",
       "50%                 408.000000                 0.000000            61.000000   \n",
       "75%                 981.000000                 0.000000           235.000000   \n",
       "max               65596.000000             23638.000000         23383.000000   \n",
       "\n",
       "       province_deadCount  \n",
       "count        57694.000000  \n",
       "mean            90.847003  \n",
       "std            379.779780  \n",
       "min              0.000000  \n",
       "25%              0.000000  \n",
       "50%              1.000000  \n",
       "75%              4.000000  \n",
       "max           2641.000000  "
      ]
     },
     "execution_count": 51,
     "metadata": {},
     "output_type": "execute_result"
    }
   ],
   "source": [
    "# 统计运算\n",
    "df.describe()"
   ]
  },
  {
   "cell_type": "code",
   "execution_count": 52,
   "metadata": {},
   "outputs": [
    {
     "data": {
      "text/plain": [
       "provinceName                                  黑龙江省\n",
       "province_confirmedCount                      65596\n",
       "province_suspectedCount                      23638\n",
       "province_curedCount                          23383\n",
       "province_deadCount                            2641\n",
       "updateTime                 2020-02-27 20:42:21.431\n",
       "dtype: object"
      ]
     },
     "execution_count": 52,
     "metadata": {},
     "output_type": "execute_result"
    }
   ],
   "source": [
    "df.max()"
   ]
  },
  {
   "cell_type": "code",
   "execution_count": 53,
   "metadata": {},
   "outputs": [
    {
     "data": {
      "text/plain": [
       "provinceName                                   上海市\n",
       "province_confirmedCount                          1\n",
       "province_suspectedCount                          0\n",
       "province_curedCount                              0\n",
       "province_deadCount                               0\n",
       "updateTime                 2020-01-24 03:50:31.353\n",
       "dtype: object"
      ]
     },
     "execution_count": 53,
     "metadata": {},
     "output_type": "execute_result"
    }
   ],
   "source": [
    "df.min()"
   ]
  },
  {
   "cell_type": "code",
   "execution_count": 54,
   "metadata": {},
   "outputs": [
    {
     "data": {
      "text/plain": [
       "province_confirmedCount    3164.517315\n",
       "province_suspectedCount      97.896055\n",
       "province_curedCount         538.570371\n",
       "province_deadCount           90.847003\n",
       "dtype: float64"
      ]
     },
     "execution_count": 54,
     "metadata": {},
     "output_type": "execute_result"
    }
   ],
   "source": [
    "df.mean()"
   ]
  },
  {
   "cell_type": "code",
   "execution_count": 55,
   "metadata": {},
   "outputs": [
    {
     "data": {
      "text/plain": [
       "province_confirmedCount    408.0\n",
       "province_suspectedCount      0.0\n",
       "province_curedCount         61.0\n",
       "province_deadCount           1.0\n",
       "dtype: float64"
      ]
     },
     "execution_count": 55,
     "metadata": {},
     "output_type": "execute_result"
    }
   ],
   "source": [
    "df.median()"
   ]
  },
  {
   "cell_type": "code",
   "execution_count": 56,
   "metadata": {},
   "outputs": [
    {
     "data": {
      "text/plain": [
       "province_confirmedCount    11179.358295\n",
       "province_suspectedCount     1515.089701\n",
       "province_curedCount         2327.391332\n",
       "province_deadCount           379.779780\n",
       "dtype: float64"
      ]
     },
     "execution_count": 56,
     "metadata": {},
     "output_type": "execute_result"
    }
   ],
   "source": [
    "df.std()"
   ]
  },
  {
   "cell_type": "code",
   "execution_count": 57,
   "metadata": {},
   "outputs": [
    {
     "data": {
      "text/plain": [
       "province_confirmedCount    1.249781e+08\n",
       "province_suspectedCount    2.295497e+06\n",
       "province_curedCount        5.416750e+06\n",
       "province_deadCount         1.442327e+05\n",
       "dtype: float64"
      ]
     },
     "execution_count": 57,
     "metadata": {},
     "output_type": "execute_result"
    }
   ],
   "source": [
    "df.var()"
   ]
  },
  {
   "cell_type": "code",
   "execution_count": 58,
   "metadata": {},
   "outputs": [
    {
     "data": {
      "text/plain": [
       "0               93\n",
       "1              186\n",
       "2              279\n",
       "3              372\n",
       "4              465\n",
       "           ...    \n",
       "57689    182573658\n",
       "57690    182573659\n",
       "57691    182573660\n",
       "57692    182573661\n",
       "57693    182573662\n",
       "Name: province_confirmedCount, Length: 57694, dtype: int64"
      ]
     },
     "execution_count": 58,
     "metadata": {},
     "output_type": "execute_result"
    }
   ],
   "source": [
    "df['province_confirmedCount'].cumsum()"
   ]
  },
  {
   "cell_type": "code",
   "execution_count": 59,
   "metadata": {},
   "outputs": [
    {
     "data": {
      "text/plain": [
       "<matplotlib.axes._subplots.AxesSubplot at 0x1183d89d0>"
      ]
     },
     "execution_count": 59,
     "metadata": {},
     "output_type": "execute_result"
    },
    {
     "data": {
      "image/png": "[encoded data removed]",
      "text/plain": [
       "<Figure size 432x288 with 1 Axes>"
      ]
     },
     "metadata": {
      "needs_background": "light"
     },
     "output_type": "display_data"
    }
   ],
   "source": [
    "df['province_confirmedCount'].sort_index().cumsum().plot()"
   ]
  },
  {
   "cell_type": "code",
   "execution_count": 60,
   "metadata": {},
   "outputs": [
    {
     "data": {
      "text/plain": [
       "0           93\n",
       "1           93\n",
       "2           93\n",
       "3           93\n",
       "4           93\n",
       "         ...  \n",
       "57689    65596\n",
       "57690    65596\n",
       "57691    65596\n",
       "57692    65596\n",
       "57693    65596\n",
       "Name: province_confirmedCount, Length: 57694, dtype: int64"
      ]
     },
     "execution_count": 60,
     "metadata": {},
     "output_type": "execute_result"
    }
   ],
   "source": [
    "df['province_confirmedCount'].cummax()"
   ]
  },
  {
   "cell_type": "code",
   "execution_count": 61,
   "metadata": {},
   "outputs": [
    {
     "data": {
      "text/plain": [
       "0        93\n",
       "1        93\n",
       "2        93\n",
       "3        93\n",
       "4        93\n",
       "         ..\n",
       "57689     1\n",
       "57690     1\n",
       "57691     1\n",
       "57692     1\n",
       "57693     1\n",
       "Name: province_confirmedCount, Length: 57694, dtype: int64"
      ]
     },
     "execution_count": 61,
     "metadata": {},
     "output_type": "execute_result"
    }
   ],
   "source": [
    "df['province_confirmedCount'].cummin()"
   ]
  },
  {
   "cell_type": "code",
   "execution_count": 62,
   "metadata": {},
   "outputs": [
    {
     "data": {
      "text/plain": [
       "0                93\n",
       "1              8649\n",
       "2            804357\n",
       "3          74805201\n",
       "4        6956883693\n",
       "            ...    \n",
       "57689             0\n",
       "57690             0\n",
       "57691             0\n",
       "57692             0\n",
       "57693             0\n",
       "Name: province_confirmedCount, Length: 57694, dtype: int64"
      ]
     },
     "execution_count": 62,
     "metadata": {},
     "output_type": "execute_result"
    }
   ],
   "source": [
    "df['province_confirmedCount'].cumprod()"
   ]
  },
  {
   "cell_type": "code",
   "execution_count": 63,
   "metadata": {},
   "outputs": [
    {
     "data": {
      "text/html": [
       "<div>\n",
       "<style scoped>\n",
       "    .dataframe tbody tr th:only-of-type {\n",
       "        vertical-align: middle;\n",
       "    }\n",
       "\n",
       "    .dataframe tbody tr th {\n",
       "        vertical-align: top;\n",
       "    }\n",
       "\n",
       "    .dataframe thead th {\n",
       "        text-align: right;\n",
       "    }\n",
       "</style>\n",
       "<table border=\"1\" class=\"dataframe\">\n",
       "  <thead>\n",
       "    <tr style=\"text-align: right;\">\n",
       "      <th></th>\n",
       "      <th>provinceName</th>\n",
       "      <th>province_confirmedCount</th>\n",
       "      <th>province_suspectedCount</th>\n",
       "      <th>province_curedCount</th>\n",
       "      <th>province_deadCount</th>\n",
       "      <th>updateTime</th>\n",
       "    </tr>\n",
       "  </thead>\n",
       "  <tbody>\n",
       "    <tr>\n",
       "      <th>0</th>\n",
       "      <td>吉林省</td>\n",
       "      <td>93</td>\n",
       "      <td>0</td>\n",
       "      <td>67</td>\n",
       "      <td>1</td>\n",
       "      <td>2020-02-27 20:42:21.431</td>\n",
       "    </tr>\n",
       "    <tr>\n",
       "      <th>1</th>\n",
       "      <td>吉林省</td>\n",
       "      <td>93</td>\n",
       "      <td>0</td>\n",
       "      <td>67</td>\n",
       "      <td>1</td>\n",
       "      <td>2020-02-27 20:42:21.431</td>\n",
       "    </tr>\n",
       "    <tr>\n",
       "      <th>2</th>\n",
       "      <td>吉林省</td>\n",
       "      <td>93</td>\n",
       "      <td>0</td>\n",
       "      <td>67</td>\n",
       "      <td>1</td>\n",
       "      <td>2020-02-27 20:42:21.431</td>\n",
       "    </tr>\n",
       "    <tr>\n",
       "      <th>3</th>\n",
       "      <td>吉林省</td>\n",
       "      <td>93</td>\n",
       "      <td>0</td>\n",
       "      <td>67</td>\n",
       "      <td>1</td>\n",
       "      <td>2020-02-27 20:42:21.431</td>\n",
       "    </tr>\n",
       "    <tr>\n",
       "      <th>4</th>\n",
       "      <td>吉林省</td>\n",
       "      <td>93</td>\n",
       "      <td>0</td>\n",
       "      <td>67</td>\n",
       "      <td>1</td>\n",
       "      <td>2020-02-27 20:42:21.431</td>\n",
       "    </tr>\n",
       "  </tbody>\n",
       "</table>\n",
       "</div>"
      ],
      "text/plain": [
       "  provinceName  province_confirmedCount  province_suspectedCount  \\\n",
       "0          吉林省                       93                        0   \n",
       "1          吉林省                       93                        0   \n",
       "2          吉林省                       93                        0   \n",
       "3          吉林省                       93                        0   \n",
       "4          吉林省                       93                        0   \n",
       "\n",
       "   province_curedCount  province_deadCount               updateTime  \n",
       "0                   67                   1  2020-02-27 20:42:21.431  \n",
       "1                   67                   1  2020-02-27 20:42:21.431  \n",
       "2                   67                   1  2020-02-27 20:42:21.431  \n",
       "3                   67                   1  2020-02-27 20:42:21.431  \n",
       "4                   67                   1  2020-02-27 20:42:21.431  "
      ]
     },
     "execution_count": 63,
     "metadata": {},
     "output_type": "execute_result"
    }
   ],
   "source": [
    "df.head()"
   ]
  },
  {
   "cell_type": "code",
   "execution_count": 64,
   "metadata": {},
   "outputs": [
    {
     "data": {
      "text/plain": [
       "<matplotlib.axes._subplots.AxesSubplot at 0x118978590>"
      ]
     },
     "execution_count": 64,
     "metadata": {},
     "output_type": "execute_result"
    },
    {
     "data": {
      "image/png": "[encoded data removed]",
      "text/plain": [
       "<Figure size 432x288 with 1 Axes>"
      ]
     },
     "metadata": {
      "needs_background": "light"
     },
     "output_type": "display_data"
    }
   ],
   "source": [
    "df.plot(x=\"province_curedCount\", y=\"province_deadCount\", kind=\"scatter\")"
   ]
  },
  {
   "cell_type": "markdown",
   "metadata": {},
   "source": [
    "### 读取文件"
   ]
  },
  {
   "cell_type": "code",
   "execution_count": 65,
   "metadata": {},
   "outputs": [
    {
     "data": {
      "text/html": [
       "<div>\n",
       "<style scoped>\n",
       "    .dataframe tbody tr th:only-of-type {\n",
       "        vertical-align: middle;\n",
       "    }\n",
       "\n",
       "    .dataframe tbody tr th {\n",
       "        vertical-align: top;\n",
       "    }\n",
       "\n",
       "    .dataframe thead th {\n",
       "        text-align: right;\n",
       "    }\n",
       "</style>\n",
       "<table border=\"1\" class=\"dataframe\">\n",
       "  <thead>\n",
       "    <tr style=\"text-align: right;\">\n",
       "      <th></th>\n",
       "      <th>province_confirmedCount</th>\n",
       "      <th>province_suspectedCount</th>\n",
       "      <th>province_curedCount</th>\n",
       "      <th>city_confirmedCount</th>\n",
       "    </tr>\n",
       "  </thead>\n",
       "  <tbody>\n",
       "    <tr>\n",
       "      <th>0</th>\n",
       "      <td>93</td>\n",
       "      <td>0</td>\n",
       "      <td>67</td>\n",
       "      <td>45</td>\n",
       "    </tr>\n",
       "    <tr>\n",
       "      <th>1</th>\n",
       "      <td>93</td>\n",
       "      <td>0</td>\n",
       "      <td>67</td>\n",
       "      <td>7</td>\n",
       "    </tr>\n",
       "    <tr>\n",
       "      <th>2</th>\n",
       "      <td>93</td>\n",
       "      <td>0</td>\n",
       "      <td>67</td>\n",
       "      <td>6</td>\n",
       "    </tr>\n",
       "    <tr>\n",
       "      <th>3</th>\n",
       "      <td>93</td>\n",
       "      <td>0</td>\n",
       "      <td>67</td>\n",
       "      <td>15</td>\n",
       "    </tr>\n",
       "    <tr>\n",
       "      <th>4</th>\n",
       "      <td>93</td>\n",
       "      <td>0</td>\n",
       "      <td>67</td>\n",
       "      <td>6</td>\n",
       "    </tr>\n",
       "    <tr>\n",
       "      <th>...</th>\n",
       "      <td>...</td>\n",
       "      <td>...</td>\n",
       "      <td>...</td>\n",
       "      <td>...</td>\n",
       "    </tr>\n",
       "    <tr>\n",
       "      <th>57689</th>\n",
       "      <td>2</td>\n",
       "      <td>0</td>\n",
       "      <td>0</td>\n",
       "      <td>2</td>\n",
       "    </tr>\n",
       "    <tr>\n",
       "      <th>57690</th>\n",
       "      <td>1</td>\n",
       "      <td>0</td>\n",
       "      <td>0</td>\n",
       "      <td>1</td>\n",
       "    </tr>\n",
       "    <tr>\n",
       "      <th>57691</th>\n",
       "      <td>1</td>\n",
       "      <td>0</td>\n",
       "      <td>0</td>\n",
       "      <td>1</td>\n",
       "    </tr>\n",
       "    <tr>\n",
       "      <th>57692</th>\n",
       "      <td>1</td>\n",
       "      <td>0</td>\n",
       "      <td>0</td>\n",
       "      <td>1</td>\n",
       "    </tr>\n",
       "    <tr>\n",
       "      <th>57693</th>\n",
       "      <td>1</td>\n",
       "      <td>0</td>\n",
       "      <td>0</td>\n",
       "      <td>1</td>\n",
       "    </tr>\n",
       "  </tbody>\n",
       "</table>\n",
       "<p>57694 rows × 4 columns</p>\n",
       "</div>"
      ],
      "text/plain": [
       "       province_confirmedCount  province_suspectedCount  province_curedCount  \\\n",
       "0                           93                        0                   67   \n",
       "1                           93                        0                   67   \n",
       "2                           93                        0                   67   \n",
       "3                           93                        0                   67   \n",
       "4                           93                        0                   67   \n",
       "...                        ...                      ...                  ...   \n",
       "57689                        2                        0                    0   \n",
       "57690                        1                        0                    0   \n",
       "57691                        1                        0                    0   \n",
       "57692                        1                        0                    0   \n",
       "57693                        1                        0                    0   \n",
       "\n",
       "       city_confirmedCount  \n",
       "0                       45  \n",
       "1                        7  \n",
       "2                        6  \n",
       "3                       15  \n",
       "4                        6  \n",
       "...                    ...  \n",
       "57689                    2  \n",
       "57690                    1  \n",
       "57691                    1  \n",
       "57692                    1  \n",
       "57693                    1  \n",
       "\n",
       "[57694 rows x 4 columns]"
      ]
     },
     "execution_count": 65,
     "metadata": {},
     "output_type": "execute_result"
    }
   ],
   "source": [
    "# 如果csv文件没有列名，会默认把第一行数据当做列名。所以需要设置names=['','']参数\n",
    "pd.read_csv('./csv/DXYArea.csv', usecols=['province_confirmedCount', 'province_suspectedCount', 'province_curedCount', 'city_confirmedCount'])"
   ]
  },
  {
   "cell_type": "code",
   "execution_count": 66,
   "metadata": {},
   "outputs": [],
   "source": [
    "# 存储文件\n",
    "# DataFrame.to_csv(path)"
   ]
  },
  {
   "cell_type": "code",
   "execution_count": 67,
   "metadata": {},
   "outputs": [],
   "source": [
    "df[:10].to_csv('./csv/s.csv', columns=['provinceName'], index=False, mode='a', header=False)"
   ]
  },
  {
   "cell_type": "code",
   "execution_count": 68,
   "metadata": {},
   "outputs": [],
   "source": [
    "# 读取和存储HDF5，H5文件必须设置Key，因为每一个H5文件可以存储多维的数据，每一个维度都用key来区分\n",
    "# pd.read_hdf(path, key)\n",
    "# pd.to_hdf(path, key)"
   ]
  },
  {
   "cell_type": "code",
   "execution_count": 69,
   "metadata": {},
   "outputs": [],
   "source": [
    "# pd.read_json(\"path\", orient=\"records\", lines=True)\n",
    "# pd.to_json(\"path\", orient=\"records\", lines=True)"
   ]
  },
  {
   "cell_type": "code",
   "execution_count": 70,
   "metadata": {},
   "outputs": [],
   "source": [
    "df = pd.read_csv('./csv/housing.csv')"
   ]
  },
  {
   "cell_type": "code",
   "execution_count": 71,
   "metadata": {},
   "outputs": [
    {
     "data": {
      "text/html": [
       "<div>\n",
       "<style scoped>\n",
       "    .dataframe tbody tr th:only-of-type {\n",
       "        vertical-align: middle;\n",
       "    }\n",
       "\n",
       "    .dataframe tbody tr th {\n",
       "        vertical-align: top;\n",
       "    }\n",
       "\n",
       "    .dataframe thead th {\n",
       "        text-align: right;\n",
       "    }\n",
       "</style>\n",
       "<table border=\"1\" class=\"dataframe\">\n",
       "  <thead>\n",
       "    <tr style=\"text-align: right;\">\n",
       "      <th></th>\n",
       "      <th>longitude</th>\n",
       "      <th>latitude</th>\n",
       "      <th>housing_median_age</th>\n",
       "      <th>total_rooms</th>\n",
       "      <th>total_bedrooms</th>\n",
       "      <th>population</th>\n",
       "      <th>households</th>\n",
       "      <th>median_income</th>\n",
       "      <th>median_house_value</th>\n",
       "      <th>ocean_proximity</th>\n",
       "    </tr>\n",
       "  </thead>\n",
       "  <tbody>\n",
       "    <tr>\n",
       "      <th>0</th>\n",
       "      <td>-122.23</td>\n",
       "      <td>37.88</td>\n",
       "      <td>41.0</td>\n",
       "      <td>880.0</td>\n",
       "      <td>129.0</td>\n",
       "      <td>322.0</td>\n",
       "      <td>126.0</td>\n",
       "      <td>8.3252</td>\n",
       "      <td>452600.0</td>\n",
       "      <td>NEAR BAY</td>\n",
       "    </tr>\n",
       "    <tr>\n",
       "      <th>1</th>\n",
       "      <td>-122.22</td>\n",
       "      <td>37.86</td>\n",
       "      <td>21.0</td>\n",
       "      <td>7099.0</td>\n",
       "      <td>1106.0</td>\n",
       "      <td>2401.0</td>\n",
       "      <td>1138.0</td>\n",
       "      <td>8.3014</td>\n",
       "      <td>358500.0</td>\n",
       "      <td>NEAR BAY</td>\n",
       "    </tr>\n",
       "    <tr>\n",
       "      <th>2</th>\n",
       "      <td>-122.24</td>\n",
       "      <td>37.85</td>\n",
       "      <td>52.0</td>\n",
       "      <td>1467.0</td>\n",
       "      <td>190.0</td>\n",
       "      <td>496.0</td>\n",
       "      <td>177.0</td>\n",
       "      <td>7.2574</td>\n",
       "      <td>352100.0</td>\n",
       "      <td>NEAR BAY</td>\n",
       "    </tr>\n",
       "    <tr>\n",
       "      <th>3</th>\n",
       "      <td>-122.25</td>\n",
       "      <td>37.85</td>\n",
       "      <td>52.0</td>\n",
       "      <td>1274.0</td>\n",
       "      <td>235.0</td>\n",
       "      <td>558.0</td>\n",
       "      <td>219.0</td>\n",
       "      <td>5.6431</td>\n",
       "      <td>341300.0</td>\n",
       "      <td>NEAR BAY</td>\n",
       "    </tr>\n",
       "    <tr>\n",
       "      <th>4</th>\n",
       "      <td>-122.25</td>\n",
       "      <td>37.85</td>\n",
       "      <td>52.0</td>\n",
       "      <td>1627.0</td>\n",
       "      <td>280.0</td>\n",
       "      <td>565.0</td>\n",
       "      <td>259.0</td>\n",
       "      <td>3.8462</td>\n",
       "      <td>342200.0</td>\n",
       "      <td>NEAR BAY</td>\n",
       "    </tr>\n",
       "    <tr>\n",
       "      <th>...</th>\n",
       "      <td>...</td>\n",
       "      <td>...</td>\n",
       "      <td>...</td>\n",
       "      <td>...</td>\n",
       "      <td>...</td>\n",
       "      <td>...</td>\n",
       "      <td>...</td>\n",
       "      <td>...</td>\n",
       "      <td>...</td>\n",
       "      <td>...</td>\n",
       "    </tr>\n",
       "    <tr>\n",
       "      <th>20635</th>\n",
       "      <td>-121.09</td>\n",
       "      <td>39.48</td>\n",
       "      <td>25.0</td>\n",
       "      <td>1665.0</td>\n",
       "      <td>374.0</td>\n",
       "      <td>845.0</td>\n",
       "      <td>330.0</td>\n",
       "      <td>1.5603</td>\n",
       "      <td>78100.0</td>\n",
       "      <td>INLAND</td>\n",
       "    </tr>\n",
       "    <tr>\n",
       "      <th>20636</th>\n",
       "      <td>-121.21</td>\n",
       "      <td>39.49</td>\n",
       "      <td>18.0</td>\n",
       "      <td>697.0</td>\n",
       "      <td>150.0</td>\n",
       "      <td>356.0</td>\n",
       "      <td>114.0</td>\n",
       "      <td>2.5568</td>\n",
       "      <td>77100.0</td>\n",
       "      <td>INLAND</td>\n",
       "    </tr>\n",
       "    <tr>\n",
       "      <th>20637</th>\n",
       "      <td>-121.22</td>\n",
       "      <td>39.43</td>\n",
       "      <td>17.0</td>\n",
       "      <td>2254.0</td>\n",
       "      <td>485.0</td>\n",
       "      <td>1007.0</td>\n",
       "      <td>433.0</td>\n",
       "      <td>1.7000</td>\n",
       "      <td>92300.0</td>\n",
       "      <td>INLAND</td>\n",
       "    </tr>\n",
       "    <tr>\n",
       "      <th>20638</th>\n",
       "      <td>-121.32</td>\n",
       "      <td>39.43</td>\n",
       "      <td>18.0</td>\n",
       "      <td>1860.0</td>\n",
       "      <td>409.0</td>\n",
       "      <td>741.0</td>\n",
       "      <td>349.0</td>\n",
       "      <td>1.8672</td>\n",
       "      <td>84700.0</td>\n",
       "      <td>INLAND</td>\n",
       "    </tr>\n",
       "    <tr>\n",
       "      <th>20639</th>\n",
       "      <td>-121.24</td>\n",
       "      <td>39.37</td>\n",
       "      <td>16.0</td>\n",
       "      <td>2785.0</td>\n",
       "      <td>616.0</td>\n",
       "      <td>1387.0</td>\n",
       "      <td>530.0</td>\n",
       "      <td>2.3886</td>\n",
       "      <td>89400.0</td>\n",
       "      <td>INLAND</td>\n",
       "    </tr>\n",
       "  </tbody>\n",
       "</table>\n",
       "<p>20640 rows × 10 columns</p>\n",
       "</div>"
      ],
      "text/plain": [
       "       longitude  latitude  housing_median_age  total_rooms  total_bedrooms  \\\n",
       "0        -122.23     37.88                41.0        880.0           129.0   \n",
       "1        -122.22     37.86                21.0       7099.0          1106.0   \n",
       "2        -122.24     37.85                52.0       1467.0           190.0   \n",
       "3        -122.25     37.85                52.0       1274.0           235.0   \n",
       "4        -122.25     37.85                52.0       1627.0           280.0   \n",
       "...          ...       ...                 ...          ...             ...   \n",
       "20635    -121.09     39.48                25.0       1665.0           374.0   \n",
       "20636    -121.21     39.49                18.0        697.0           150.0   \n",
       "20637    -121.22     39.43                17.0       2254.0           485.0   \n",
       "20638    -121.32     39.43                18.0       1860.0           409.0   \n",
       "20639    -121.24     39.37                16.0       2785.0           616.0   \n",
       "\n",
       "       population  households  median_income  median_house_value  \\\n",
       "0           322.0       126.0         8.3252            452600.0   \n",
       "1          2401.0      1138.0         8.3014            358500.0   \n",
       "2           496.0       177.0         7.2574            352100.0   \n",
       "3           558.0       219.0         5.6431            341300.0   \n",
       "4           565.0       259.0         3.8462            342200.0   \n",
       "...           ...         ...            ...                 ...   \n",
       "20635       845.0       330.0         1.5603             78100.0   \n",
       "20636       356.0       114.0         2.5568             77100.0   \n",
       "20637      1007.0       433.0         1.7000             92300.0   \n",
       "20638       741.0       349.0         1.8672             84700.0   \n",
       "20639      1387.0       530.0         2.3886             89400.0   \n",
       "\n",
       "      ocean_proximity  \n",
       "0            NEAR BAY  \n",
       "1            NEAR BAY  \n",
       "2            NEAR BAY  \n",
       "3            NEAR BAY  \n",
       "4            NEAR BAY  \n",
       "...               ...  \n",
       "20635          INLAND  \n",
       "20636          INLAND  \n",
       "20637          INLAND  \n",
       "20638          INLAND  \n",
       "20639          INLAND  \n",
       "\n",
       "[20640 rows x 10 columns]"
      ]
     },
     "execution_count": 71,
     "metadata": {},
     "output_type": "execute_result"
    }
   ],
   "source": [
    "df"
   ]
  },
  {
   "cell_type": "code",
   "execution_count": 73,
   "metadata": {},
   "outputs": [
    {
     "data": {
      "image/png": "[encoded data removed]",
      "text/plain": [
       "<Figure size 800x480 with 1 Axes>"
      ]
     },
     "metadata": {
      "needs_background": "light"
     },
     "output_type": "display_data"
    },
    {
     "data": {
      "image/png": "[encoded data removed]",
      "text/plain": [
       "<Figure size 960x560 with 1 Axes>"
      ]
     },
     "metadata": {
      "needs_background": "light"
     },
     "output_type": "display_data"
    }
   ],
   "source": [
    "import matplotlib.pyplot as plt\n",
    "\n",
    "pic = plt.imread('./images/housing.png')\n",
    "fig, ax = plt.subplots(figsize=(10,6), dpi=80)\n",
    "ax.imshow(pic)\n",
    "plt.figure(figsize=(12,7), dpi=80)\n",
    "plt.scatter(df['longitude'], df['latitude'])\n",
    "plt.show()"
   ]
  },
  {
   "cell_type": "markdown",
   "metadata": {},
   "source": [
    "### 如何处理 nan 值\n",
    "\n",
    "* 判断数据中是否有缺失值\n",
    "    * pd.isnull(df)\n",
    "    * pd.notnull(df)\n",
    "\n",
    "* 删除含有缺失值的样本\n",
    "    * df.dropna(axis='rows', inplace=False) # axis 默认是rows；inplace如果为False会拷贝一个新的数据副本\n",
    "\n",
    "* 替换插补\n",
    "    * df.fillna(value, inplace=True/False) # inplace 为 True 会立马在当前数据变量里操作"
   ]
  },
  {
   "cell_type": "code",
   "execution_count": null,
   "metadata": {},
   "outputs": [],
   "source": [
    "pd.isnull(df)"
   ]
  },
  {
   "cell_type": "code",
   "execution_count": null,
   "metadata": {},
   "outputs": [],
   "source": [
    "import numpy as np\n",
    "\n",
    "np.any(pd.isnull(df)) # 返回 True，说明数据中存在缺失值"
   ]
  },
  {
   "cell_type": "code",
   "execution_count": null,
   "metadata": {},
   "outputs": [],
   "source": [
    "np.all(pd.notnull(df)) # 返回 False，说明数据中存在缺失值"
   ]
  },
  {
   "cell_type": "code",
   "execution_count": null,
   "metadata": {},
   "outputs": [],
   "source": [
    "pd.isnull(df).any()"
   ]
  },
  {
   "cell_type": "code",
   "execution_count": null,
   "metadata": {},
   "outputs": [],
   "source": [
    "pd.notnull(df).all()"
   ]
  },
  {
   "cell_type": "code",
   "execution_count": null,
   "metadata": {},
   "outputs": [],
   "source": [
    "data1 = df.dropna() # 处理缺失值"
   ]
  },
  {
   "cell_type": "code",
   "execution_count": null,
   "metadata": {},
   "outputs": [],
   "source": [
    "pd.notnull(data1).all()"
   ]
  },
  {
   "cell_type": "code",
   "execution_count": null,
   "metadata": {},
   "outputs": [],
   "source": [
    "pd.notnull(df).all()"
   ]
  },
  {
   "cell_type": "code",
   "execution_count": null,
   "metadata": {},
   "outputs": [],
   "source": [
    "df['total_bedrooms'].fillna(df['total_bedrooms'].mean(), inplace=True)"
   ]
  },
  {
   "cell_type": "code",
   "execution_count": null,
   "metadata": {},
   "outputs": [],
   "source": [
    "pd.isnull(df).any()"
   ]
  },
  {
   "cell_type": "code",
   "execution_count": null,
   "metadata": {},
   "outputs": [],
   "source": [
    "path = 'https://archive.ics.uci.edu/ml/machine-learning-databases/breast-cancer-wisconsin/breast-cancer-wisconsin.data'\n",
    "names = [   \n",
    "  'Sample code number',            \n",
    "  'Clump Thickness',            \n",
    "  'Uniformity of Cell Size',    \n",
    "  'Uniformity of Cell Shape',   \n",
    "  'Marginal Adhesion',\n",
    "  'Single Epithelial Cell Size',\n",
    "  'Bare Nuclei',                \n",
    "  'Bland Chromatin',       \n",
    "  'Normal Nucleoli',            \n",
    "  'Mitoses',                    \n",
    "  'Class'\n",
    "]\n",
    "df = pd.read_csv(path, names=names)"
   ]
  },
  {
   "cell_type": "code",
   "execution_count": null,
   "metadata": {},
   "outputs": [],
   "source": [
    "df"
   ]
  },
  {
   "cell_type": "markdown",
   "metadata": {},
   "source": [
    "### 替换值"
   ]
  },
  {
   "cell_type": "code",
   "execution_count": null,
   "metadata": {},
   "outputs": [],
   "source": [
    "# df.replace(to_replace='?', value=np.nan)\n",
    "df.replace(to_replace=5, value='999')"
   ]
  },
  {
   "cell_type": "code",
   "execution_count": null,
   "metadata": {},
   "outputs": [],
   "source": [
    "df.isin(['?']).any()"
   ]
  },
  {
   "cell_type": "markdown",
   "metadata": {},
   "source": [
    "### 数据离散化\n",
    "\n",
    "* 自动分组\n",
    "    Series = pd.qcut(data, bins)\n",
    "* 自定义分组\n",
    "    Series = pd.cut(data, [区间])\n",
    "    \n",
    "* 将结果转换成 one-hot 编码\n",
    "    pd.get_dummies(sr, prefix=)"
   ]
  },
  {
   "cell_type": "code",
   "execution_count": null,
   "metadata": {},
   "outputs": [],
   "source": [
    "data = pd.Series([165,174,160,180,159,163,192,184], \n",
    "                 index=['No1:165','No2:174','No3:160','No4:180','No5:159','No6:163','No7:192','No8:184'])\n",
    "data"
   ]
  },
  {
   "cell_type": "markdown",
   "metadata": {},
   "source": [
    "#### 自动分组"
   ]
  },
  {
   "cell_type": "code",
   "execution_count": null,
   "metadata": {},
   "outputs": [],
   "source": [
    "sr = pd.qcut(data, 3)\n",
    "sr"
   ]
  },
  {
   "cell_type": "code",
   "execution_count": null,
   "metadata": {},
   "outputs": [],
   "source": [
    "# 统计个区间数量\n",
    "sr.value_counts()"
   ]
  },
  {
   "cell_type": "code",
   "execution_count": null,
   "metadata": {},
   "outputs": [],
   "source": [
    "pd.get_dummies(sr, prefix='身高')"
   ]
  },
  {
   "cell_type": "markdown",
   "metadata": {},
   "source": [
    "#### 自定义分组"
   ]
  },
  {
   "cell_type": "code",
   "execution_count": null,
   "metadata": {},
   "outputs": [],
   "source": [
    "bins = [150, 170, 180, 190]\n",
    "sr = pd.cut(data, bins)\n",
    "sr"
   ]
  },
  {
   "cell_type": "code",
   "execution_count": null,
   "metadata": {},
   "outputs": [],
   "source": [
    "sr.value_counts()"
   ]
  },
  {
   "cell_type": "code",
   "execution_count": null,
   "metadata": {},
   "outputs": [],
   "source": [
    "pd.get_dummies(sr, prefix='Height')"
   ]
  },
  {
   "cell_type": "markdown",
   "metadata": {},
   "source": [
    "### 合并与拼接"
   ]
  },
  {
   "cell_type": "code",
   "execution_count": null,
   "metadata": {},
   "outputs": [],
   "source": [
    "import numpy as np\n",
    "\n",
    "data = pd.DataFrame(np.random.normal(0, 1, (10, 5)))\n",
    "data"
   ]
  },
  {
   "cell_type": "code",
   "execution_count": null,
   "metadata": {},
   "outputs": [],
   "source": [
    "data1 = pd.DataFrame(np.random.normal(10,100,(10,5)))\n",
    "data1"
   ]
  },
  {
   "cell_type": "code",
   "execution_count": null,
   "metadata": {},
   "outputs": [],
   "source": [
    "# 按方向拼接\n",
    "pd.concat([data, data1], axis=1)"
   ]
  },
  {
   "cell_type": "code",
   "execution_count": null,
   "metadata": {},
   "outputs": [],
   "source": [
    "pd.concat([data, data1], axis=0)"
   ]
  },
  {
   "cell_type": "code",
   "execution_count": null,
   "metadata": {},
   "outputs": [],
   "source": [
    "# 按索引拼接\n",
    "# pd.merge(left, right, how='inner/outer/left/right', on=[索引])\n"
   ]
  },
  {
   "cell_type": "markdown",
   "metadata": {},
   "source": [
    "### 交叉表和透视表\n",
    "* 找到或者探索两个变量之间的关系\n",
    "* pd.crosstab(value1,value2)"
   ]
  },
  {
   "cell_type": "code",
   "execution_count": null,
   "metadata": {},
   "outputs": [],
   "source": [
    "df = pd.DataFrame({\n",
    "'date': ['2020-03-02', '2020-03-03', '2020-03-04', '2020-03-05', '2020-03-06'],\n",
    "'up': [-0.1, 1.2, -1.5, 0.8, -0.5],\n",
    "'down':[5.56, 4.20, 1.30, 0.56, 2.75],\n",
    "'more':[4.75, 4.12, 1.60, 0.75, 3.15]\n",
    "})\n",
    "df"
   ]
  },
  {
   "cell_type": "code",
   "execution_count": null,
   "metadata": {},
   "outputs": [],
   "source": [
    "ndf = df.set_index('date', drop=True)\n",
    "ndf"
   ]
  },
  {
   "cell_type": "code",
   "execution_count": null,
   "metadata": {},
   "outputs": [],
   "source": [
    "date = pd.to_datetime(ndf.index)\n",
    "date"
   ]
  },
  {
   "cell_type": "code",
   "execution_count": null,
   "metadata": {},
   "outputs": [],
   "source": [
    "date.year"
   ]
  },
  {
   "cell_type": "code",
   "execution_count": null,
   "metadata": {},
   "outputs": [],
   "source": [
    "date.month"
   ]
  },
  {
   "cell_type": "code",
   "execution_count": null,
   "metadata": {},
   "outputs": [],
   "source": [
    "date.day"
   ]
  },
  {
   "cell_type": "code",
   "execution_count": null,
   "metadata": {},
   "outputs": [],
   "source": [
    "ndf['weekday'] = date.weekday"
   ]
  },
  {
   "cell_type": "code",
   "execution_count": null,
   "metadata": {},
   "outputs": [],
   "source": [
    "ndf['pona'] = np.where(ndf['up'] > 0, 1, 0)"
   ]
  },
  {
   "cell_type": "code",
   "execution_count": null,
   "metadata": {},
   "outputs": [],
   "source": [
    "ndf"
   ]
  },
  {
   "cell_type": "code",
   "execution_count": null,
   "metadata": {},
   "outputs": [],
   "source": [
    "pd.crosstab(ndf['weekday'], ndf['pona'])"
   ]
  },
  {
   "cell_type": "code",
   "execution_count": null,
   "metadata": {},
   "outputs": [],
   "source": [
    "ndf.pivot_table(['pona'], index=['weekday'])"
   ]
  },
  {
   "cell_type": "markdown",
   "metadata": {},
   "source": [
    "### 分组与聚合"
   ]
  },
  {
   "cell_type": "code",
   "execution_count": null,
   "metadata": {},
   "outputs": [],
   "source": [
    "col = pd.DataFrame({\n",
    "'color': ['white', 'red', 'green', 'red', 'green'],\n",
    "'object': ['pen', 'pencil', 'pencil', 'ashtray', 'pen'],\n",
    "'price1':[5.56, 4.20, 1.30, 0.56, 2.75],\n",
    "'price2':[4.75, 4.12, 1.60, 0.75, 3.15]\n",
    "})\n",
    "col"
   ]
  },
  {
   "cell_type": "code",
   "execution_count": null,
   "metadata": {},
   "outputs": [],
   "source": [
    "# 对颜色分组，对price聚合\n",
    "col.groupby(by='color')['price1'].max() # 方法1， 使用 DataFrame 对象"
   ]
  },
  {
   "cell_type": "code",
   "execution_count": null,
   "metadata": {},
   "outputs": [],
   "source": [
    "col.groupby(by='color')['price2'].max()"
   ]
  },
  {
   "cell_type": "code",
   "execution_count": null,
   "metadata": {},
   "outputs": [],
   "source": [
    "col['price1'].groupby(col['color']).max() # 方法2， 使用 Series 对象"
   ]
  },
  {
   "cell_type": "markdown",
   "metadata": {},
   "source": [
    "### 星巴克零售店铺数据案例"
   ]
  },
  {
   "cell_type": "code",
   "execution_count": null,
   "metadata": {},
   "outputs": [],
   "source": [
    "starbucks = pd.read_csv('./csv/directory.csv')\n",
    "starbucks"
   ]
  },
  {
   "cell_type": "code",
   "execution_count": null,
   "metadata": {},
   "outputs": [],
   "source": [
    "starbucks.groupby(by='Country').count()['Brand'].sort_values(ascending=False).head(10).plot(kind='bar', figsize=(10,6), fontsize=20)"
   ]
  },
  {
   "cell_type": "code",
   "execution_count": null,
   "metadata": {},
   "outputs": [],
   "source": [
    "# 按国家和省市对数据分组\n",
    "starbucks.groupby(by=['Country', 'State/Province']).count()"
   ]
  },
  {
   "cell_type": "code",
   "execution_count": null,
   "metadata": {},
   "outputs": [],
   "source": []
  }
 ],
 "metadata": {
  "kernelspec": {
   "display_name": "Python 3",
   "language": "python",
   "name": "python3"
  },
  "language_info": {
   "codemirror_mode": {
    "name": "ipython",
    "version": 3
   },
   "file_extension": ".py",
   "mimetype": "text/x-python",
   "name": "python",
   "nbconvert_exporter": "python",
   "pygments_lexer": "ipython3",
   "version": "3.7.6"
  }
 },
 "nbformat": 4,
 "nbformat_minor": 4
}
