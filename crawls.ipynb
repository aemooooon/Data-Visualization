{
 "cells": [
  {
   "cell_type": "markdown",
   "metadata": {},
   "source": [
    "# 爬虫学习笔记\n",
    "\n",
    "> ref： 阿里云大学 - Python网络爬虫快速入门到精通 - 韦玮"
   ]
  },
  {
   "cell_type": "markdown",
   "metadata": {},
   "source": [
    "__Content__\n",
    "* urllib\n",
    "* requests\n",
    "* scrapy"
   ]
  },
  {
   "cell_type": "markdown",
   "metadata": {},
   "source": [
    "## urllib"
   ]
  },
  {
   "cell_type": "markdown",
   "metadata": {},
   "source": [
    "### 基本操作"
   ]
  },
  {
   "cell_type": "code",
   "execution_count": 1,
   "metadata": {},
   "outputs": [
    {
     "data": {
      "text/plain": [
       "'<!DOCTYPE html>\\n<html>\\n\\n<head>\\n    <meta charset=\"utf8\" version=\\'1\\'/>\\n    <title>京东(JD.COM)-正品低价、品质保障、配送及时、轻松购物！</title>\\n    <meta name=\"viewport\" content=\"width=device-width, initial-scale=1.0, maximum-scale=1.0, user-scalable=yes\"/>\\n    <meta name=\"description\"\\n          content=\"京东JD.COM-专业的综合网上购物商城,销售家电、数码通讯、电脑、家居百货、服装服饰、母婴、图书、食品等数万个品牌优质商品.便捷、诚信的服务，为您提供愉悦的网上购物体验!\"/>\\n    <meta name=\"Keywords\" content=\"网上购物,网上商城,手机,笔记本,电脑,MP3,CD,VCD,DV,相机,数码,配件,手表,存储卡,京东\"/>\\n    <script type=\"text/javascript\">\\n        window.point = {}\\n        window.point.start = new Date().getTime()\\n    </script>\\n    <link rel=\"dns-prefetch\" href=\"//static.360buyimg.com\"/>\\n    <link rel=\"dns-prefetch\" href=\"//misc.360buyimg.com\"/>\\n    <link rel=\"dns-prefetch\" href=\"//img10.360buyimg.com\"/>\\n    <link rel=\"dns-prefetch\" href=\"//img11.360buyimg.com\"/>\\n    <link rel=\"dns-prefetch\" href=\"//img12.360buyimg.com\"/>\\n    <link rel=\"dns-prefetch\" href=\"//img13.360buyimg.com\"/>\\n    <link rel=\"dns-prefetch\" href=\"//img14.360buyimg.com\"/>\\n    <link rel=\"dns-prefetch\" href=\"//img20.360buyimg.com\"/>\\n    <link rel=\"dns-prefetch\" href=\"//img30.360buyimg.com\"/>\\n    <link rel=\"dns-prefetch\" href=\"//d.3.cn\"/>\\n    <link rel=\"dns-prefetch\" href=\"//d.jd.com\"/>\\n    <link rel=\"icon\" href=\"//www.jd.com/favicon.ico\" mce_href=\"//www.jd.com/favicon.ico\" type=\"image/x-icon\"/>\\n    <meta http-equiv=\"X-UA-Compatible\" content=\"IE=edge,chrome=1\"/>\\n    <meta name=\"renderer\" content=\"webkit\"/>\\n\\n    <!--[if lte IE 6]>\\n    <script src=\"//misc.360buyimg.com/mtd/pc/index/home/ie6tip.min.js\"></script>\\n    <![endif]-->\\n    <!--[if IE 8]>\\n    <script src=\"//misc.360buyimg.com/mtd/pc/index_2019/1.0.0/static/lib/polyfill/index.js\"></script>\\n    <![endif]-->\\n\\n    <link href=\"//misc.360buyimg.com/mtd/pc/index_2019/1.0.0/static/css/first-screen.chunk.css\" rel=\"stylesheet\"/>\\n\\n    <link href=\"//misc.360buyimg.com/mtd/pc/index_2019/1.0.0/static/css/index.chunk.css\" rel=\"stylesheet\"/>\\n    <script type=\"text/javascript\">\\n        window.point.css = new Date().getTime()\\n    </script>\\n    <script type=\"text/javascript\">\\n        window.pageConfig = {};\\n        //灰度区间配置\\n        window.pageConfig.hashRange=[{\"start\":0,\"end\":5000},{\"start\":5000,\"end\":10000}];\\r\\n\\t\\t//灰度区间统一配置\\n\\t\\twindow.pageConfig.hashList ={\"research\":[{\"start\":\"0\",\"end\":\"2000\"},{\"start\":\"2000\",\"end\":\"10000\"}],\"navitems\":[{\"start\":\"0\",\"end\":\"5000\"},{\"start\":\"5000\",\"end\":\"10000\"}]};\\r\\n        // 大促配置\\n        window.promotional = {};\\n        window.promotional.enableShowToolbar = false;\\r\\n        window.pageConfig.enableShowSpecialTop = false;\\r\\n        window.promotional.enableShowTop = true;\\r\\n\\t\\twindow.promotional.isSingleActivityTop = true;\\r\\n        window.promotional.enableShowActMark = true;\\r\\n\\t\\twindow.promotional.actTimeStart = new Date(\\'2020/03/01 00:00:00\\').getTime();\\r\\n\\t\\twindow.promotional.actTimeEnd = new Date(\\'2020/03/08 23:59:59\\').getTime();\\r\\n\\t\\twindow.promotional.focusTag = \\'jfs/t1/92799/5/12520/6223/5e4d0603E338f9986/4978d04113632c35.jpg\\';\\r\\n\\t\\twindow.promotional.focusTagRetina = \\'jfs/t1/93880/33/12652/13913/5e4d0609Efe74b090/b11b8d9e0a173cfd.jpg\\';\\r\\n\\t\\twindow.promotional.topTag = \\'jfs/t1/91220/14/13605/13990/5e5aa5c7E591e30d2/6cda5b1d2da640d7.jpg\\';\\r\\n\\t\\twindow.promotional.topTagRetina = \\'jfs/t1/106794/25/13791/34523/5e5aa5d2E37bd5355/4e65301f29ec0a9b.jpg\\';\\r\\n\\t\\t        // 兜底数据\\n        window.backup = {};\\n        //logo\\n         window.pageConfig.logo = {};\\r\\n        //直通车\\n        window.pageConfig.treasure = {\"name\":\"\",\"desc\":\"\",\"href\":\"https:\\\\/\\\\/pro.jd.com\\\\/mall\\\\/active\\\\/44CpW78aaEdnooi2PL3rf3vUPw3J\\\\/index.html\",\"src\":\"https:\\\\/\\\\/m.360buyimg.com\\\\/babel\\\\/jfs\\\\/t1\\\\/110439\\\\/33\\\\/7523\\\\/32406\\\\/5e5dce33E7a072ffb\\\\/a3faacd544c1da7f.png\"};\\r\\n        //背板\\n        window.pageConfig.background = {\"bothBgPic\":\"jfs\\\\/t1\\\\/102608\\\\/1\\\\/14191\\\\/66872\\\\/5e6061eeEa2a6ea22\\\\/7dd2a7067bba5313.png\",\"href\":\"https:\\\\/\\\\/prodev.jd.com\\\\/mall\\\\/active\\\\/3zCbd7rYd9vheaxRUUVvdL7cHeho\\\\/index.html\"};\\r\\n        // 页面配置\\n        window.pageConfig.enableActMark = false;\\r\\n\\t\\twindow.pageConfig.clstagPrefix = \\'h|keycount|\\';\\r\\n\\t\\twindow.pageConfig.O2_REPORT = 100;\\r\\n\\t\\twindow.pageConfig.serverTime = new Date(\\'2020/03/08 16:12:02\\').getTime();\\r\\n\\t\\twindow.pageConfig.actStart = new Date(\\'2019/10/18 00:00:00\\').getTime();\\r\\n\\t\\twindow.pageConfig.actEnd = new Date(\\'2019/11/15 23:59:59\\').getTime();\\r\\n        // 手机京东\\n        window.pageConfig.shortcutMobileData=[{\"title\":\"\\\\u624b\\\\u673a\\\\u4eac\\\\u4e1c\",\"desc\":\"\\\\u65b0\\\\u4eba\\\\u4e13\\\\u4eab\\\\u5927\\\\u793c\\\\u5305\",\"img\":\"jfs\\\\/t1\\\\/67481\\\\/15\\\\/565\\\\/28110\\\\/5cec9234E71c47244\\\\/dc4cf353fd96922e.png\",\"url\":\"https:\\\\/\\\\/app.jd.com\\\\/\",\"devices\":[{\"type\":\"iphone\",\"src\":\"https:\\\\/\\\\/itunes.apple.com\\\\/cn\\\\/app\\\\/id414245413\"},{\"type\":\"android\",\"src\":\"https:\\\\/\\\\/storage.jd.com\\\\/jdmobile\\\\/JDMALL-PC2.apk\"},{\"type\":\"ipad\",\"src\":\"https:\\\\/\\\\/itunes.apple.com\\\\/cn\\\\/app\\\\/jing-dong-hd\\\\/id434374726\"}]},{\"title\":\"\\\\u5173\\\\u6ce8\\\\u4eac\\\\u4e1cJD.COM\",\"desc\":\"\\\\u626b\\\\u4e00\\\\u626b\\\\u5173\\\\u6ce8\\\\u53c2\\\\u4e0e\\\\u5ba0\\\\u7c89\\\\u5927\\\\u62bd\\\\u5956\\\\uff0c\\\\u9650\\\\u65f6\\\\u62bd\\\\u7231\\\\u5947\\\\u827a\\\\u89c6\\\\u9891\\\\u6708\\\\u5361\",\"img\":\"jfs\\\\/t1\\\\/103930\\\\/25\\\\/12274\\\\/24077\\\\/5e465e2cE8bc26440\\\\/7aeeb0776ee86c41.png\",\"url\":\"\",\"devices\":[]},{\"title\":\"\\\\u4eac\\\\u4e1c\\\\u91d1\\\\u878d\\\\u5ba2\\\\u6237\\\\u7aef\",\"desc\":\"\\\\u65b0\\\\u4eba\\\\u4e13\\\\u4eab\\\\u5927\\\\u793c\\\\u5305\",\"img\":\"jfs\\\\/t1\\\\/36947\\\\/5\\\\/10895\\\\/15408\\\\/5cec924bE6c038530\\\\/5cf21582b416c186.jpg\",\"url\":\"https:\\\\/\\\\/m.jr.jd.com\\\\/integrate\\\\/download\\\\/html\\\\/pc.html\",\"devices\":[{\"type\":\"iphone\",\"src\":\"https:\\\\/\\\\/itunes.apple.com\\\\/cn\\\\/app\\\\/jing-dong-jin-rong-hui-li\\\\/id895682747?mt=8\"},{\"type\":\"android\",\"src\":\"http:\\\\/\\\\/211.151.9.66\\\\/downapp\\\\/jrapp_jr188.apk\"}]}];\\r\\n        //今日推荐\\n        window.backup.today=[{\"alt\":\"\\\\u4eac\\\\u4e1cE\\\\u5361\",\"ext_columns\":{\"desc\":\"\",\"biclk\":\"1#f54b3caf538d7d7e6159eff08f4d65d3bd24a71e-103-619066#19632029\",\"ap\":\"E8yDaj8KgT4QGR1KVf2OTw==\",\"focustype\":\"s\",\"url\":\"\\\\/\\\\/pro.jd.com\\\\/mall\\\\/active\\\\/2QSiqYpVaytYcinGhSGZVA585WBq\\\\/index.html\",\"mcinfo\":\"03294000-11213217-4801320927-M#0-2-1--59--#1-tb-#102-19632029#pc-home\",\"text\":\"\\\\u4eac\\\\u4e1cE\\\\u5361\"},\"srcB\":\"\\\\/\\\\/m.360buyimg.com\\\\/babel\\\\/jfs\\\\/t1\\\\/88411\\\\/13\\\\/13473\\\\/68158\\\\/5e57984cE0814ce1d\\\\/bf8ec2a834083956.jpg\",\"type\":\"material\",\"gid\":\"03294000\",\"href\":\"\\\\/\\\\/pro.jd.com\\\\/mall\\\\/active\\\\/2QSiqYpVaytYcinGhSGZVA585WBq\\\\/index.html\",\"src\":\"\\\\/\\\\/m.360buyimg.com\\\\/babel\\\\/jfs\\\\/t1\\\\/88411\\\\/13\\\\/13473\\\\/68158\\\\/5e57984cE0814ce1d\\\\/bf8ec2a834083956.jpg\"},{\"alt\":\"\",\"ext_columns\":{\"desc\":\"\",\"biclk\":\"1#f54b3caf538d7d7e6159eff08f4d65d3bd24a71e-103-619066#19632029\",\"ap\":\"N2C2i33wMLJJk7q7dyDWlg==\",\"focustype\":\"s\",\"url\":\"\\\\/\\\\/pro.jd.com\\\\/mall\\\\/active\\\\/4P9a2T9osR9JvtzHVaYTPvsecRtg\\\\/index.html\",\"mcinfo\":\"03294000-11213217-4801320768-M#0-2-1--59--#1-tb-#102-19632029#pc-home\",\"text\":\"\"},\"srcB\":\"\\\\/\\\\/m.360buyimg.com\\\\/babel\\\\/jfs\\\\/t1\\\\/86186\\\\/1\\\\/13742\\\\/21459\\\\/5e5c9d90E8bf4f60a\\\\/ab41c6db79b55f8e.jpg\",\"type\":\"material\",\"gid\":\"03294000\",\"href\":\"\\\\/\\\\/pro.jd.com\\\\/mall\\\\/active\\\\/4P9a2T9osR9JvtzHVaYTPvsecRtg\\\\/index.html\",\"src\":\"\\\\/\\\\/m.360buyimg.com\\\\/babel\\\\/jfs\\\\/t1\\\\/86186\\\\/1\\\\/13742\\\\/21459\\\\/5e5c9d90E8bf4f60a\\\\/ab41c6db79b55f8e.jpg\"},{\"ext_columns\":{\"focustype\":\"g\"},\"type\":\"ad\",\"clog\":\"\\\\/\\\\/im-x.jd.com\\\\/dsp\\\\/np?log=HDqgeb0SaoUixpQbNPr6NShNVAvTFJun-ep-PXUVh18wNO7jLD09klfQLhUZjpBMFGuFqW3p2HxOIhEig3VLs76LqKTBZrs_S5K_45sfE-mDqDJwQoHaE8_bTdOBbYU9hZXOmqOq5zPF2BYnrub25Ac-HSS8bGRwZdFwcZd8muGTZmvDU4ULP_2OrOSTePWFauwHLY7VDxoPx_vKW_nFM9pf139llbj2uawLxvCpYjdt_wPnbpcMjnMJ-cZEK4zQEEYgRJdrAthEHPmxPxXdqYtyRInyT3hcaPZ9pfIRufMwGB7Dd7dLZtIldwWRGNAlCnLwYwzRGCrv9fwkUGgHBiVTgSvMurP0kgxc6sC2f3K57FewMPrEn6M6pNhbM9DVgiTrkg_YO3JgHcES4_QdKFAQWZYxFXpsqRnqCbz9jXUfyXIDp64FxYEHgehSvtPNQ7tBfRxrujSvzdKJVZf8I0LeAhBJrb_FCJ8DnUR9RASoZ3Y3qj1PQk_p_2iahEyHWwoGmk2TkEK2V2Kx6H9tjtl_SWoqdGmIFpZ95A_AMcD3VjHMu8UVeA9ipACUVVTR_zR_5Aq3Lx5LVGH-eC9NE2mrWAj3sS8RqnPyYJ2JsFkxgiC2JfoB1zNwGYIpa_Cc1QhkQZDU711hjuUu5dSLAA&v=404&seq=1\",\"href\":\"\\\\/\\\\/ccc-x.jd.com\\\\/dsp\\\\/nc?ext=aHR0cHM6Ly9tYWxsLmpkLmNvbS9pbmRleC0xOTA3MTUuaHRtbA&log=HDqgeb0SaoUixpQbNPr6NShNVAvTFJun-ep-PXUVh18wNO7jLD09klfQLhUZjpBMFGuFqW3p2HxOIhEig3VLs76LqKTBZrs_S5K_45sfE-mDqDJwQoHaE8_bTdOBbYU9hZXOmqOq5zPF2BYnrub25KqHu2RrPjzeIy-vh0vv6ruu6xoCAbZxXiWC_dwcLtUtxwjFnDKidHTkWP14Je6h9m33BIN77T30XrtENiy1nc7Rr3LJuVY4Vavec9I7WVGFK9hv5wpHlvnQPSBBWIDiuOaz1DnxUwqb0pgwNPZrC6GXMsSyxPe2uHL-ET1NNKxTm849GTFl71lyJrQ1bdRTLkF6b_z1ZaurI49-_GEqUs8GJuwi0eQYGMnp3Aag93eQzxJDCvPgX9HxisvLLlsw3UOIV7CQvXHs4JkttJAbnle8zeaWSkmMP6XQoE7wp72AjsjuAbH_IserAkHOjm3ilt242FD94Ta42Hirpmf4bne_xLvYX-RjMiwmHdGfM3cmKA3JwFenXdgZoaeJWceuv-y3zxqJzowPiOKMlLeUPSSA6KfmwIBmOhQioD4ZCsp6Bgvnk47fWkspVyi8XQiVqGyc-9chTNQcUQMFAO3UrhDFtVpzyTZ9z-qPj7u-sm8NdbPYyTWRkN6am2n_j4K9SQ_50toYkIdtZzlvOU4Cfno&v=404\",\"src\":\"\\\\/\\\\/img1.360buyimg.com\\\\/pop\\\\/jfs\\\\/t1\\\\/81495\\\\/7\\\\/11163\\\\/82780\\\\/5d89a74fE25d9826e\\\\/fdf1f5b049c5defc.png\"},{\"alt\":\"\",\"ext_columns\":{\"desc\":\"\",\"biclk\":\"1#f54b3caf538d7d7e6159eff08f4d65d3bd24a71e-103-619066#19632029\",\"ap\":\"JJfEr+mi+NRUQVKxhACScQ==\",\"focustype\":\"s\",\"url\":\"\\\\/\\\\/pro.jd.com\\\\/mall\\\\/active\\\\/2T2jyvsVUN36aqrJycWYiCWmgkcW\\\\/index.html\",\"mcinfo\":\"03294000-11213217-4801320754-M#0-2-1--59--#1-tb-#102-19632029#pc-home\",\"text\":\"\"},\"srcB\":\"\\\\/\\\\/m.360buyimg.com\\\\/babel\\\\/jfs\\\\/t1\\\\/96049\\\\/18\\\\/13991\\\\/73648\\\\/5e606c80E1f74ff86\\\\/d7bf4e1c859c2845.jpg\",\"type\":\"material\",\"gid\":\"03294000\",\"href\":\"\\\\/\\\\/pro.jd.com\\\\/mall\\\\/active\\\\/2T2jyvsVUN36aqrJycWYiCWmgkcW\\\\/index.html\",\"src\":\"\\\\/\\\\/m.360buyimg.com\\\\/babel\\\\/jfs\\\\/t1\\\\/96049\\\\/18\\\\/13991\\\\/73648\\\\/5e606c80E1f74ff86\\\\/d7bf4e1c859c2845.jpg\"},{\"alt\":\"\",\"ext_columns\":{\"desc\":\"\",\"biclk\":\"1#f54b3caf538d7d7e6159eff08f4d65d3bd24a71e-103-619066#19632029\",\"ap\":\"1O\\\\/rb+\\\\/3NIORcLZP6k8Sxg==\",\"focustype\":\"s\",\"url\":\"\\\\/\\\\/prodev.jd.com\\\\/mall\\\\/active\\\\/2T2jyvsVUN36aqrJycWYiCWmgkcW\\\\/index.html\",\"mcinfo\":\"03294000-11213217-4801320756-M#0-2-1--59--#1-tb-#102-19632029#pc-home\",\"text\":\"\"},\"srcB\":\"\\\\/\\\\/m.360buyimg.com\\\\/babel\\\\/jfs\\\\/t1\\\\/102739\\\\/1\\\\/13892\\\\/96229\\\\/5e5e3269Ef3041205\\\\/d704b03a0768172a.jpg\",\"type\":\"material\",\"gid\":\"03294000\",\"href\":\"\\\\/\\\\/prodev.jd.com\\\\/mall\\\\/active\\\\/2T2jyvsVUN36aqrJycWYiCWmgkcW\\\\/index.html\",\"src\":\"\\\\/\\\\/m.360buyimg.com\\\\/babel\\\\/jfs\\\\/t1\\\\/102739\\\\/1\\\\/13892\\\\/96229\\\\/5e5e3269Ef3041205\\\\/d704b03a0768172a.jpg\"},{\"alt\":\"\",\"ext_columns\":{\"desc\":\"\",\"biclk\":\"1#f54b3caf538d7d7e6159eff08f4d65d3bd24a71e-103-619066#19632029\",\"ap\":\"i2isl3cpxM8ZUyRRmH0euQ==\",\"focustype\":\"s\",\"url\":\"\\\\/\\\\/pro.jd.com\\\\/mall\\\\/active\\\\/4TmyVop1uwjt7SKsCf1KExNA6zbQ\\\\/index.html\",\"mcinfo\":\"03294000-11213217-4801320787-M#0-2-1--59--#1-tb-#102-19632029#pc-home\",\"text\":\"\"},\"srcB\":\"\\\\/\\\\/m.360buyimg.com\\\\/babel\\\\/jfs\\\\/t1\\\\/95492\\\\/22\\\\/13455\\\\/64856\\\\/5e57b0d8E96a0c0a8\\\\/fb056ad2aeb73a38.jpg\",\"type\":\"material\",\"gid\":\"03294000\",\"href\":\"\\\\/\\\\/pro.jd.com\\\\/mall\\\\/active\\\\/4TmyVop1uwjt7SKsCf1KExNA6zbQ\\\\/index.html\",\"src\":\"\\\\/\\\\/m.360buyimg.com\\\\/babel\\\\/jfs\\\\/t1\\\\/95492\\\\/22\\\\/13455\\\\/64856\\\\/5e57b0d8E96a0c0a8\\\\/fb056ad2aeb73a38.jpg\"},{\"alt\":\"\",\"ext_columns\":{\"desc\":\"\",\"biclk\":\"1#f54b3caf538d7d7e6159eff08f4d65d3bd24a71e-103-619066#19632029\",\"ap\":\"rKCPUJhW+ZPKNpakpc503A==\",\"focustype\":\"s\",\"url\":\"\\\\/\\\\/prodev.jd.com\\\\/mall\\\\/active\\\\/27BMguxzt3tnqMKTSsVofQe4djFt\\\\/index.html\",\"mcinfo\":\"03294000-11213217-4801320778-M#0-2-1--59--#1-tb-#102-19632029#pc-home\",\"text\":\"\"},\"srcB\":\"\\\\/\\\\/m.360buyimg.com\\\\/babel\\\\/jfs\\\\/t1\\\\/90961\\\\/35\\\\/13333\\\\/65053\\\\/5e58f646E0e346982\\\\/ad8142aeebddc505.jpg\",\"type\":\"material\",\"gid\":\"03294000\",\"href\":\"\\\\/\\\\/prodev.jd.com\\\\/mall\\\\/active\\\\/27BMguxzt3tnqMKTSsVofQe4djFt\\\\/index.html\",\"src\":\"\\\\/\\\\/m.360buyimg.com\\\\/babel\\\\/jfs\\\\/t1\\\\/90961\\\\/35\\\\/13333\\\\/65053\\\\/5e58f646E0e346982\\\\/ad8142aeebddc505.jpg\"},{\"alt\":\"\",\"ext_columns\":{\"desc\":\"\",\"biclk\":\"1#f54b3caf538d7d7e6159eff08f4d65d3bd24a71e-103-619066#19632029\",\"ap\":\"MeVvARxBG8uapqfSB8\\\\/3Mw==\",\"focustype\":\"s\",\"url\":\"\\\\/\\\\/prodev.jd.com\\\\/mall\\\\/active\\\\/4AAaqXaAJDsNjfyC2uUMYFXz7995\\\\/index.html\",\"mcinfo\":\"03294000-11213217-4801320783-M#0-2-1--59--#1-tb-#102-19632029#pc-home\",\"text\":\"\"},\"srcB\":\"\\\\/\\\\/m.360buyimg.com\\\\/babel\\\\/jfs\\\\/t1\\\\/88413\\\\/17\\\\/13500\\\\/78984\\\\/5e58aee3Ecea90e6f\\\\/e86696b8823d05cc.jpg\",\"type\":\"material\",\"gid\":\"03294000\",\"href\":\"\\\\/\\\\/prodev.jd.com\\\\/mall\\\\/active\\\\/4AAaqXaAJDsNjfyC2uUMYFXz7995\\\\/index.html\",\"src\":\"\\\\/\\\\/m.360buyimg.com\\\\/babel\\\\/jfs\\\\/t1\\\\/88413\\\\/17\\\\/13500\\\\/78984\\\\/5e58aee3Ecea90e6f\\\\/e86696b8823d05cc.jpg\"},{\"alt\":\"\",\"ext_columns\":{\"desc\":\"\",\"biclk\":\"1#f54b3caf538d7d7e6159eff08f4d65d3bd24a71e-103-619066#19632029\",\"ap\":\"ar9+8SIul6WNJXefHICPaQ==\",\"focustype\":\"s\",\"url\":\"\\\\/\\\\/pro.jd.com\\\\/mall\\\\/active\\\\/4BonccBkFBPS1QaKtpFxo1KQsh8R\\\\/index.html\",\"mcinfo\":\"03294000-11213217-4801320751-M#0-2-1--59--#1-tb-#102-19632029#pc-home\",\"text\":\"\"},\"srcB\":\"\\\\/\\\\/m.360buyimg.com\\\\/babel\\\\/jfs\\\\/t1\\\\/92836\\\\/18\\\\/14100\\\\/70226\\\\/5e61ab06Ef4bb33aa\\\\/012b7be7307b5388.jpg\",\"type\":\"material\",\"gid\":\"03294000\",\"href\":\"\\\\/\\\\/pro.jd.com\\\\/mall\\\\/active\\\\/4BonccBkFBPS1QaKtpFxo1KQsh8R\\\\/index.html\",\"src\":\"\\\\/\\\\/m.360buyimg.com\\\\/babel\\\\/jfs\\\\/t1\\\\/92836\\\\/18\\\\/14100\\\\/70226\\\\/5e61ab06Ef4bb33aa\\\\/012b7be7307b5388.jpg\"}];\\r\\n        //首焦兜底(新)\\n        window.backup.focusbak=[{\"alt\":\"\\\\u4eac\\\\u4e1cE\\\\u5361\",\"ext_columns\":{\"desc\":\"\",\"biclk\":\"1#f54b3caf538d7d7e6159eff08f4d65d3bd24a71e-103-619066#19632029\",\"ap\":\"E8yDaj8KgT4QGR1KVf2OTw==\",\"focustype\":\"s\",\"url\":\"\\\\/\\\\/pro.jd.com\\\\/mall\\\\/active\\\\/2QSiqYpVaytYcinGhSGZVA585WBq\\\\/index.html\",\"mcinfo\":\"03294000-11213217-4801320927-M#0-2-1--59--#1-tb-#102-19632029#pc-home\",\"text\":\"\\\\u4eac\\\\u4e1cE\\\\u5361\"},\"srcB\":\"\\\\/\\\\/m.360buyimg.com\\\\/babel\\\\/jfs\\\\/t1\\\\/88411\\\\/13\\\\/13473\\\\/68158\\\\/5e57984cE0814ce1d\\\\/bf8ec2a834083956.jpg\",\"type\":\"material\",\"gid\":\"03294000\",\"href\":\"\\\\/\\\\/pro.jd.com\\\\/mall\\\\/active\\\\/2QSiqYpVaytYcinGhSGZVA585WBq\\\\/index.html\",\"src\":\"\\\\/\\\\/m.360buyimg.com\\\\/babel\\\\/jfs\\\\/t1\\\\/88411\\\\/13\\\\/13473\\\\/68158\\\\/5e57984cE0814ce1d\\\\/bf8ec2a834083956.jpg\"},{\"alt\":\"\",\"ext_columns\":{\"desc\":\"\",\"biclk\":\"1#f54b3caf538d7d7e6159eff08f4d65d3bd24a71e-103-619066#19632029\",\"ap\":\"N2C2i33wMLJJk7q7dyDWlg==\",\"focustype\":\"s\",\"url\":\"\\\\/\\\\/pro.jd.com\\\\/mall\\\\/active\\\\/4P9a2T9osR9JvtzHVaYTPvsecRtg\\\\/index.html\",\"mcinfo\":\"03294000-11213217-4801320768-M#0-2-1--59--#1-tb-#102-19632029#pc-home\",\"text\":\"\"},\"srcB\":\"\\\\/\\\\/m.360buyimg.com\\\\/babel\\\\/jfs\\\\/t1\\\\/86186\\\\/1\\\\/13742\\\\/21459\\\\/5e5c9d90E8bf4f60a\\\\/ab41c6db79b55f8e.jpg\",\"type\":\"material\",\"gid\":\"03294000\",\"href\":\"\\\\/\\\\/pro.jd.com\\\\/mall\\\\/active\\\\/4P9a2T9osR9JvtzHVaYTPvsecRtg\\\\/index.html\",\"src\":\"\\\\/\\\\/m.360buyimg.com\\\\/babel\\\\/jfs\\\\/t1\\\\/86186\\\\/1\\\\/13742\\\\/21459\\\\/5e5c9d90E8bf4f60a\\\\/ab41c6db79b55f8e.jpg\"},{\"ext_columns\":{\"focustype\":\"g\"},\"type\":\"ad\",\"clog\":\"\\\\/\\\\/im-x.jd.com\\\\/dsp\\\\/np?log=EaIbF-ApTGt9GWX0EIzxpOXZ2tG_9kcF1hbc9-J3aL_MXSJSBzbbYN_ivbvUWUchN185en2m0SC4SWFk5L6aVlyH2R3fqnfJJ-BVuywHGP0pO4aSlopzAstwmO8O4bjW_H0Hvh71uNXX3NpdjGkGChCdWiH1oYCHVocRFtx172PmxnRa1AVsLwickIuDPlv-grI5rdJqXkA-sjfAsyjP6y1c3wvwS5MRFPL0Fxe5YFGMHrwXDHpV7Gb5fmCEsSGay2cEjLhf2bOdcbL_PBEmgiUQs_M9K2kQ_RVveVkJ6lrnDHO_2CYpJ3IBB_jdSWirDMCOso1y7dbodzKJV1HZv6D2_SMwHsX8iD9RhOw2oQoUJs3zzRwZXco2AUy2e2mwZUc0cJXUDvgrtqqUgfnDzOjlxV_0NC_SiEvrfC1BoAvara7Rvc-3c_7o3VFAgxFetw-_DQj85TBoN9VQ6XqTyxL0rD5GrsLh7yUceF7K90AqeZ2OQMDLdEHkymi56W4viUVlenI2b9NnIYG-JFZyUoPwQqws8RNkidp-HwDrnJZNGtvL44K7-piCZFHSkXk6v6Gj0qScoDLeNTezuGt92a0r_zzTnhrdirBp2HEnXhSD7YRyCSzrH9NNqXIHws28bhP2N75Bg2tZcNM7fEJ8-juduEVRCR9rzZXRIA5Syo5mCXIGcpdPifcmG1keIgo8&v=404&seq=1\",\"href\":\"\\\\/\\\\/ccc-x.jd.com\\\\/dsp\\\\/nc?ext=aHR0cHM6Ly9tYWxsLmpkLmNvbS9pbmRleC0xOTA3MTUuaHRtbA&log=EaIbF-ApTGt9GWX0EIzxpOXZ2tG_9kcF1hbc9-J3aL_MXSJSBzbbYN_ivbvUWUchN185en2m0SC4SWFk5L6aVlyH2R3fqnfJJ-BVuywHGP0pO4aSlopzAstwmO8O4bjW_H0Hvh71uNXX3NpdjGkGCrt3XRoAWlesma8ulNwIgBnCIT2HNJT5see84UcEAm0SteZOBXIiC9hbJLml-CbXJJMjazTH4Lm0lpPjupXAKiTFrzUb_YDByyJKgkP3XV8eSH6Ke7bVdYHfce9PcOhzaGhiecSLWizmjhwk5T2v-gY9GP6ZfsMUZwZMmne-Ehab22hL8-0lccNzfC6rK7lJWxtPzy3cPweyxgBKPX72vydnTRkuxwuZkP5I_rcn8u3z8k0B6iQ-k2kiwxgjWJCgEflyrdvcRHMxudGHK0gL6LgLdvQbLK8sZs74h8QotHdE6v4o8Kry-Ei8tW7f7e5icISQ-WNxJxXmWK1QZwKlUwfrZEncbAlGt_HULT0g1dP-hQgdfGR9l-TF8JM4fbiiCs-mAn7mygVPuUHia7KG7Z7qUBvlQgP6GQwY1RVKjjvmIxjbyuNNzBPJLMNbOs9EDJ14amVCGYZ-Jcx4c_lPpx46GfJZmK7OY8YIxokrRB-OOTHHlCbnWC7ZuA7ilp_4ld1VYBlm32sprrRCDLVlurA6uuSuhgIffMgUvPtJmXws&v=404\",\"src\":\"\\\\/\\\\/img1.360buyimg.com\\\\/pop\\\\/jfs\\\\/t1\\\\/81495\\\\/7\\\\/11163\\\\/82780\\\\/5d89a74fE25d9826e\\\\/fdf1f5b049c5defc.png\"},{\"alt\":\"\",\"ext_columns\":{\"desc\":\"\",\"biclk\":\"1#f54b3caf538d7d7e6159eff08f4d65d3bd24a71e-103-619066#19632029\",\"ap\":\"JJfEr+mi+NRUQVKxhACScQ==\",\"focustype\":\"s\",\"url\":\"\\\\/\\\\/pro.jd.com\\\\/mall\\\\/active\\\\/2T2jyvsVUN36aqrJycWYiCWmgkcW\\\\/index.html\",\"mcinfo\":\"03294000-11213217-4801320754-M#0-2-1--59--#1-tb-#102-19632029#pc-home\",\"text\":\"\"},\"srcB\":\"\\\\/\\\\/m.360buyimg.com\\\\/babel\\\\/jfs\\\\/t1\\\\/96049\\\\/18\\\\/13991\\\\/73648\\\\/5e606c80E1f74ff86\\\\/d7bf4e1c859c2845.jpg\",\"type\":\"material\",\"gid\":\"03294000\",\"href\":\"\\\\/\\\\/pro.jd.com\\\\/mall\\\\/active\\\\/2T2jyvsVUN36aqrJycWYiCWmgkcW\\\\/index.html\",\"src\":\"\\\\/\\\\/m.360buyimg.com\\\\/babel\\\\/jfs\\\\/t1\\\\/96049\\\\/18\\\\/13991\\\\/73648\\\\/5e606c80E1f74ff86\\\\/d7bf4e1c859c2845.jpg\"},{\"alt\":\"\",\"ext_columns\":{\"desc\":\"\",\"biclk\":\"1#f54b3caf538d7d7e6159eff08f4d65d3bd24a71e-103-619066#19632029\",\"ap\":\"1O\\\\/rb+\\\\/3NIORcLZP6k8Sxg==\",\"focustype\":\"s\",\"url\":\"\\\\/\\\\/prodev.jd.com\\\\/mall\\\\/active\\\\/2T2jyvsVUN36aqrJycWYiCWmgkcW\\\\/index.html\",\"mcinfo\":\"03294000-11213217-4801320756-M#0-2-1--59--#1-tb-#102-19632029#pc-home\",\"text\":\"\"},\"srcB\":\"\\\\/\\\\/m.360buyimg.com\\\\/babel\\\\/jfs\\\\/t1\\\\/102739\\\\/1\\\\/13892\\\\/96229\\\\/5e5e3269Ef3041205\\\\/d704b03a0768172a.jpg\",\"type\":\"material\",\"gid\":\"03294000\",\"href\":\"\\\\/\\\\/prodev.jd.com\\\\/mall\\\\/active\\\\/2T2jyvsVUN36aqrJycWYiCWmgkcW\\\\/index.html\",\"src\":\"\\\\/\\\\/m.360buyimg.com\\\\/babel\\\\/jfs\\\\/t1\\\\/102739\\\\/1\\\\/13892\\\\/96229\\\\/5e5e3269Ef3041205\\\\/d704b03a0768172a.jpg\"},{\"alt\":\"\",\"ext_columns\":{\"desc\":\"\",\"biclk\":\"1#f54b3caf538d7d7e6159eff08f4d65d3bd24a71e-103-619066#19632029\",\"ap\":\"i2isl3cpxM8ZUyRRmH0euQ==\",\"focustype\":\"s\",\"url\":\"\\\\/\\\\/pro.jd.com\\\\/mall\\\\/active\\\\/4TmyVop1uwjt7SKsCf1KExNA6zbQ\\\\/index.html\",\"mcinfo\":\"03294000-11213217-4801320787-M#0-2-1--59--#1-tb-#102-19632029#pc-home\",\"text\":\"\"},\"srcB\":\"\\\\/\\\\/m.360buyimg.com\\\\/babel\\\\/jfs\\\\/t1\\\\/95492\\\\/22\\\\/13455\\\\/64856\\\\/5e57b0d8E96a0c0a8\\\\/fb056ad2aeb73a38.jpg\",\"type\":\"material\",\"gid\":\"03294000\",\"href\":\"\\\\/\\\\/pro.jd.com\\\\/mall\\\\/active\\\\/4TmyVop1uwjt7SKsCf1KExNA6zbQ\\\\/index.html\",\"src\":\"\\\\/\\\\/m.360buyimg.com\\\\/babel\\\\/jfs\\\\/t1\\\\/95492\\\\/22\\\\/13455\\\\/64856\\\\/5e57b0d8E96a0c0a8\\\\/fb056ad2aeb73a38.jpg\"},{\"alt\":\"\",\"ext_columns\":{\"desc\":\"\",\"biclk\":\"1#f54b3caf538d7d7e6159eff08f4d65d3bd24a71e-103-619066#19632029\",\"ap\":\"rKCPUJhW+ZPKNpakpc503A==\",\"focustype\":\"s\",\"url\":\"\\\\/\\\\/prodev.jd.com\\\\/mall\\\\/active\\\\/27BMguxzt3tnqMKTSsVofQe4djFt\\\\/index.html\",\"mcinfo\":\"03294000-11213217-4801320778-M#0-2-1--59--#1-tb-#102-19632029#pc-home\",\"text\":\"\"},\"srcB\":\"\\\\/\\\\/m.360buyimg.com\\\\/babel\\\\/jfs\\\\/t1\\\\/90961\\\\/35\\\\/13333\\\\/65053\\\\/5e58f646E0e346982\\\\/ad8142aeebddc505.jpg\",\"type\":\"material\",\"gid\":\"03294000\",\"href\":\"\\\\/\\\\/prodev.jd.com\\\\/mall\\\\/active\\\\/27BMguxzt3tnqMKTSsVofQe4djFt\\\\/index.html\",\"src\":\"\\\\/\\\\/m.360buyimg.com\\\\/babel\\\\/jfs\\\\/t1\\\\/90961\\\\/35\\\\/13333\\\\/65053\\\\/5e58f646E0e346982\\\\/ad8142aeebddc505.jpg\"},{\"alt\":\"\",\"ext_columns\":{\"desc\":\"\",\"biclk\":\"1#f54b3caf538d7d7e6159eff08f4d65d3bd24a71e-103-619066#19632029\",\"ap\":\"MeVvARxBG8uapqfSB8\\\\/3Mw==\",\"focustype\":\"s\",\"url\":\"\\\\/\\\\/prodev.jd.com\\\\/mall\\\\/active\\\\/4AAaqXaAJDsNjfyC2uUMYFXz7995\\\\/index.html\",\"mcinfo\":\"03294000-11213217-4801320783-M#0-2-1--59--#1-tb-#102-19632029#pc-home\",\"text\":\"\"},\"srcB\":\"\\\\/\\\\/m.360buyimg.com\\\\/babel\\\\/jfs\\\\/t1\\\\/88413\\\\/17\\\\/13500\\\\/78984\\\\/5e58aee3Ecea90e6f\\\\/e86696b8823d05cc.jpg\",\"type\":\"material\",\"gid\":\"03294000\",\"href\":\"\\\\/\\\\/prodev.jd.com\\\\/mall\\\\/active\\\\/4AAaqXaAJDsNjfyC2uUMYFXz7995\\\\/index.html\",\"src\":\"\\\\/\\\\/m.360buyimg.com\\\\/babel\\\\/jfs\\\\/t1\\\\/88413\\\\/17\\\\/13500\\\\/78984\\\\/5e58aee3Ecea90e6f\\\\/e86696b8823d05cc.jpg\"},{\"alt\":\"\",\"ext_columns\":{\"desc\":\"\",\"biclk\":\"1#f54b3caf538d7d7e6159eff08f4d65d3bd24a71e-103-619066#19632029\",\"ap\":\"ar9+8SIul6WNJXefHICPaQ==\",\"focustype\":\"s\",\"url\":\"\\\\/\\\\/pro.jd.com\\\\/mall\\\\/active\\\\/4BonccBkFBPS1QaKtpFxo1KQsh8R\\\\/index.html\",\"mcinfo\":\"03294000-11213217-4801320751-M#0-2-1--59--#1-tb-#102-19632029#pc-home\",\"text\":\"\"},\"srcB\":\"\\\\/\\\\/m.360buyimg.com\\\\/babel\\\\/jfs\\\\/t1\\\\/92836\\\\/18\\\\/14100\\\\/70226\\\\/5e61ab06Ef4bb33aa\\\\/012b7be7307b5388.jpg\",\"type\":\"material\",\"gid\":\"03294000\",\"href\":\"\\\\/\\\\/pro.jd.com\\\\/mall\\\\/active\\\\/4BonccBkFBPS1QaKtpFxo1KQsh8R\\\\/index.html\",\"src\":\"\\\\/\\\\/m.360buyimg.com\\\\/babel\\\\/jfs\\\\/t1\\\\/92836\\\\/18\\\\/14100\\\\/70226\\\\/5e61ab06Ef4bb33aa\\\\/012b7be7307b5388.jpg\"}];\\r\\n        //首焦兜底\\n        window.backup.focus=[{\"banner\":[{\"alt\":\"\\\\u5973\\\\u795e\\\\u8282\\\\u4e3b\\\\u4f1a\\\\u573a\",\"ext_columns\":{\"desc\":\"\\\\u5973\\\\u795e\\\\u8282\\\\u4e3b\\\\u4f1a\\\\u573a\",\"biclk\":\"2\",\"ap\":\"fU2qz6C3NGU=\",\"focustype\":\"s\",\"url\":\"\\\\/\\\\/pro.jd.com\\\\/mall\\\\/active\\\\/44CpW78aaEdnooi2PL3rf3vUPw3J\\\\/index.html\",\"mcinfo\":\"01143922-11164267-4801320458-M#0-2-1--1001--#1-tb-#1-#pc-home\",\"text\":\"\\\\u5973\\\\u795e\\\\u8282\\\\u4e3b\\\\u4f1a\\\\u573a\"},\"href\":\"\\\\/\\\\/pro.jd.com\\\\/mall\\\\/active\\\\/44CpW78aaEdnooi2PL3rf3vUPw3J\\\\/index.html\",\"type\":\"ace\",\"src\":\"\\\\/\\\\/m.360buyimg.com\\\\/babel\\\\/jfs\\\\/t1\\\\/86130\\\\/1\\\\/13685\\\\/71245\\\\/5e5dd116E46c81fb0\\\\/8786c0867e71baba.jpg\"}],\"recommend\":[{\"alt\":\"\",\"ext_columns\":{\"desc\":\"\",\"biclk\":\"1#5c73a8d28ca6a6485dc8eea6dbd70eae78f0a8ed-0-619066#19632029\",\"ap\":\"Mz7GkikaleiVyHdJz+Tqrg==\",\"focustype\":\"s\",\"url\":\"\\\\/\\\\/prodev.jd.com\\\\/mall\\\\/active\\\\/AsCr5rv2qaCadVcU74PDVkV1oN1\\\\/index.html\",\"mcinfo\":\"03294000-11213217-4801320750-M#0-2-1--59--#1-tb-#102-19632029#pc-home\",\"text\":\"\"},\"position\":1,\"href\":\"\\\\/\\\\/prodev.jd.com\\\\/mall\\\\/active\\\\/AsCr5rv2qaCadVcU74PDVkV1oN1\\\\/index.html\",\"type\":\"ace\",\"src\":\"\\\\/\\\\/m.360buyimg.com\\\\/babel\\\\/jfs\\\\/t1\\\\/94648\\\\/34\\\\/14120\\\\/101077\\\\/5e61b706Efd8ee9ca\\\\/b65544fa1ab1ebd0.jpg\"},{\"alt\":\"\",\"ext_columns\":{\"desc\":\"\",\"biclk\":\"1#5c73a8d28ca6a6485dc8eea6dbd70eae78f0a8ed-0-619066#19632029\",\"ap\":\"8E9EFljRna9sk5iyH5TJyQ==\",\"focustype\":\"s\",\"url\":\"\\\\/\\\\/pro.jd.com\\\\/mall\\\\/active\\\\/3fNa4gg4udob1juiWbWWBp9z9PBs\\\\/index.html\",\"mcinfo\":\"03294000-11213217-4801320749-M#0-2-1--59--#1-tb-#102-19632029#pc-home\",\"text\":\"\"},\"position\":2,\"href\":\"\\\\/\\\\/pro.jd.com\\\\/mall\\\\/active\\\\/3fNa4gg4udob1juiWbWWBp9z9PBs\\\\/index.html\",\"type\":\"ace\",\"src\":\"\\\\/\\\\/m.360buyimg.com\\\\/babel\\\\/jfs\\\\/t1\\\\/105256\\\\/39\\\\/13992\\\\/61251\\\\/5e621bf8Ebd2d2509\\\\/4e3f30fb8cb05708.jpg\"},{\"alt\":\"\",\"ext_columns\":{\"desc\":\"\",\"biclk\":\"1#5c73a8d28ca6a6485dc8eea6dbd70eae78f0a8ed-0-619066#19632029\",\"ap\":\"Wbj96fOBwO5Cyu6kQERnLQ==\",\"focustype\":\"s\",\"url\":\"\\\\/\\\\/pro.jd.com\\\\/mall\\\\/active\\\\/3s4A3dfrTy9K6FTXZWd1U67xJ9VR\\\\/index.html\",\"mcinfo\":\"03294000-11213217-4801320767-M#0-2-1--59--#1-tb-#102-19632029#pc-home\",\"text\":\"\"},\"position\":3,\"href\":\"\\\\/\\\\/pro.jd.com\\\\/mall\\\\/active\\\\/3s4A3dfrTy9K6FTXZWd1U67xJ9VR\\\\/index.html\",\"type\":\"ace\",\"src\":\"\\\\/\\\\/m.360buyimg.com\\\\/babel\\\\/jfs\\\\/t1\\\\/95941\\\\/8\\\\/13870\\\\/75304\\\\/5e5ca706E21954016\\\\/e9d7899b79e327c1.jpg\"}]},{\"banner\":[{\"ext_columns\":{\"desc\":\"1:cpm\",\"focustype\":\"g\"},\"sourceTag\":\"0\",\"href\":\"\\\\/\\\\/ccc-x.jd.com\\\\/dsp\\\\/nc?ext=aHR0cHM6Ly9pdGVtLmpkLmNvbS8xMDAwMTExOTA0NDQuaHRtbA&log=ABIrPx21qBwMtTUHYpH6tVpvZ4s1KlBpmStCzTf8yH2jxvwHgCbbdNnve6XRgIUfSci4uYXqcpPe_4fGtK9LVh5pZVpNUNXyf19V7SPmy1GpIQ2-E54O3_4ZKVcGrTVYPzmauuKEWVw5fsDbH_u1pftHttKoFe5pgBDEKlrqJItyXG-lwUpNCR6FhQbGmzOZMBwIVn0JSktRRrtvrMuwBB6JNJ1Ej0ZIjWn6-I-nkqhltMQg2pwpag8TedUtzy7ffXTsVYEnIrifbaAaoNZO8lIIR4X5tj74d_5wxNWEmpHmDp2lwCPE70eRBus5gLRaoKWYYTMpbcFfz1np209imtk4XiBImMs0Clg95orwvjKlVgrr1-nIcHSqyvfDNqblCMns4KVTvsA6FdmEdcG8Fj8443z20uou1DFPxSRuVENhT6TeitFU4UKlXeAK18U56q23eAswBNgIDWNcx7kE3b4--sgOSEOlBy8MX7tIEaOMY8g1T6jz-pM4iTSxGmpa31PpELlIxV0puX5LpSb9kRklf4_xGtG2QfDJgWuOB5lCA8iMUCO6IIPfO8z6I0xwz9P7M9OxL7MFnXqk2Q_UBCBUoKUq0srQS2EawqM89eSlHFhUeYXBI0VhSRq5lkBe6vr4XSIFQ7KIrH9_OQD2-t_20akSUGaHnW8BIL0GDRPYWeuOOVTP1OT472nvmix_heRnkW2QmLpIhDK8xlpyYw&v=404\",\"clog\":\"\\\\/\\\\/im-x.jd.com\\\\/dsp\\\\/np?log=ABIrPx21qBwMtTUHYpH6tVpvZ4s1KlBpmStCzTf8yH2jxvwHgCbbdNnve6XRgIUfSci4uYXqcpPe_4fGtK9LVh5pZVpNUNXyf19V7SPmy1GpIQ2-E54O3_4ZKVcGrTVYPzmauuKEWVw5fsDbH_u1pftHttKoFe5pgBDEKlrqJIvQ5X9YFGJMxaW-45rauv_OhXqI9LKy4R00yUJ3JQWcskQyX34N0JbdKir929kNbvpmusn_mpNCGiSvUHirexMJ6ipU78Kgk4HbqHwqQ4z4UbntNRHHkjFbvlBfpXz6G17rBOpdNriNsW8_mQdnpMkDJtD5udthsyKdHJTToHBNTSVm58powdKDVMzqbfSMcTBbxRSFRpOy8Xh2vFEZ4X-D1ocCmHAuT55iN8iDG6k41_s1Ft2yVg0aSdA7SkZxSNXyUb2xGaul2zLL3Ln6h6S0DL3xuHaDRKGfchBpXogG2TIOarXe5R838UyXFhC9to5CeIJZgc3EHUVy__e_n1XFVAAkFPbyAhyEkaZZwsnEREzrwx5QQVsRCO_cUOaLNqo-qVNvOrdaFb10xbp9h4gnN12YQMJr8NLTzNG5wE9y6mo353d4kQABdK-3YC0IIkEcpdaBMtOxXQ7AWV7OT653nvIx8SIiGzxUp-er0P2dOyLC9KoF47I7SXFJpgLg7xVgwhhBQHfGfXZ7JeOGY94JBi9CAbV0B35qK4PCxe14QQ&v=404&seq=1\",\"type\":\"ad\",\"src\":\"\\\\/\\\\/img1.360buyimg.com\\\\/pop\\\\/jfs\\\\/t1\\\\/89402\\\\/1\\\\/13990\\\\/97488\\\\/5e60b9e0E13581f32\\\\/a3eb81221fbeb539.jpg\"}],\"recommend\":[{\"ext_columns\":{\"desc\":\"1:cpm\",\"focustype\":\"g\"},\"sourceTag\":\"0\",\"position\":4,\"href\":\"\\\\/\\\\/ccc-x.jd.com\\\\/dsp\\\\/nc?ext=aHR0cHM6Ly9tYWxsLmpkLmNvbS9pbmRleC0xOTA3MTUuaHRtbA&log=ky9Wo8VvGCk1rpRiBBNPYq6SkrlrTkqdZRgMbyD4LLe2Tx0EUlgVZPByRv5y7D6O2IOJhB91jpKvi_cwfFxn_5WIcWJEtzY9-bkNy_oZOMSkWW3PyzRin1Wn02pGqBntlcjTGUx_4PYaFkcOPI-Rzj_TI0Z40pubAh5A_i4AkYfD9E51k-g1BkaHpeNljlT8E59sY-Bm1Z2RWQDFkEhqC0xekEZeindB1aLn2oaGbpS0GffhEOU6XAfJejLF2EE1hW6bwh4bjg0_7I5dkUDQCFoTtEKL95tf8Z8olMLov6iUlhikurjCmwg_NmhIHFLGtrythTJu9EhFI-1MTRmiuXIDUGz5aB_KDoDAe4UyZ5fewzFNOl2SDu6PqyZPFfYyUHE0Yg6pGOvqymK1V12XemGHz3u35uZcs98h3zWoEirmMoXPakods91YLNw9T-gWFv6lZ7j6kijN_JYneXQlNay8L84498PCBekSdHPjs4H-Lk1f-wu4foIlvFNqcPe-6UBxkTK4kUNuwxB4YdaZr6lRjY5_te4kXIU21RysOJQ1oAKgrEXiOj1uOuTmF8PBfzuElXHf_kmnrrBO4PAT_CTHvn6D04u-hHYeMiSvSIMkxNYkeFrWAPvQLEkTxC6x7LYn0ye7zXhmtTh_vw2zx7Kq9JkROXgUOL4N097FZyxDdY-niqUcvJYN7Fs-Gmgw&v=404\",\"clog\":\"\\\\/\\\\/im-x.jd.com\\\\/dsp\\\\/np?log=ky9Wo8VvGCk1rpRiBBNPYq6SkrlrTkqdZRgMbyD4LLe2Tx0EUlgVZPByRv5y7D6O2IOJhB91jpKvi_cwfFxn_5WIcWJEtzY9-bkNy_oZOMSkWW3PyzRin1Wn02pGqBntlcjTGUx_4PYaFkcOPI-Rzk9pV1NXS19d-tYF2mzVmMHDUBx1atYT-NvSvU1c4DUmEwYcXooaE0XT_4Hj613hhBoVezF60wESwJD8b54IJ5GY6MvJB490o4yGihrjF2vHQ17nRzkoyk13DU3_aL7WE0Ihlkr6ebzhz0SMWupOjFC7wBdst7RgbJyr1u2CGfbKeNwCujzLTMFVRZvRElpoonwWyu1TB36Xq03ZGJwP0_CUfVKvsGZJNSmQ68L7u6NpJ7uQzNHWw85elhT3zNvNwmULQCwaiptZZbkZUmeuPLFuvP1pF45Bjc8Tt_VcCGQ5sBbQqlMSvyKExLQa_Uges-8JWnLxw-3zVguEhAdUG2N78NUOH11dv8l_YC_Op9xIBB_bN8ivTRAfOx3gOM2tXFnMtxfOUy6leZnHeM2GT77tbBgUNotRWSbVXHinZMrABrSuDGof_6sweWdRBvs-r1NYoZS_kzXNZ7-UBKq7rEMnLAG3nphkuRtO1YWr8NqR-Rj70o4z87AQOHq47wDMKbnE4H9l-WAC0BshPH76kQI&v=404&seq=1\",\"type\":\"ad\",\"src\":\"\\\\/\\\\/img1.360buyimg.com\\\\/pop\\\\/jfs\\\\/t1\\\\/81495\\\\/7\\\\/11163\\\\/82780\\\\/5d89a74fE25d9826e\\\\/fdf1f5b049c5defc.png\"},{\"alt\":\"\\\\u4eac\\\\u4e1cE\\\\u5361\",\"ext_columns\":{\"desc\":\"\",\"biclk\":\"1#5c73a8d28ca6a6485dc8eea6dbd70eae78f0a8ed-0-619066#19632029\",\"ap\":\"E8yDaj8KgT4QGR1KVf2OTw==\",\"focustype\":\"s\",\"url\":\"\\\\/\\\\/pro.jd.com\\\\/mall\\\\/active\\\\/2QSiqYpVaytYcinGhSGZVA585WBq\\\\/index.html\",\"mcinfo\":\"03294000-11213217-4801320927-M#0-2-1--59--#1-tb-#102-19632029#pc-home\",\"text\":\"\\\\u4eac\\\\u4e1cE\\\\u5361\"},\"position\":5,\"href\":\"\\\\/\\\\/pro.jd.com\\\\/mall\\\\/active\\\\/2QSiqYpVaytYcinGhSGZVA585WBq\\\\/index.html\",\"type\":\"ace\",\"src\":\"\\\\/\\\\/m.360buyimg.com\\\\/babel\\\\/jfs\\\\/t1\\\\/88411\\\\/13\\\\/13473\\\\/68158\\\\/5e57984cE0814ce1d\\\\/bf8ec2a834083956.jpg\"},{\"alt\":\"\",\"ext_columns\":{\"desc\":\"\",\"biclk\":\"1#5c73a8d28ca6a6485dc8eea6dbd70eae78f0a8ed-0-619066#19632029\",\"ap\":\"N2C2i33wMLJJk7q7dyDWlg==\",\"focustype\":\"s\",\"url\":\"\\\\/\\\\/pro.jd.com\\\\/mall\\\\/active\\\\/4P9a2T9osR9JvtzHVaYTPvsecRtg\\\\/index.html\",\"mcinfo\":\"03294000-11213217-4801320768-M#0-2-1--59--#1-tb-#102-19632029#pc-home\",\"text\":\"\"},\"position\":6,\"href\":\"\\\\/\\\\/pro.jd.com\\\\/mall\\\\/active\\\\/4P9a2T9osR9JvtzHVaYTPvsecRtg\\\\/index.html\",\"type\":\"ace\",\"src\":\"\\\\/\\\\/m.360buyimg.com\\\\/babel\\\\/jfs\\\\/t1\\\\/86186\\\\/1\\\\/13742\\\\/21459\\\\/5e5c9d90E8bf4f60a\\\\/ab41c6db79b55f8e.jpg\"}]},{\"banner\":[{\"ext_columns\":{\"desc\":\"1:cpm\",\"focustype\":\"g\"},\"sourceTag\":\"0\",\"href\":\"\\\\/\\\\/ccc-x.jd.com\\\\/dsp\\\\/nc?ext=aHR0cHM6Ly9wcm9kZXYuamQuY29tL21hbGwvYWN0aXZlLzRTRFFvaUdIcUd5ZXdWUlY0MWNiS1ZkNXhHa2cvaW5kZXguaHRtbA&log=pc_Nox-hn-akQnQF1daJa-N_UH5Dh4Ce5axyjFfR0ySdM8BzV0oKWxCLk2na5BhM-P37sSzYiCBtVg-1h18TPn--hasW5JDTR2gTR7CKecj9u5i-rOmoXV-05pkprAyxyDOsg3A9CQpmBZAOIzpE9HyVL_l5TDKW0ts1OGGjACr2uVHzWnrerbtBlRGxOBPWR2S8tfde8ndHcQr6cI7wCIchOMnohoSw2mTY_XjZ3rStw_yTStNHacRG8bOGhptpMUdTrXPN7IihSEL7Z58CgK1QsKOPih14qXlR2ccx5lZGID4bzQoxIr6GGMA-Ttt6GaLW5McJPASivjyZUmY4-nBDaZu6fh2CI5edDneSaOsO3eIUNvqysiLAMkoJEuWTvJEkyZ32AZnR5TMtRB4_icinCQPt3asyf0y6auJnitvobUm3hiw893kGKlqimUITofbS_n9MfNfxcQmGCbO1_NdGge_AThMOvHSvHhb39Onc2R6_Zqrkr44WLU6LOMaVw-OVjLD0KQ4m8PfZfRgIbv4EEJuF0-bIKLjGlIcm2UaSKq900NGppqpfa70rE-qEFEWxNhXlYCGAIWNuRIWI5yuw6StuRfq6uGHALmSSHJDl8WZpFBRbzTr51hz-3g2nvjTHZsdTq1neugWFKDaXKFGo4Db7G2pN4Mizwd7G8oNgpyusaKFsKPMDwMvme6mF&v=404\",\"clog\":\"\\\\/\\\\/im-x.jd.com\\\\/dsp\\\\/np?log=pc_Nox-hn-akQnQF1daJa-N_UH5Dh4Ce5axyjFfR0ySdM8BzV0oKWxCLk2na5BhM-P37sSzYiCBtVg-1h18TPn--hasW5JDTR2gTR7CKecj9u5i-rOmoXV-05pkprAyxyDOsg3A9CQpmBZAOIzpE9HyVL_l5TDKW0ts1OGGjACpw1rDmkUUXjswl7n7-6vVAv2slRswJWVH8-8W2zFtVbYO_lPYcK7f9Q9x5z-iGsvWs4-Mk3A1A124-3EfLSkKJlrHV05PIjhC2UIGi-CQDU6lYS8i4ERJKFfLSH85Y923k7tVdm6bh2s1mnHb6DV8WV7vNq0ja7R6cbyWFUTe0w6yFPrZP5DBnvu30Zj3lHmDR7gotz5BwiEybA_2v5e2jFEe3gCDZCyX8iY_tocp9g-B8FsCEwbgkvo1sOott6kgA7ZTXMA6qZowyJK9A_jCTnNohtBdfmxzUP5Gd5JnulX5CopyMA43GWd9Bm3ohi5fcuIaCMmIMjDLSUCjJbs8lX7eLllNFFBZg1SofKVe0R5Qf0wB9keU-RdAckh2tOeucTPixywvBe6-VtDF6vh12cOvrYb4fvex5jPZDE_24vjABYmmmCJnGG2roaSBLDA5akoL3hnrtqLJw48HxJR0Uuk3QVaZX9bz2WjnbQ3lmpDIfU-6FIcCKDXBT4L6YtRYrSisNUXGvadK4DOWzfjK800DosLoi5_vN259wsU0czw&v=404&seq=1\",\"type\":\"ad\",\"src\":\"\\\\/\\\\/img1.360buyimg.com\\\\/pop\\\\/jfs\\\\/t1\\\\/102933\\\\/31\\\\/13532\\\\/84171\\\\/5e59dc61E1b5d5457\\\\/51570f5f628c439e.jpg\"}],\"recommend\":[{\"alt\":\"\",\"ext_columns\":{\"desc\":\"\",\"biclk\":\"1#5c73a8d28ca6a6485dc8eea6dbd70eae78f0a8ed-0-619066#19632029\",\"ap\":\"JJfEr+mi+NRUQVKxhACScQ==\",\"focustype\":\"s\",\"url\":\"\\\\/\\\\/pro.jd.com\\\\/mall\\\\/active\\\\/2T2jyvsVUN36aqrJycWYiCWmgkcW\\\\/index.html\",\"mcinfo\":\"03294000-11213217-4801320754-M#0-2-1--59--#1-tb-#102-19632029#pc-home\",\"text\":\"\"},\"position\":7,\"href\":\"\\\\/\\\\/pro.jd.com\\\\/mall\\\\/active\\\\/2T2jyvsVUN36aqrJycWYiCWmgkcW\\\\/index.html\",\"type\":\"ace\",\"src\":\"\\\\/\\\\/m.360buyimg.com\\\\/babel\\\\/jfs\\\\/t1\\\\/96049\\\\/18\\\\/13991\\\\/73648\\\\/5e606c80E1f74ff86\\\\/d7bf4e1c859c2845.jpg\"},{\"alt\":\"\",\"ext_columns\":{\"desc\":\"\",\"biclk\":\"1#5c73a8d28ca6a6485dc8eea6dbd70eae78f0a8ed-0-619066#19632029\",\"ap\":\"1O\\\\/rb+\\\\/3NIORcLZP6k8Sxg==\",\"focustype\":\"s\",\"url\":\"\\\\/\\\\/prodev.jd.com\\\\/mall\\\\/active\\\\/2T2jyvsVUN36aqrJycWYiCWmgkcW\\\\/index.html\",\"mcinfo\":\"03294000-11213217-4801320756-M#0-2-1--59--#1-tb-#102-19632029#pc-home\",\"text\":\"\"},\"position\":8,\"href\":\"\\\\/\\\\/prodev.jd.com\\\\/mall\\\\/active\\\\/2T2jyvsVUN36aqrJycWYiCWmgkcW\\\\/index.html\",\"type\":\"ace\",\"src\":\"\\\\/\\\\/m.360buyimg.com\\\\/babel\\\\/jfs\\\\/t1\\\\/102739\\\\/1\\\\/13892\\\\/96229\\\\/5e5e3269Ef3041205\\\\/d704b03a0768172a.jpg\"},{\"alt\":\"\",\"ext_columns\":{\"desc\":\"\",\"biclk\":\"1#5c73a8d28ca6a6485dc8eea6dbd70eae78f0a8ed-0-619066#19632029\",\"ap\":\"i2isl3cpxM8ZUyRRmH0euQ==\",\"focustype\":\"s\",\"url\":\"\\\\/\\\\/pro.jd.com\\\\/mall\\\\/active\\\\/4TmyVop1uwjt7SKsCf1KExNA6zbQ\\\\/index.html\",\"mcinfo\":\"03294000-11213217-4801320787-M#0-2-1--59--#1-tb-#102-19632029#pc-home\",\"text\":\"\"},\"position\":9,\"href\":\"\\\\/\\\\/pro.jd.com\\\\/mall\\\\/active\\\\/4TmyVop1uwjt7SKsCf1KExNA6zbQ\\\\/index.html\",\"type\":\"ace\",\"src\":\"\\\\/\\\\/m.360buyimg.com\\\\/babel\\\\/jfs\\\\/t1\\\\/95492\\\\/22\\\\/13455\\\\/64856\\\\/5e57b0d8E96a0c0a8\\\\/fb056ad2aeb73a38.jpg\"}]},{\"banner\":[{\"href\":\"\\\\/\\\\/pro.jd.com\\\\/mall\\\\/active\\\\/3bYKmpkWBjqk7PC341MFZhJAsmeq\\\\/index.html?innerAnchor=41495598491\",\"ext_columns\":{\"desc\":\"\\\\u5927\\\\u724c\\\\u597d\\\\u7269\\\\u4e0d\\\\u6b625\\\\u6298\",\"link\":\"\\\\/\\\\/pro.jd.com\\\\/mall\\\\/active\\\\/3bYKmpkWBjqk7PC341MFZhJAsmeq\\\\/index.html?innerAnchor=41495598491\",\"sku\":\"41495598491\",\"focustype\":\"t\",\"playImpr\":\"1#13#300002-4___\",\"mcinfo\":\"null\",\"biclk\":\"1#13#acthot-B0028083-0-41495598491-acthot-0#88\",\"text\":\"\\\\u5973\\\\u795e\\\\u8282\\\\u8155\\\\u8868\\\\u6765\\\\u88ad#41495598491\"},\"type\":\"delivery\",\"src\":\"\\\\/\\\\/imgcps.jd.com\\\\/ling\\\\/41495598491\\\\/5aWz56We6IqC6IWV6KGo5p2l6KKt\\\\/5aSn54mM5aW954mp5LiN5q2iNeaKmA\\\\/p-5bd8253082acdd181d02fa33\\\\/1b1026e9.jpg\"}],\"recommend\":[{\"alt\":\"\",\"ext_columns\":{\"desc\":\"\",\"biclk\":\"1#5c73a8d28ca6a6485dc8eea6dbd70eae78f0a8ed-0-619066#19632029\",\"ap\":\"BHknSeEO2+w=\",\"focustype\":\"s\",\"url\":\"\\\\/\\\\/pro.jd.com\\\\/mall\\\\/active\\\\/2W7b1v6yGVeVnqcsJEQtYWVKMEeU\\\\/index.html\",\"mcinfo\":\"03294000-11213217-4801320766-M#0-2-1--59--#1-tb-#102-19632029#pc-home\",\"text\":\"\"},\"position\":10,\"href\":\"\\\\/\\\\/pro.jd.com\\\\/mall\\\\/active\\\\/2W7b1v6yGVeVnqcsJEQtYWVKMEeU\\\\/index.html\",\"type\":\"ace\",\"src\":\"\\\\/\\\\/m.360buyimg.com\\\\/babel\\\\/jfs\\\\/t1\\\\/94385\\\\/27\\\\/13703\\\\/12467\\\\/5e5caba7Ede40095e\\\\/9fd3611f5df40283.jpg\"},{\"alt\":\"\",\"ext_columns\":{\"desc\":\"\",\"biclk\":\"1#5c73a8d28ca6a6485dc8eea6dbd70eae78f0a8ed-0-619066#19632029\",\"ap\":\"pLdKaZSQOvGFbRG3K12b9w==\",\"focustype\":\"s\",\"url\":\"\\\\/\\\\/pro.jd.com\\\\/mall\\\\/active\\\\/2CVui3H6FDAUGzTtLuV3JXUwWxTj\\\\/index.html\",\"mcinfo\":\"03294000-11213217-4801320765-M#0-2-1--59--#1-tb-#102-19632029#pc-home\",\"text\":\"\"},\"position\":11,\"href\":\"\\\\/\\\\/pro.jd.com\\\\/mall\\\\/active\\\\/2CVui3H6FDAUGzTtLuV3JXUwWxTj\\\\/index.html\",\"type\":\"ace\",\"src\":\"\\\\/\\\\/m.360buyimg.com\\\\/babel\\\\/jfs\\\\/t1\\\\/93793\\\\/1\\\\/13683\\\\/73477\\\\/5e5cbda9E0cfc79ee\\\\/66639da622fad5af.png\"},{\"alt\":\"\",\"ext_columns\":{\"desc\":\"\",\"biclk\":\"1#5c73a8d28ca6a6485dc8eea6dbd70eae78f0a8ed-0-619066#19632029\",\"ap\":\"Piq2t3WUW5\\\\/hpT64tyUUxA==\",\"focustype\":\"s\",\"url\":\"\\\\/\\\\/prodev.jd.com\\\\/mall\\\\/active\\\\/24qWmGEbiPnPYxZzEfMj6ktgWxxR\\\\/index.html\",\"mcinfo\":\"03294000-11213217-4801320764-M#0-2-1--59--#1-tb-#102-19632029#pc-home\",\"text\":\"\"},\"position\":12,\"href\":\"\\\\/\\\\/prodev.jd.com\\\\/mall\\\\/active\\\\/24qWmGEbiPnPYxZzEfMj6ktgWxxR\\\\/index.html\",\"type\":\"ace\",\"src\":\"\\\\/\\\\/m.360buyimg.com\\\\/babel\\\\/jfs\\\\/t1\\\\/91415\\\\/36\\\\/13732\\\\/67995\\\\/5e5cc847E1c70fa3b\\\\/49a3f68c29b4306b.jpg\"}]},{\"banner\":[{\"ext_columns\":{\"desc\":\"1:cpm\",\"focustype\":\"g\"},\"sourceTag\":\"0\",\"href\":\"\\\\/\\\\/ccc-x.jd.com\\\\/dsp\\\\/nc?ext=aHR0cHM6Ly9wcm8uamQuY29tL21hbGwvYWN0aXZlLzNpaXd3MWtpTmJQRXhiRzZldWNlazZNa244TlQvaW5kZXguaHRtbA&log=i4O5Sl_BOaz4X1LXgfMngQGwpmw2J-lHKkI8Dg7nNBZ7SXreQgciCEFC8bMwx7NVj9SdwMB7IDxdsSmrMMnOz_0Kc3tuNLWaWQQO_lMjFJBZaKd-awV5xGI_AHg-h-lE7iQxQ8cjyTgMplizjbYps_4ydRMfHhvTl2EwF-vP2hYyOU6Blr-o3-urDCpv3R1HkOqTFdkCXcVMXIHPzXha54Rcz8ntuUaHrEAKTM6kfWnnihO60GecjER8yLZYqn_BEo4j6cfS4Em7iuTzPOW4DGyOnQ-ew9go1uZBgA_7MkSYtwRazhdm5OOaBaF1sNQynXocusxzEyLuffXgTa5UL7A-YBKJs2A7-NWq9DCzdttmOgjzy_G4tdH2Eou7qxNQVaWQxAxqV8ZLrwJ-F6JCSANYv7MaZiwR9rnvWSRqCvVvqwAthnGwhlqMfRYnekqZ2x0ow1nAd3DdEC4kRFKcaLF1pxJ3vX-YDmJbIbPqd3vJntI2nBi-zjJV2JyNqv1svMcfqWjka6I7BVcvomltz2S1uVWH5whLRZLuS6IMDyvzUH1D71EQxCIRMN_bC-2ySSmeRKOfaYt89T9VV6dYMIdI9mYQq8xm4DWpje9erxs6zkXdUMu-2zK0Y0-yD8m2kTRQkGsviQTZ-29w9ZfOATiVZxdL1X1dp-XRfMptBC-W2s6Vda_pH9vh8Y_urN7mdhySPm4BMGoO_Ur9ysSVKg&v=404\",\"clog\":\"\\\\/\\\\/im-x.jd.com\\\\/dsp\\\\/np?log=i4O5Sl_BOaz4X1LXgfMngQGwpmw2J-lHKkI8Dg7nNBZ7SXreQgciCEFC8bMwx7NVj9SdwMB7IDxdsSmrMMnOz_0Kc3tuNLWaWQQO_lMjFJBZaKd-awV5xGI_AHg-h-lE7iQxQ8cjyTgMplizjbYps_4ydRMfHhvTl2EwF-vP2hb8CgcCpvc6XgNa-8kltDCXiZBQO_icjJLp-O2rKD_6w755mfeghJRQTDb5orsdGQF_VrkUOSTOm8toYxBB8lHk2g-ln6LVGyV-3nkvEzkfr3enCDrnGCW1nQL9B8MRpxXnK9Q0s1lVjKveKI1tp7Pvw8cX3yf4UA9_2XlKLQROl9GTO2-mwJzg2IWZI2d2Ycg-lnbjhu-h08Jp5QAxuC77GUB1o_DJzMshwsB7w_3XUL8Sxu2hMH05G7py8gojBuz8fwpxNPIH7KlcIEihGMNCIcGaNLWHjmvVkQX6af9wuNqHpsOwENOuJqcmfTUz1yVqWLXoFmKuMZeR5dRm7v7g1p4NQtrX9EvGrP7_lj5pPdk5cJpjRIHYEXEIE1RsfOCSXuHvFFj5bniQlhDg-rqWtSFMP0rQLIoSyckMYceh02gzPySmO7CnQrGpt_CugaqWCNHv6ogerXWWAilyK0ucpqD3QCxC0sE7biITd2Hqu0b_fF17u2GstMNNJARxpx2vCS-ZilWL8rmXozbbVWQY55B9T3P2n9a-hWn8f7nP8g&v=404&seq=1\",\"type\":\"ad\",\"src\":\"\\\\/\\\\/img1.360buyimg.com\\\\/pop\\\\/jfs\\\\/t1\\\\/103227\\\\/35\\\\/14041\\\\/70831\\\\/5e5f84ccEd2424734\\\\/fb9a29ac6a3b445f.jpg\"}],\"recommend\":[{\"alt\":\"\",\"ext_columns\":{\"desc\":\"\",\"biclk\":\"1#5c73a8d28ca6a6485dc8eea6dbd70eae78f0a8ed-0-619066#19632029\",\"ap\":\"rKCPUJhW+ZPKNpakpc503A==\",\"focustype\":\"s\",\"url\":\"\\\\/\\\\/prodev.jd.com\\\\/mall\\\\/active\\\\/27BMguxzt3tnqMKTSsVofQe4djFt\\\\/index.html\",\"mcinfo\":\"03294000-11213217-4801320778-M#0-2-1--59--#1-tb-#102-19632029#pc-home\",\"text\":\"\"},\"position\":13,\"href\":\"\\\\/\\\\/prodev.jd.com\\\\/mall\\\\/active\\\\/27BMguxzt3tnqMKTSsVofQe4djFt\\\\/index.html\",\"type\":\"ace\",\"src\":\"\\\\/\\\\/m.360buyimg.com\\\\/babel\\\\/jfs\\\\/t1\\\\/90961\\\\/35\\\\/13333\\\\/65053\\\\/5e58f646E0e346982\\\\/ad8142aeebddc505.jpg\"},{\"alt\":\"\",\"ext_columns\":{\"desc\":\"\",\"biclk\":\"1#5c73a8d28ca6a6485dc8eea6dbd70eae78f0a8ed-0-619066#19632029\",\"ap\":\"MeVvARxBG8uapqfSB8\\\\/3Mw==\",\"focustype\":\"s\",\"url\":\"\\\\/\\\\/prodev.jd.com\\\\/mall\\\\/active\\\\/4AAaqXaAJDsNjfyC2uUMYFXz7995\\\\/index.html\",\"mcinfo\":\"03294000-11213217-4801320783-M#0-2-1--59--#1-tb-#102-19632029#pc-home\",\"text\":\"\"},\"position\":14,\"href\":\"\\\\/\\\\/prodev.jd.com\\\\/mall\\\\/active\\\\/4AAaqXaAJDsNjfyC2uUMYFXz7995\\\\/index.html\",\"type\":\"ace\",\"src\":\"\\\\/\\\\/m.360buyimg.com\\\\/babel\\\\/jfs\\\\/t1\\\\/88413\\\\/17\\\\/13500\\\\/78984\\\\/5e58aee3Ecea90e6f\\\\/e86696b8823d05cc.jpg\"},{\"alt\":\"\",\"ext_columns\":{\"desc\":\"\",\"biclk\":\"1#5c73a8d28ca6a6485dc8eea6dbd70eae78f0a8ed-0-619066#19632029\",\"ap\":\"ar9+8SIul6WNJXefHICPaQ==\",\"focustype\":\"s\",\"url\":\"\\\\/\\\\/pro.jd.com\\\\/mall\\\\/active\\\\/4BonccBkFBPS1QaKtpFxo1KQsh8R\\\\/index.html\",\"mcinfo\":\"03294000-11213217-4801320751-M#0-2-1--59--#1-tb-#102-19632029#pc-home\",\"text\":\"\"},\"position\":15,\"href\":\"\\\\/\\\\/pro.jd.com\\\\/mall\\\\/active\\\\/4BonccBkFBPS1QaKtpFxo1KQsh8R\\\\/index.html\",\"type\":\"ace\",\"src\":\"\\\\/\\\\/m.360buyimg.com\\\\/babel\\\\/jfs\\\\/t1\\\\/92836\\\\/18\\\\/14100\\\\/70226\\\\/5e61ab06Ef4bb33aa\\\\/012b7be7307b5388.jpg\"}]},{\"banner\":[{\"ext_columns\":{\"desc\":\"1:cpm\",\"focustype\":\"h\"},\"sourceTag\":\"0\",\"href\":\"\\\\/\\\\/ccc-x.jd.com\\\\/dsp\\\\/nc?ext=aHR0cHM6Ly9wcm9kZXYuamQuY29tL21hbGwvYWN0aXZlL1N5TkVNeUFOa1hRdVVtem41ZFVlZjhDUUdQQS9pbmRleC5odG1s&log=b8xdtR6-hMj8g_KQuTHYGite0RMjsJ46Czl5FYIQotwz1CAgtIiq8MFKWGE50UAlReAl_ibUOZCPwZ7m7MAW3E7jNpDOX08UXJBaU3XgXY3L9XRWfOCSPp738UowlWiMNcDH6j49vEyoSp3BQ4M7fqg9Kwb4c9aXTMg9RuA7DzKlrHipElXkI011A8m0sKDiw_Jhrt3zJwdF8OR5Puig1QR3m87Nqt2SehJDNidgKB8wYiLtWVDUuLEQIhjDyILYtrNr8gZz2nw9m3Mqtx9liENHQoO8_7QkI_DEPPFRMizjsCQlxLLPbneP1KijWu03pZai_yuFEANnsxmD3xzAhZKptP11ONDWVfGuYLXyRlGAc8l78QRv6Paixs6B8Yh8oqm2rAKFBKnc5E7ScAkrntaQdplfhNobPzmRHUIOMIYr9ii0yB8dKmBgP8Na9i_qNVqssSgToVRyoD3-lA3fZpwiQPtW_ory3mWwYEslZDG7TnfJ5dl7_i4KSEIT6bxB_aEFvkj2PtQPKDKW_vY1eM5WQQ-nTr-BU1UtDXw_vk5EEy3TfdOysw-WbJYl2FoZK0cPbx3bNO-mdBBWT30ooOxe6sp0DvaSdnv1yAGkGtNwALBC7seSG0KhMTCgzmCc58hDeIF2VVpV9lU-V5ZqUoN1NaZ4DsMNEmzF8PQ0YC8&v=404\",\"clog\":\"\\\\/\\\\/im-x.jd.com\\\\/dsp\\\\/np?log=b8xdtR6-hMj8g_KQuTHYGite0RMjsJ46Czl5FYIQotwz1CAgtIiq8MFKWGE50UAlReAl_ibUOZCPwZ7m7MAW3E7jNpDOX08UXJBaU3XgXY3L9XRWfOCSPp738UowlWiMNcDH6j49vEyoSp3BQ4M7fqg9Kwb4c9aXTMg9RuA7DzKxn6nGgoXsv6-akKCw6mbOhZ1JTHi9x2DLQuI-UGrV8f08x2czH6caXv3idCRHaCDh9l6tu57PrpYQ21PzZkpF3sOEDXSsD7I8ZmzMwjWbbXgV7wagtSEV8h2QmhmdNNFjU755Q5IEZPkPYl7jSo0mpIKp6M-WcsKPNuvri0_hF3YgV0JgunOQGY8cZLpilzQbZTLwwdEJW9XaE3VAouepCAmbqydFll5fhZoyDkpzUcoOXSzfZe956ywbizzid743Qzo8sNC3cvxQDhtWazIrjCbuSN6Iol_kuDgiqWvdEvBPzE-KQXQx_vXtJqcG4K63hTK_NX0jk-MidUT-RZD9Mrfe9uwYmEc6pXMn-CzyJQ9MU1T-zrRLPekraMLvV482RkYsEuSrGroNNiBJm7cE0Paqy4HdX9vk8cXqRnOg4JeVwgfPnQRnU2adUhDhXoXNpb-sgKhZJdr86TNkSTeZ3sXTG9tTild7LM4kXDU02DBsnjh7-UD_m-EVNyWhAAM&v=404&seq=1\",\"type\":\"ad\",\"src\":\"\\\\/\\\\/img1.360buyimg.com\\\\/pop\\\\/jfs\\\\/t1\\\\/101041\\\\/28\\\\/13255\\\\/98849\\\\/5e5652ffE9adcfd36\\\\/ccabfbba9f033e50.jpg\"}],\"recommend\":[{\"alt\":\"\",\"ext_columns\":{\"desc\":\"\",\"biclk\":\"1#5c73a8d28ca6a6485dc8eea6dbd70eae78f0a8ed-0-619066#19632029\",\"ap\":\"KrJJtpeBv0nQTMnnk0YQsQ==\",\"focustype\":\"s\",\"url\":\"\\\\/\\\\/prodev.jd.com\\\\/mall\\\\/active\\\\/3cqqci6wvbSwbwXZ6ETGWk7Ghiux\\\\/index.html\",\"mcinfo\":\"03294000-11213217-4801320763-M#0-2-1--59--#1-tb-#102-19632029#pc-home\",\"text\":\"\"},\"position\":16,\"href\":\"\\\\/\\\\/prodev.jd.com\\\\/mall\\\\/active\\\\/3cqqci6wvbSwbwXZ6ETGWk7Ghiux\\\\/index.html\",\"type\":\"ace\",\"src\":\"\\\\/\\\\/m.360buyimg.com\\\\/babel\\\\/jfs\\\\/t1\\\\/90703\\\\/15\\\\/13842\\\\/77823\\\\/5e5cd839E02e82c68\\\\/dd89fb49497703db.jpg\"},{\"alt\":\"\\\\u5973\\\\u795e\\\\u6539\\\\u9020\\\\u5bb6\",\"ext_columns\":{\"desc\":\"\",\"biclk\":\"1#5c73a8d28ca6a6485dc8eea6dbd70eae78f0a8ed-0-619066#19632029\",\"ap\":\"OPEWxdgK70D\\\\/mxc53v0oxw==\",\"focustype\":\"s\",\"url\":\"\\\\/\\\\/pro.jd.com\\\\/mall\\\\/active\\\\/2Kx8vEhXGDEvk634rC5WnJ8s5mJw\\\\/index.html\",\"mcinfo\":\"03294000-11213217-4801320762-M#0-2-1--59--#1-tb-#102-19632029#pc-home\",\"text\":\"\\\\u5973\\\\u795e\\\\u6539\\\\u9020\\\\u5bb6\"},\"position\":17,\"href\":\"\\\\/\\\\/pro.jd.com\\\\/mall\\\\/active\\\\/2Kx8vEhXGDEvk634rC5WnJ8s5mJw\\\\/index.html\",\"type\":\"ace\",\"src\":\"\\\\/\\\\/m.360buyimg.com\\\\/babel\\\\/jfs\\\\/t1\\\\/96955\\\\/7\\\\/13657\\\\/56997\\\\/5e5db040Ec45a11f1\\\\/0d3e7e89be625758.jpg\"},{\"alt\":\"\\\\u73a9\\\\u5177\\\\u4e50\\\\u5668\\\\u4f1a\\\\u573a\",\"ext_columns\":{\"desc\":\"\\\\u5973\\\\u795e\\\\u8282\\\\u4f1a\\\\u573a\",\"biclk\":\"1#5c73a8d28ca6a6485dc8eea6dbd70eae78f0a8ed-0-619066#19632029\",\"ap\":\"JgfGEEHpmrbIQN3wwN6XDg==\",\"focustype\":\"s\",\"url\":\"\\\\/\\\\/prodev.jd.com\\\\/mall\\\\/active\\\\/3aoHBDrwWitNqywu7EFGK2djgnmV\\\\/index.html\",\"mcinfo\":\"03294000-11213217-4801320761-M#0-2-1--59--#1-tb-#102-19632029#pc-home\",\"text\":\"\\\\u73a9\\\\u5177\\\\u4e50\\\\u5668\\\\u4f1a\\\\u573a\"},\"position\":18,\"href\":\"\\\\/\\\\/prodev.jd.com\\\\/mall\\\\/active\\\\/3aoHBDrwWitNqywu7EFGK2djgnmV\\\\/index.html\",\"type\":\"ace\",\"src\":\"\\\\/\\\\/m.360buyimg.com\\\\/babel\\\\/jfs\\\\/t1\\\\/100546\\\\/14\\\\/13867\\\\/64508\\\\/5e5dac82E821fc7c2\\\\/bdc8a8c98af6f498.jpg\"}]},{\"banner\":[{\"ext_columns\":{\"desc\":\"1:cpm\",\"focustype\":\"h\"},\"sourceTag\":\"0\",\"href\":\"\\\\/\\\\/ccc-x.jd.com\\\\/dsp\\\\/nc?ext=aHR0cHM6Ly9wcm9kZXYuamQuY29tL21hbGwvYWN0aXZlL25LeFZ5UG51THdBc1FTVGZpZFo5ejRSS1ZaeS9pbmRleC5odG1s&log=yOOArQalNbW2nix7ntY2UUbNbtVf3Z8dkON2EmYL1JcrX5iNBF_nwQtN4XDNPFtw-6gjlYJ-fXpvZFParDfJPzeVzhICtrHxiC-fW8_ZLq1L943Du6DzOztL7wmQlobhEqPU1CM7vnbdzbIFF3pckb9if9DhWByG2WZ5GWB6DKxlwg06aZD8BPW5QvmvUeZfIpSAvsFEsKo9MNTkqS6keUphzRrulJ0-8-VRNSw5kbtCW7dmS-1zW2XNfp1SLnZG1PDn_EawfpX1WlYlpf6Ml1xVffGv-ETX56md1yBDgpLPbfSxpUBv22S9XgjdD7LMl-2VPggO3y-B38iGAhbtxyEeb6mq2ZTtdiyur6SH_q1IMaQQhhWuuoxVodlHI97nR8lMmZznjTTmO2dDQ3vSpj5HdSWtNKTxHatt9wSayNwo9s3Tz-AxS7fSQgMFpAR7TI1wyx_JTIXGemej9ZuN_svNTuACRRAif6WNV8dtbwFeZzyCgmLPzpvXx7DrCqxDtH0Xzw1hjoI0oPFF9Wth1u0Wk8rb9DO7GYcEQrEVecrr7VyMDSlKxzzV8cbkCl5jHG1in5czAjHu79lzHxt2iGfC9G_wWYUgDdkMW3oWgiM8JniUrrbefMlRc-BcVK93AEBmx3kMG1Yao0BAxW_cgJDbE-OkIOv3WJBpnyzKrs4&v=404\",\"clog\":\"\\\\/\\\\/im-x.jd.com\\\\/dsp\\\\/np?log=yOOArQalNbW2nix7ntY2UUbNbtVf3Z8dkON2EmYL1JcrX5iNBF_nwQtN4XDNPFtw-6gjlYJ-fXpvZFParDfJPzeVzhICtrHxiC-fW8_ZLq1L943Du6DzOztL7wmQlobhEqPU1CM7vnbdzbIFF3pckb9if9DhWByG2WZ5GWB6DKwCIliG8hBMWx_NxbF8WzRz7MmRX77YEB8r8LtIdVIKHQKRa2PLduJ28vL9o_4lEsohNV8P9aAg0HgPJ2A-zzgvT9aCc36KQV0Jyc93RpnnWdsEy0AA7Yiu7XhBTCgTfUEGW2t9JX_daLKN_WQVlPT-Z5DMTH99-waTECgu0SNEEE5N2IhSAB8l3Bp47851_ldy2uEIZIwsBqarzbt0OY3HCp94XB-DwmY86vfXccpE-vKad8uDz47tjVFfnLS6yAEpG2ahJGdHAOYLTqIQxmwXwomN12k6y5Hjj52VoENJrBN4Vf30Rl7QMya-_Pb77kaFDU7UgXcXUnA-Smfkz5hjmxjGnB-zgh-MiNOepQ7SXQqB-r4OdqtFjhaAIY0v5hwAIX73o8ueE5XkIgp0CLBY9oFfGJb5kh2lPyXwVwsMXTcDL9EvPdx0g2w1kPXNmoGzm6FWq5Z-AIWPkLmy_uYLNxgpTkOdNxunKsMab6g_nX_MnP2CFSoW7tqwAkegeX5s-Iy_hSEsU5rq3wJlP373&v=404&seq=1\",\"type\":\"ad\",\"src\":\"\\\\/\\\\/img1.360buyimg.com\\\\/pop\\\\/jfs\\\\/t1\\\\/99209\\\\/19\\\\/13363\\\\/98260\\\\/5e579c3eEa9b6d18e\\\\/5cd64f6e1b5d8d8e.jpg\"}],\"recommend\":[{\"alt\":\"\\\\u5973\\\\u795e\\\\u6539\\\\u9020\\\\u5bb6\",\"ext_columns\":{\"desc\":\"\",\"biclk\":\"1#5c73a8d28ca6a6485dc8eea6dbd70eae78f0a8ed-0-619066#19632029\",\"ap\":\"OPEWxdgK70D\\\\/mxc53v0oxw==\",\"focustype\":\"s\",\"url\":\"\\\\/\\\\/pro.jd.com\\\\/mall\\\\/active\\\\/4StPkE9pt7RJ6dbE1QzCfMjLqceY\\\\/index.html\",\"mcinfo\":\"03294000-11213217-4801320760-M#0-2-1--59--#1-tb-#102-19632029#pc-home\",\"text\":\"\\\\u5973\\\\u795e\\\\u6539\\\\u9020\\\\u5bb6\"},\"position\":19,\"href\":\"\\\\/\\\\/pro.jd.com\\\\/mall\\\\/active\\\\/4StPkE9pt7RJ6dbE1QzCfMjLqceY\\\\/index.html\",\"type\":\"ace\",\"src\":\"\\\\/\\\\/m.360buyimg.com\\\\/babel\\\\/jfs\\\\/t1\\\\/110631\\\\/35\\\\/7529\\\\/50887\\\\/5e5db308E8b7c2a4f\\\\/1dbff9cc969da93b.jpg\"},{\"alt\":\"\",\"ext_columns\":{\"desc\":\"\",\"biclk\":\"1#5c73a8d28ca6a6485dc8eea6dbd70eae78f0a8ed-0-619066#19632029\",\"ap\":\"OPEWxdgK70D\\\\/mxc53v0oxw==\",\"focustype\":\"s\",\"url\":\"\\\\/\\\\/prodev.jd.com\\\\/mall\\\\/active\\\\/3BCejQa4aRxvVtafMHCqT9gB1dFZ\\\\/index.html\",\"mcinfo\":\"03294000-11213217-4801320759-M#0-2-1--59--#1-tb-#102-19632029#pc-home\",\"text\":\"\"},\"position\":20,\"href\":\"\\\\/\\\\/prodev.jd.com\\\\/mall\\\\/active\\\\/3BCejQa4aRxvVtafMHCqT9gB1dFZ\\\\/index.html\",\"type\":\"ace\",\"src\":\"\\\\/\\\\/m.360buyimg.com\\\\/babel\\\\/jfs\\\\/t1\\\\/86613\\\\/33\\\\/13836\\\\/53082\\\\/5e5db234E2184d967\\\\/3a97455d7f275ee6.jpg\"},{\"alt\":\"\",\"ext_columns\":{\"desc\":\"\",\"biclk\":\"1#5c73a8d28ca6a6485dc8eea6dbd70eae78f0a8ed-0-619066#19632029\",\"ap\":\"qiWXru8mtfVJwnoexgkQdg==\",\"focustype\":\"s\",\"url\":\"\\\\/\\\\/pro.jd.com\\\\/mall\\\\/active\\\\/xezHpfxuZB6R1AbM4ae1NRevKbS\\\\/index.html\",\"mcinfo\":\"03294000-11213217-4801320757-M#0-2-1--59--#1-tb-#102-19632029#pc-home\",\"text\":\"\"},\"position\":21,\"href\":\"\\\\/\\\\/pro.jd.com\\\\/mall\\\\/active\\\\/xezHpfxuZB6R1AbM4ae1NRevKbS\\\\/index.html\",\"type\":\"ace\",\"src\":\"\\\\/\\\\/m.360buyimg.com\\\\/babel\\\\/jfs\\\\/t1\\\\/85148\\\\/23\\\\/13912\\\\/62213\\\\/5e5e2603E54d149eb\\\\/6ec293e2bbdf5e96.jpg\"}]},{\"banner\":[{\"ext_columns\":{\"desc\":\"1:cpm\",\"focustype\":\"h\"},\"sourceTag\":\"0\",\"href\":\"\\\\/\\\\/ccc-x.jd.com\\\\/dsp\\\\/nc?ext=aHR0cHM6Ly9wcm8uamQuY29tL21hbGwvYWN0aXZlLzJnR2hCekYyMmFWNVJnVGdrM1RBWGU2ajh4dXMvaW5kZXguaHRtbD9iYWJlbENoYW5uZWw9cGNzaG91amlhbw&log=JPPxeSvbLxiEL1wJM82xU3KtoHvRFIkkigpDDkrAkDfEYGsT8xdyirS-rI7GLTS7QBZL5TBL4BqoX7MzhLoL2FvGdC75-ZjQPflf1SzA1a06F7wG8PKyeBOgTuCwG1NuHzOtXuG5WvdUeq0ReGpTjsd_qJtVsgtUMdrbBamNRo12oSab1EdTMraGmEVylAIRc3Ouq1UmcIqYCOv4YKsu-dzjxbo2jyC6rksjQYvKtlLz_X_fKJD8v50hR_U-bJ8b1x-GmYFvuYVAjRtjgyQVblpZxkZqcwcZ3s2gBnUvQo_o3d31OpopU0uYqTXjL5-5QRtP5lkPJfd6W0Dgz2E0z8MIwWZPjEwXzmeAxzW0yMBIQ1xKeNnsjqAt3MfzUTGsjpD31IOvKounhs2_kQiROcti5OMcgN0sxzplz3mSp1AAdQwqeZFTAPNwaJDpQRp5MYvQo-HZwisPpvNvJApYFoZk6ck3gY0KE2MM1_7J6RABW8_Mxk8FCrzvx-O8q7o3EvFZv4juVBXP1YmMwxVLKphBZF-CBJ80lstyzPH2w7iIJIN_t7B-sScxX3uY5OGjCxXO_t9Hih7hyOHwjI7jc0IoepprJ8wfpU5FcyRFfzS65DjaivLxT_FVLqts5w6pZEgoAY6qiLPyrxsekC9ETRSaDER81fU2NSbbINSFKfo&v=404\",\"clog\":\"\\\\/\\\\/im-x.jd.com\\\\/dsp\\\\/np?log=JPPxeSvbLxiEL1wJM82xU3KtoHvRFIkkigpDDkrAkDfEYGsT8xdyirS-rI7GLTS7QBZL5TBL4BqoX7MzhLoL2FvGdC75-ZjQPflf1SzA1a06F7wG8PKyeBOgTuCwG1NuHzOtXuG5WvdUeq0ReGpTjsd_qJtVsgtUMdrbBamNRo2Ae2mzvVb_sdPSYipMbrDb-Abi8UKWldZnyIFXRY2rs2RPSAM0vWhd_cxPOdoIx8tsJPCM3eivjxKxmfsuPdcjZTJreRImIdzRkSUTqYN9PQue7FOsnm5wyntmE0wpl9iLET0mCz3wLJM3CTYhUswBcpX8rS3bWdNQn3EjGeLCtC-qHG0-VsuEgqK4en8bezwdvGZhTiCsvbQNzRG9PUbxH1YwjY2aS3cO4RCLpB5wq8lhMZ_tuZxRNUFR3bKS5GQOrIoaKzNdIQN9pdd7szzvUIX-ax9rFQjqIt6bgfYPLiWKARhEor6Co1c6MD6ityjPUvmIrudwunDpDCfe2ESwVs8jUv1YoFGIRgTYMHdtmW8LDTrilM2bhr7aO1ay_dl7gZ4yEQJedWeE9IeL9KriHBpRnSpv2uNeyQa_fV6tYz-You9IhvsBqwPl8dDwHepUKbPXBd-PTaMLzE3DAUuEbZTntEPfgjd4LLSRyaMkVl7JZ7s8pCotafs0FY-p2iM&v=404&seq=1\",\"type\":\"ad\",\"src\":\"\\\\/\\\\/img1.360buyimg.com\\\\/pop\\\\/jfs\\\\/t1\\\\/91594\\\\/21\\\\/13320\\\\/46153\\\\/5e57d2cfE549f6d61\\\\/baf28f41d8230cbd.jpg\"}],\"recommend\":[{\"alt\":\"\\\\u7535\\\\u89c6\\\\u5f71\\\\u97f3\",\"ext_columns\":{\"desc\":\"\\\\u7535\\\\u89c6\\\\u5f71\\\\u97f3\",\"biclk\":\"1#5c73a8d28ca6a6485dc8eea6dbd70eae78f0a8ed-0-619066#19632029\",\"ap\":\"VOy8\\\\/uqgssfMTumCyHYb9g==\",\"focustype\":\"s\",\"url\":\"\\\\/\\\\/pro.jd.com\\\\/mall\\\\/active\\\\/46xH2FEswob1Eibj3tJMTTfpJvA\\\\/index.html\",\"mcinfo\":\"03294000-11213217-4801320755-M#0-2-1--59--#1-tb-#102-19632029#pc-home\",\"text\":\"\\\\u7535\\\\u89c6\\\\u5f71\\\\u97f3\"},\"position\":22,\"href\":\"\\\\/\\\\/pro.jd.com\\\\/mall\\\\/active\\\\/46xH2FEswob1Eibj3tJMTTfpJvA\\\\/index.html\",\"type\":\"ace\",\"src\":\"\\\\/\\\\/m.360buyimg.com\\\\/babel\\\\/jfs\\\\/t1\\\\/109030\\\\/15\\\\/7806\\\\/83641\\\\/5e605672E279f1fc4\\\\/250b948053295d70.jpg\"},{\"alt\":\"\",\"ext_columns\":{\"desc\":\"\",\"biclk\":\"1#5c73a8d28ca6a6485dc8eea6dbd70eae78f0a8ed-0-619066#19632029\",\"ap\":\"+zyS15KKr7wBBlITEyBAiQ==\",\"focustype\":\"s\",\"url\":\"\\\\/\\\\/prodev.jd.com\\\\/mall\\\\/active\\\\/3EMjxvx3kpYLZEdPU7rvXbFhEDVy\\\\/index.html\",\"mcinfo\":\"03294000-11213217-4801320753-M#0-2-1--59--#1-tb-#102-19632029#pc-home\",\"text\":\"\"},\"position\":23,\"href\":\"\\\\/\\\\/prodev.jd.com\\\\/mall\\\\/active\\\\/3EMjxvx3kpYLZEdPU7rvXbFhEDVy\\\\/index.html\",\"type\":\"ace\",\"src\":\"\\\\/\\\\/m.360buyimg.com\\\\/babel\\\\/jfs\\\\/t1\\\\/87436\\\\/9\\\\/14100\\\\/72404\\\\/5e60c125E6aadf387\\\\/680e684d71cb319b.jpg\"},{\"alt\":\"\",\"ext_columns\":{\"desc\":\"\",\"biclk\":\"1#5c73a8d28ca6a6485dc8eea6dbd70eae78f0a8ed-0-619066#19632029\",\"ap\":\"v5J3GGwCrTg=\",\"focustype\":\"s\",\"url\":\"\\\\/\\\\/prodev.jd.com\\\\/mall\\\\/active\\\\/4MN1EAinppnnynkrV5tr8aS9Un3D\\\\/index.html\",\"mcinfo\":\"03294000-11213217-4801320752-M#0-2-1--59--#1-tb-#102-19632029#pc-home\",\"text\":\"\"},\"position\":24,\"href\":\"\\\\/\\\\/prodev.jd.com\\\\/mall\\\\/active\\\\/4MN1EAinppnnynkrV5tr8aS9Un3D\\\\/index.html\",\"type\":\"ace\",\"src\":\"\\\\/\\\\/m.360buyimg.com\\\\/babel\\\\/jfs\\\\/t1\\\\/99074\\\\/13\\\\/13982\\\\/77948\\\\/5e60da5eE750c4803\\\\/0d8de2d86df243b3.jpg\"}]}];    </script>\\n\\n    <script type=\"text/javascript\">\\n        !function(e){pageConfig.isWide=function(){var n=e,i=document,o=i.documentElement,t=i.getElementsByTagName(\"body\")[0],a=n.innerWidth||o.clientWidth||t.clientWidth;return a>=1370}();var n=[];pageConfig.isWide?(n.push(\"root61\"),n.push(\"o2_wide\")):n.push(\"o2_mini\");var i=document.getElementsByTagName(\"html\")[0];i.className=n.join(\" \")}(window,void 0);\\n    </script>\\n\\n    <script type=\"text/javascript\">\\n        !function (n) {\\n            function o(n) {\\n                for (var o = n + \"=\", t = document.cookie.split(\";\"), e = 0; e < t.length; e++) {\\n                    for (var i = t[e]; \" \" == i.charAt(0);) i = i.substring(1, i.length);\\n                    if (0 == i.indexOf(o)) return i.substring(o.length, i.length)\\n                }\\n                return null\\n            }\\n\\n            var t = o(\"pcm\"), e = n.navigator.userAgent.toLocaleLowerCase(), i = \"//m.jd.com\",\\n                r = /iphone|android|symbianos|windows\\\\sphone/g, c = /micromessenger|qq\\\\/[\\\\d.]+/i;\\n            return c.test(e) ? (n.location.href = \"//wqs.jd.com/?from=jdindex\", !1) : r.test(e) && \"1\" != t ? (n.location.href = i, !1) : void 0\\n        }(window);\\n    </script>\\n\\n    <script type=\"text/javascript\">\\n        window.search = function (a) {\\n            var b, c = \"//search.jd.com/Search?keyword={keyword}&enc={enc}{additional}\";\\n            var d = search.additinal || \"\";\\n            var e = document.getElementById(a);\\n            var f = e.value;\\n            if (f = f.replace(/^\\\\s*(.*?)\\\\s*$/, \"$1\"), f.length > 100 && (f = f.substring(0, 100)), \"\" == f) return void (window.location.href = window.location.href);\\n            var g = 0;\\n            \"undefined\" != typeof window.pageConfig && \"undefined\" != typeof window.pageConfig.searchType && (g = window.pageConfig.searchType);\\n            var h = \"&cid{level}={cid}\";\\n            var i = \"string\" == typeof search.cid ? search.cid : \"\";\\n            var j = \"string\" == typeof search.cLevel ? search.cLevel : \"\";\\n            var k = \"string\" == typeof search.ev_val ? search.ev_val : \"\";\\n            switch (g) {\\n                case 0:\\n                    break;\\n                case 1:\\n                    j = \"-1\", d += \"&book=y\";\\n                    break;\\n                case 2:\\n                    j = \"-1\", d += \"&mvd=music\";\\n                    break;\\n                case 3:\\n                    j = \"-1\", d += \"&mvd=movie\";\\n                    break;\\n                case 4:\\n                    j = \"-1\", d += \"&mvd=education\";\\n                    break;\\n                case 5:\\n                    var l = \"&other_filters=%3Bcid1%2CL{cid1}M{cid1}[cid2]\";\\n                    switch (j) {\\n                        case \"51\":\\n                            h = l.replace(/\\\\[cid2]/, \"\"), h = h.replace(/\\\\{cid1}/g, \"5272\");\\n                            break;\\n                        case \"52\":\\n                            h = l.replace(/\\\\{cid1}/g, \"5272\"), h = h.replace(/\\\\[cid2]/, \"%3Bcid2%2CL{cid}M{cid}\");\\n                            break;\\n                        case \"61\":\\n                            h = l.replace(/\\\\[cid2]/, \"\"), h = h.replace(/\\\\{cid1}/g, \"5273\");\\n                            break;\\n                        case \"62\":\\n                            h = l.replace(/\\\\{cid1}/g, \"5273\"), h = h.replace(/\\\\[cid2]/, \"%3Bcid2%2CL{cid}M{cid}\");\\n                            break;\\n                        case \"71\":\\n                            h = l.replace(/\\\\[cid2]/, \"\"), h = h.replace(/\\\\{cid1}/g, \"5274\");\\n                            break;\\n                        case \"72\":\\n                            h = l.replace(/\\\\{cid1}/g, \"5274\"), h = h.replace(/\\\\[cid2]/, \"%3Bcid2%2CL{cid}M{cid}\");\\n                            break;\\n                        case \"81\":\\n                            h = l.replace(/\\\\[cid2]/, \"\"), h = h.replace(/\\\\{cid1}/g, \"5275\");\\n                            break;\\n                        case \"82\":\\n                            h = l.replace(/\\\\{cid1}/g, \"5275\"), h = h.replace(/\\\\[cid2]/, \"%3Bcid2%2CL{cid}M{cid}\")\\n                    }\\n                    c = \"//search-e.jd.com/searchDigitalBook?ajaxSearch=0&enc=utf-8&key={keyword}&page=1{additional}\";\\n                    break;\\n                case 6:\\n                    j = \"-1\", c = \"//music.jd.com/8_0_desc_0_0_1_15.html?key={keyword}\";\\n                    break;\\n                case 7:\\n                    c = \"//s-e.jd.com/Search?key={keyword}&enc=utf-8\";\\n                    break;\\n                case 8:\\n                    c = \"//search.jd.hk/Search?keyword={keyword}&enc=utf-8\";\\n                    break;\\n                case 9:\\n                    d += \"&market=1\"\\n            }\\n            if (\"string\" == typeof i && \"\" != i && \"string\" == typeof j) {\\n                var m = /^(?:[1-8])?([1-3])$/;\\n                j = \"-1\" == j ? \"\" : m.test(j) ? RegExp.$1 : \"\";\\n                var n = h.replace(/\\\\{level}/, j);\\n                n = n.replace(/\\\\{cid}/g, i), d += n\\n            }\\n            if (\"string\" == typeof k && \"\" != k && (d += \"&ev=\" + k), f = encodeURIComponent(f), b = c.replace(/\\\\{keyword}/, f), b = b.replace(/\\\\{enc}/, \"utf-8\"), b = b.replace(/\\\\{additional}/, d), \"object\" == typeof $o && (\"string\" == typeof $o.lastKeyword && (b += \"&wq=\" + encodeURIComponent($o.lastKeyword)), \"string\" == typeof $o.pvid && (b += \"&pvid=\" + $o.pvid)), b.indexOf(\"/search.jd.com/\") > 0) try {\\n                JA.tracker.ngloader(\"search.000009\", {key: f, posid: a, target: b})\\n            } catch (o) {\\n            }\\n            (\"undefined\" == typeof search.isSubmitted || 0 == search.isSubmitted) && (setTimeout(function () {\\n                window.location.href = b\\n            }, 50), search.isSubmitted = !0)\\n        };\\n    </script>\\n\\n\\n</head>\\n\\n<body class=\"index\">\\n<div class=\"mod_container\">\\n    <!--无障碍占位-->\\n    <div id=\"J_accessibility\"></div>\\n    <!--顶通占位 -->\\n    <div id=\"J_promotional-top\">\\n    </div>\\n    <div id=\"shortcut\">\\n        <div class=\"w\">\\n            <ul class=\"fl\" clstag=\"h|keycount|head|topbar_01\">\\n                <li class=\"dropdown\" id=\"ttbar-mycity\"></li>\\n            </ul>\\n\\n            <ul class=\"fr\">\\n                <li class=\"fore1 dropdown\" id=\"ttbar-login\" clstag=\"h|keycount|head|topbar_02\">\\n                    <a target=\"_blank\" href=\"javascript:login();\" class=\"link-login\">你好，请登录</a>&nbsp;&nbsp;<a\\n                        href=\"javascript:regist();\" class=\"link-regist style-red\">免费注册</a>\\n                </li>\\n                <li class=\"spacer\"></li>\\n                <li class=\"fore2\" clstag=\"h|keycount|head|topbar_03\">\\n                    <div class=\"dt\"><a target=\"_blank\" href=\"//order.jd.com/center/list.action\">我的订单</a></div>\\n                </li>\\n                <li class=\"spacer\"></li>\\n                <li class=\"fore3 dropdown\" id=\"ttbar-myjd\" clstag=\"h|keycount|head|topbar_04\">\\n                    <div class=\"dt cw-icon\"><a target=\"_blank\" href=\"//home.jd.com/\">我的京东</a><i class=\"iconfont\">&#xe610;</i><i\\n                            class=\"ci-right\"><s>◇</s></i></div>\\n                    <div class=\"dd dropdown-layer\"></div>\\n                </li>\\n                <li class=\"spacer\"></li>\\n                <li class=\"fore4\" clstag=\"h|keycount|head|topbar_05\">\\n                    <div class=\"dt\"><a target=\"_blank\" href=\"//vip.jd.com/\">京东会员</a></div>\\n                </li>\\n                <li class=\"spacer\"></li>\\n                <li class=\"fore5\" clstag=\"h|keycount|head|topbar_06\">\\n                    <div class=\"dt\"><a target=\"_blank\" href=\"//b.jd.com/\">企业采购</a></div>\\n                </li>\\n                <li class=\"spacer\"></li>\\n                <li class=\"fore8 dropdown\" id=\"ttbar-serv\" clstag=\"h|keycount|head|topbar_07\">\\n                    <div class=\"dt cw-icon\">客户服务<i class=\"iconfont\">&#xe610;</i><i class=\"ci-right\"><s>◇</s></i></div>\\n                    <div class=\"dd dropdown-layer\"></div>\\n                </li>\\n                <li class=\"spacer\"></li>\\n                <li class=\"fore9 dropdown\" id=\"ttbar-navs\" clstag=\"h|keycount|head|topbar_08\">\\n                    <div class=\"dt cw-icon\">网站导航<i class=\"iconfont\">&#xe610;</i><i class=\"ci-right\"><s>◇</s></i></div>\\n                    <div class=\"dd dropdown-layer\"></div>\\n                </li>\\n                <li class=\"spacer\"></li>\\n                <li class=\"fore10 mobile\" id=\"J_mobile\" clstag=\"h|keycount|head|topbar_09\">\\n                    <div class=\"dt mobile_txt\">手机京东</div>\\n                    <div class=\"mobile_static\">\\n                        <div class=\"mobile_static_qrcode\"></div>\\n                    </div>\\n                    <div id=\\'J_mobile_pop\\' class=\\'mod_loading mobile_pop\\'>\\n                    </div>\\n                </li>\\n            </ul>\\n        </div>\\n    </div>\\n\\n\\n    <div id=\"header\">\\n        <div class=\"w\">\\n            <div id=\"logo\" class=\"logo\">\\n                <h1 class=\"logo_tit\">\\n                    <a href=\"//www.jd.com\" class=\"logo_tit_lk\" clstag=\"h|keycount|head|logo_01\">京东</a>\\n                </h1>\\n                <h2 class=\"logo_subtit\">京东,多快好省</h2>\\n                <div class=\"logo_extend\" clstag=\"h|keycount|head|logo_02\"></div>\\n            </div>\\n\\n            <div id=\"search\">\\n                <div class=\"search-m\">\\n                    <div class=\"search_logo\">\\n                        <a href=\"//www.jd.com\" class=\"search_logo_lk\" clstag=\"h|keycount|head|logo_01\" tabindex=\"-1\">京东，多快好省</a>\\n                    </div>\\n\\n                    <div class=\"form\" role=\"serachbox\">\\n                        <ul id=\"shelper\" class=\"search-helper\" style=\"display: none\"></ul>\\n                        <input clstag=\"h|keycount|head|search_c\" type=\"text\"\\n                               onkeydown=\"javascript:if(event.keyCode==13) search(\\'key\\');\" autocomplete=\"off\" id=\"key\"\\n                               accesskey=\"s\"\\n                               class=\"text\"\\n                               aria-label=\"搜索\"/>\\n                        <button clstag=\"h|keycount|head|search_a\" onclick=\"search(\\'key\\');return false;\" class=\"button\" aria-label=\"搜索\">\\n                            <i\\n                                    class=\"iconfont\">&#xe60b;</i></button>\\n                    </div>\\n\\n                    <div id=\"settleup\" class=\"dropdown\" clstag=\"h|keycount|head|cart_null\">\\n                        <div class=\"cw-icon\">\\n                            <i class=\"iconfont\">&#xe60c;</i>\\n                            <a target=\"_blank\" href=\"//cart.jd.com/cart.action\">我的购物车</a>\\n                            <i class=\"ci-count\" id=\"shopping-amount\"></i>\\n                        </div>\\n                        <div class=\"dropdown-layer\">\\n                            <div id=\"J_cart_pop\">\\n                                <span class=\"loading\"></span>\\n                            </div>\\n                        </div>\\n                    </div>\\n                </div>\\n            </div>\\n\\n            <div id=\"hotwords\" clstag=\"h|keycount|head|search_d\" role=\"\"></div>\\n\\n            <div id=\"navitems\" role=\"navigation\">\\n                <div class=\"spacer\"></div>\\n                                                            <ul id=\"navitems-group1\">\\n                                        <li clstag=\"h|keycount|head|navi_01\" class=\"fore1\">\\n                                                    <a class=\"navitems-lk\"\\n                               target=\"_blank\"\\n                               href=\"https://miaosha.jd.com/\"\\n                               aria-lable=\"秒杀\">秒杀                                                            </a>\\n                                            </li>\\n                                                                            <li clstag=\"h|keycount|head|navi_02\" class=\"fore2\">\\n                                                    <a class=\"navitems-lk\"\\n                               target=\"_blank\"\\n                               href=\"https://a.jd.com/\"\\n                               aria-lable=\"优惠券\">优惠券                                                            </a>\\n                                            </li>\\n                                                                            <li clstag=\"h|keycount|head|navi_03\" class=\"fore3\">\\n                                                    <a class=\"navitems-lk\"\\n                               target=\"_blank\"\\n                               href=\"https://plus.jd.com/index?flow_system=appicon&flow_entrance=appicon11&flow_channel=pc\"\\n                               aria-lable=\"PLUS会员\">PLUS会员                                                            </a>\\n                                            </li>\\n                                                                            <li clstag=\"h|keycount|head|navi_04\" class=\"fore4\">\\n                                                    <a class=\"navitems-lk\"\\n                               target=\"_blank\"\\n                               href=\"https://red.jd.com/\"\\n                               aria-lable=\"品牌闪购\">品牌闪购                                                            </a>\\n                                            </li>\\n                                            </ul>\\n                        <div class=\"spacer\"></div>\\n                                                                                <ul id=\"navitems-group2\">\\n                                        <li clstag=\"h|keycount|head|navi_05\" class=\"fore5\">\\n                                                    <a class=\"navitems-lk\"\\n                               target=\"_blank\"\\n                               href=\"https://paimai.jd.com/\"\\n                               aria-lable=\"拍卖\">拍卖                                                            </a>\\n                                            </li>\\n                                                                            <li clstag=\"h|keycount|head|navi_06\" class=\"fore6\">\\n                                                    <a class=\"navitems-lk\"\\n                               target=\"_blank\"\\n                               href=\"https://jiadian.jd.com/\"\\n                               aria-lable=\"京东家电\">京东家电                                                            </a>\\n                                            </li>\\n                                                                            <li clstag=\"h|keycount|head|navi_07\" class=\"fore7\">\\n                                                    <a class=\"navitems-lk\"\\n                               target=\"_blank\"\\n                               href=\"https://chaoshi.jd.com/\"\\n                               aria-lable=\"京东超市\">京东超市                                                            </a>\\n                                            </li>\\n                                                                            <li clstag=\"h|keycount|head|navi_08\" class=\"fore8\">\\n                                                    <a class=\"navitems-lk\"\\n                               target=\"_blank\"\\n                               href=\"https://fresh.jd.com/\"\\n                               aria-lable=\"京东生鲜\">京东生鲜                                                            </a>\\n                                            </li>\\n                                            </ul>\\n                        <div class=\"spacer\"></div>\\n                                                                                <ul id=\"navitems-group3\">\\n                                        <li clstag=\"h|keycount|head|navi_09\" class=\"fore9\">\\n                                                    <a class=\"navitems-lk\"\\n                               target=\"_blank\"\\n                               href=\"https://www.jd.hk/\"\\n                               aria-lable=\"京东国际\">京东国际                                                            </a>\\n                                            </li>\\n                                                                            <li clstag=\"h|keycount|head|navi_10\" class=\"fore10\">\\n                                                    <a class=\"navitems-lk\"\\n                               target=\"_blank\"\\n                               href=\"https://jr.jd.com/\"\\n                               aria-lable=\"京东金融\">京东金融                                                            </a>\\n                                            </li>\\n                                            </ul>\\n                        <div class=\"spacer\"></div>\\n                                    \\n            </div>\\n\\n            <div id=\"treasure\"></div>\\n        </div>\\n    </div>\\n    <div class=\"fs\">\\n        <div class=\"grid_c1 fs_inner\">\\n            <div class=\"fs_col1\">\\n                <div id=\\'J_cate\\' class=\"cate J_cate\" role=\"navigation\" aria-label=\"左侧导航\">\\n                    <ul class=\"JS_navCtn cate_menu\">\\n                                                    <li class=\"cate_menu_item\" data-index=\"1\" clstag=\"h|keycount|head|category_01a\">\\n                                                                <a target=\"_blank\" class=\"cate_menu_lk\" href=\"//jiadian.jd.com\">家用电器</a>\\n                                                                                                </li>\\n                                                    <li class=\"cate_menu_item\" data-index=\"2\" clstag=\"h|keycount|head|category_02a\">\\n                                                                <a target=\"_blank\" class=\"cate_menu_lk\" href=\"//shouji.jd.com&#47;\">手机</a>\\n                                                                            <span class=\"cate_menu_line\">/</span>\\n                                                                                                    <a target=\"_blank\" class=\"cate_menu_lk\" href=\"//wt.jd.com\">运营商</a>\\n                                                                            <span class=\"cate_menu_line\">/</span>\\n                                                                                                    <a target=\"_blank\" class=\"cate_menu_lk\" href=\"//shuma.jd.com&#47;\">数码</a>\\n                                                                                                </li>\\n                                                    <li class=\"cate_menu_item\" data-index=\"3\" clstag=\"h|keycount|head|category_03a\">\\n                                                                <a target=\"_blank\" class=\"cate_menu_lk\" href=\"//diannao.jd.com&#47;\">电脑</a>\\n                                                                            <span class=\"cate_menu_line\">/</span>\\n                                                                                                    <a target=\"_blank\" class=\"cate_menu_lk\" href=\"//bg.jd.com\">办公</a>\\n                                                                                                </li>\\n                                                    <li class=\"cate_menu_item\" data-index=\"4\" clstag=\"h|keycount|head|category_04a\">\\n                                                                <a target=\"_blank\" class=\"cate_menu_lk\" href=\"//channel.jd.com&#47;home.html\">家居</a>\\n                                                                            <span class=\"cate_menu_line\">/</span>\\n                                                                                                    <a target=\"_blank\" class=\"cate_menu_lk\" href=\"//channel.jd.com&#47;furniture.html\">家具</a>\\n                                                                            <span class=\"cate_menu_line\">/</span>\\n                                                                                                    <a target=\"_blank\" class=\"cate_menu_lk\" href=\"//jzjc.jd.com&#47;\">家装</a>\\n                                                                            <span class=\"cate_menu_line\">/</span>\\n                                                                                                    <a target=\"_blank\" class=\"cate_menu_lk\" href=\"//channel.jd.com&#47;kitchenware.html\">厨具</a>\\n                                                                                                </li>\\n                                                    <li class=\"cate_menu_item\" data-index=\"5\" clstag=\"h|keycount|head|category_05a\">\\n                                                                <a target=\"_blank\" class=\"cate_menu_lk\" href=\"//channel.jd.com&#47;1315-1342.html\">男装</a>\\n                                                                            <span class=\"cate_menu_line\">/</span>\\n                                                                                                    <a target=\"_blank\" class=\"cate_menu_lk\" href=\"//channel.jd.com&#47;1315-1343.html\">女装</a>\\n                                                                            <span class=\"cate_menu_line\">/</span>\\n                                                                                                    <a target=\"_blank\" class=\"cate_menu_lk\" href=\"//phat.jd.com&#47;10-156.html\">童装</a>\\n                                                                            <span class=\"cate_menu_line\">/</span>\\n                                                                                                    <a target=\"_blank\" class=\"cate_menu_lk\" href=\"//channel.jd.com&#47;1315-1345.html\">内衣</a>\\n                                                                                                </li>\\n                                                    <li class=\"cate_menu_item\" data-index=\"6\" clstag=\"h|keycount|head|category_06a\">\\n                                                                <a target=\"_blank\" class=\"cate_menu_lk\" href=\"//beauty.jd.com&#47;\">美妆</a>\\n                                                                            <span class=\"cate_menu_line\">/</span>\\n                                                                                                    <a target=\"_blank\" class=\"cate_menu_lk\" href=\"//channel.jd.com&#47;beauty.html\">个护清洁</a>\\n                                                                            <span class=\"cate_menu_line\">/</span>\\n                                                                                                    <a target=\"_blank\" class=\"cate_menu_lk\" href=\"//channel.jd.com&#47;pet.html\">宠物</a>\\n                                                                                                </li>\\n                                                    <li class=\"cate_menu_item\" data-index=\"7\" clstag=\"h|keycount|head|category_07a\">\\n                                                                <a target=\"_blank\" class=\"cate_menu_lk\" href=\"//phat.jd.com&#47;10-184.html\">女鞋</a>\\n                                                                            <span class=\"cate_menu_line\">/</span>\\n                                                                                                    <a target=\"_blank\" class=\"cate_menu_lk\" href=\"//phat.jd.com&#47;10-183.html\">箱包</a>\\n                                                                            <span class=\"cate_menu_line\">/</span>\\n                                                                                                    <a target=\"_blank\" class=\"cate_menu_lk\" href=\"//channel.jd.com&#47;watch.html\">钟表</a>\\n                                                                            <span class=\"cate_menu_line\">/</span>\\n                                                                                                    <a target=\"_blank\" class=\"cate_menu_lk\" href=\"//channel.jd.com&#47;jewellery.html\">珠宝</a>\\n                                                                                                </li>\\n                                                    <li class=\"cate_menu_item\" data-index=\"8\" clstag=\"h|keycount|head|category_08a\">\\n                                                                <a target=\"_blank\" class=\"cate_menu_lk\" href=\"//phat.jd.com&#47;10-185.html\">男鞋</a>\\n                                                                            <span class=\"cate_menu_line\">/</span>\\n                                                                                                    <a target=\"_blank\" class=\"cate_menu_lk\" href=\"//phat.jd.com&#47;10-109.html\">运动</a>\\n                                                                            <span class=\"cate_menu_line\">/</span>\\n                                                                                                    <a target=\"_blank\" class=\"cate_menu_lk\" href=\"//channel.jd.com&#47;outdoor.html\">户外</a>\\n                                                                                                </li>\\n                                                    <li class=\"cate_menu_item\" data-index=\"9\" clstag=\"h|keycount|head|category_09a\">\\n                                                                <a target=\"_blank\" class=\"cate_menu_lk\" href=\"//xinfang.jd.com&#47;\">房产</a>\\n                                                                            <span class=\"cate_menu_line\">/</span>\\n                                                                                                    <a target=\"_blank\" class=\"cate_menu_lk\" href=\"//car.jd.com&#47;\">汽车</a>\\n                                                                            <span class=\"cate_menu_line\">/</span>\\n                                                                                                    <a target=\"_blank\" class=\"cate_menu_lk\" href=\"//che.jd.com&#47;\">汽车用品</a>\\n                                                                                                </li>\\n                                                    <li class=\"cate_menu_item\" data-index=\"10\" clstag=\"h|keycount|head|category_10a\">\\n                                                                <a target=\"_blank\" class=\"cate_menu_lk\" href=\"//baby.jd.com\">母婴</a>\\n                                                                            <span class=\"cate_menu_line\">/</span>\\n                                                                                                    <a target=\"_blank\" class=\"cate_menu_lk\" href=\"//toy.jd.com&#47;\">玩具乐器</a>\\n                                                                                                </li>\\n                                                    <li class=\"cate_menu_item\" data-index=\"11\" clstag=\"h|keycount|head|category_11a\">\\n                                                                <a target=\"_blank\" class=\"cate_menu_lk\" href=\"//food.jd.com&#47;\">食品</a>\\n                                                                            <span class=\"cate_menu_line\">/</span>\\n                                                                                                    <a target=\"_blank\" class=\"cate_menu_lk\" href=\"//jiu.jd.com\">酒类</a>\\n                                                                            <span class=\"cate_menu_line\">/</span>\\n                                                                                                    <a target=\"_blank\" class=\"cate_menu_lk\" href=\"//fresh.jd.com\">生鲜</a>\\n                                                                            <span class=\"cate_menu_line\">/</span>\\n                                                                                                    <a target=\"_blank\" class=\"cate_menu_lk\" href=\"//china.jd.com\">特产</a>\\n                                                                                                </li>\\n                                                    <li class=\"cate_menu_item\" data-index=\"12\" clstag=\"h|keycount|head|category_12a\">\\n                                                                <a target=\"_blank\" class=\"cate_menu_lk\" href=\"//art.jd.com\">艺术</a>\\n                                                                            <span class=\"cate_menu_line\">/</span>\\n                                                                                                    <a target=\"_blank\" class=\"cate_menu_lk\" href=\"//channel.jd.com&#47;1672-2599.html\">礼品鲜花</a>\\n                                                                            <span class=\"cate_menu_line\">/</span>\\n                                                                                                    <a target=\"_blank\" class=\"cate_menu_lk\" href=\"//nong.jd.com\">农资绿植</a>\\n                                                                                                </li>\\n                                                    <li class=\"cate_menu_item\" data-index=\"13\" clstag=\"h|keycount|head|category_13a\">\\n                                                                <a target=\"_blank\" class=\"cate_menu_lk\" href=\"//health.jd.com\">医药保健</a>\\n                                                                            <span class=\"cate_menu_line\">/</span>\\n                                                                                                    <a target=\"_blank\" class=\"cate_menu_lk\" href=\"//channel.jd.com&#47;9192-9196.html\">计生情趣</a>\\n                                                                                                </li>\\n                                                    <li class=\"cate_menu_item\" data-index=\"14\" clstag=\"h|keycount|head|category_14a\">\\n                                                                <a target=\"_blank\" class=\"cate_menu_lk\" href=\"//book.jd.com&#47;\">图书</a>\\n                                                                            <span class=\"cate_menu_line\">/</span>\\n                                                                                                    <a target=\"_blank\" class=\"cate_menu_lk\" href=\"//mvd.jd.com&#47;\">文娱</a>\\n                                                                            <span class=\"cate_menu_line\">/</span>\\n                                                                                                    <a target=\"_blank\" class=\"cate_menu_lk\" href=\"//education.jd.com\">教育</a>\\n                                                                            <span class=\"cate_menu_line\">/</span>\\n                                                                                                    <a target=\"_blank\" class=\"cate_menu_lk\" href=\"//e.jd.com&#47;ebook.html\">电子书</a>\\n                                                                                                </li>\\n                                                    <li class=\"cate_menu_item\" data-index=\"15\" clstag=\"h|keycount|head|category_15a\">\\n                                                                <a target=\"_blank\" class=\"cate_menu_lk\" href=\"//jipiao.jd.com&#47;\">机票</a>\\n                                                                            <span class=\"cate_menu_line\">/</span>\\n                                                                                                    <a target=\"_blank\" class=\"cate_menu_lk\" href=\"//hotel.jd.com&#47;\">酒店</a>\\n                                                                            <span class=\"cate_menu_line\">/</span>\\n                                                                                                    <a target=\"_blank\" class=\"cate_menu_lk\" href=\"//trip.jd.com&#47;\">旅游</a>\\n                                                                            <span class=\"cate_menu_line\">/</span>\\n                                                                                                    <a target=\"_blank\" class=\"cate_menu_lk\" href=\"//ish.jd.com&#47;\">生活</a>\\n                                                                                                </li>\\n                                                    <li class=\"cate_menu_item\" data-index=\"16\" clstag=\"h|keycount|head|category_16a\">\\n                                                                <a target=\"_blank\" class=\"cate_menu_lk\" href=\"//licai.jd.com&#47;\">理财</a>\\n                                                                            <span class=\"cate_menu_line\">/</span>\\n                                                                                                    <a target=\"_blank\" class=\"cate_menu_lk\" href=\"//z.jd.com&#47;\">众筹</a>\\n                                                                            <span class=\"cate_menu_line\">/</span>\\n                                                                                                    <a target=\"_blank\" class=\"cate_menu_lk\" href=\"//baitiao.jd.com\">白条</a>\\n                                                                            <span class=\"cate_menu_line\">/</span>\\n                                                                                                    <a target=\"_blank\" class=\"cate_menu_lk\" href=\"//bao.jd.com&#47;\">保险</a>\\n                                                                                                </li>\\n                                                    <li class=\"cate_menu_item\" data-index=\"17\" clstag=\"h|keycount|head|category_17a\">\\n                                                                <a target=\"_blank\" class=\"cate_menu_lk\" href=\"//anzhuang.jd.com\">安装</a>\\n                                                                            <span class=\"cate_menu_line\">/</span>\\n                                                                                                    <a target=\"_blank\" class=\"cate_menu_lk\" href=\"//jdwx.jd.com\">维修</a>\\n                                                                            <span class=\"cate_menu_line\">/</span>\\n                                                                                                    <a target=\"_blank\" class=\"cate_menu_lk\" href=\"//cleanclean.jd.com\">清洗</a>\\n                                                                            <span class=\"cate_menu_line\">/</span>\\n                                                                                                    <a target=\"_blank\" class=\"cate_menu_lk\" href=\"//2.paipai.com&#47;\">二手</a>\\n                                                                                                </li>\\n                                                    <li class=\"cate_menu_item\" data-index=\"18\" clstag=\"h|keycount|head|category_18a\">\\n                                                                <a target=\"_blank\" class=\"cate_menu_lk\" href=\"//imall.jd.com&#47;\">工业品</a>\\n                                                                                                </li>\\n                                            </ul>\\n                    <div id=\"J_popCtn\" class=\"JS_popCtn cate_pop mod_loading\" style=\"display: none;\"></div>\\n                </div>\\n            </div>\\n\\n            <div class=\"fs_col2\">\\n                <div id=\\'J_focus\\' class=\"focus\">\\n                    <div class=\"focus__loading focus__main skeleton-wrapper\">\\n                        <div class=\"focus-slider\">\\n                        <div class=\"focus-item__core skeleton-elementDark mod_lazyload\"></div>\\n                        <div class=\"focus-item__recommend\">\\n                            <div class=\"recommend-item skeleton-elementDark\"></div>\\n                            <div class=\"recommend-item skeleton-elementDark\"></div>\\n                            <div class=\"recommend-item skeleton-elementDark\"></div>\\n                        </div>\\n                        </div>\\n                    </div>\\n                </div>\\n            </div>\\n\\n            <div id=\"J_fs_col3\" class=\"fs_col3\">\\n                <div id=\\'J_user\\' class=\"J_user user mod_loading\">\\n                    <div class=\"user__loading user_inner\">\\n                    <div class=\"user_avatar\">\\n                        <div class=\"user_avatar_lk skeleton-element\"></div>\\n                    </div>\\n                    <div class=\"user_show skeleton-element\">\\n                        <p></p><p></p>\\n                    </div>\\n                    <div class=\"user_profit_placeholder skeleton-element\"></div>\\n                </div>\\n                </div>\\n                <div id=\\'J_news\\' class=\"news J_news\">\\n                    <div class=\"news__loading news2\">\\n                        <div class=\"news_hd\">\\n                        <div class=\"news_hd_placeholder skeleton-element\"></div>\\n                        </div>\\n                        <div class=\"news_list\"><div class=\"news_item skeleton-element\"></div><div class=\"news_item skeleton-element\"></div><div class=\"news_item skeleton-element\"></div><div class=\"news_item skeleton-element\"></div></div>\\n                    </div>\\n                </div>\\n                <div id=\"J_service\" class=\"service\">\\n                    <div class=\"service_entry\">\\n                        <ul class=\"J_tab_head service_list\">\\n                            <li class=\"service_item service_frame mod_tab_head_item\">\\n                                <a href=\"//chongzhi.jd.com/\" class=\"service_lk\"\\n                                   target=\"_blank\" clstag=\"h|keycount|head|shortcut_01\" aria-label=\"话费\">\\n                                                                                                                                                    <i class=\"service_ico service_ico_huafei\">\\n                                        <img class=\"service_ico_img\"\\n                                             src=\"//m.360buyimg.com/babel/jfs/t1/30057/19/14881/720/5cbf064aE187b8361/eed6f6cbf1de3aaa.png\"/>\\n                                        <img class=\"service_ico_img_hover\"\\n                                             src=\"//m.360buyimg.com/babel/jfs/t1/45423/33/385/778/5cd4f265E442a9342/0aff0a42cece09ee.png\"/>\\n                                    </i>\\n                                    <span class=\"service_txt\">话费</span>\\n                                </a>\\n                            </li>\\n                            <li class=\"service_item service_frame mod_tab_head_item\">\\n                                <a href=\"//jipiao.jd.com/\" class=\"service_lk\" target=\"_blank\"\\n                                   clstag=\"h|keycount|head|shortcut_02\" aria-label=\"机票\">\\n                                                                                                                                                    <i class=\"service_ico service_ico_jipiao\">\\n                                        <img class=\"service_ico_img\"\\n                                             src=\"//m.360buyimg.com/babel/jfs/t1/36478/38/5384/2901/5cbf065aEb0c60a12/afb4399323fe3b76.png\"/>\\n                                        <img class=\"service_ico_img_hover\"\\n                                             src=\"//m.360buyimg.com/babel/jfs/t1/34261/15/10242/3120/5cd4f256E10257aba/8f3f63ae04ff19af.png\"/>\\n                                    </i>\\n                                    <span class=\"service_txt\">机票</span>\\n                                </a>\\n                            </li>\\n                            <li class=\"service_item service_frame mod_tab_head_item\">\\n                                <a href=\"//hotel.jd.com/\" class=\"service_lk\" target=\"_blank\"\\n                                   clstag=\"h|keycount|head|shortcut_03\" aria-label=\"酒店\">\\n                                                                                                                                                                                                                                                                                                                                                                                                                    <span class=\"service_corner\">\\n                                                        <i class=\"service_corner_txt\">惠</i>\\n                                                        <i class=\"service_corner_ico\"></i>\\n                                                    </span>\\n                                                                                                                                                                                                                                                                                                                                                                                                                                                                                                                                                                                                                                                                                                                                                                                                                                                                                                                                                                            <i class=\"service_ico service_ico_jiudian\">\\n                                        <img class=\"service_ico_img\"\\n                                             src=\"//m.360buyimg.com/babel/jfs/t1/31069/34/14642/979/5cbf0665Ec7dc8223/5fee386254dd2ebc.png\"/>\\n                                        <img class=\"service_ico_img_hover\"\\n                                             src=\"//m.360buyimg.com/babel/jfs/t1/44601/19/915/1039/5cd4f1cfE2e46473c/b61f083872a7a1de.png\"/>\\n                                    </i>\\n                                    <span class=\"service_txt\">酒店</span>\\n                                </a>\\n                            </li>\\n                            <li class=\"service_item service_frame service_frame2 mod_tab_head_item\" data-row=\"2\">\\n                                <a href=\"//game.jd.com/\" class=\"service_lk\" target=\"_blank\"\\n                                   clstag=\"h|keycount|head|shortcut_04\" aria-label=\"游戏\">\\n                                                                                                                                                    <i class=\"service_ico service_ico_youxi\">\\n                                        <img class=\"service_ico_img\"\\n                                             src=\"//m.360buyimg.com/babel/jfs/t1/32403/22/14829/3699/5cbf0674E04723693/caa83ce9b881cd24.png\"/>\\n                                        <img class=\"service_ico_img_hover\"\\n                                             src=\"//m.360buyimg.com/babel/jfs/t1/57520/8/375/4092/5cd4f1d8Ea1266047/1c590322ece537ba.png\"/>\\n                                    </i>\\n                                    <span class=\"service_txt\">游戏</span>\\n                                </a>\\n                            </li>\\n                                                                                                                                                                                                                                                                                                                                                <li class=\"service_item service_noframe\">\\n                                        <a href=\"https:&#47;&#47;jiayouka.jd.com&#47;\" class=\"service_lk\" target=\"_blank\"\\n                                           clstag=\"h|keycount|head|shortcut_05\" aria-label=\"加油卡\">\\n                                                                                        <i class=\"service_ico\">\\n                                                <!-- 常态 icon -->\\n                                                <img class=\"service_ico_img\"\\n                                                        src=\"https:&#47;&#47;m.360buyimg.com&#47;babel&#47;jfs&#47;t1&#47;104305&#47;33&#47;13082&#47;3048&#47;5e55db8cE3c971d21&#47;4cccb26719b9f41e.png\"/>\\n                                                <!-- hover 态 icon -->\\n                                                <img class=\"service_ico_img_hover\"\\n                                                        src=\"https:&#47;&#47;m.360buyimg.com&#47;babel&#47;jfs&#47;t1&#47;36002&#47;35&#47;9106&#47;3311&#47;5cd4f1bdE06ff07ed&#47;9570fdd46ecd3a76.png\"/>\\n                                            </i>\\n                                            <span class=\"service_txt\">加油卡</span>\\n                                        </a>\\n                                    </li>\\n                                                                                                                                <li class=\"service_item service_noframe\">\\n                                        <a href=\"https:&#47;&#47;train.jd.com&#47;\" class=\"service_lk\" target=\"_blank\"\\n                                           clstag=\"h|keycount|head|shortcut_06\" aria-label=\"火车票\">\\n                                                                                        <i class=\"service_ico\">\\n                                                <!-- 常态 icon -->\\n                                                <img class=\"service_ico_img\"\\n                                                        src=\"https:&#47;&#47;m.360buyimg.com&#47;babel&#47;jfs&#47;t1&#47;102252&#47;13&#47;13270&#47;1581&#47;5e55dd28Ebf5f936a&#47;0079d005b3eb8af9.png\"/>\\n                                                <!-- hover 态 icon -->\\n                                                <img class=\"service_ico_img_hover\"\\n                                                        src=\"https:&#47;&#47;m.360buyimg.com&#47;babel&#47;jfs&#47;t1&#47;58891&#47;36&#47;278&#47;1745&#47;5cd4f1e0Ef4cc50a7&#47;f12276b17e5dcf3b.png\"/>\\n                                            </i>\\n                                            <span class=\"service_txt\">火车票</span>\\n                                        </a>\\n                                    </li>\\n                                                                                                                                <li class=\"service_item service_noframe\">\\n                                        <a href=\"https:&#47;&#47;z.jd.com&#47;sceneIndex.html?from=jrscyn_20162\" class=\"service_lk\" target=\"_blank\"\\n                                           clstag=\"h|keycount|head|shortcut_07\" aria-label=\"众筹\">\\n                                                                                        <i class=\"service_ico\">\\n                                                <!-- 常态 icon -->\\n                                                <img class=\"service_ico_img\"\\n                                                        src=\"https:&#47;&#47;m.360buyimg.com&#47;babel&#47;jfs&#47;t1&#47;92304&#47;16&#47;13311&#47;1685&#47;5e55de81Ed60bac6f&#47;068dd0af592d40ee.png\"/>\\n                                                <!-- hover 态 icon -->\\n                                                <img class=\"service_ico_img_hover\"\\n                                                        src=\"https:&#47;&#47;m.360buyimg.com&#47;babel&#47;jfs&#47;t1&#47;50929&#47;1&#47;374&#47;1847&#47;5cd4f1eaE5daf90db&#47;cebbff76b25dc22e.png\"/>\\n                                            </i>\\n                                            <span class=\"service_txt\">众筹</span>\\n                                        </a>\\n                                    </li>\\n                                                                                                                                <li class=\"service_item service_noframe\">\\n                                        <a href=\"https:&#47;&#47;licai.jd.com&#47;?from=jrscyn_20161\" class=\"service_lk\" target=\"_blank\"\\n                                           clstag=\"h|keycount|head|shortcut_08\" aria-label=\"理财\">\\n                                                                                        <i class=\"service_ico\">\\n                                                <!-- 常态 icon -->\\n                                                <img class=\"service_ico_img\"\\n                                                        src=\"https:&#47;&#47;m.360buyimg.com&#47;babel&#47;jfs&#47;t1&#47;99923&#47;4&#47;13157&#47;3447&#47;5e55db9fEe6f01ecf&#47;63939dde753166d1.png\"/>\\n                                                <!-- hover 态 icon -->\\n                                                <img class=\"service_ico_img_hover\"\\n                                                        src=\"https:&#47;&#47;m.360buyimg.com&#47;babel&#47;jfs&#47;t1&#47;47544&#47;23&#47;372&#47;3943&#47;5cd4f24eE92fbcf79&#47;4b49b55af25a7bdf.png\"/>\\n                                            </i>\\n                                            <span class=\"service_txt\">理财</span>\\n                                        </a>\\n                                    </li>\\n                                                                                                                                <li class=\"service_item service_noframe\">\\n                                        <a href=\"https:&#47;&#47;baitiao.jd.com&#47;?from=jrscyn_20160\" class=\"service_lk\" target=\"_blank\"\\n                                           clstag=\"h|keycount|head|shortcut_09\" aria-label=\"白条\">\\n                                                                                        <i class=\"service_ico\">\\n                                                <!-- 常态 icon -->\\n                                                <img class=\"service_ico_img\"\\n                                                        src=\"https:&#47;&#47;m.360buyimg.com&#47;babel&#47;jfs&#47;t1&#47;95113&#47;34&#47;13243&#47;1443&#47;5e55dba6E20f122bf&#47;3d0b478a97caa24a.png\"/>\\n                                                <!-- hover 态 icon -->\\n                                                <img class=\"service_ico_img_hover\"\\n                                                        src=\"https:&#47;&#47;m.360buyimg.com&#47;babel&#47;jfs&#47;t1&#47;39983&#47;24&#47;6834&#47;1596&#47;5cd4f247E8cf89f1e&#47;b8a8418d5418f471.png\"/>\\n                                            </i>\\n                                            <span class=\"service_txt\">白条</span>\\n                                        </a>\\n                                    </li>\\n                                                                                                                                <li class=\"service_item service_noframe\">\\n                                        <a href=\"https:&#47;&#47;movie.jd.com&#47;index.html\" class=\"service_lk\" target=\"_blank\"\\n                                           clstag=\"h|keycount|head|shortcut_10\" aria-label=\"电影票\">\\n                                                                                        <i class=\"service_ico\">\\n                                                <!-- 常态 icon -->\\n                                                <img class=\"service_ico_img\"\\n                                                        src=\"https:&#47;&#47;m.360buyimg.com&#47;babel&#47;jfs&#47;t1&#47;109398&#47;22&#47;7043&#47;3066&#47;5e55dd34E7ab9b078&#47;274b5a5e95586510.png\"/>\\n                                                <!-- hover 态 icon -->\\n                                                <img class=\"service_ico_img_hover\"\\n                                                        src=\"https:&#47;&#47;m.360buyimg.com&#47;babel&#47;jfs&#47;t1&#47;41106&#47;15&#47;4551&#47;3300&#47;5cd4f1c7E507148c7&#47;90a218f053e903d2.png\"/>\\n                                            </i>\\n                                            <span class=\"service_txt\">电影票</span>\\n                                        </a>\\n                                    </li>\\n                                                                                                                                <li class=\"service_item service_noframe\">\\n                                        <a href=\"https:&#47;&#47;b.jd.com&#47;\" class=\"service_lk\" target=\"_blank\"\\n                                           clstag=\"h|keycount|head|shortcut_11\" aria-label=\"企业购\">\\n                                                                                        <i class=\"service_ico\">\\n                                                <!-- 常态 icon -->\\n                                                <img class=\"service_ico_img\"\\n                                                        src=\"https:&#47;&#47;m.360buyimg.com&#47;babel&#47;jfs&#47;t1&#47;87213&#47;36&#47;13181&#47;826&#47;5e55dbb1E449e65ad&#47;0ed1e76bc725edfd.png\"/>\\n                                                <!-- hover 态 icon -->\\n                                                <img class=\"service_ico_img_hover\"\\n                                                        src=\"https:&#47;&#47;m.360buyimg.com&#47;babel&#47;jfs&#47;t1&#47;45316&#47;3&#47;388&#47;884&#47;5cd4f25eEea4c67ed&#47;671f7c186c5e9b01.png\"/>\\n                                            </i>\\n                                            <span class=\"service_txt\">企业购</span>\\n                                        </a>\\n                                    </li>\\n                                                                                                                                <li class=\"service_item service_noframe\">\\n                                        <a href=\"https:&#47;&#47;o.jd.com&#47;market&#47;index.action\" class=\"service_lk\" target=\"_blank\"\\n                                           clstag=\"h|keycount|head|shortcut_12\" aria-label=\"礼品卡\">\\n                                                                                        <i class=\"service_ico\">\\n                                                <!-- 常态 icon -->\\n                                                <img class=\"service_ico_img\"\\n                                                        src=\"https:&#47;&#47;m.360buyimg.com&#47;babel&#47;jfs&#47;t1&#47;106645&#47;22&#47;13331&#47;815&#47;5e55dbb9Ee1a04871&#47;a4a758739ea0f183.png\"/>\\n                                                <!-- hover 态 icon -->\\n                                                <img class=\"service_ico_img_hover\"\\n                                                        src=\"https:&#47;&#47;m.360buyimg.com&#47;babel&#47;jfs&#47;t1&#47;55911&#47;31&#47;402&#47;858&#47;5cd4f23eE6f536460&#47;5da079255c6dfabe.png\"/>\\n                                            </i>\\n                                            <span class=\"service_txt\">礼品卡</span>\\n                                        </a>\\n                                    </li>\\n                                                                                    </ul>\\n                    </div>\\n                    <div class=\"J_tab_content service_pop\" tabindex=\"-1\" aria-hidden=\"true\">\\n                        <div class=\"mod_tab_content_item service_pop_item mod_loading\"></div>\\n                        <div class=\"mod_tab_content_item service_pop_item mod_loading\"></div>\\n                        <div class=\"mod_tab_content_item service_pop_item mod_loading\"></div>\\n                        <div class=\"mod_tab_content_item service_pop_item mod_loading\"></div>\\n                        <a class=\"J_service_pop_close service_pop_close iconfont\" href=\"javascript:;\" tabindex=\"-1\">\\ue600</a>\\n                    </div>\\n                </div>\\n            </div>\\n        </div>\\n        <div id=\"J_fs_act\" class=\"fs_act\"></div>\\n    </div>\\n    <!-- CLUB_LINK start seo  -->\\n    <div style=\"display:none\">\\n                <a href=\"//www.jd.com/zxnews/a172d64e17755263.html\">HTC手机哪款好</a>\\n                <a href=\"//www.jd.com/nrjs/af98b9fb7f178611.html\">双卡双待手机哪款好</a>\\n                <a href=\"//www.jd.com/phb/zhishi/1afe932ec41f8476.html\">8GB手机排行榜</a>\\n                <a href=\"//www.jd.com/jxinfo/d9d0db1eb09fac50.html\">联想天逸510s 台式机</a>\\n                <a href=\"//www.jd.com/zxnews/00e438ca02b0ae2a.html\">海尔滚筒式洗衣机</a>\\n                <a href=\"//union.jd.com\">网络赚钱</a>\\n                <a href=\"//www.jd.com/hprm/12259169922114dc5ef82.html\">白酒</a>\\n                <a href=\"//www.jd.com/cppf/15901c58fb5406380f01f.html\">立白洗衣液</a>\\n                <a href=\"//www.jd.com/hotitem/167501d880f4101f9815e.html\">青少年牙刷</a>\\n                <a href=\"//www.jd.com/sptopic/1316b578fe1de22368e4.html\">洗面奶</a>\\n                <a href=\"//www.jd.com/nrjs/3246ed949ba174ea.html\">唐狮拼色 连衣裙</a>\\n                <a href=\"//www.jd.com/brand/9987019f0bd7d403e3de.html\">苹果手机</a>\\n                <a href=\"//www.jd.com/hprm/62331efefe1affa158ff.html\">琵琶</a>\\n                <a href=\"//www.jd.com/sptopic/117296ca19d46b24dfeb3.html\">女士鞋</a>\\n                <a href=\"//www.jd.com/cppf/9847333cd3d99d6886d9.html\">实木沙发</a>\\n                <a href=\"//www.jd.com/book/737280eea8ac7dfea03.html\">索尼电视</a>\\n                <a href=\"//www.jd.com/hotitem/9855fbd5a67b591890f1.html\">卫浴品牌</a>\\n                <a href=\"//www.jd.com/zuozhe/7378d855fa5f85d59a5.html\">奥克斯空调</a>\\n                <a href=\"//fresh.jd.com/shengxian/12218e48f879c700b44c1.html\">百香果</a>\\n                <a href=\"//www.jd.com/zuozhe/652182fc3f82b3ca368.html\">索尼耳机</a>\\n                <a href=\"https://yp.jd.com/7379a476185660effca.html\">迷你冷冻</a>\\n                <a href=\"https://www.jd.com/phb/737b35185c8ee6896cd.html\">欧立三门变频冰箱</a>\\n                <a href=\"https://www.jd.com/phb/key_737465f4bf3c93c426d.html\">冰箱150</a>\\n                <a href=\"https://www.jd.com/jiage/73708c8e345c9ac0513.html\">海尔小统帅冰箱升</a>\\n                <a href=\"https://www.jd.com/tupian/7375f903e84f3619a3f.html\">海尔冰箱保修期</a>\\n                <a href=\"https://www.jd.com/xinkuan/737e381df7af2675d87.html\">金针菇冰箱</a>\\n                <a href=\"https://www.jd.com/book/737bf4d05796e7439ba.html\">利勃海尔（liebherr）变频冰箱</a>\\n                <a href=\"https://www.jd.com/zuozhe/737b11e2235d8d4dc95.html\">小型冰箱价位</a>\\n                <a href=\"https://www.jd.com/brand/737f3f8f616bf48c01d.html\">直排轮子</a>\\n                <a href=\"https://www.jd.com/xinghao/7379bf197f17aeecf22.html\">国产无氟冰箱排名</a>\\n                <a href=\"https://www.jd.com/cppf/73788d33b05daeb29de.html\">松下610</a>\\n                <a href=\"https://www.jd.com/hprm/737da1d86eb32a2bdb4.html\">万爱三级能效冰箱</a>\\n                <a href=\"https://www.jd.com/sptopic/737d3b962ef3910274e.html\">一台冰箱有多重</a>\\n                <a href=\"https://www.jd.com/hotitem/737143e73608b864c68.html\">海尔（haier）BCD-273WDCG</a>\\n                <a href=\"https://www.jd.com/nrjs/a4aeeecd1bacc96c.html\">尊贵无霜哪款好？尊贵无霜怎么样好用吗？</a>\\n                <a href=\"https://www.jd.com/zxnews/025d588aadbc697e.html\">美菱冰箱255排行榜，美菱冰箱255十大排名推荐</a>\\n                <a href=\"https://www.jd.com/phb/zhishi/de80e5a9537e6f10.html\">312WDPM哪款好？312WDPM怎么样好用吗？</a>\\n                <a href=\"https://www.jd.com/phb/zhishi/648abdbad095e825.html\">三门冰箱温控排行榜，三门冰箱温控十大排名推荐</a>\\n                <a href=\"https://www.jd.com/jxinfo/773a0e0855cd7519.html\">美菱（MeiLing） BCD-441WP9CX 十字对开门 冰箱</a>\\n                <a href=\"https://www.jd.com/jxinfo/b7c34535a2fa2d9d.html\">海尔冰箱118升哪款好？海尔冰箱118升怎么样好用吗？</a>\\n            </div>\\n    <!-- CLUB_LINK end -->\\n    <script type=\"text/javascript\">\\n        window.point.fs = new Date().getTime();\\n    </script>\\n    <!-- E ad2 -->\\n\\n</div>\\n\\n\\n\\n<script\\n        src=\"//misc.360buyimg.com/??jdf/lib/jquery-1.6.4.js,mtd/pc/common/js/o2_ua.js,mtd/pc/base/1.0.0/event.js\"></script>\\n<script src=\"//wl.jd.com/wl.js\"></script>\\n\\n  <script>\\r\\n  </script>\\r\\n<style>\\r\\n.o2_ie8 .more2_international {\\r\\n    filter: progid:dximagetransform.microsoft.alphaimageloader(src=\\'//storage.360buyimg.com/mtd/home/more_international1575014601797.png\\',sizingMethod=\\'scale\\');\\r\\n    background: none;\\r\\n  }\\r\\n.mod_help_cover {\\r\\n    background-image: none;\\r\\n}\\r\\n</style>\\r\\n\\n\\n<div id=\"app\"></div>\\n<script type=\"text/javascript\">\\n    window.point.dom = new Date().getTime();\\n</script>\\n\\n</body>\\n\\n\\n<script type=\"text/javascript\" src=\"//misc.360buyimg.com/mtd/pc/index_2019/1.0.0/static/js/runtime.js\"></script>\\n\\n<script type=\"text/javascript\" src=\"//misc.360buyimg.com/mtd/pc/index_2019/1.0.0/static/js/index.chunk.js\"></script>\\n\\n<script type=\"text/javascript\">\\n    window.point.js = new Date().getTime();\\n</script>\\n</html>'"
      ]
     },
     "execution_count": 1,
     "metadata": {},
     "output_type": "execute_result"
    }
   ],
   "source": [
    "import urllib\n",
    "import urllib.request\n",
    "import re\n",
    "\n",
    "data = urllib.request.urlopen('http://www.jd.com').read().decode('UTF-8', 'ignore')\n",
    "data"
   ]
  },
  {
   "cell_type": "code",
   "execution_count": 2,
   "metadata": {},
   "outputs": [
    {
     "data": {
      "text/plain": [
       "['京东(JD.COM)-正品低价、品质保障、配送及时、轻松购物！']"
      ]
     },
     "execution_count": 2,
     "metadata": {},
     "output_type": "execute_result"
    }
   ],
   "source": [
    "# Get title\n",
    "pat = '<title>(.*?)</title>'\n",
    "re.compile(pat, re.S).findall(data)"
   ]
  },
  {
   "cell_type": "code",
   "execution_count": 7,
   "metadata": {},
   "outputs": [
    {
     "data": {
      "text/plain": [
       "('./tmp/jd.html', <http.client.HTTPMessage at 0x1049d7c10>)"
      ]
     },
     "execution_count": 7,
     "metadata": {},
     "output_type": "execute_result"
    }
   ],
   "source": [
    "# Save to Disk\n",
    "urllib.request.urlretrieve('http://www.jd.com', filename='./tmp/jd.html')"
   ]
  },
  {
   "cell_type": "markdown",
   "metadata": {},
   "source": [
    "### 浏览器伪装"
   ]
  },
  {
   "cell_type": "code",
   "execution_count": 4,
   "metadata": {},
   "outputs": [
    {
     "data": {
      "text/plain": [
       "'<!DOCTYPE html PUBLIC \"-//W3C//DTD XHTML 1.0 Transitional//EN\" \"http://www.w3.org/TR/xhtml1/DTD/xhtml1-transitional.dtd\">\\r\\n<html xmlns=\"http://www.w3.org/1999/xhtml\">\\r\\n<head>\\r\\n<meta http-equiv=\"Content-Type\" content=\"text/html; charset=utf8\">\\r\\n<title>友际无限（北京）科技有限公司</title>\\r\\n<meta name=\"Keywords\" content=\"友际无限（北京）科技有限公司\">\\r\\n<meta name=\"Description\" content=\"友际无限（北京）科技有限公司\">\\r\\n\\r\\n<link rel=\"stylesheet\" type=\"text/css\" href=\"E6bmVsdm\\\\template\\\\css\\\\style.css\">\\r\\n<!--[if lt IE 9]>\\r\\n<script src=\"/Public/js/html5shiv.js\"></script>\\r\\n<![endif]-->\\r\\n\\r\\n<!--[if lt IE 9]>\\r\\n<script type=\"text/javascript\" src=\"/template/js/jquery-1.10.2.min.js\"></script>\\r\\n<![endif]-->\\r\\n<!--[if gte IE 9]><!-->\\r\\n<script type=\"text/javascript\" src=\"E6bmVsdm\\\\template\\\\js\\\\jquery-2.2.3.min.js\"></script>\\r\\n<script type=\"text/javascript\" src=\"E6bmVsdm\\\\template\\\\js\\\\layer.js\"></script>\\r\\n<!--<![endif]-->\\r\\n\\r\\n\\r\\n<script type=\"text/javascript\" src=\"E6bmVsdm\\\\template\\\\js\\\\self.js\"></script>\\r\\n\\r\\n\\r\\n\\r\\n<link rel=\"stylesheet\" type=\"text/css\" href=\"E6bmVsdm\\\\template\\\\css\\\\style.css\">\\r\\n<link rel=\"stylesheet\" type=\"text/css\" href=\"E6bmVsdm\\\\template\\\\css\\\\reseting.css\">\\r\\n<link rel=\"stylesheet\" type=\"text/css\" href=\"E6bmVsdm\\\\template\\\\css\\\\lite.css\">\\r\\n<link rel=\"stylesheet\" type=\"text/css\" href=\"E6bmVsdm\\\\template\\\\css\\\\layer.css\">\\r\\n\\r\\n\\r\\n\\r\\n\\r\\n</head>\\r\\n<body class=\"index\">\\r\\n\\r\\n<div class=\"n-top\">\\r\\n            <div class=\"n-top-center containers clear\">\\r\\n\\t\\t\\t\\t\\t\\t\\t\\t<a class=\"logo\" href=\"index.htm\"><img class=\"logo\" src=\"E6bmVsdm\\\\template\\\\images\\\\logo.png\"></a>\\r\\n                <div class=\"n-nav clear\">\\r\\n                    <a class=\"active\" href=\"index.htm\">首页</a>\\r\\n\\t\\t\\t\\t\\t\\t\\t\\t\\t\\t<a class=\"\" href=\"./dm.htm\">直播</a><a class=\"\" href=\"./ycj.htm\">演出剧</a><a class=\"\" href=\"./wlby.htm\">网络表演</a>\\r\\n\\t\\t\\t\\t\\t\\t\\t\\t\\t\\t<a class=\"\" href=\"./jfcl.htm\">纠纷处理</a>\\r\\n\\t\\t\\t\\t\\t\\t\\t\\t\\t\\t\\r\\n\\t\\t\\t\\t\\t\\t\\t\\t\\t\\t<a class=\"\" href=\"./login.htm\">用户登录</a>\\r\\n\\t\\t\\t\\t\\t\\t\\t\\t\\t\\t<a class=\"\" href=\"./reg.htm\">用户注册</a>\\r\\n\\t\\t\\t\\t\\t\\t\\t\\t\\t\\t\\r\\n\\t\\t\\t\\t\\t\\t\\t\\t\\t\\t\\r\\n\\t\\t\\t\\t\\t\\t\\t\\t\\t\\t\\r\\n\\t\\t\\t           </div>\\r\\n\\t\\t\\t\\t\\t\\t\\t\\t<!--\\r\\n\\t\\t\\t\\t\\t\\t\\t\\t<a class=\"n-login\">登录</a>                \\r\\n\\t\\t\\t\\t\\t\\t\\t\\t<div class=\"searchbox\">\\r\\n\\t\\t\\t\\t\\t\\t\\t\\t\\t<form id=\"search_form\" action=\"/\" method=\"get\">\\r\\n\\t\\t\\t                    <input name=\"keyword\" id=\"search_input\" placeholder=\"\" value=\"\" type=\"text\">\\r\\n\\t\\t\\t                    <a id=\"search_btn\"><label></label></a>\\r\\n\\t\\t\\t\\t\\t\\t\\t\\t\\t</form>\\r\\n\\t\\t\\t           </div>\\r\\n\\t\\t\\t           -->\\r\\n            </div>\\r\\n</div>\\r\\n\\r\\n<div class=\"banner\">\\t\\r\\n\\t<a href=\"index.htm\"><img src=\"E6bmVsdm\\\\template\\\\images\\\\5ab8f38266db3.jpg\"></a>\\r\\n</div>\\r\\n\\r\\n<div class=\"showbox containers\">\\r\\n\\t\\t\\t\\t<div class=\"title-common clear\" style=\"padding-top: 24px;\">\\r\\n\\t\\t\\t\\t\\t<h2 class=\"fl\">\\r\\n\\t\\t\\t\\t\\t\\t<label>\\r\\n\\t\\t\\t\\t\\t\\t</label>\\r\\n\\t\\t\\t\\t\\t\\t直播\\r\\n\\t\\t\\t\\t\\t</h2>\\r\\n\\t\\t\\t\\t</div>\\r\\n\\t\\t\\t\\t<div class=\"show-content containers clear wrapper\">\\r\\n\\t\\r\\n\\t\\t\\t\\t\\t<a class=\"list\" href=\"javascript:alert(\\'主播还在赶来的路上!\\')\">\\r\\n\\t\\t\\t\\t\\t\\t\\t<div class=\"imgLeft\">\\r\\n\\t\\t\\t\\t\\t\\t\\t\\t<span>\\r\\n\\t\\t\\t\\t\\t\\t\\t\\t\\t<img src=\"./E6bmVsdm/1_index.jpg\" style=\"width: 100%;\">\\r\\n\\t\\t\\t\\t\\t\\t\\t\\t</span>\\r\\n\\t\\t\\t\\t\\t\\t\\t</div>\\r\\n\\t\\t\\t\\t\\t\\t\\t<div class=\"dataRight\">\\r\\n\\t\\t\\t\\t\\t\\t\\t\\t<div class=\"title clear\">\\r\\n\\t\\t\\t\\t\\t\\t\\t\\t\\t<h3 class=\"ellipsis\">二胡小达人</h3>\\r\\n\\t\\t\\t\\t\\t\\t\\t\\t\\t<span class=\"app-try\" style=\"width:115px;\">\\r\\n\\t\\t\\t\\t\\t\\t\\t\\t\\t<font color=\"red\">未开播</font>\\r\\n\\t\\t\\t\\t\\t\\t\\t\\t\\t</span>\\r\\n\\t\\t\\t\\t\\t\\t\\t\\t</div>\\r\\n\\t\\t\\t\\t\\t\\t\\t\\t<div class=\"score-show2\">\\r\\n\\t\\t\\t\\t\\t\\t\\t\\t\\t<span>\\r\\n\\t\\t\\t\\t\\t\\t\\t\\t\\t\\t<i style=\"width: 100%;\"></i>\\r\\n\\t\\t\\t\\t\\t\\t\\t\\t\\t</span>\\r\\n\\t\\t\\t\\t\\t\\t\\t\\t\\t<p>10.0</p>\\r\\n\\t\\t\\t\\t\\t\\t\\t\\t</div>\\r\\n\\t\\t\\t\\t\\t\\t\\t\\t<p class=\"introduce\">二胡小达人直播间，欢迎欣赏......</p>\\r\\n\\t\\t\\t\\t\\t\\t\\t</div>\\r\\n\\t\\t\\t\\t\\t\\t\\t<div class=\"list-bottom clear\">\\r\\n\\t\\t\\t\\t\\t\\t\\t</div>\\r\\n\\t\\t\\t\\t\\t\\t</a>\\r\\n\\t\\t\\t\\t\\t\\t\\r\\n\\t\\t\\t\\t\\t\\t\\t\\t\\t\\t<a class=\"list\" href=\"javascript:alert(\\'主播还在赶来的路上!\\')\">\\r\\n\\t\\t\\t\\t\\t\\t\\t<div class=\"imgLeft\">\\r\\n\\t\\t\\t\\t\\t\\t\\t\\t<span>\\r\\n\\t\\t\\t\\t\\t\\t\\t\\t\\t<img src=\"./E6bmVsdm/2_index.jpg\" style=\"width: 100%;\">\\r\\n\\t\\t\\t\\t\\t\\t\\t\\t</span>\\r\\n\\t\\t\\t\\t\\t\\t\\t</div>\\r\\n\\t\\t\\t\\t\\t\\t\\t<div class=\"dataRight\">\\r\\n\\t\\t\\t\\t\\t\\t\\t\\t<div class=\"title clear\">\\r\\n\\t\\t\\t\\t\\t\\t\\t\\t\\t<h3 class=\"ellipsis\">帅气小伙子</h3>\\r\\n\\t\\t\\t\\t\\t\\t\\t\\t\\t<span class=\"app-try\" style=\"width:115px;\">\\r\\n\\t\\t\\t\\t\\t\\t\\t\\t\\t<font color=\"red\">未开播</font>\\r\\n\\t\\t\\t\\t\\t\\t\\t\\t\\t</span>\\r\\n\\t\\t\\t\\t\\t\\t\\t\\t</div>\\r\\n\\t\\t\\t\\t\\t\\t\\t\\t<div class=\"score-show2\">\\r\\n\\t\\t\\t\\t\\t\\t\\t\\t\\t<span>\\r\\n\\t\\t\\t\\t\\t\\t\\t\\t\\t\\t<i style=\"width: 95%;\"></i>\\r\\n\\t\\t\\t\\t\\t\\t\\t\\t\\t</span>\\r\\n\\t\\t\\t\\t\\t\\t\\t\\t\\t<p>9.5</p>\\r\\n\\t\\t\\t\\t\\t\\t\\t\\t</div>\\r\\n\\t\\t\\t\\t\\t\\t\\t\\t<p class=\"introduce\">帅气小伙子直播间，欢迎欣赏......</p>\\r\\n\\t\\t\\t\\t\\t\\t\\t</div>\\r\\n\\t\\t\\t\\t\\t\\t\\t<div class=\"list-bottom clear\">\\r\\n\\t\\t\\t\\t\\t\\t\\t</div>\\r\\n\\t\\t\\t\\t\\t\\t</a>\\r\\n\\t\\t\\t\\t\\t\\t\\t\\t\\t\\t\\t<a class=\"list\" href=\"javascript:alert(\\'主播还在赶来的路上!\\')\">\\r\\n\\t\\t\\t\\t\\t\\t\\t<div class=\"imgLeft\">\\r\\n\\t\\t\\t\\t\\t\\t\\t\\t<span>\\r\\n\\t\\t\\t\\t\\t\\t\\t\\t\\t<img src=\"./E6bmVsdm/3_index.jpg\" style=\"width: 100%;\">\\r\\n\\t\\t\\t\\t\\t\\t\\t\\t</span>\\r\\n\\t\\t\\t\\t\\t\\t\\t</div>\\r\\n\\t\\t\\t\\t\\t\\t\\t<div class=\"dataRight\">\\r\\n\\t\\t\\t\\t\\t\\t\\t\\t<div class=\"title clear\">\\r\\n\\t\\t\\t\\t\\t\\t\\t\\t\\t<h3 class=\"ellipsis\">农村小姑娘</h3>\\r\\n\\t\\t\\t\\t\\t\\t\\t\\t\\t<span class=\"app-try\" style=\"width:115px;\">\\r\\n\\t\\t\\t\\t\\t\\t\\t\\t\\t<font color=\"red\">未开播</font>\\r\\n\\t\\t\\t\\t\\t\\t\\t\\t\\t</span>\\r\\n\\t\\t\\t\\t\\t\\t\\t\\t</div>\\r\\n\\t\\t\\t\\t\\t\\t\\t\\t<div class=\"score-show2\">\\r\\n\\t\\t\\t\\t\\t\\t\\t\\t\\t<span>\\r\\n\\t\\t\\t\\t\\t\\t\\t\\t\\t\\t<i style=\"width: 90%;\"></i>\\r\\n\\t\\t\\t\\t\\t\\t\\t\\t\\t</span>\\r\\n\\t\\t\\t\\t\\t\\t\\t\\t\\t<p>9.0</p>\\r\\n\\t\\t\\t\\t\\t\\t\\t\\t</div>\\r\\n\\t\\t\\t\\t\\t\\t\\t\\t<p class=\"introduce\">农村小姑娘直播间，欢迎欣赏......</p>\\r\\n\\t\\t\\t\\t\\t\\t\\t</div>\\r\\n\\t\\t\\t\\t\\t\\t\\t<div class=\"list-bottom clear\">\\r\\n\\t\\t\\t\\t\\t\\t\\t</div>\\r\\n\\t\\t\\t\\t\\t\\t</a>\\r\\n\\t\\t\\t\\t\\t\\t\\r\\n\\t\\t\\t\\t</div>\\r\\n\\t\\t\\t\\t\\r\\n\\t\\t\\t\\t\\r\\n\\t\\t\\t\\t\\r\\n\\t\\t\\t\\t\\t\\t\\r\\n\\t\\t\\t\\t\\t\\t\\r\\n\\t\\t\\t\\t</div>\\t\\t\\r\\n\\t\\t\\t\\t\\r\\n\\t\\t\\t\\t\\r\\n\\r\\n</div>\\r\\n<div class=\"showbox containers\">\\r\\n\\t\\t\\t\\t<div class=\"title-common clear\" style=\"padding-top: 24px;\">\\r\\n\\t\\t\\t\\t\\t<h2 class=\"fl\">\\r\\n\\t\\t\\t\\t\\t\\t<label>\\r\\n\\t\\t\\t\\t\\t\\t</label>\\r\\n\\t\\t\\t\\t\\t\\t网络表演\\r\\n\\t\\t\\t\\t\\t</h2>\\r\\n\\t\\t\\t\\t</div>\\r\\n\\t\\t\\t\\t<div class=\"show-content containers clear wrapper\">\\r\\n\\t\\r\\n\\t\\t\\t\\t\\t<a class=\"list\" href=\"./E6bmVsdm/dm4_1.html\">\\r\\n\\t\\t\\t\\t\\t\\t\\t<div class=\"imgLeft\">\\r\\n\\t\\t\\t\\t\\t\\t\\t\\t<span>\\r\\n\\t\\t\\t\\t\\t\\t\\t\\t\\t<img src=\"./E6bmVsdm/4_index.jpg\" style=\"width: 100%;\">\\r\\n\\t\\t\\t\\t\\t\\t\\t\\t</span>\\r\\n\\t\\t\\t\\t\\t\\t\\t</div>\\r\\n\\t\\t\\t\\t\\t\\t\\t<div class=\"dataRight\">\\r\\n\\t\\t\\t\\t\\t\\t\\t\\t<div class=\"title clear\">\\r\\n\\t\\t\\t\\t\\t\\t\\t\\t\\t<h3 class=\"ellipsis\">萨克斯-《天路》</h3>\\r\\n\\t\\t\\t\\t\\t\\t\\t\\t\\t<span class=\"app-try\" style=\"width:115px;\">\\r\\n\\t\\t\\t\\t\\t\\t\\t\\t\\t<font color=\"red\">点击欣赏</font>\\r\\n\\t\\t\\t\\t\\t\\t\\t\\t\\t</span>\\r\\n\\t\\t\\t\\t\\t\\t\\t\\t</div>\\r\\n\\t\\t\\t\\t\\t\\t\\t\\t<div class=\"score-show2\">\\r\\n\\t\\t\\t\\t\\t\\t\\t\\t\\t<span>\\r\\n\\t\\t\\t\\t\\t\\t\\t\\t\\t\\t<i style=\"width: 100%;\"></i>\\r\\n\\t\\t\\t\\t\\t\\t\\t\\t\\t</span>\\r\\n\\t\\t\\t\\t\\t\\t\\t\\t\\t<p>10.0</p>\\r\\n\\t\\t\\t\\t\\t\\t\\t\\t</div>\\r\\n\\t\\t\\t\\t\\t\\t\\t\\t<p class=\"introduce\">萨克斯-《天路》表演，欢迎欣赏......</p>\\r\\n\\t\\t\\t\\t\\t\\t\\t</div>\\r\\n\\t\\t\\t\\t\\t\\t\\t<div class=\"list-bottom clear\">\\r\\n\\t\\t\\t\\t\\t\\t\\t</div>\\r\\n\\t\\t\\t\\t\\t\\t</a>\\r\\n\\t\\t\\t\\t\\t\\t\\r\\n\\t\\t\\t\\t\\t\\t\\t\\t\\t\\t<a class=\"list\" href=\"./E6bmVsdm/dm5_1.html\">\\r\\n\\t\\t\\t\\t\\t\\t\\t<div class=\"imgLeft\">\\r\\n\\t\\t\\t\\t\\t\\t\\t\\t<span>\\r\\n\\t\\t\\t\\t\\t\\t\\t\\t\\t<img src=\"./E6bmVsdm/5_index.jpg\" style=\"width: 100%;\">\\r\\n\\t\\t\\t\\t\\t\\t\\t\\t</span>\\r\\n\\t\\t\\t\\t\\t\\t\\t</div>\\r\\n\\t\\t\\t\\t\\t\\t\\t<div class=\"dataRight\">\\r\\n\\t\\t\\t\\t\\t\\t\\t\\t<div class=\"title clear\">\\r\\n\\t\\t\\t\\t\\t\\t\\t\\t\\t<h3 class=\"ellipsis\">钢琴-《我心永恒》</h3>\\r\\n\\t\\t\\t\\t\\t\\t\\t\\t\\t<span class=\"app-try\" style=\"width:115px;\">\\r\\n\\t\\t\\t\\t\\t\\t\\t\\t\\t<font color=\"red\">点击欣赏</font>\\r\\n\\t\\t\\t\\t\\t\\t\\t\\t\\t</span>\\r\\n\\t\\t\\t\\t\\t\\t\\t\\t</div>\\r\\n\\t\\t\\t\\t\\t\\t\\t\\t<div class=\"score-show2\">\\r\\n\\t\\t\\t\\t\\t\\t\\t\\t\\t<span>\\r\\n\\t\\t\\t\\t\\t\\t\\t\\t\\t\\t<i style=\"width: 95%;\"></i>\\r\\n\\t\\t\\t\\t\\t\\t\\t\\t\\t</span>\\r\\n\\t\\t\\t\\t\\t\\t\\t\\t\\t<p>9.5</p>\\r\\n\\t\\t\\t\\t\\t\\t\\t\\t</div>\\r\\n\\t\\t\\t\\t\\t\\t\\t\\t<p class=\"introduce\">钢琴-《我心永恒》表演，欢迎欣赏......</p>\\r\\n\\t\\t\\t\\t\\t\\t\\t</div>\\r\\n\\t\\t\\t\\t\\t\\t\\t<div class=\"list-bottom clear\">\\r\\n\\t\\t\\t\\t\\t\\t\\t</div>\\r\\n\\t\\t\\t\\t\\t\\t</a>\\r\\n\\t\\t\\t\\t\\t\\t\\t\\t\\t\\t\\t<a class=\"list\" href=\"./E6bmVsdm/dm6_1.html\">\\r\\n\\t\\t\\t\\t\\t\\t\\t<div class=\"imgLeft\">\\r\\n\\t\\t\\t\\t\\t\\t\\t\\t<span>\\r\\n\\t\\t\\t\\t\\t\\t\\t\\t\\t<img src=\"./E6bmVsdm/6_index.jpg\" style=\"width: 100%;\">\\r\\n\\t\\t\\t\\t\\t\\t\\t\\t</span>\\r\\n\\t\\t\\t\\t\\t\\t\\t</div>\\r\\n\\t\\t\\t\\t\\t\\t\\t<div class=\"dataRight\">\\r\\n\\t\\t\\t\\t\\t\\t\\t\\t<div class=\"title clear\">\\r\\n\\t\\t\\t\\t\\t\\t\\t\\t\\t<h3 class=\"ellipsis\">小提琴-《7rings》</h3>\\r\\n\\t\\t\\t\\t\\t\\t\\t\\t\\t<span class=\"app-try\" style=\"width:115px;\">\\r\\n\\t\\t\\t\\t\\t\\t\\t\\t\\t<font color=\"red\">点击欣赏</font>\\r\\n\\t\\t\\t\\t\\t\\t\\t\\t\\t</span>\\r\\n\\t\\t\\t\\t\\t\\t\\t\\t</div>\\r\\n\\t\\t\\t\\t\\t\\t\\t\\t<div class=\"score-show2\">\\r\\n\\t\\t\\t\\t\\t\\t\\t\\t\\t<span>\\r\\n\\t\\t\\t\\t\\t\\t\\t\\t\\t\\t<i style=\"width: 90%;\"></i>\\r\\n\\t\\t\\t\\t\\t\\t\\t\\t\\t</span>\\r\\n\\t\\t\\t\\t\\t\\t\\t\\t\\t<p>9.0</p>\\r\\n\\t\\t\\t\\t\\t\\t\\t\\t</div>\\r\\n\\t\\t\\t\\t\\t\\t\\t\\t<p class=\"introduce\">小提琴-《7rings》表演，欢迎欣赏......</p>\\r\\n\\t\\t\\t\\t\\t\\t\\t</div>\\r\\n\\t\\t\\t\\t\\t\\t\\t<div class=\"list-bottom clear\">\\r\\n\\t\\t\\t\\t\\t\\t\\t</div>\\r\\n\\t\\t\\t\\t\\t\\t</a>\\r\\n\\t\\t\\t\\t\\t\\t\\t\\t\\t\\t\\t<a class=\"list\" href=\"./E6bmVsdm/dm7_1.html\">\\r\\n\\t\\t\\t\\t\\t\\t\\t<div class=\"imgLeft\">\\r\\n\\t\\t\\t\\t\\t\\t\\t\\t<span>\\r\\n\\t\\t\\t\\t\\t\\t\\t\\t\\t<img src=\"./E6bmVsdm/7_index.jpg\" style=\"width: 100%;\">\\r\\n\\t\\t\\t\\t\\t\\t\\t\\t</span>\\r\\n\\t\\t\\t\\t\\t\\t\\t</div>\\r\\n\\t\\t\\t\\t\\t\\t\\t<div class=\"dataRight\">\\r\\n\\t\\t\\t\\t\\t\\t\\t\\t<div class=\"title clear\">\\r\\n\\t\\t\\t\\t\\t\\t\\t\\t\\t<h3 class=\"ellipsis\">吉他-《天龙八音》</h3>\\r\\n\\t\\t\\t\\t\\t\\t\\t\\t\\t<span class=\"app-try\" style=\"width:115px;\">\\r\\n\\t\\t\\t\\t\\t\\t\\t\\t\\t<font color=\"red\">点击欣赏</font>\\r\\n\\t\\t\\t\\t\\t\\t\\t\\t\\t</span>\\r\\n\\t\\t\\t\\t\\t\\t\\t\\t</div>\\r\\n\\t\\t\\t\\t\\t\\t\\t\\t<div class=\"score-show2\">\\r\\n\\t\\t\\t\\t\\t\\t\\t\\t\\t<span>\\r\\n\\t\\t\\t\\t\\t\\t\\t\\t\\t\\t<i style=\"width: 90%;\"></i>\\r\\n\\t\\t\\t\\t\\t\\t\\t\\t\\t</span>\\r\\n\\t\\t\\t\\t\\t\\t\\t\\t\\t<p>9.0</p>\\r\\n\\t\\t\\t\\t\\t\\t\\t\\t</div>\\r\\n\\t\\t\\t\\t\\t\\t\\t\\t<p class=\"introduce\">吉他-《天龙八音》表演，欢迎欣赏......</p>\\r\\n\\t\\t\\t\\t\\t\\t\\t</div>\\r\\n\\t\\t\\t\\t\\t\\t\\t<div class=\"list-bottom clear\">\\r\\n\\t\\t\\t\\t\\t\\t\\t</div>\\r\\n\\t\\t\\t\\t\\t\\t</a>\\r\\n\\t\\t\\t\\t\\t\\t\\r\\n\\t\\t\\t\\t</div>\\r\\n\\t\\t\\t\\t\\r\\n\\t\\t\\t\\t\\r\\n\\t\\t\\t\\t\\r\\n\\t\\t\\t\\t\\t\\t\\r\\n\\t\\t\\t\\t\\t\\t\\r\\n\\t\\t\\t\\t</div>\\t\\t\\r\\n\\t\\t\\t\\t\\r\\n\\t\\t\\t\\t\\r\\n\\r\\n</div>\\t\\r\\n<div class=\"n-foot\">\\r\\n           <!-- <div class=\"n-foot-center clear\">\\t\\t\\t\\t\\t\\t\\t\\t\\t\\r\\n                <div class=\"n-foot-left clear fl\">\\r\\n                    <div class=\"\">\\r\\n                        <h3>关于我们</h3>\\r\\n                        <a href=\"tiaokuan\\\\index.htm\">用户服务条款</a>\\r\\n                        <a href=\"#\">公司简介</a>\\r\\n                        <a href=\"#\">媒体报道</a>\\r\\n                        \\r\\n                        <!--\\r\\n\\t\\t\\t\\t\\t\\t\\t\\t\\t\\t\\t\\t<a class=\"\" href=\"/jiazhang/index.html\">家长监护</a>\\r\\n                        \\r\\n                    </div>\\r\\n                    <div class=\"\">\\r\\n                        <h3>联系我们</h3>\\r\\n                        <span class=\"n-qq\"><i></i> </span>\\r\\n                    \\r\\n                    </div>\\r\\n                    <div class=\"\">\\r\\n                        <h3>无线产品</h3>\\r\\n                        <a href=\"#\">\\r\\n                            <span><i></i>手机版</span>\\r\\n                        </a>\\r\\n                    </div>\\r\\n                </div>\\r\\n                <div class=\"n-foot-right fr\">\\r\\n                   \\t\\t\\t\\t\\t\\t\\r\\n                </div>\\r\\n            </div>-->\\r\\n           <div class=\"n-foot-bottom text-center\">\\r\\n\\t\\t\\t\\t \\t \\r\\n                <p>Copyright &copy; 2020 友际无限（北京）科技有限公司  <a style=\\'font-size:12px;\\' href=\"http://www.beian.miit.gov.cn\">&nbsp;&nbsp;&nbsp;备案号：京ICP备14028348号</a></p>\\r\\n                <p>地址: 北京市朝阳区安定路35号35-10-2内6层622室  &nbsp;&nbsp;&nbsp;客服电话:010-84872896 </p>\\r\\n                <p><a href=\"http://jbts.mct.gov.cn/\" target=\"_blank\">12318全国文化市场举报平台</a>&nbsp;&nbsp;&nbsp;网络文化经营许可证：京网文〔2017〕2369-247号</p>\\r\\n\\t\\t\\t\\t\\t\\t\\t\\t\\r\\n            </div>\\r\\n        </div>\\r\\n</body>\\r\\n</html>\\r\\n'"
      ]
     },
     "execution_count": 4,
     "metadata": {},
     "output_type": "execute_result"
    }
   ],
   "source": [
    "opener = urllib.request.build_opener()\n",
    "UA = ('User-Agent', 'Mozilla/5.0 (X11; Linux x86_64) AppleWebKit/537.11 (KHTML, like Gecko) Chrome/23.0.1271.64 Safari/537.11')\n",
    "opener.addheaders = [UA]\n",
    "urllib.request.install_opener(opener)\n",
    "data = urllib.request.urlopen('https://www.qiushibaike.com').read().decode('UTF-8','ignore')\n",
    "data"
   ]
  },
  {
   "cell_type": "markdown",
   "metadata": {},
   "source": [
    "### 构建用户代理池"
   ]
  },
  {
   "cell_type": "code",
   "execution_count": 5,
   "metadata": {},
   "outputs": [
    {
     "name": "stdout",
     "output_type": "stream",
     "text": [
      "当前使用UA： Mozilla/5.0 (Windows NT 6.1; WOW64) AppleWebKit/534.57.2 (KHTML, like Gecko) Version/5.1.7 Safari/534.57.2\n",
      "9869\n",
      "9869\n",
      "9869\n",
      "当前使用UA： Mozilla/5.0 (Windows NT 6.1; WOW64) AppleWebKit/534.57.2 (KHTML, like Gecko) Version/5.1.7 Safari/534.57.2\n",
      "9869\n",
      "9869\n",
      "9869\n",
      "当前使用UA： Mozilla/5.0 (Windows NT 6.1; WOW64) AppleWebKit/537.36 (KHTML, like Gecko) Chrome/39.0.2171.95 Safari/537.36 OPR/26.0.1656.60\n",
      "9869\n",
      "9869\n",
      "9869\n",
      "当前使用UA： Mozilla/5.0 (Windows NT 6.1; WOW64; rv:34.0) Gecko/20100101 Firefox/34.0\n",
      "9869\n"
     ]
    }
   ],
   "source": [
    "import random\n",
    "\n",
    "url = 'https://www.qiushibaike.com'\n",
    "uapools = [\n",
    "    'Mozilla/5.0 (Windows NT 6.1; WOW64) AppleWebKit/537.36 (KHTML, like Gecko) Chrome/39.0.2171.95 Safari/537.36 OPR/26.0.1656.60',\n",
    "    'Mozilla/5.0 (Windows NT 6.1; WOW64; rv:34.0) Gecko/20100101 Firefox/34.0',\n",
    "    'Mozilla/5.0 (Windows NT 6.1; WOW64) AppleWebKit/534.57.2 (KHTML, like Gecko) Version/5.1.7 Safari/534.57.2',\n",
    "    'Mozilla/5.0 (Windows NT 6.1; WOW64) AppleWebKit/537.36 (KHTML, like Gecko) Chrome/39.0.2171.71 Safari/537.36'\n",
    "]\n",
    "\n",
    "def UA():\n",
    "    opener = urllib.request.build_opener()\n",
    "    thisua = random.choice(uapools)\n",
    "    ua = ('User-Agent', thisua)\n",
    "    opener.addheaders = [ua]\n",
    "    urllib.request.install_opener(opener)\n",
    "    print('当前使用UA：', str(thisua))\n",
    "    \n",
    "for i in range(0, 10):\n",
    "    if(i%3==0):\n",
    "        UA()\n",
    "    data = urllib.request.urlopen(url).read().decode('UTF-8', 'ignore')\n",
    "    print(len(data))\n",
    "\n"
   ]
  },
  {
   "cell_type": "markdown",
   "metadata": {},
   "source": [
    "### Example - 抓取我的项目portfolio并分页"
   ]
  },
  {
   "cell_type": "code",
   "execution_count": 10,
   "metadata": {},
   "outputs": [
    {
     "name": "stdout",
     "output_type": "stream",
     "text": [
      "当前使用UA： Mozilla/5.0 (Windows NT 6.1; WOW64) AppleWebKit/537.36 (KHTML, like Gecko) Chrome/39.0.2171.95 Safari/537.36 OPR/26.0.1656.60\n",
      "\n",
      "              I am so happy finaly I get something could show on Showcase, maybe not perfect, but still is my half year working. I am appriciated I am a part of BIT project also in MobileGroup. I would say thank you to my lecturer Groyyson, my all mates here! There...\n",
      "          \n",
      "-----------\n",
      "\n",
      "              Tomorrow will be our last day this semester, also it is Showcase day which one of the very important BIT activity. Eventhough We haven’t absluotely meet all the requirements from our client. I think that I still need tell client what we have done though? So I need send...\n",
      "          \n",
      "-----------\n",
      "\n",
      "              I felt bored last night just want to experience the latest Windows 10 terminal, and then updated the system by the way, and also updated the nodejs, and found that I could not start my project today. I really think that I am very bad, the last week of...\n",
      "          \n",
      "-----------\n",
      "\n",
      "              About Privacy Policy, I have try to edit the content as a standard HTML and difines as JavaScript object to put inside the View by a third component which is called react-native-render-html. It is working, but realy ugly as well as not flexable. I’ve do some research found thera...\n",
      "          \n",
      "-----------\n",
      "\n",
      "              Almost done this semester, also it is the project 1 done time. I need try to build our apps to binary file and publish to Andriod play store or Apple app store. Because we use the Expo CLI tools to develop this app, So there is some easy way...\n",
      "          \n",
      "-----------\n",
      "\n",
      "              When I every day using the apps from other developer that I normally pull down the screen to refresh and getting the latest data from the server. Today I was working on the Myrecords page which includes a lot of list data, so I just realize that is a...\n",
      "          \n",
      "-----------\n",
      "\n",
      "              It has been a long time I haven’t go participating in the Codecraft activity. Because either the event location far away or the topic does not relevant by BIT stuff. Today the activity is running on our campus actually it is located on our BIT block 1 floor, as...\n",
      "          \n",
      "-----------\n",
      "\n",
      "              It is time to design a logo for our App. As a BIT student, we are professional, although I did not take the Multi-Media paper, I think I should try to make a Icon and splash icon pictures. So just use Photoshop put some character which our project name...\n",
      "          \n",
      "-----------\n",
      "\n",
      "              Actually this post is not going to summary the Sprint 6 working :) . Because I think that I did not do well for project in this particular moment. I was poisoning by a algorithm which called Genetical Algorithm. I was focused on this topic for whole weeks, although...\n",
      "          \n",
      "-----------\n",
      "\n",
      "              Debrief 3 which means we do not have four more week to do our project thing. But it was clear though, two weeks before holiday and two weeks after it. I have done a lot of features and bugs, these details I have already worte it on the holiday...\n",
      "          \n",
      "-----------\n",
      "当前使用UA： Mozilla/5.0 (Windows NT 6.1; WOW64) AppleWebKit/537.36 (KHTML, like Gecko) Chrome/39.0.2171.95 Safari/537.36 OPR/26.0.1656.60\n",
      "\n",
      "              About calories calculation there is a fomular according to Wikepedia states it. But the first thing I need to do is how to get Metabolic equivalent of task. The thing do not calculate by any fomular, only have a eastmate value in different exercise by different speed. So I...\n",
      "          \n",
      "-----------\n",
      "\n",
      "              It’s been in the seconde term. As always, everyone stands up and talks about their workload which is been done in the middle holiday, also the new plan from now on. Someone did a heaps of working and someone did not. I have done a lot of things, because...\n",
      "          \n",
      "-----------\n",
      "\n",
      "              In this really important middle holiday, I only pay attention on Project 1 without other three papaers. That was a slience time, it is good to considerating any problems and features. I have learnd some technich skills such as React Native, Firebase and some other Component which could imporves...\n",
      "          \n",
      "-----------\n",
      "\n",
      "              Since I had been participated so many activities of the Student Success department of Otago Polytech. I get a new task in this middle holiday, Yvonne has sent the email to me that hope I could talk a English level 3 student from Dalian, China. The appointment has set...\n",
      "          \n",
      "-----------\n",
      "\n",
      "              I have heard this activity and project mentioned by Adon last week. Also received an email with an invitation link this morning, I am quickly registered and logged in. And understood the main features of this project. At one o’clock in the afternoon, the responsible women came to our...\n",
      "          \n",
      "-----------\n",
      "\n",
      "              The Sprint 5 from Sep 12, 2019 to Sep 26, 2019. Pretty much two weeks as well as are last two weeks before middle holiday. I just realize we haven’t done the core features yet, but we have spent more than half semester. So it’s time to do some...\n",
      "          \n",
      "-----------\n",
      "\n",
      "              Now I am a student in the Database 3. I almost remember when I was doing Database 1 with Vaughn, We asked the third year project data model and resoures from senior student. And they guys do some presentation to us. Today comes a new year 1 student, and...\n",
      "          \n",
      "-----------\n",
      "\n",
      "              As I said at Debrief 2, today we met our client Claire as scheduled. Carthor made an appointment to meet at our project classroom at 12 noon today. I waited until 11 o’clock from the gym. More nervous, because I am afraid that English is not good enough to...\n",
      "          \n",
      "-----------\n",
      "\n",
      "              In Sprint 4, we only set up for one week. We did not done too many new features. just fixed some bugs. Such as firebase timer module awake time not enough give us warnning. And the drawer scrolling does not working properly under the ios platform. Because today also...\n",
      "          \n",
      "-----------\n",
      "\n",
      "              How time flies, half of the first half of the third year has passed. Today is our second Debrief as well as the end date of our Sprint 4. About dDebrief, all thing still the same, I was the first to talk to our boss, Grayson. The specific content...\n",
      "          \n",
      "-----------\n",
      "当前使用UA： Mozilla/5.0 (Windows NT 6.1; WOW64; rv:34.0) Gecko/20100101 Firefox/34.0\n",
      "\n",
      "              At the time of the regular meeting, this week, Carthor and I did not assign too many functional tasks. We are only fixing some bugs and warnings encountered in the first 3 Sprints. So this Sprint we just set one week. My entire work process was also very smooth,...\n",
      "          \n",
      "-----------\n",
      "\n",
      "              In Sprint 3, I do the thing on Google Map Directions. When the user taped the marker which want to set a target point, the system will automacally draw a line with this routine and also calculate the distance which is from current location to the marker point, by...\n",
      "          \n",
      "-----------\n",
      "\n",
      "              It has being the end of the Sprint 3. Mobile Group Routine Meeting. This week is the busiest week since the semester, facing the huge workload of the third year, and tomorrow is the due date of two assignments. Busy and full. Fortunately, I basically completed all the tasks....\n",
      "          \n",
      "-----------\n",
      "\n",
      "              According to the definition from MDN: The async function declaration defines an asynchronous function, which returns an AsyncFunction object. An asynchronous function is a function which operates asynchronously via the event loop, using an implicit Promise to return its result. But the syntax and structure of your code using...\n",
      "          \n",
      "-----------\n",
      "\n",
      "              I can always see the after function call .then .catch When I try to use some Javascript library. Basically I know that means when the function was called later on have two ways to do continuously neight result is good or get some error need catch. But what is...\n",
      "          \n",
      "-----------\n",
      "\n",
      "              On the third day of Sprint 3, Mobile Group Routine Meeting, as it is, everyone reported on the progress of their work. Since I am not familiar with the use of Google Map Directions. I started doing research and started trying to implement these features on the first night...\n",
      "          \n",
      "-----------\n",
      "\n",
      "              Today after the Mobile Group Meeting, Carthor with me make a email to our client Claire first time. Sorry, once again spit my English skills. I have no confidence at all to communicate with customers because I am afraid that mistakes will affect the team. So Carthor sent this...\n",
      "          \n",
      "-----------\n",
      "\n",
      "              At today’s session, all of our memeber of project 1, project 2 and lecturers attended a conference, the first time since the start of the 5th week. In fact, there are no special tasks announced, just to talk like family sitting together. I took a photo for everyone and...\n",
      "          \n",
      "-----------\n",
      "\n",
      "              We have already started the second Spinrt, after the first debrief. A total of 9 issues, I have focus on user sign up, login and user authorization, and navigation features. Because we have some other screens in addition to the map on the homepage, in order to facilitate the...\n",
      "          \n",
      "-----------\n",
      "\n",
      "              React Native Navigation use a sort of Stack to manages different screens. I need a main page to define a Stack which called StackNavigator, then put all other screens to here. Then I can via props to pass with different screen to navigate. To use this function, First need...\n",
      "          \n",
      "-----------\n",
      "当前使用UA： Mozilla/5.0 (Windows NT 6.1; WOW64) AppleWebKit/537.36 (KHTML, like Gecko) Chrome/39.0.2171.95 Safari/537.36 OPR/26.0.1656.60\n"
     ]
    },
    {
     "name": "stdout",
     "output_type": "stream",
     "text": [
      "\n",
      "              In the first Sprint, I and Carthor each assigned 2 tasks, I was responsible for the user Sign up and login page, and created a database account, the request is based on document type data such as Firebase or MongoDB, I chose Firebase.\n",
      "\n",
      "\n",
      "          \n",
      "-----------\n",
      "\n",
      "              Today is the first debreif, the debreif is a new word for me. Also for this paper, all the experiences are totally new. I didn’t expect it to be four weeks so soon, and our entire semester was less than 16 weeks. Recalling these four weeks, what did I...\n",
      "          \n",
      "-----------\n",
      "\n",
      "              The first Sprint will end this week, and I have a pretty one hour meeting with Carthur. We summed up the work tasks of the previous week and how to implement them, and so on. Each of us also exchanged ideas with. He showed me the results of his...\n",
      "          \n",
      "-----------\n",
      "\n",
      "              There are many werid circumstances when I develop that code, it is not about official documents or principles could handle it, just some way to solve the problems and comes from the experience. So this post just use to record these thing I called that litte trick.\n",
      "\n",
      "\n",
      "          \n",
      "-----------\n",
      "\n",
      "              There are two differents way to pass props from components call page to components detail page. If just put props as the parameter to component function, it will includes all props and all other objects. So in some aspect, maybe not good to enficiency. So I would like to...\n",
      "          \n",
      "-----------\n",
      "\n",
      "              recently, I read a lot of React-Native code from other place. I found a very intertising thing which is … operator wherever in styles, views or any JSX. So I just do some research to understand what the … are. Basicaly there are two aims to use this, one...\n",
      "          \n",
      "-----------\n",
      "\n",
      "              Today is a special day which is the autumn begins(立秋) in the traditional Chinese lunar calendar, also luck number with day and month. :)\n",
      "\n",
      "\n",
      "          \n",
      "-----------\n",
      "\n",
      "              Reducers is a functionality to manage the state changes. It is high level than original state of React. The Reducer function will accepts two parameter. One for state data and other for user action which is what sort of operations user do. I just try this for a sample,...\n",
      "          \n",
      "-----------\n",
      "\n",
      "              Today was a busy day as well as my first day to attend Dunedin Codecraft activity. Interestingly, I wrote two questions on July 28 and I was wondering to ask Adon when he is free. But before he answered the questions that I wanted to ask in class yesterday,...\n",
      "          \n",
      "-----------\n",
      "\n",
      "              At the first session of week 3, we have being start our mobile project. Carthur, Grayson and me have a meeting. And we created SCRUM workflow which is Kanban board on GitLab, first Sprint, milestone and a dazes of feature what we will do. I list those below:\n",
      "\n",
      "\n",
      "          \n",
      "-----------\n"
     ]
    }
   ],
   "source": [
    "import random\n",
    "\n",
    "url = 'https://www.qiushibaike.com'\n",
    "uapools = [\n",
    "    'Mozilla/5.0 (Windows NT 6.1; WOW64) AppleWebKit/537.36 (KHTML, like Gecko) Chrome/39.0.2171.95 Safari/537.36 OPR/26.0.1656.60',\n",
    "    'Mozilla/5.0 (Windows NT 6.1; WOW64; rv:34.0) Gecko/20100101 Firefox/34.0',\n",
    "    'Mozilla/5.0 (Windows NT 6.1; WOW64) AppleWebKit/534.57.2 (KHTML, like Gecko) Version/5.1.7 Safari/534.57.2',\n",
    "    'Mozilla/5.0 (Windows NT 6.1; WOW64) AppleWebKit/537.36 (KHTML, like Gecko) Chrome/39.0.2171.71 Safari/537.36'\n",
    "]\n",
    "\n",
    "def UA():\n",
    "    opener = urllib.request.build_opener()\n",
    "    thisua = random.choice(uapools)\n",
    "    ua = ('User-Agent', thisua)\n",
    "    opener.addheaders = [ua]\n",
    "    urllib.request.install_opener(opener)\n",
    "    print('当前使用UA：', str(thisua))\n",
    "    \n",
    "for i in range(0, 4):\n",
    "    UA()\n",
    "    if i==0:\n",
    "        thisurl = 'https://www.aemon.wang'\n",
    "    else:    \n",
    "        thisurl = 'https://www.aemon.wang/blog/page'+str(i+1)+'/'\n",
    "    data = urllib.request.urlopen(thisurl).read().decode('UTF-8', 'ignore')\n",
    "    pat = '<div class=\"excerpt\">(.*?)</div>'\n",
    "    rst = re.compile(pat, re.S).findall(data)\n",
    "    for j in range(0, len(rst)):\n",
    "        print(rst[j])\n",
    "        print('-----------')"
   ]
  },
  {
   "cell_type": "markdown",
   "metadata": {},
   "source": [
    "### 抓包 - Fiddler & Firefox"
   ]
  },
  {
   "cell_type": "markdown",
   "metadata": {},
   "source": [
    "__Configuration__\n",
    "\n",
    "1. Firefox - 选项 - 网络设置 - 手动http代理： 127.0.0.1:8888 勾选https\n",
    "2. Fiddler - Tools - Option - Https - 勾选所有选项, Actions - Export Root Certificate to Desktop\n",
    "3. Firfox - 选项 - 证书 - 查看证书 - 证书颁发机构 - 导入证书"
   ]
  },
  {
   "cell_type": "markdown",
   "metadata": {},
   "source": [
    "### Example - 抓包分析腾讯视频评论"
   ]
  },
  {
   "cell_type": "code",
   "execution_count": null,
   "metadata": {},
   "outputs": [],
   "source": [
    "import urllib.request\n",
    "import re\n",
    "\n",
    "cid = '6629768780947370057'\n",
    "\n",
    "for i in range(0,100):\n",
    "    print('Page:', str(i+1))\n",
    "    print(' ')\n",
    "    url = 'https://video.coral.qq.com/varticle/4748040610/comment/v2?callback=_varticle4748040610commentv2&orinum=10&oriorder=o&pageflag=1&cursor='+ cid +'&scorecursor=0&orirepnum=2&reporder=o&reppageflag=1&source=132&_=1582411536658'\n",
    "    data = urllib.request.urlopen(url).read().decode('UTF-8', 'ignore')\n",
    "    pat1 = '\"content\":\"(.*?)\"'\n",
    "    comments = re.compile(pat1, re.S).findall(data)\n",
    "    for item in comments:\n",
    "        print(str(item))\n",
    "    print('~~~~~~~~~~~~~~~~~~~~~~~~~~~~~~~~~~~~~~~~~~~')\n",
    "    pat2 = '\"last\":\"(.*?)\"'\n",
    "    cid = re.compile(pat2, re.S).findall(data)[0] # 从爬下的内容里找下一条的ID"
   ]
  },
  {
   "cell_type": "markdown",
   "metadata": {},
   "source": [
    "## requests"
   ]
  },
  {
   "cell_type": "markdown",
   "metadata": {},
   "source": [
    "__Basis__\n",
    "\n",
    "* 请求方式：get/post/put/delete\n",
    "* 参数：params/headers/proxies/cookies/data\n",
    "* text 响应数据\n",
    "* content 相应数据（二进制）\n",
    "* encoding 网页编码\n",
    "* cookies 响应cookie\n",
    "* url 当前请求url\n",
    "* status_code 状态码"
   ]
  },
  {
   "cell_type": "code",
   "execution_count": null,
   "metadata": {},
   "outputs": [],
   "source": [
    "import requests\n",
    "import re\n",
    "\n",
    "userPool = {'User-Agent': 'Mozilla/5.0 (Macintosh; Intel Mac OS X 10_15_3) AppleWebKit/537.36 (KHTML, like Gecko) Chrome/80.0.3987.116 Safari/537.36'}\n",
    "px = {'http':'http://127.0.0.1:8888'}\n",
    "rst = requests.get('http://www.aliwx.com.cn/', headers = userPool)\n",
    "title = re.compile('<title>(.*?)</title>', re.S).findall(rst.text)\n",
    "title"
   ]
  },
  {
   "cell_type": "code",
   "execution_count": null,
   "metadata": {},
   "outputs": [],
   "source": [
    "rst.status_code"
   ]
  },
  {
   "cell_type": "code",
   "execution_count": null,
   "metadata": {},
   "outputs": [],
   "source": [
    "rst.text"
   ]
  },
  {
   "cell_type": "code",
   "execution_count": null,
   "metadata": {},
   "outputs": [],
   "source": [
    "rst.content"
   ]
  },
  {
   "cell_type": "code",
   "execution_count": null,
   "metadata": {},
   "outputs": [],
   "source": [
    "rst.encoding"
   ]
  },
  {
   "cell_type": "code",
   "execution_count": null,
   "metadata": {},
   "outputs": [],
   "source": [
    "rst.cookies"
   ]
  },
  {
   "cell_type": "code",
   "execution_count": null,
   "metadata": {},
   "outputs": [],
   "source": [
    "requests.utils.dict_from_cookiejar(rst.cookies)"
   ]
  },
  {
   "cell_type": "code",
   "execution_count": null,
   "metadata": {},
   "outputs": [],
   "source": [
    "pr = {'wd': '阿里文学',}\n",
    "rst = requests.get('https://www.baidu.com/s', params = pr)\n",
    "rst.url"
   ]
  },
  {
   "cell_type": "markdown",
   "metadata": {},
   "source": [
    "### Example - 爬云栖社区博文"
   ]
  },
  {
   "cell_type": "code",
   "execution_count": 9,
   "metadata": {},
   "outputs": [
    {
     "name": "stdout",
     "output_type": "stream",
     "text": [
      "--- 正在爬第1页--- \n",
      "--- 正在爬第2页--- \n",
      "--- 正在爬第3页--- \n",
      "--- 正在爬第4页--- \n",
      "--- 正在爬第5页--- \n"
     ]
    }
   ],
   "source": [
    "import requests\n",
    "import re\n",
    "import time\n",
    "import random\n",
    "\n",
    "key = 'Python'\n",
    "url = 'https://yq.aliyun.com/search/articles/'\n",
    "data = requests.get(url,params={'q': key}).text\n",
    "pat1 = '<div class=\"_search-info\">找到(.*?)条关于'\n",
    "articles_number = re.compile(pat1, re.S).findall(data)[0]\n",
    "page_number = int(articles_number) // 15 + 1\n",
    "\n",
    "for i in range(0, 5): #int(page_number) 这里我只测试5页，毕竟数据太多\n",
    "    print('--- 正在爬第'+ str(i + 1) +'页--- ')\n",
    "    index = str(i + 1)\n",
    "    getdata = { \"q\": key, \"p\": index}\n",
    "    subData = requests.get(url, params=getdata).text\n",
    "    pat_url = '<div class=\"media-body text-overflow\">.*?<a href=\"(.*?)\">'\n",
    "    articles = re.compile(pat_url, re.S).findall(data)\n",
    "    for j in articles:\n",
    "        thisurl = 'https://yq.aliyun.com' + j\n",
    "        thisdata = requests.get(thisurl).text\n",
    "        pat_title = '<p class=\"hiddenTitle\">(.*?)</p>'\n",
    "        pat_content = '<div class=\"content-detail unsafe markdown-body\">(.*?)</div>'\n",
    "        title = re.compile(pat_title, re.S).findall(thisdata)[0]\n",
    "        content = re.compile(pat_content, re.S).findall(thisdata)[0]\n",
    "        fh = open('./tmp/aliyun_blogs/' + str(i) + '_' + str(time.time()) + '.md', 'w', encoding = 'UTF-8')\n",
    "        fh.write(title + \"<br /><br />\" + content)\n",
    "        fh.close()\n",
    "        "
   ]
  },
  {
   "cell_type": "markdown",
   "metadata": {},
   "source": [
    "## Scrapy"
   ]
  },
  {
   "cell_type": "markdown",
   "metadata": {},
   "source": [
    "### 常用命令\n",
    "\n",
    "```bash\n",
    "\n",
    "brew install scrapy # installation\n",
    "\n",
    "scrapy startproject project_name # create a new project\n",
    "\n",
    "# basic project structure\n",
    ".\n",
    "├── firstsp\n",
    "│   ├── __init__.py\n",
    "│   ├── __pycache__\n",
    "│   ├── items.py\n",
    "│   ├── middlewares.py\n",
    "│   ├── pipelines.py\n",
    "│   ├── settings.py\n",
    "│   └── spiders\n",
    "│       ├── __init__.py\n",
    "│       └── __pycache__\n",
    "└── scrapy.cfg\n",
    "\n",
    "scrapy genspider -l # check how many templates does there have\n",
    "\n",
    "scrapy genspider -t basic fst aliwx.com.cn # create a spider file with basic template, fst as name and domain under the spiders folder\n",
    "\n",
    "scrapy crawl fst # run a spider with name fst\n",
    "\n",
    "scrapy list # list how many spiders at the moment\n",
    "\n",
    "\n",
    "\n",
    "```\n",
    "\n",
    "### 基本流程\n",
    "1. 创建项目\n",
    "\n",
    "2. 定义items # 创建字段\n",
    "\n",
    "```python\n",
    "import scrapy\n",
    "\n",
    "\n",
    "class FirstspItem(scrapy.Item):\n",
    "    # define the fields for your item here like:\n",
    "    # name = scrapy.Field()\n",
    "    title = scrapy.Field()\n",
    "```\n",
    "\n",
    "3. 创建spider文件\n",
    "\n",
    "```python\n",
    "# -*- coding: utf-8 -*-\n",
    "import scrapy\n",
    "from firstsp.items import FirstspItem // It comes form item file\n",
    "\n",
    "class FstSpider(scrapy.Spider):\n",
    "    name = 'fst'\n",
    "    allowed_domains = ['aliwx.com.cn']\n",
    "    start_urls = ['http://www.aliwx.com.cn/']\n",
    "\n",
    "    def parse(self, response):\n",
    "        item = FirstspItem()\n",
    "        item['title'] = response.xpath(\"//p[@class='title']/text()\").extract()\n",
    "        yield item # to pipelines\n",
    "```\n",
    "\n",
    "4. 编写pipelines\n",
    "\n",
    "```python\n",
    "class FirstspPipeline(object):\n",
    "    def process_item(self, item, spider):\n",
    "        for i in range(0, len(item['title'])):\n",
    "            print('----------')\n",
    "            print(item['title'][i])\n",
    "        return item\n",
    "```\n",
    "\n",
    "5. 配置setting, uncomment the code below and change name 'FirstspPipeline'\n",
    "\n",
    "```python\n",
    "ITEM_PIPELINES = {\n",
    "   'firstsp.pipelines.FirstspPipeline': 300,\n",
    "}\n",
    "```\n",
    "\n",
    "__Example code__\n",
    "\n",
    "___See local project___"
   ]
  },
  {
   "cell_type": "markdown",
   "metadata": {},
   "source": [
    "### Example - 51job"
   ]
  },
  {
   "cell_type": "code",
   "execution_count": null,
   "metadata": {
    "scrolled": true
   },
   "outputs": [],
   "source": [
    "import re\n",
    "import requests\n",
    "\n",
    "key = 'Python'\n",
    "data = {\n",
    "    \"fromJs\": \"1\",\n",
    "    \"jobarea\": \"020000\",\n",
    "    \"keyword\": key,\n",
    "    \"keywordtype\": \"2\",\n",
    "    \"curr_page\": \"1\",\n",
    "}\n",
    "hd = {\n",
    "    \"User-Agent\": \"Mozilla/5.0 (Macintosh; Intel Mac OS X 10_15_3) AppleWebKit/537.36 (KHTML, like Gecko) Chrome/80.0.3987.116 Safari/537.36\",\n",
    "    #\"User-Agent\": \"Mozilla/5.0 (Windows NT 6.1; WOW64; rv:34.0) Gecko/20100101 Firefox/34.0\",\n",
    "    #\"User-Agent\": \"Mozilla/5.0 (Windows NT 6.1; WOW64) AppleWebKit/534.57.2 (KHTML, like Gecko) Version/5.1.7 Safari/534.57.2\",\n",
    "    #\"User-Agent\": \"Mozilla/5.0 (Windows NT 6.1; WOW64) AppleWebKit/537.36 (KHTML, like Gecko) Chrome/39.0.2171.71 Safari/537.36\",\n",
    "}\n",
    "response = requests.get(\"http://search.51job.com/jobsearch/search_result.php\", params=data, headers=hd)\n",
    "data1 = bytes(response.text, response.encoding).decode(\"gbk\", \"ignore\")\n",
    "pat_page = \"共(.*?)条职位\"\n",
    "allline = re.compile(pat_page, re.S).findall(data1)[0]\n",
    "print('总数量：', allline)\n",
    "allpage = int(allline)//50 + 1\n",
    "for i in range(0, 3): # here should be allpage if you wanna grab all pages\n",
    "    print(\"-----正在爬\" + str(i + 1) + \"页-----\")\n",
    "    getdata = {\n",
    "        \"fromJs\": \"1\",\n",
    "        \"jobarea\": \"020000\",\n",
    "        \"keyword\": key,\n",
    "        \"keywordtype\": \"2\",\n",
    "        \"curr_page\": str(i + 1),\n",
    "    }\n",
    "    response = requests.get(\"http://search.51job.com/jobsearch/search_result.php\", params=getdata, headers=hd)\n",
    "    thisdata = bytes(response.text, response.encoding).decode(\"gbk\", \"ignore\")\n",
    "    job_url_pat = 'name=\"delivery_jobid\".*?href=\"https://jobs.51job.com/(.*?).html'\n",
    "    job_url_all = re.compile(job_url_pat, re.S).findall(thisdata)\n",
    "    print('共有信息：', len(job_url_all))\n",
    "    for job_url in job_url_all:\n",
    "        thisurl = \"http://jobs.51job.com/\" + job_url + \".html\"\n",
    "        response = requests.get(thisurl)\n",
    "        thisdata = bytes(response.text, response.encoding).decode(\"gbk\", \"ignore\")\n",
    "        pat_title = '<h1 title=\"(.*?)\"'\n",
    "        pat_company = '<p class=\"cname\">' + '.*?title=\"(.*?)\"'\n",
    "        pat_money = '<div class=\"tHeader tHjob\">.*?<strong>(.*?)</strong>'\n",
    "        pat_msg = '<div class=\"bmsg job_msg inbox\">(.*?)<div class=\"share\">'\n",
    "        title = re.compile(pat_title, re.S).findall(thisdata)[0]\n",
    "        company = re.compile(pat_company, re.S).findall(thisdata)[0]\n",
    "        money = re.compile(pat_money, re.S).findall(thisdata)[0]\n",
    "#         msg = re.compile(pat_msg, re.S).findall(thisdata)[0]\n",
    "        print(\"----------\")\n",
    "        print(title)\n",
    "        print(company)\n",
    "        print(money)\n",
    "#         print(msg)"
   ]
  },
  {
   "cell_type": "markdown",
   "metadata": {},
   "source": [
    "### Example - 淘宝网商品信息"
   ]
  },
  {
   "cell_type": "markdown",
   "metadata": {},
   "source": [
    "__分析__\n",
    "\n",
    "```javascript\n",
    "第一页\n",
    "https://s.taobao.com/list?q=%E5%A5%B3%E8%A3%85&cat=16&style=grid&seller_type=taobao&spm=a217f.8051907.1000187.1\n",
    "\n",
    "第二页\n",
    "https://s.taobao.com/list?q=%E5%A5%B3%E8%A3%85&cat=16&style=grid&seller_type=taobao&spm=a217f.8051907.1000187.1&bcoffset=0&s=60\n",
    "\n",
    "第三页\n",
    "https://s.taobao.com/list?q=%E5%A5%B3%E8%A3%85&cat=16&style=grid&seller_type=taobao&spm=a217f.8051907.1000187.1&bcoffset=0&s=120\n",
    "\n",
    "页码规律\n",
    "S = 60*（page-1）\n",
    "\n",
    "标题\n",
    "\"raw_title\":\"2020春装新款大码女装胖mm宽松显瘦西装外套洋气阔腿裤套装200斤\"\n",
    "\n",
    "价格\n",
    "\"view_price\":\"228.00\"\n",
    "\n",
    "详细页链接\n",
    "<a id=\"J_Itemlist_TLink_610721755943\" class=\"J_ClickStat\" data-nid=\"610721755943\" href=\"//item.taobao.com/item.htm?id=610721755943&amp;ns=1&amp;abbucket=18\" target=\"_blank\" trace=\"lsrp_auction\" traceidx=\"41\" trace-index=\"41\" trace-nid=\"610721755943\" trace-num=\"60\" trace-price=\"178.00\" trace-pid=\"777289949\" data-spm-anchor-id=\"a219r.lm874.14.367\">\n",
    "<span class=\"baoyou-intitle icon-service-free\"></span>\n",
    "法儿家2020新款<span class=\"H\">女装</span>流行春秋网纱百褶中长款粉色仙女裙油画半身裙\n",
    "</a>\n",
    "\n",
    "评论数（抓包获取）\n",
    "https://rate.taobao.com/detailCount.do?_ksTS=1582613399228_117&callback=jsonp118&itemId=610721755943\n",
    "    \n",
    "```"
   ]
  },
  {
   "cell_type": "code",
   "execution_count": null,
   "metadata": {},
   "outputs": [],
   "source": [
    "import urllib.request\n",
    "import re\n",
    "import random\n",
    "\n",
    "keyname = \"女装\"\n",
    "key = urllib.request.quote(keyname)\n",
    "uapools =[\n",
    "    'Mozilla/5.0 (Windows NT 6.1; WOW64) AppleWebKit/537.36 (KHTML, like Gecko) Chrome/39.0.2171.95 Safari/537.36 OPR/26.0.1656.60',\n",
    "    'Mozilla/5.0 (Windows NT 6.1; WOW64; rv:34.0) Gecko/20100101 Firefox/34.0',\n",
    "    'Mozilla/5.0 (Windows NT 6.1; WOW64) AppleWebKit/534.57.2 (KHTML, like Gecko) Version/5.1.7 Safari/534.57.2',\n",
    "    'Mozilla/5.0 (Windows NT 6.1; WOW64) AppleWebKit/537.36 (KHTML, like Gecko) Chrome/39.0.2171.71 Safari/537.36'\n",
    "]\n",
    "\n",
    "def ua(uapools):\n",
    "    thisua = random.choice(uapools)\n",
    "    print(thisua)\n",
    "    headers = (\"User-Agent\", thisua)\n",
    "    opener = urllib.request.build_opener()\n",
    "    opener.addheaders = [headers]\n",
    "    urllib.request.install_opener(opener) # 安装为全局\n",
    "    \n",
    "for i in range(1, 101):\n",
    "    print(\"-----第\" + str(i) + \"页商品-----\")\n",
    "    url = \"https://s.taobao.com/list?q=\"+ key +\"&cat=16&style=grid&seller_type=taobao&s=\"+ str((i-1)*60)\n",
    "    ua(uapools)\n",
    "    data = urllib.request.urlopen(url).read().decode(\"utf-8\", \"ignore\")\n",
    "    pat = '\"nid\":\"(.*?)\"'\n",
    "    idlist = re.compile(pat).findall(data)\n",
    "    for j in range(0, len(idlist)):\n",
    "        thisid = idlist[j]\n",
    "        thisurl = \"https://item.taobao.com/item.htm?id=\" + str(thisid)\n",
    "        itemdata = urllib.request.urlopen(thisurl).read().decode(\"utf-8\", \"ignore\")\n",
    "        titlepat = ''\n",
    "        detailpat = ''\n",
    "        pricepat = ''\n",
    "        title = re.compile(titlepat, re.S).findall(itemdata)\n",
    "        if len(title)>0:\n",
    "            title = title[0]\n",
    "        else:\n",
    "            continue\n",
    "        if len(price)>0:\n",
    "            price = price[0]\n",
    "        else:\n",
    "            price = 0\n",
    "        print('info')\n",
    "            \n",
    "    "
   ]
  },
  {
   "cell_type": "markdown",
   "metadata": {},
   "source": [
    "### Example - 抓取Trademe 奥塔哥但尼丁房子信息"
   ]
  },
  {
   "cell_type": "code",
   "execution_count": null,
   "metadata": {},
   "outputs": [],
   "source": [
    "import re\n",
    "import requests\n",
    "\n",
    "html_pattern = re.compile(r'<[^>]+>',re.S) # filter html tags\n",
    "key_word = 'dunedin%2c+otago'\n",
    "cid = 3399\n",
    "key = 1473476618\n",
    "data = {\n",
    "    \"searchstring\": key_word,\n",
    "    \"cid\": cid,\n",
    "    \"key\": key,\n",
    "    \"page\": \"1\",\n",
    "}\n",
    "hd = {\n",
    "    #\"User-Agent\": \"Mozilla/5.0 (Macintosh; Intel Mac OS X 10_15_3) AppleWebKit/537.36 (KHTML, like Gecko) Chrome/80.0.3987.116 Safari/537.36\",\n",
    "    \"User-Agent\": \"Mozilla/5.0 (Windows NT 6.1; WOW64; rv:34.0) Gecko/20100101 Firefox/34.0\",\n",
    "    #\"User-Agent\": \"Mozilla/5.0 (Windows NT 6.1; WOW64) AppleWebKit/534.57.2 (KHTML, like Gecko) Version/5.1.7 Safari/534.57.2\",\n",
    "    #\"User-Agent\": \"Mozilla/5.0 (Windows NT 6.1; WOW64) AppleWebKit/537.36 (KHTML, like Gecko) Chrome/39.0.2171.71 Safari/537.36\",\n",
    "}\n",
    "response = requests.get(\"https://www.trademe.co.nz/browse/categoryattributesearchresults.aspx\", params=data, headers=hd)\n",
    "data1 = bytes(response.text, response.encoding).decode(\"gbk\", \"ignore\")\n",
    "pat_page = '\"originalListingCountText\":\"(.*?) listings, showing'\n",
    "allline = re.compile(pat_page, re.S).findall(data1)[0]\n",
    "allpage = int(allline)//24 + 1\n",
    "print('The spider finds {} listings totally in {} pages'.format(allline, allpage))\n",
    "fh = open('./trademe.csv', 'w', encoding = 'UTF-8')\n",
    "fh.write('title, price, description, address\\n')\n",
    "for i in range(0, allpage):\n",
    "    print(\"----- The Spider is working on page \" + str(i + 1))\n",
    "    getdata = {\n",
    "        \"searchstring\": key_word,\n",
    "        \"cid\": cid,\n",
    "        \"key\": key,\n",
    "        \"page\": str(i + 1),\n",
    "    }\n",
    "    response = requests.get(\"https://www.trademe.co.nz/browse/categoryattributesearchresults.aspx\", params=getdata, headers=hd)\n",
    "    thisdata = bytes(response.text, response.encoding).decode(\"UTF-8\", \"ignore\")\n",
    "    job_url_pat = 'class=\"tmp-search-card-top-tier__link\" href=\"(.*?)\"'\n",
    "    job_url_all = re.compile(job_url_pat, re.S).findall(thisdata)\n",
    "    print('----- It finds {} items on page {}'.format(len(job_url_all), str(i+1)))\n",
    "    for job_url in job_url_all:\n",
    "        thisurl = \"https://www.trademe.co.nz/\" + job_url\n",
    "        response = requests.get(thisurl)\n",
    "        thisdata = bytes(response.text, response.encoding).decode(\"UTF-8\", \"ignore\")\n",
    "        pat_title = '<div class=\"property-title\">(.*?)</h1>'\n",
    "        pat_price = '<table id=\"ListingAttributes\" class=\"ListingAttributes\">.*?Price:(.*?)</td>'\n",
    "        pat_description = '<div id=\"ListingDescription_ListingDescription\" class=\"ListingDescription\">(.*?)</div>'\n",
    "        pat_address = '<table id=\"ListingAttributes\" class=\"ListingAttributes\">.*?Location:(.*?)</td>'\n",
    "        title = re.compile(pat_title, re.S).findall(thisdata)[0].replace(\"<h1>\", \"\").strip()\n",
    "        price = re.compile(pat_price, re.S).findall(thisdata)[0].replace(\"</th>\", \"\").replace(\"<td>\", \"\").strip()\n",
    "        description = re.compile(pat_description, re.S).findall(thisdata)[0]\n",
    "        description = html_pattern.sub('', description).strip()\n",
    "        address = re.compile(pat_address, re.S).findall(thisdata)[0].replace(\"</th>\", \"\").replace(\"<td>\", \"\").strip()\n",
    "        print(\"~~~~~\")\n",
    "        print('Title: ', title)\n",
    "        print('Price: ', price)\n",
    "        print('Description: ', description)\n",
    "        print('Address: ', address)\n",
    "        fh.write(title + \",\" + price + \",\" + description + \",\" + address + '\\n')\n",
    "\n",
    "fh.close()"
   ]
  }
 ],
 "metadata": {
  "kernelspec": {
   "display_name": "Python 3",
   "language": "python",
   "name": "python3"
  },
  "language_info": {
   "codemirror_mode": {
    "name": "ipython",
    "version": 3
   },
   "file_extension": ".py",
   "mimetype": "text/x-python",
   "name": "python",
   "nbconvert_exporter": "python",
   "pygments_lexer": "ipython3",
   "version": "3.7.6"
  }
 },
 "nbformat": 4,
 "nbformat_minor": 4
}
